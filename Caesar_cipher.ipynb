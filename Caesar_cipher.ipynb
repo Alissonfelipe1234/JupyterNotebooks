{
 "cells": [
  {
   "cell_type": "code",
   "execution_count": 35,
   "metadata": {},
   "outputs": [],
   "source": [
    "import requests\n",
    "import json\n",
    "import string\n",
    "import hashlib"
   ]
  },
  {
   "cell_type": "code",
   "execution_count": 3,
   "metadata": {},
   "outputs": [],
   "source": [
    "response = requests.get('https://api.codenation.dev/v1/challenge/dev-ps/generate-data?token=2447422f85d6d8dceea4439c347f3071eec5f5a8')"
   ]
  },
  {
   "cell_type": "code",
   "execution_count": 4,
   "metadata": {},
   "outputs": [
    {
     "data": {
      "text/plain": [
       "200"
      ]
     },
     "execution_count": 4,
     "metadata": {},
     "output_type": "execute_result"
    }
   ],
   "source": [
    "response.status_code"
   ]
  },
  {
   "cell_type": "code",
   "execution_count": 12,
   "metadata": {},
   "outputs": [],
   "source": [
    "jsonString = response.text"
   ]
  },
  {
   "cell_type": "code",
   "execution_count": 13,
   "metadata": {},
   "outputs": [],
   "source": [
    "json_obj = json.loads(jsonString)"
   ]
  },
  {
   "cell_type": "code",
   "execution_count": 14,
   "metadata": {},
   "outputs": [
    {
     "data": {
      "text/plain": [
       "{'numero_casas': 1,\n",
       " 'token': '2447422f85d6d8dceea4439c347f3071eec5f5a8',\n",
       " 'cifrado': 'jotjef fwfsz mbshf qsphsbn, uifsf jt b qsphsbn uszjoh up hfu pvu. d.b.s. ipbsf',\n",
       " 'decifrado': '',\n",
       " 'resumo_criptografico': ''}"
      ]
     },
     "execution_count": 14,
     "metadata": {},
     "output_type": "execute_result"
    }
   ],
   "source": [
    "json_obj"
   ]
  },
  {
   "cell_type": "code",
   "execution_count": 36,
   "metadata": {},
   "outputs": [
    {
     "data": {
      "text/plain": [
       "'jotjef fwfsz mbshf qsphsbn, uifsf jt b qsphsbn uszjoh up hfu pvu. d.b.s. ipbsf'"
      ]
     },
     "execution_count": 36,
     "metadata": {},
     "output_type": "execute_result"
    }
   ],
   "source": [
    "json_obj[\"cifrado\"]"
   ]
  },
  {
   "cell_type": "code",
   "execution_count": 33,
   "metadata": {},
   "outputs": [],
   "source": [
    "json_obj[\"decifrado\"] = \"\".join([chr(ord(x) + json_obj[\"numero_casas\"]) if x.isalpha() else x for x in json_obj[\"cifrado\"].lower()])"
   ]
  },
  {
   "cell_type": "code",
   "execution_count": 34,
   "metadata": {},
   "outputs": [
    {
     "data": {
      "text/plain": [
       "'kpukfg gxgt{ nctig rtqitco, vjgtg ku c rtqitco vt{kpi vq igv qwv. e.c.t. jqctg'"
      ]
     },
     "execution_count": 34,
     "metadata": {},
     "output_type": "execute_result"
    }
   ],
   "source": [
    "json_obj[\"decifrado\"]"
   ]
  },
  {
   "cell_type": "code",
   "execution_count": 49,
   "metadata": {},
   "outputs": [],
   "source": [
    "hashe = hashlib.sha1()"
   ]
  },
  {
   "cell_type": "code",
   "execution_count": 52,
   "metadata": {},
   "outputs": [],
   "source": [
    "hashe.update(json_obj[\"decifrado\"].encode('utf-8'))"
   ]
  },
  {
   "cell_type": "code",
   "execution_count": 53,
   "metadata": {},
   "outputs": [
    {
     "data": {
      "text/plain": [
       "b'\\xd9E?]\\x05VJ\\x8f\\xd5\\x89\\x82q\\xfc\\x02\\x14Mb<\\xe6v'"
      ]
     },
     "execution_count": 53,
     "metadata": {},
     "output_type": "execute_result"
    }
   ],
   "source": [
    "hashe.digest()"
   ]
  },
  {
   "cell_type": "code",
   "execution_count": 74,
   "metadata": {},
   "outputs": [
    {
     "data": {
      "text/plain": [
       "'d9453f5d05564a8fd5898271fc02144d623ce676'"
      ]
     },
     "execution_count": 74,
     "metadata": {},
     "output_type": "execute_result"
    }
   ],
   "source": [
    "hashe.hexdigest()"
   ]
  },
  {
   "cell_type": "code",
   "execution_count": 75,
   "metadata": {},
   "outputs": [],
   "source": [
    "json_obj[\"resumo_criptografico\"] = str(hashe.hexdigest())"
   ]
  },
  {
   "cell_type": "code",
   "execution_count": 78,
   "metadata": {},
   "outputs": [
    {
     "ename": "SyntaxError",
     "evalue": "unexpected EOF while parsing (<ipython-input-78-06733dfb756b>, line 1)",
     "output_type": "error",
     "traceback": [
      "\u001b[1;36m  File \u001b[1;32m\"<ipython-input-78-06733dfb756b>\"\u001b[1;36m, line \u001b[1;32m1\u001b[0m\n\u001b[1;33m    resposta = requests.post(url = \"https://api.codenation.dev/v1/challenge/dev-ps/submit-solution?token=2447422f85d6d8dceea4439c347f3071eec5f5a8\", data = json_obj\u001b[0m\n\u001b[1;37m                                                                                                                                                                   ^\u001b[0m\n\u001b[1;31mSyntaxError\u001b[0m\u001b[1;31m:\u001b[0m unexpected EOF while parsing\n"
     ]
    }
   ],
   "source": [
    "resposta = requests.post(url = \"https://api.codenation.dev/v1/challenge/dev-ps/submit-solution?token=2447422f85d6d8dceea4439c347f3071eec5f5a8\", data = json_obj"
   ]
  },
  {
   "cell_type": "code",
   "execution_count": 65,
   "metadata": {},
   "outputs": [
    {
     "data": {
      "text/plain": [
       "400"
      ]
     },
     "execution_count": 65,
     "metadata": {},
     "output_type": "execute_result"
    }
   ],
   "source": [
    "resposta.status_code"
   ]
  },
  {
   "cell_type": "code",
   "execution_count": 77,
   "metadata": {},
   "outputs": [
    {
     "data": {
      "text/plain": [
       "{'numero_casas': 1,\n",
       " 'token': '2447422f85d6d8dceea4439c347f3071eec5f5a8',\n",
       " 'cifrado': 'jotjef fwfsz mbshf qsphsbn, uifsf jt b qsphsbn uszjoh up hfu pvu. d.b.s. ipbsf',\n",
       " 'decifrado': 'kpukfg gxgt{ nctig rtqitco, vjgtg ku c rtqitco vt{kpi vq igv qwv. e.c.t. jqctg',\n",
       " 'resumo_criptografico': 'd9453f5d05564a8fd5898271fc02144d623ce676'}"
      ]
     },
     "execution_count": 77,
     "metadata": {},
     "output_type": "execute_result"
    }
   ],
   "source": [
    "json_obj"
   ]
  },
  {
   "cell_type": "code",
   "execution_count": null,
   "metadata": {},
   "outputs": [],
   "source": []
  }
 ],
 "metadata": {
  "kernelspec": {
   "display_name": "Python 3",
   "language": "python",
   "name": "python3"
  },
  "language_info": {
   "codemirror_mode": {
    "name": "ipython",
    "version": 3
   },
   "file_extension": ".py",
   "mimetype": "text/x-python",
   "name": "python",
   "nbconvert_exporter": "python",
   "pygments_lexer": "ipython3",
   "version": "3.7.4"
  }
 },
 "nbformat": 4,
 "nbformat_minor": 2
}
