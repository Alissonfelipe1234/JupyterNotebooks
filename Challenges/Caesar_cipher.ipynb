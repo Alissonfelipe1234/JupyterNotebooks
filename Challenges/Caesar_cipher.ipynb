{
 "cells": [
  {
   "cell_type": "code",
   "execution_count": 117,
   "metadata": {},
   "outputs": [],
   "source": [
    "import requests\n",
    "import json\n",
    "import string\n",
    "import hashlib"
   ]
  },
  {
   "cell_type": "code",
   "execution_count": 118,
   "metadata": {},
   "outputs": [
    {
     "name": "stdout",
     "output_type": "stream",
     "text": [
      "Sucesso\n"
     ]
    }
   ],
   "source": [
    "url_request = 'https://api.codenation.dev/v1/challenge/dev-ps/generate-data?token=2447422f85d6d8dceea4439c347f3071eec5f5a8'\n",
    "response = requests.get(url_request)\n",
    "\n",
    "if (200 == response.status_code):\n",
    "    print(\"Sucesso\")\n",
    "else:\n",
    "    print(\"ERRO: \" + response.text)"
   ]
  },
  {
   "cell_type": "code",
   "execution_count": 119,
   "metadata": {},
   "outputs": [],
   "source": [
    "jsonString = response.text"
   ]
  },
  {
   "cell_type": "code",
   "execution_count": 120,
   "metadata": {},
   "outputs": [],
   "source": [
    "json_obj = json.loads(jsonString)"
   ]
  },
  {
   "cell_type": "code",
   "execution_count": 121,
   "metadata": {},
   "outputs": [
    {
     "data": {
      "text/plain": [
       "{'numero_casas': 1,\n",
       " 'token': '2447422f85d6d8dceea4439c347f3071eec5f5a8',\n",
       " 'cifrado': 'jotjef fwfsz mbshf qsphsbn, uifsf jt b qsphsbn uszjoh up hfu pvu. d.b.s. ipbsf',\n",
       " 'decifrado': '',\n",
       " 'resumo_criptografico': ''}"
      ]
     },
     "execution_count": 121,
     "metadata": {},
     "output_type": "execute_result"
    }
   ],
   "source": [
    "json_obj"
   ]
  },
  {
   "cell_type": "code",
   "execution_count": 122,
   "metadata": {
    "scrolled": true
   },
   "outputs": [],
   "source": [
    "def translate(x, n):\n",
    "    x = x - n\n",
    "    while(x > 122):\n",
    "        x = x - 26\n",
    "    while(x < 97):\n",
    "        x = x + 26\n",
    "    return x\n",
    "def encr(char, num):\n",
    "    x = ord(char)\n",
    "    if(x >= 65 and x <= 90):\n",
    "        return encr(char.toLower(), num)\n",
    "    if(x >= 97 and x <= 122):\n",
    "        return chr(translate(x, num))\n",
    "    return char"
   ]
  },
  {
   "cell_type": "code",
   "execution_count": 123,
   "metadata": {},
   "outputs": [
    {
     "data": {
      "text/plain": [
       "{'numero_casas': 1,\n",
       " 'token': '2447422f85d6d8dceea4439c347f3071eec5f5a8',\n",
       " 'cifrado': 'jotjef fwfsz mbshf qsphsbn, uifsf jt b qsphsbn uszjoh up hfu pvu. d.b.s. ipbsf',\n",
       " 'decifrado': 'inside every large program, there is a program trying to get out. c.a.r. hoare',\n",
       " 'resumo_criptografico': ''}"
      ]
     },
     "execution_count": 123,
     "metadata": {},
     "output_type": "execute_result"
    }
   ],
   "source": [
    "quantidade = int(json_obj[\"numero_casas\"])\n",
    "\n",
    "lista_de_chars = [encr(x, quantidade) for x in json_obj[\"cifrado\"]]\n",
    "\n",
    "json_obj[\"decifrado\"] = \"\".join(lista_de_chars)\n",
    "json_obj"
   ]
  },
  {
   "cell_type": "code",
   "execution_count": 126,
   "metadata": {},
   "outputs": [
    {
     "data": {
      "text/plain": [
       "{'numero_casas': 1,\n",
       " 'token': '2447422f85d6d8dceea4439c347f3071eec5f5a8',\n",
       " 'cifrado': 'jotjef fwfsz mbshf qsphsbn, uifsf jt b qsphsbn uszjoh up hfu pvu. d.b.s. ipbsf',\n",
       " 'decifrado': 'inside every large program, there is a program trying to get out. c.a.r. hoare',\n",
       " 'resumo_criptografico': '0a691fe7aa4d1a8860f1fa908d0c0a2b6fee645d'}"
      ]
     },
     "execution_count": 126,
     "metadata": {},
     "output_type": "execute_result"
    }
   ],
   "source": [
    "hashe = hashlib.sha1()\n",
    "hashe.update(json_obj[\"decifrado\"].encode('utf-8'))\n",
    "json_obj[\"resumo_criptografico\"] = str(hashe.hexdigest())\n",
    "json_obj"
   ]
  },
  {
   "cell_type": "code",
   "execution_count": 127,
   "metadata": {},
   "outputs": [
    {
     "data": {
      "text/plain": [
       "'{\"numero_casas\": 1, \"token\": \"2447422f85d6d8dceea4439c347f3071eec5f5a8\", \"cifrado\": \"jotjef fwfsz mbshf qsphsbn, uifsf jt b qsphsbn uszjoh up hfu pvu. d.b.s. ipbsf\", \"decifrado\": \"inside every large program, there is a program trying to get out. c.a.r. hoare\", \"resumo_criptografico\": \"0a691fe7aa4d1a8860f1fa908d0c0a2b6fee645d\"}'"
      ]
     },
     "execution_count": 127,
     "metadata": {},
     "output_type": "execute_result"
    }
   ],
   "source": [
    "jstr = json.dumps(json_obj)\n",
    "jstr"
   ]
  },
  {
   "cell_type": "code",
   "execution_count": 128,
   "metadata": {},
   "outputs": [],
   "source": [
    "File_object = open(\"answer.json\",\"w\") \n",
    "File_object.write(jstr)\n",
    "File_object.close() "
   ]
  },
  {
   "cell_type": "code",
   "execution_count": 129,
   "metadata": {},
   "outputs": [
    {
     "data": {
      "text/plain": [
       "'{\"score\":100}\\n'"
      ]
     },
     "execution_count": 129,
     "metadata": {},
     "output_type": "execute_result"
    }
   ],
   "source": [
    "url = 'https://api.codenation.dev/v1/challenge/dev-ps/submit-solution?token=2447422f85d6d8dceea4439c347f3071eec5f5a8'\n",
    "files = {'answer': ('answer.json', open('answer.json', 'rb'))}\n",
    "\n",
    "r = requests.post(url, files=files)\n",
    "\n",
    "r.text"
   ]
  },
  {
   "cell_type": "code",
   "execution_count": 134,
   "metadata": {},
   "outputs": [
    {
     "name": "stdout",
     "output_type": "stream",
     "text": [
      "Importando libs e criando metodos... Ok\n",
      "Realizando requisição... Sucesso\n",
      "Decifrando texto... pronto!\n",
      "Encriptando com SHA-1 o texto descriptografado... pronto!!\n",
      "Salvando a J... pronto!!!\n",
      "Enviando essa Joçapronto!!!\n",
      "Sua nota de espião: {\"code\":\"429\",\"error\":\"invalid\",\"message\":\"Too many requests\"}\n"
     ]
    }
   ],
   "source": [
    "print(\"Importando libs e criando metodos... \", end=\"\")\n",
    "#imports\n",
    "import requests\n",
    "import json\n",
    "import string\n",
    "import hashlib\n",
    "\n",
    "#minhas funcoes\n",
    "def translate(x, n):\n",
    "    x = x - n\n",
    "    while(x > 122):\n",
    "        x = x - 26\n",
    "    while(x < 97):\n",
    "        x = x + 26\n",
    "    return x\n",
    "\n",
    "def encr(char, num):\n",
    "    x = ord(char)\n",
    "    if(x >= 65 and x <= 90):\n",
    "        return encr(char.toLower(), num)\n",
    "    if(x >= 97 and x <= 122):\n",
    "        return chr(translate(x, num))\n",
    "    return char\n",
    "print(\"Ok\")\n",
    "print(\"Realizando requisição... \", end=\"\")\n",
    "\n",
    "url_request = 'https://api.codenation.dev/v1/challenge/dev-ps/generate-data?token=2447422f85d6d8dceea4439c347f3071eec5f5a8'\n",
    "response = requests.get(url_request)\n",
    "\n",
    "if (200 == response.status_code):\n",
    "    print(\"Sucesso\")\n",
    "else:\n",
    "    print(\"ERRO: \" + response.text)\n",
    "    \n",
    "print(\"Decifrando texto... \", end=\"\")\n",
    "jsonString = response.text\n",
    "\n",
    "quantidade = int(json_obj[\"numero_casas\"])\n",
    "lista_de_chars = [encr(x, quantidade) for x in json_obj[\"cifrado\"]]\n",
    "json_obj[\"decifrado\"] = \"\".join(lista_de_chars)\n",
    "\n",
    "print(\"pronto!\")\n",
    "\n",
    "print(\"Encriptando com SHA-1... \", end=\"\")\n",
    "hashe = hashlib.sha1()\n",
    "hashe.update(json_obj[\"decifrado\"].encode('utf-8'))\n",
    "json_obj[\"resumo_criptografico\"] = str(hashe.hexdigest())\n",
    "print(\"pronto!!\")\n",
    "\n",
    "print(\"Salvando a J... \", end=\"\")\n",
    "jstr = json.dumps(json_obj)\n",
    "File_object = open(\"answer.json\",\"w\") \n",
    "File_object.write(jstr)\n",
    "File_object.close() \n",
    "print(\"pronto!!!\")\n",
    "\n",
    "print(\"Enviando essa Joça... \", end=\"\")\n",
    "url = 'https://api.codenation.dev/v1/challenge/dev-ps/submit-solution?token=2447422f85d6d8dceea4439c347f3071eec5f5a8'\n",
    "files = {'answer': ('answer.json', open('answer.json', 'rb'))}\n",
    "resposta = requests.post(url, files=files)\n",
    "print(\"pronto!!!\\nSua nota de espião: \" + resposta.text)\n"
   ]
  },
  {
   "cell_type": "code",
   "execution_count": null,
   "metadata": {},
   "outputs": [],
   "source": []
  }
 ],
 "metadata": {
  "kernelspec": {
   "display_name": "Python 3",
   "language": "python",
   "name": "python3"
  },
  "language_info": {
   "codemirror_mode": {
    "name": "ipython",
    "version": 3
   },
   "file_extension": ".py",
   "mimetype": "text/x-python",
   "name": "python",
   "nbconvert_exporter": "python",
   "pygments_lexer": "ipython3",
   "version": "3.7.4"
  }
 },
 "nbformat": 4,
 "nbformat_minor": 2
}
