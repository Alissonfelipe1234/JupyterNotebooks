{
 "cells": [
  {
   "cell_type": "code",
   "execution_count": 28,
   "metadata": {},
   "outputs": [
    {
     "name": "stdout",
     "output_type": "stream",
     "text": [
      "Wall time: 89.9 ms\n"
     ]
    }
   ],
   "source": [
    "%%time \n",
    "range(100000)\n",
    "\n",
    "for i in range(100000):\n",
    "    b = i**2\n"
   ]
  },
  {
   "cell_type": "code",
   "execution_count": 7,
   "metadata": {},
   "outputs": [
    {
     "data": {
      "text/latex": [
       "\\begin{alignat}{2}\\label{tranfdc}\n",
       "T_v(s) & = \\frac{V_{dc}(s)}{V_{dcref}(s)}\n",
       "         && = \\frac{\\omega _B}{B}\n",
       "\\frac{k_{pdc}s + k_{idc}} {s^2 + \\frac{ k_{pdc} \\omega _B s} {B} +\n",
       "\\frac{k_{idc} \\omega _B} {B}} \\\\\n",
       "%\n",
       " T_i(s) & = \\frac{V_{dc}(s)}{i_{l}(s)}\n",
       "         && = - \\frac{\\omega _B}{B} \\frac{s} {s^2\n",
       "+ \\frac{ k_{pdc} \\omega _B s} {B} + \\frac{k_{idc} \\omega _B} {B}}\n",
       "\\end{alignat}\n"
      ],
      "text/plain": [
       "<IPython.core.display.Latex object>"
      ]
     },
     "metadata": {},
     "output_type": "display_data"
    }
   ],
   "source": [
    "%%latex\n",
    "\\begin{alignat}{2}\\label{tranfdc}\n",
    "T_v(s) & = \\frac{V_{dc}(s)}{V_{dcref}(s)}\n",
    "         && = \\frac{\\omega _B}{B}\n",
    "\\frac{k_{pdc}s + k_{idc}} {s^2 + \\frac{ k_{pdc} \\omega _B s} {B} +\n",
    "\\frac{k_{idc} \\omega _B} {B}} \\\\\n",
    "%\n",
    " T_i(s) & = \\frac{V_{dc}(s)}{i_{l}(s)}\n",
    "         && = - \\frac{\\omega _B}{B} \\frac{s} {s^2\n",
    "+ \\frac{ k_{pdc} \\omega _B s} {B} + \\frac{k_{idc} \\omega _B} {B}}\n",
    "\\end{alignat}"
   ]
  },
  {
   "cell_type": "code",
   "execution_count": 13,
   "metadata": {},
   "outputs": [
    {
     "data": {
      "text/latex": [
       "\\begin{align*}\n",
       "  f(x) &= x^2\\\\\n",
       "  g(x) &= \\frac{1}{x}\\\\\n",
       "  F(x) &= \\int^a_b \\frac{1}{3}x^3\\\\\n",
       "  G(x) &= \\frac{1}{\\sqrt{x}}\n",
       "\\end{align*}\n"
      ],
      "text/plain": [
       "<IPython.core.display.Latex object>"
      ]
     },
     "metadata": {},
     "output_type": "display_data"
    }
   ],
   "source": [
    "%%latex\n",
    "\\begin{align*}\n",
    "  f(x) &= x^2\\\\\n",
    "  g(x) &= \\frac{1}{x}\\\\\n",
    "  F(x) &= \\int^a_b \\frac{1}{3}x^3\\\\\n",
    "  G(x) &= \\frac{1}{\\sqrt{x}}\n",
    "\\end{align*}"
   ]
  },
  {
   "cell_type": "code",
   "execution_count": 29,
   "metadata": {},
   "outputs": [
    {
     "data": {
      "text/latex": [
       "\\begin{align}\n",
       "    Mean\\ Absolute\\ Error\\\\\n",
       "    & MAE &= &\\frac{1}{n}\\sum_{t=1}^{n}|e_t|\\\\\n",
       "    Mean\\ Absolute\\ Percentage\\ Error\\\\\n",
       "    & MAPE &= &\\frac{100\\%}{n}\\sum_{t=1}^{n}\\left |\\frac{e_t}{y_t}\\right|\\\\\n",
       "    Weighted\\ Mean\\ Absolute\\ Percentage\\ Error\\\\\n",
       "    & MAPE &= &\\frac{100\\%}{n}\\sum_{t=1}^{n}\\left |\\frac{e_t - y_t}{y_t}\\right|\\\\\n",
       "\\end{align}\n"
      ],
      "text/plain": [
       "<IPython.core.display.Latex object>"
      ]
     },
     "metadata": {},
     "output_type": "display_data"
    }
   ],
   "source": [
    "%%latex\n",
    "\\begin{align}\n",
    "    Mean\\ Absolute\\ Error\\\\\n",
    "    & MAE &= &\\frac{1}{n}\\sum_{t=1}^{n}|e_t|\\\\\n",
    "    Mean\\ Absolute\\ Percentage\\ Error\\\\\n",
    "    & MAPE &= &\\frac{100\\%}{n}\\sum_{t=1}^{n}\\left |\\frac{e_t}{y_t}\\right|\\\\\n",
    "    Weighted\\ Mean\\ Absolute\\ Percentage\\ Error\\\\\n",
    "    & MAPE &= &\\frac{100\\%}{n}\\sum_{t=1}^{n}\\left |\\frac{e_t - y_t}{y_t}\\right|\\\\\n",
    "\\end{align}\n"
   ]
  },
  {
   "cell_type": "code",
   "execution_count": null,
   "metadata": {},
   "outputs": [],
   "source": []
  }
 ],
 "metadata": {
  "kernelspec": {
   "display_name": "Python 3",
   "language": "python",
   "name": "python3"
  },
  "language_info": {
   "codemirror_mode": {
    "name": "ipython",
    "version": 3
   },
   "file_extension": ".py",
   "mimetype": "text/x-python",
   "name": "python",
   "nbconvert_exporter": "python",
   "pygments_lexer": "ipython3",
   "version": "3.7.3"
  }
 },
 "nbformat": 4,
 "nbformat_minor": 2
}
