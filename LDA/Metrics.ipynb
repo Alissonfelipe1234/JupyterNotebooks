{
 "cells": [
  {
   "cell_type": "code",
   "execution_count": 61,
   "metadata": {},
   "outputs": [],
   "source": [
    "import nltk \n",
    "from nltk.corpus import stopwords \n",
    "from nltk.stem.wordnet import WordNetLemmatizer\n",
    "import nltk.corpus\n",
    "\n",
    "import spacy\n",
    "\n",
    "import gensim\n",
    "from gensim import corpora\n",
    "from gensim.models import CoherenceModel\n",
    "\n",
    "from matplotlib import pyplot as plt\n",
    "from wordcloud import WordCloud, STOPWORDS\n",
    "import matplotlib.colors as mcolors\n",
    "\n",
    "import pandas as pd\n",
    "import numpy as np\n",
    "\n",
    "import string\n",
    "import csv\n",
    "import datetime\n",
    "import os.path"
   ]
  },
  {
   "cell_type": "code",
   "execution_count": 2,
   "metadata": {},
   "outputs": [],
   "source": [
    "class Metrics:\n",
    "    @staticmethod\n",
    "    def mean_absolute_percentage_error(y_true, y_pred): \n",
    "        y_true, y_pred = np.array(y_true), np.array(y_pred)\n",
    "        return np.mean(np.abs((y_true - y_pred) / y_true)) * 100\n",
    "    @staticmethod\n",
    "    def weighted_mean_absolute_percentage_error(y_true, y_pred): \n",
    "        y_true, y_pred = np.array(y_true), np.array(y_pred)\n",
    "        return np.mean(np.abs(((y_true*y_pred) - (y_pred*y_pred)) / (y_true* y_pred))) * 100"
   ]
  },
  {
   "cell_type": "code",
   "execution_count": 3,
   "metadata": {},
   "outputs": [],
   "source": [
    "class Research:\n",
    "    @staticmethod\n",
    "    def parse_xls(xls_file=None):\n",
    "        if not xls_file:\n",
    "            return False\n",
    "        df = pd.read_excel(xls_file)\n",
    "        return list(df['Abstract Note'])\n",
    "\n",
    "    @staticmethod\n",
    "    def parse_scholar(query_word='security', size=6, initial_time=None, end_time=None):\n",
    "        import scholarly\n",
    "        q = '/scholar?lr=lang_us&q='+query_word+'&hl=en-US&as_vis=1&as_sdt=1,5'\n",
    "        if(initial_time != None):\n",
    "            q = q + '&as_ylo=' + initial_time\n",
    "        if(end_time != None):\n",
    "            q = q +'&as_yhi=' + end_time\n",
    "        searchFilter = scholarly.search_pubs_custom_url(q)\n",
    "        return [next(searchFilter).bib['abstract'] for i in range(size)]\n",
    "    @staticmethod\n",
    "    def words_stop(stopPath):\n",
    "        stop_words = set(stopwords.words('english'))\n",
    "        with open(stopPath, \"rb\") as msw:\n",
    "            my_stops = msw.read().decode('utf-8').split(\"\\r\\n\")            \n",
    "            ret = stop_words | set(my_stops)\n",
    "        return ret\n",
    "    @staticmethod    \n",
    "    def clean(doc, stopPath):\n",
    "        exclude = set(string.punctuation)\n",
    "        lemma = WordNetLemmatizer()          \n",
    "        stop = set(stopwords.words('english'))      \n",
    "        my_stops = Research.words_stop(stopPath)\n",
    "        stop_free = \" \".join([i for i in doc.lower().split() if i not in stop])\n",
    "        punc_free = ''.join(ch for ch in stop_free if ch not in exclude)\n",
    "        normalized = \" \".join(lemma.lemmatize(word) for word in punc_free.split())\n",
    "        return \" \".join([i for i in normalized.split() if i not in my_stops])\n",
    "    @staticmethod\n",
    "    def save(path, doc_list):\n",
    "        with open(path, \"wb\") as file:\n",
    "            doc_str = str(doc_list).encode(\"utf-8\")\n",
    "            file.write(doc_str)"
   ]
  },
  {
   "cell_type": "code",
   "execution_count": 4,
   "metadata": {},
   "outputs": [],
   "source": [
    "class Cleaner:\n",
    "    def __init__(self):\n",
    "        self.result = []\n",
    "    @staticmethod\n",
    "    def clean_xls(xls_file_in=None, xls_file_out=None):\n",
    "        if not xls_file_in:\n",
    "            return False\n",
    "        if not xls_file_out:\n",
    "            xls_file_out = xls_file_in\n",
    "\n",
    "        data = pd.read_excel(xls_file_in, index_col=0)\n",
    "        data = clean_panda(data)\n",
    "        data.to_excel(xls_file_out)\n",
    "        \n",
    "    @staticmethod\n",
    "    def clean_csv(csv_file_in=None, csv_file_out=None):\n",
    "        if not csv_file_in:\n",
    "            return False\n",
    "        if not csv_file_out:\n",
    "            csv_file_out = csv_file_in\n",
    "\n",
    "        data = pd.read_csv(csv_file_in, index_col=0)\n",
    "        data = clean_panda(data)\n",
    "        data.to_csv(csv_file_out)\n",
    "\n",
    "    @staticmethod\n",
    "    def clean_panda(data):\n",
    "        data[\"abstract\"] = data[\"abstract\"].apply(lambda x: re.sub(\"([©]*)\\.\",\"\",x))#remove copyright's\n",
    "        data[\"abstract\"] = data[\"abstract\"].apply(lambda x: re.sub('\\S*@\\S*\\s?', '', x))#remove emails\n",
    "        data[\"abstract\"] = data[\"abstract\"].apply(lambda x: re.sub('\\s+', ' ', x))#\n",
    "        data[\"abstract\"] = data[\"abstract\"].apply(lambda x: re.sub(\"\\'\", ' ', x))# remove '\n",
    "        return data"
   ]
  },
  {
   "cell_type": "markdown",
   "metadata": {},
   "source": [
    "__Tokenization__ : Split the text into sentences and the sentences into words. Lowercase the words and remove punctuation.<br><br>\n",
    "Words that have __fewer than 3 characters__ are removed.<br><br>\n",
    "All __stopwords__  are removed.<br><br>\n",
    "Words are __lemmatized__  —  words in third person are changed to first person and verbs in past and future tenses are changed into present.<br><br>\n",
    "Words are __stemmed__  —  words are reduced to their root form."
   ]
  },
  {
   "cell_type": "code",
   "execution_count": 5,
   "metadata": {
    "scrolled": true
   },
   "outputs": [],
   "source": [
    "#Set variables\n",
    "source = 'Papers.xlsx'\n",
    "stopWords = 'BlockWords.txt'\n",
    "clean_path = 'CleanArchive.txt'\n",
    "log_path = 'BeforeArchive.txt'\n",
    "topics = 10\n",
    "words = 8"
   ]
  },
  {
   "cell_type": "code",
   "execution_count": 6,
   "metadata": {},
   "outputs": [],
   "source": [
    "#prepare docs\n",
    "#log = research.revoke(source)\n",
    "doc_complete = Research.parse_xls(source)\n",
    "doc_clean = [Research.clean(doc, stopWords).split() for doc in doc_complete]\n"
   ]
  },
  {
   "cell_type": "code",
   "execution_count": 7,
   "metadata": {},
   "outputs": [],
   "source": [
    "#save this version and alterations\n",
    "Research.save(log_path, []) #log)\n",
    "Research.save(clean_path, doc_clean)"
   ]
  },
  {
   "cell_type": "code",
   "execution_count": 8,
   "metadata": {},
   "outputs": [],
   "source": [
    "#dictionary and matrix\n",
    "dictionary = corpora.Dictionary(doc_clean)\n",
    "doc_term_matrix = [dictionary.doc2bow(doc) for doc in doc_clean]"
   ]
  },
  {
   "cell_type": "code",
   "execution_count": 50,
   "metadata": {},
   "outputs": [],
   "source": [
    "#lda model\n",
    "LDA = gensim.models.ldamodel.LdaModel"
   ]
  },
  {
   "cell_type": "code",
   "execution_count": 58,
   "metadata": {},
   "outputs": [],
   "source": [
    "#LDA result\n",
    "result = LDA(doc_term_matrix, chunksize=604, num_topics = topics, id2word=dictionary, passes = 2, iterations = 100) "
   ]
  },
  {
   "cell_type": "code",
   "execution_count": 32,
   "metadata": {},
   "outputs": [],
   "source": [
    "LDA.save(result, 'aprendizado')"
   ]
  },
  {
   "cell_type": "code",
   "execution_count": 62,
   "metadata": {},
   "outputs": [],
   "source": [
    "if os.path.exists('aprendizado'):\n",
    "    LDA.update(gensim.models.ldamodel.LdaModel.load('aprendizado'), doc_term_matrix)"
   ]
  },
  {
   "cell_type": "code",
   "execution_count": 59,
   "metadata": {
    "scrolled": true
   },
   "outputs": [
    {
     "name": "stdout",
     "output_type": "stream",
     "text": [
      "Topic: 0 \n",
      "Words: 0.026*\"ism\" + 0.017*\"informationsecurity\" + 0.013*\"study\" + 0.012*\"organization\" + 0.008*\"management\" + 0.008*\"risk\" + 0.008*\"process\" + 0.007*\"paper\" + 0.007*\"research\" + 0.007*\"employee\"\n",
      "Topic: 1 \n",
      "Words: 0.023*\"system\" + 0.021*\"management\" + 0.016*\"ism\" + 0.015*\"security\" + 0.013*\"information\" + 0.010*\"paper\" + 0.010*\"informationsecurity\" + 0.010*\"iso\" + 0.009*\"organization\" + 0.009*\"standard\"\n",
      "Topic: 2 \n",
      "Words: 0.019*\"informationsecurity\" + 0.018*\"ism\" + 0.016*\"information\" + 0.012*\"organization\" + 0.012*\"system\" + 0.011*\"security\" + 0.010*\"standard\" + 0.009*\"model\" + 0.009*\"paper\" + 0.009*\"management\"\n",
      "Topic: 3 \n",
      "Words: 0.008*\"security\" + 0.006*\"skill\" + 0.005*\"informationsecurity\" + 0.005*\"ism\" + 0.005*\"study\" + 0.005*\"research\" + 0.005*\"data\" + 0.005*\"act\" + 0.004*\"organization\" + 0.004*\"institutional\"\n",
      "Topic: 4 \n",
      "Words: 0.017*\"ism\" + 0.014*\"security\" + 0.012*\"informationsecurity\" + 0.011*\"management\" + 0.010*\"system\" + 0.008*\"service\" + 0.008*\"study\" + 0.008*\"information\" + 0.007*\"control\" + 0.007*\"paper\"\n",
      "Topic: 5 \n",
      "Words: 0.020*\"informationsecurity\" + 0.014*\"system\" + 0.010*\"security\" + 0.010*\"information\" + 0.010*\"management\" + 0.007*\"ism\" + 0.007*\"network\" + 0.006*\"paper\" + 0.006*\"risk\" + 0.005*\"level\"\n",
      "Topic: 6 \n",
      "Words: 0.022*\"security\" + 0.017*\"informationsecurity\" + 0.014*\"information\" + 0.014*\"ism\" + 0.013*\"system\" + 0.010*\"risk\" + 0.010*\"standard\" + 0.008*\"organization\" + 0.007*\"management\" + 0.007*\"data\"\n",
      "Topic: 7 \n",
      "Words: 0.020*\"system\" + 0.018*\"management\" + 0.013*\"organization\" + 0.011*\"information\" + 0.010*\"security\" + 0.009*\"model\" + 0.007*\"informationsecurity\" + 0.007*\"threat\" + 0.006*\"risk\" + 0.006*\"ism\"\n",
      "Topic: 8 \n",
      "Words: 0.037*\"security\" + 0.017*\"management\" + 0.013*\"information\" + 0.012*\"informationsecurity\" + 0.011*\"system\" + 0.011*\"ism\" + 0.011*\"risk\" + 0.010*\"paper\" + 0.009*\"policy\" + 0.007*\"technology\"\n",
      "Topic: 9 \n",
      "Words: 0.021*\"security\" + 0.019*\"informationsecurity\" + 0.011*\"organization\" + 0.011*\"study\" + 0.010*\"ism\" + 0.009*\"management\" + 0.007*\"research\" + 0.007*\"paper\" + 0.007*\"process\" + 0.006*\"analysis\"\n"
     ]
    }
   ],
   "source": [
    "for idx, topic in result.print_topics(-1):\n",
    "    print('Topic: {} \\nWords: {}'.format(idx, topic))"
   ]
  },
  {
   "cell_type": "markdown",
   "metadata": {},
   "source": [
    "## Metrics works"
   ]
  },
  {
   "cell_type": "code",
   "execution_count": 2,
   "metadata": {},
   "outputs": [
    {
     "data": {
      "text/latex": [
       "\\begin{align}\n",
       "    Mean\\ Absolute\\ Error\\\\\n",
       "    & MAE &= &\\frac{1}{n}\\sum_{t=1}^{n}|e_t|\\\\\n",
       "    Mean\\ Absolute\\ Percentage\\ Error\\\\\n",
       "    & MAPE &= &\\frac{100\\%}{n}\\sum_{t=1}^{n}\\left |\\frac{e_t}{y_t}\\right|\\\\\n",
       "    Weighted\\ Mean\\ Absolute\\ Percentage\\ Error\\\\\n",
       "    & WMAPE &= &\\frac{100\\%}{n}\\sum_{t=1}^{n}\\left |\\frac{e_t - y_t}{y_t}\\right|\\\\\n",
       "\\end{align}\n"
      ],
      "text/plain": [
       "<IPython.core.display.Latex object>"
      ]
     },
     "metadata": {},
     "output_type": "display_data"
    }
   ],
   "source": [
    "%%latex\n",
    "\\begin{align}\n",
    "    Mean\\ Absolute\\ Error\\\\\n",
    "    & MAE &= &\\frac{1}{n}\\sum_{t=1}^{n}|e_t|\\\\\n",
    "    Mean\\ Absolute\\ Percentage\\ Error\\\\\n",
    "    & MAPE &= &\\frac{100\\%}{n}\\sum_{t=1}^{n}\\left |\\frac{e_t}{y_t}\\right|\\\\\n",
    "    Weighted\\ Mean\\ Absolute\\ Percentage\\ Error\\\\\n",
    "    & WMAPE &= &\\frac{100\\%}{n}\\sum_{t=1}^{n}\\left |\\frac{e_t - y_t}{y_t}\\right|\\\\\n",
    "\\end{align}"
   ]
  },
  {
   "cell_type": "code",
   "execution_count": 22,
   "metadata": {},
   "outputs": [
    {
     "data": {
      "text/plain": [
       "[0, 0, 2, -1, 2]"
      ]
     },
     "execution_count": 22,
     "metadata": {},
     "output_type": "execute_result"
    }
   ],
   "source": [
    "corpus = [[\"a\", \"a\", \"b\"], [\"a\", \"c\"]]\n",
    "dct = Dictionary(corpus)\n",
    "dct.doc2idx([\"a\", \"a\", \"c\", \"not_in_dictionary\", \"c\"])\n",
    "# [0, 0, 2, -1, 2]"
   ]
  },
  {
   "cell_type": "markdown",
   "metadata": {},
   "source": [
    "### A persistência do modelo é obtida através dos métodos load () e save ().\n",
    "\n",
    "## Parâmetros:\n",
    "##### corpus ({iterável da lista de (int, float), scipy.sparse.csc}, opcional) \n",
    "- Fluxo de vetores de documento ou matriz esparsa de forma (num_terms, num_documents). Se não for fornecido, o modelo será deixado sem treinamento (presumivelmente porque você deseja chamar update () manualmente).\n",
    "\n",
    "##### num_topics (int, optional) \n",
    "- O número de tópicos latentes solicitados a serem extraídos do corpus de treinamento.\n",
    "\n",
    "#####  id2word ({dict of (int, str), gensim.corpora.dictionary.Dictionary}) \n",
    "- Mapeamento de IDs de palavras em palavras. Ele é usado para determinar o tamanho do vocabulário, bem como para depuração e impressão de tópicos.\n",
    "\n",
    "#####  distributed (bool, optional) \n",
    "- Se a computação distribuída deve ser usada para acelerar o treinamento.\n",
    "\n",
    "##### chunksize (int, optional) \n",
    "- Número de documentos a serem usados ​​em cada bloco de treinamento.\n",
    "\n",
    "#####  passes (int, opcional) \n",
    "- Número de passagens pelo corpus durante o treinamento.\n",
    "\n",
    "#####  update_every (int, opcional) \n",
    "- Número de documentos a serem repetidos para cada atualização. Definido como 0 para aprendizado em lote,> 1 para aprendizado interativo iterativo.\n",
    "\n",
    "#####  alpha ({numpy.ndarray, str}, opcional) \n",
    "- Pode ser definido para um array 1D de comprimento igual ao número de tópicos esperados que expressam nossa crença a priori para a probabilidade de cada tópico. Alternativamente, as estratégias de seleção prévia padrão podem ser empregadas fornecendo uma string:\n",
    "\n",
    ">  'Assimétrico': Usa um prior assimétrico fixo normalizado de 1.0 / topicno.\n",
    "\n",
    ">  'Auto': aprende um prior assimétrico do corpus (não disponível se distribuído == True).\n",
    "\n",
    "#####  eta ({float, np.array, str}, opcional) - A priori crença na probabilidade da palavra, isso pode ser:\n",
    "- escalar para um prior simétrico sobre probabilidade de tópico / palavra, vetor de comprimento num_words para denotar uma probabilidade definida pelo usuário assimétrica para cada palavra, matriz de forma (num_topics, num_words) para atribuir uma probabilidade para cada combinação de tópicos de palavras,  a string \"auto\" para aprender a priori assimétrica a partir dos dados.\n",
    "\n",
    "##### decay (float, optional) \n",
    "- Um número entre (0.5, 1) para pesar que porcentagem do valor lambda anterior é esquecida quando cada novo documento é examinado Corresponde ao Kappa de Matthew D. Hoffman, David M. Blei e Francis Bach: “Aprendizagem on-line para a alocação de Dirichlet Latent NIPS'10”.\n",
    "\n",
    "##### offset (flutuante, opcional)\n",
    "- Hyper-parâmetro que controla o quanto vamos desacelerar os primeiros passos nas primeiras iterações. Corresponde a Tau_0 de Matthew D. Hoffman, David M. Blei e Francis Bach: “Aprendizagem on-line para alocação de Dirichlet latente NIPS '10”.\n",
    "\n",
    "##### eval_every (int, opcional) \n",
    "- A perplexidade do log é estimada em cada uma das muitas atualizações. Definir isso para um diminui o treinamento em ~ 2x.\n",
    "\n",
    "##### iterações (int, opcional) \n",
    "- Número máximo de iterações no corpus ao inferir a distribuição de tópico de um corpus.\n",
    "\n",
    "##### gamma_threshold (float, optional) \n",
    "- Mínima alteração no valor dos parâmetros gama para continuar a iteração.\n",
    "\n",
    "##### minimum_probability (float, opcional) \n",
    "- Tópicos com uma probabilidade menor que esse limite serão filtrados.\n",
    "\n",
    "##### random_state ({np.random.RandomState, int}, opcional)\n",
    "- Um objeto randomState ou um seed para gerar um. Útil para reprodutibilidade.\n",
    "\n",
    "##### ns_conf (dict de (str, objeto), opcional)\n",
    "- Parâmetros de palavra chave propagados para gensim.utils.getNS () para obter um Pyro4 Nameserved. Usado somente se distribuído estiver definido como True.\n",
    "\n",
    "##### minimum_phi_value (float, opcional) \n",
    "- se per_word_topics for True, isso representa um limite inferior no termo probabilidades.\n",
    "\n",
    "##### per_word_topics (bool)\n",
    "- Se for True, o modelo também calcula uma lista de tópicos, classificados em ordem decrescente dos tópicos mais prováveis para cada palavra, juntamente com seus valores phi multiplicados pelo comprimento do recurso (ou seja, contagem de palavras).\n",
    "\n",
    "##### callbacks (lista de retorno de chamada) \n",
    "- Retornos métricos para registrar e visualizar as métricas de avaliação do modelo durante o treinamento.\n",
    "\n",
    "##### dtype ({numpy.float16, numpy.float32, numpy.float64}, opcional) \n",
    "- Tipo de dados a ser usado durante os cálculos dentro do modelo. Todas as entradas também são convertidas."
   ]
  },
  {
   "cell_type": "markdown",
   "metadata": {},
   "source": [
    "gensim.models.ldamodel.LdaModel\n",
    "(corpus=None, num_topics=100, id2word=None, distributed=False, chunksize=2000, passes=1, update_every=1, alpha='symmetric', eta=None, decay=0.5, offset=1.0, eval_every=10, iterations=50, gamma_threshold=0.001, minimum_probability=0.01, random_state=None, ns_conf=None, minimum_phi_value=0.01, per_word_topics=False, callbacks=None, dtype=<type 'numpy.float32'>)\n"
   ]
  },
  {
   "cell_type": "code",
   "execution_count": 12,
   "metadata": {},
   "outputs": [
    {
     "data": {
      "text/plain": [
       "604"
      ]
     },
     "execution_count": 12,
     "metadata": {},
     "output_type": "execute_result"
    }
   ],
   "source": [
    "result.state.numdocs"
   ]
  },
  {
   "cell_type": "code",
   "execution_count": 13,
   "metadata": {},
   "outputs": [],
   "source": [
    "table = result.show_topics(formatted=False)"
   ]
  },
  {
   "cell_type": "code",
   "execution_count": 14,
   "metadata": {},
   "outputs": [
    {
     "data": {
      "text/plain": [
       "[0.028573252,\n",
       " 0.007387697,\n",
       " 0.0070668235,\n",
       " 0.006985185,\n",
       " 0.0060804444,\n",
       " 0.0048886137]"
      ]
     },
     "execution_count": 14,
     "metadata": {},
     "output_type": "execute_result"
    }
   ],
   "source": [
    "predict = []\n",
    "for x in range(10):\n",
    "    for y in range(10):\n",
    "        predict.append(table[x][1][y][1])\n",
    "predict[:6]"
   ]
  },
  {
   "cell_type": "code",
   "execution_count": 15,
   "metadata": {},
   "outputs": [
    {
     "name": "stdout",
     "output_type": "stream",
     "text": [
      "\n",
      "Perplexity:  -7.722407445827293\n"
     ]
    }
   ],
   "source": [
    "id2word = corpora.Dictionary(doc_clean)\n",
    "corpus = [id2word.doc2bow(text) for text in doc_clean]\n",
    "print('\\nPerplexity: ', result.log_perplexity(corpus))"
   ]
  },
  {
   "cell_type": "code",
   "execution_count": 16,
   "metadata": {},
   "outputs": [
    {
     "data": {
      "text/plain": [
       "[([(0.021811074, 'informationsecurity'),\n",
       "   (0.014149627, 'information'),\n",
       "   (0.013810457, 'security'),\n",
       "   (0.011798965, 'ism'),\n",
       "   (0.011782215, 'risk'),\n",
       "   (0.010998599, 'system'),\n",
       "   (0.009502687, 'organization'),\n",
       "   (0.009368965, 'management'),\n",
       "   (0.0075890855, 'paper'),\n",
       "   (0.0068079983, 'research'),\n",
       "   (0.005969076, 'standard'),\n",
       "   (0.005538359, 'analysis'),\n",
       "   (0.0054948493, 'study'),\n",
       "   (0.005338934, 'method'),\n",
       "   (0.0051193587, 'approach'),\n",
       "   (0.005049361, 'framework'),\n",
       "   (0.0044785873, 'model'),\n",
       "   (0.004440682, 'informationtechnology'),\n",
       "   (0.0043409425, 'new'),\n",
       "   (0.004262905, 'based')],\n",
       "  -1.251370357603163),\n",
       " ([(0.03255854, 'management'),\n",
       "   (0.022717005, 'system'),\n",
       "   (0.021648528, 'security'),\n",
       "   (0.01671891, 'ism'),\n",
       "   (0.0097910175, 'information'),\n",
       "   (0.009789073, 'paper'),\n",
       "   (0.00945449, 'organization'),\n",
       "   (0.008744363, 'standard'),\n",
       "   (0.0071993195, 'risk'),\n",
       "   (0.007113832, 'informationsecurity'),\n",
       "   (0.006537088, 'iso'),\n",
       "   (0.006417009, 'informationtechnology'),\n",
       "   (0.0057708416, 'approach'),\n",
       "   (0.0055191875, 'research'),\n",
       "   (0.0054194233, 'study'),\n",
       "   (0.005372173, 'quality'),\n",
       "   (0.005348146, 'level'),\n",
       "   (0.0046862224, 'business'),\n",
       "   (0.004542345, 'model'),\n",
       "   (0.00427449, 'practice')],\n",
       "  -1.3378460542438915),\n",
       " ([(0.020491572, 'informationsecurity'),\n",
       "   (0.014790535, 'security'),\n",
       "   (0.012076422, 'information'),\n",
       "   (0.010681236, 'ism'),\n",
       "   (0.009901371, 'company'),\n",
       "   (0.008534332, 'data'),\n",
       "   (0.008462942, 'study'),\n",
       "   (0.008104858, 'paper'),\n",
       "   (0.0068825297, 'method'),\n",
       "   (0.006196082, 'system'),\n",
       "   (0.0055224546, 'management'),\n",
       "   (0.0054903077, 'research'),\n",
       "   (0.005479383, 'control'),\n",
       "   (0.0052264105, 'network'),\n",
       "   (0.004936652, 'organization'),\n",
       "   (0.004494213, 'risk'),\n",
       "   (0.0044467463, 'knowledge'),\n",
       "   (0.004283907, 'standard'),\n",
       "   (0.0042820107, 'business'),\n",
       "   (0.0036945238, 'user')],\n",
       "  -1.3501615010461938),\n",
       " ([(0.036361527, 'security'),\n",
       "   (0.01662409, 'information'),\n",
       "   (0.012973946, 'ism'),\n",
       "   (0.011979015, 'system'),\n",
       "   (0.010220208, 'standard'),\n",
       "   (0.009998236, 'organization'),\n",
       "   (0.009112284, 'control'),\n",
       "   (0.00892309, 'informationsecurity'),\n",
       "   (0.008657538, 'model'),\n",
       "   (0.007586148, 'management'),\n",
       "   (0.0065647145, 'data'),\n",
       "   (0.005962707, 'policy'),\n",
       "   (0.00575041, 'process'),\n",
       "   (0.0056577045, 'paper'),\n",
       "   (0.005448288, 'study'),\n",
       "   (0.004927966, 'analysis'),\n",
       "   (0.0046320586, 'used'),\n",
       "   (0.0046299547, 'asset'),\n",
       "   (0.0043721753, 'iso'),\n",
       "   (0.004371761, 'enterprise')],\n",
       "  -1.3691956647262384),\n",
       " ([(0.019229822, 'ism'),\n",
       "   (0.019052364, 'informationsecurity'),\n",
       "   (0.018860986, 'organization'),\n",
       "   (0.009980432, 'process'),\n",
       "   (0.009002395, 'study'),\n",
       "   (0.008639004, 'information'),\n",
       "   (0.007829958, 'factor'),\n",
       "   (0.006890057, 'security'),\n",
       "   (0.0068073124, 'standard'),\n",
       "   (0.006745466, 'management'),\n",
       "   (0.0059967614, 'data'),\n",
       "   (0.0059757787, 'enterprise'),\n",
       "   (0.005942156, 'research'),\n",
       "   (0.0055803577, 'paper'),\n",
       "   (0.0055752657, 'awareness'),\n",
       "   (0.0055201757, 'implementation'),\n",
       "   (0.0050539086, 'organizational'),\n",
       "   (0.004810384, 'control'),\n",
       "   (0.004670858, 'isoiec'),\n",
       "   (0.0045807995, 'business')],\n",
       "  -1.4479789076734506),\n",
       " ([(0.021224607, 'security'),\n",
       "   (0.019199284, 'ism'),\n",
       "   (0.008960443, 'process'),\n",
       "   (0.008479697, 'informationsecurity'),\n",
       "   (0.008456483, 'paper'),\n",
       "   (0.008421651, 'study'),\n",
       "   (0.008305767, 'management'),\n",
       "   (0.007917386, 'system'),\n",
       "   (0.007723297, 'risk'),\n",
       "   (0.0072168494, 'model'),\n",
       "   (0.0069974973, 'research'),\n",
       "   (0.0069844374, 'information'),\n",
       "   (0.006916359, 'standard'),\n",
       "   (0.006400092, 'organization'),\n",
       "   (0.0059033036, 'framework'),\n",
       "   (0.005641374, 'knowledge'),\n",
       "   (0.004912154, 'service'),\n",
       "   (0.004678908, 'result'),\n",
       "   (0.0045272117, 'development'),\n",
       "   (0.004487542, 'cloud')],\n",
       "  -1.4652787634937456),\n",
       " ([(0.02567378, 'informationsecurity'),\n",
       "   (0.018071475, 'system'),\n",
       "   (0.015488429, 'information'),\n",
       "   (0.01532756, 'security'),\n",
       "   (0.01506758, 'ism'),\n",
       "   (0.010282547, 'paper'),\n",
       "   (0.010202126, 'risk'),\n",
       "   (0.00819207, 'management'),\n",
       "   (0.0070576356, 'organization'),\n",
       "   (0.0065514706, 'network'),\n",
       "   (0.0060836384, 'process'),\n",
       "   (0.0060320403, 'business'),\n",
       "   (0.0051085213, 'enterprise'),\n",
       "   (0.004948997, 'application'),\n",
       "   (0.004898236, 'approach'),\n",
       "   (0.004833088, 'company'),\n",
       "   (0.0048284754, 'assessment'),\n",
       "   (0.0047110296, 'policy'),\n",
       "   (0.004633282, 'proposed'),\n",
       "   (0.0045729545, 'based')],\n",
       "  -1.4760847876736543),\n",
       " ([(0.013481724, 'informationsecurity'),\n",
       "   (0.009966217, 'system'),\n",
       "   (0.009455102, 'information'),\n",
       "   (0.00839647, 'security'),\n",
       "   (0.0073294574, 'policy'),\n",
       "   (0.006730692, 'management'),\n",
       "   (0.0066919043, 'enterprise'),\n",
       "   (0.006219898, 'organization'),\n",
       "   (0.0054459525, 'ism'),\n",
       "   (0.0051086787, 'mobile'),\n",
       "   (0.0050899154, 'method'),\n",
       "   (0.005066359, 'provider'),\n",
       "   (0.004932352, 'service'),\n",
       "   (0.0046063783, 'network'),\n",
       "   (0.0045563076, 'rule'),\n",
       "   (0.0043440247, 'data'),\n",
       "   (0.004264997, 'paper'),\n",
       "   (0.0042579183, 'technology'),\n",
       "   (0.004045343, 'development'),\n",
       "   (0.003972465, 'money')],\n",
       "  -2.3227073244040004),\n",
       " ([(0.01512936, 'informationsecurity'),\n",
       "   (0.01252219, 'employee'),\n",
       "   (0.012339599, 'ism'),\n",
       "   (0.011148821, 'system'),\n",
       "   (0.008958945, 'model'),\n",
       "   (0.0079061845, 'requirement'),\n",
       "   (0.007378536, 'standard'),\n",
       "   (0.0071415887, 'security'),\n",
       "   (0.0070702876, 'information'),\n",
       "   (0.0069288965, 'study'),\n",
       "   (0.006910624, 'paper'),\n",
       "   (0.0066721574, 'organization'),\n",
       "   (0.00531921, 'method'),\n",
       "   (0.005080178, 'development'),\n",
       "   (0.004969194, 'medical'),\n",
       "   (0.004857246, 'compliance'),\n",
       "   (0.0039717574, 'monitoring'),\n",
       "   (0.0038311828, 'elearning'),\n",
       "   (0.0037601755, 'research'),\n",
       "   (0.0035126247, 'organizational')],\n",
       "  -3.1325119918728044),\n",
       " ([(0.028573252, 'de'),\n",
       "   (0.007387697, 'e'),\n",
       "   (0.0070668235, 'la'),\n",
       "   (0.006985185, 'que'),\n",
       "   (0.0060804444, 'processos'),\n",
       "   (0.0048886137, 'da'),\n",
       "   (0.004813976, 'model'),\n",
       "   (0.004729046, 'system'),\n",
       "   (0.0041301884, 'effect'),\n",
       "   (0.00412925, 'se'),\n",
       "   (0.003843984, 'security'),\n",
       "   (0.0036173118, 'gestão'),\n",
       "   (0.0034422027, 'en'),\n",
       "   (0.0033817783, 'public'),\n",
       "   (0.0031938953, 'study'),\n",
       "   (0.003188973, 'informação'),\n",
       "   (0.0031425443, 'processo'),\n",
       "   (0.0030551993, 'foram'),\n",
       "   (0.002821518, 'benthos'),\n",
       "   (0.0027781574, 'site')],\n",
       "  -12.683481561177127)]"
      ]
     },
     "execution_count": 16,
     "metadata": {},
     "output_type": "execute_result"
    }
   ],
   "source": [
    "result.top_topics(corpus)"
   ]
  },
  {
   "cell_type": "code",
   "execution_count": 17,
   "metadata": {},
   "outputs": [
    {
     "name": "stdout",
     "output_type": "stream",
     "text": [
      "\n",
      "Coherence Score:  0.3550623115965115\n"
     ]
    }
   ],
   "source": [
    "# Compute Coherence Score !lower is better\n",
    "coherence_model_lda = CoherenceModel(model=result, texts=doc_clean, dictionary=id2word, coherence='c_v')\n",
    "coherence_lda = coherence_model_lda.get_coherence()\n",
    "print('\\nCoherence Score: ', coherence_lda)"
   ]
  },
  {
   "cell_type": "code",
   "execution_count": 28,
   "metadata": {},
   "outputs": [],
   "source": [
    "real = [0.125 for x in range(100)]\n",
    "#real = list(i for j in real for i in j)"
   ]
  },
  {
   "cell_type": "code",
   "execution_count": 29,
   "metadata": {},
   "outputs": [
    {
     "name": "stdout",
     "output_type": "stream",
     "text": [
      "91.14475502446294\n",
      "91.1447550200704\n"
     ]
    }
   ],
   "source": [
    "print(Metrics.mean_absolute_percentage_error(real,predict))\n",
    "print(Metrics.weighted_mean_absolute_percentage_error(real,predict))"
   ]
  },
  {
   "cell_type": "code",
   "execution_count": 20,
   "metadata": {},
   "outputs": [
    {
     "name": "stdout",
     "output_type": "stream",
     "text": [
      "88.93094658851624\n"
     ]
    }
   ],
   "source": [
    "print(Metrics.mean_absolute_percentage_error(real,predict))"
   ]
  },
  {
   "cell_type": "code",
   "execution_count": null,
   "metadata": {},
   "outputs": [],
   "source": []
  }
 ],
 "metadata": {
  "kernelspec": {
   "display_name": "Python 3",
   "language": "python",
   "name": "python3"
  },
  "language_info": {
   "codemirror_mode": {
    "name": "ipython",
    "version": 3
   },
   "file_extension": ".py",
   "mimetype": "text/x-python",
   "name": "python",
   "nbconvert_exporter": "python",
   "pygments_lexer": "ipython3",
   "version": "3.7.3"
  }
 },
 "nbformat": 4,
 "nbformat_minor": 2
}
