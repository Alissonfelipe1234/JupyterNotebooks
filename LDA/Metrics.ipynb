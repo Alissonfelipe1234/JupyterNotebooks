{
 "cells": [
  {
   "cell_type": "code",
   "execution_count": 56,
   "metadata": {},
   "outputs": [],
   "source": [
    "import nltk \n",
    "from nltk.corpus import stopwords \n",
    "from nltk.stem.wordnet import WordNetLemmatizer\n",
    "import nltk.corpus\n",
    "\n",
    "import spacy\n",
    "\n",
    "import gensim\n",
    "from gensim import corpora\n",
    "from gensim.models import CoherenceModel\n",
    "\n",
    "from matplotlib import pyplot as plt\n",
    "from wordcloud import WordCloud, STOPWORDS\n",
    "import matplotlib.colors as mcolors\n",
    "\n",
    "import pandas as pd\n",
    "import numpy as np\n",
    "\n",
    "import string\n",
    "import csv\n",
    "import datetime"
   ]
  },
  {
   "cell_type": "code",
   "execution_count": 2,
   "metadata": {},
   "outputs": [],
   "source": [
    "class Metrics:\n",
    "    @staticmethod\n",
    "    def mean_absolute_percentage_error(y_true, y_pred): \n",
    "        y_true, y_pred = np.array(y_true), np.array(y_pred)\n",
    "        return np.mean(np.abs((y_true - y_pred) / y_true)) * 100\n",
    "    @staticmethod\n",
    "    def weighted_mean_absolute_percentage_error(y_true, y_pred): \n",
    "        y_true, y_pred = np.array(y_true), np.array(y_pred)\n",
    "        return np.mean(np.abs(((y_true*y_pred) - (y_pred*y_pred)) / (y_true* y_pred))) * 100"
   ]
  },
  {
   "cell_type": "code",
   "execution_count": 9,
   "metadata": {},
   "outputs": [],
   "source": [
    "class Research:\n",
    "    @staticmethod\n",
    "    def parse_xls(xls_file=None):\n",
    "        if not xls_file:\n",
    "            return False\n",
    "        df = pd.read_excel(xls_file)\n",
    "        return list(df['Abstract Note'])\n",
    "\n",
    "    @staticmethod\n",
    "    def parse_scholar(query_word='security', size=6, initial_time=None, end_time=None):\n",
    "        import scholarly\n",
    "        q = '/scholar?lr=lang_us&q='+query_word+'&hl=en-US&as_vis=1&as_sdt=1,5'\n",
    "        if(initial_time != None):\n",
    "            q = q + '&as_ylo=' + initial_time\n",
    "        if(end_time != None):\n",
    "            q = q +'&as_yhi=' + end_time\n",
    "        searchFilter = scholarly.search_pubs_custom_url(q)\n",
    "        return [next(searchFilter).bib['abstract'] for i in range(size)]\n",
    "    @staticmethod\n",
    "    def words_stop(stopPath):\n",
    "        stop_words = set(stopwords.words('english'))\n",
    "        with open(stopPath, \"rb\") as msw:\n",
    "            my_stops = msw.read().decode('utf-8').split(\"\\r\\n\")            \n",
    "            ret = stop_words | set(my_stops)\n",
    "        return ret\n",
    "    @staticmethod    \n",
    "    def clean(doc, stopPath):\n",
    "        exclude = set(string.punctuation)\n",
    "        lemma = WordNetLemmatizer()          \n",
    "        stop = set(stopwords.words('english'))      \n",
    "        my_stops = Research.words_stop(stopPath)\n",
    "        stop_free = \" \".join([i for i in doc.lower().split() if i not in stop])\n",
    "        punc_free = ''.join(ch for ch in stop_free if ch not in exclude)\n",
    "        normalized = \" \".join(lemma.lemmatize(word) for word in punc_free.split())\n",
    "        return \" \".join([i for i in normalized.split() if i not in my_stops])\n",
    "    @staticmethod\n",
    "    def save(path, doc_list):\n",
    "        with open(path, \"wb\") as file:\n",
    "            doc_str = str(doc_list).encode(\"utf-8\")\n",
    "            file.write(doc_str)"
   ]
  },
  {
   "cell_type": "code",
   "execution_count": 4,
   "metadata": {},
   "outputs": [],
   "source": [
    "class Cleaner:\n",
    "    def __init__(self):\n",
    "        self.result = []\n",
    "    @staticmethod\n",
    "    def clean_xls(xls_file_in=None, xls_file_out=None):\n",
    "        if not xls_file_in:\n",
    "            return False\n",
    "        if not xls_file_out:\n",
    "            xls_file_out = xls_file_in\n",
    "\n",
    "        data = pd.read_excel(xls_file_in, index_col=0)\n",
    "        data = clean_panda(data)\n",
    "        data.to_excel(xls_file_out)\n",
    "        \n",
    "    @staticmethod\n",
    "    def clean_csv(csv_file_in=None, csv_file_out=None):\n",
    "        if not csv_file_in:\n",
    "            return False\n",
    "        if not csv_file_out:\n",
    "            csv_file_out = csv_file_in\n",
    "\n",
    "        data = pd.read_csv(csv_file_in, index_col=0)\n",
    "        data = clean_panda(data)\n",
    "        data.to_csv(csv_file_out)\n",
    "\n",
    "    @staticmethod\n",
    "    def clean_panda(data):\n",
    "        data[\"abstract\"] = data[\"abstract\"].apply(lambda x: re.sub(\"([©]*)\\.\",\"\",x))#remove copyright's\n",
    "        data[\"abstract\"] = data[\"abstract\"].apply(lambda x: re.sub('\\S*@\\S*\\s?', '', x))#remove emails\n",
    "        data[\"abstract\"] = data[\"abstract\"].apply(lambda x: re.sub('\\s+', ' ', x))#\n",
    "        data[\"abstract\"] = data[\"abstract\"].apply(lambda x: re.sub(\"\\'\", ' ', x))# remove '\n",
    "        return data"
   ]
  },
  {
   "cell_type": "markdown",
   "metadata": {},
   "source": [
    "__Tokenization__ : Split the text into sentences and the sentences into words. Lowercase the words and remove punctuation.<br><br>\n",
    "Words that have __fewer than 3 characters__ are removed.<br><br>\n",
    "All __stopwords__  are removed.<br><br>\n",
    "Words are __lemmatized__  —  words in third person are changed to first person and verbs in past and future tenses are changed into present.<br><br>\n",
    "Words are __stemmed__  —  words are reduced to their root form."
   ]
  },
  {
   "cell_type": "code",
   "execution_count": 5,
   "metadata": {
    "scrolled": true
   },
   "outputs": [],
   "source": [
    "#Set variables\n",
    "source = 'Papers.xlsx'\n",
    "stopWords = 'BlockWords.txt'\n",
    "clean_path = 'CleanArchive.txt'\n",
    "log_path = 'BeforeArchive.txt'\n",
    "topics = 10\n",
    "words = 8"
   ]
  },
  {
   "cell_type": "code",
   "execution_count": 10,
   "metadata": {},
   "outputs": [],
   "source": [
    "#prepare docs\n",
    "#log = research.revoke(source)\n",
    "doc_complete = Research.parse_xls(source)\n",
    "doc_clean = [Research.clean(doc, stopWords).split() for doc in doc_complete]\n"
   ]
  },
  {
   "cell_type": "code",
   "execution_count": 11,
   "metadata": {},
   "outputs": [],
   "source": [
    "#save this version and alterations\n",
    "Research.save(log_path, []) #log)\n",
    "Research.save(clean_path, doc_clean)"
   ]
  },
  {
   "cell_type": "code",
   "execution_count": 12,
   "metadata": {},
   "outputs": [],
   "source": [
    "#dictionary and matrix\n",
    "dictionary = corpora.Dictionary(doc_clean)\n",
    "doc_term_matrix = [dictionary.doc2bow(doc) for doc in doc_clean]"
   ]
  },
  {
   "cell_type": "code",
   "execution_count": 13,
   "metadata": {},
   "outputs": [],
   "source": [
    "#lda model\n",
    "LDA = gensim.models.ldamodel.LdaModel"
   ]
  },
  {
   "cell_type": "code",
   "execution_count": 130,
   "metadata": {},
   "outputs": [],
   "source": [
    "#LDA result\n",
    "result = LDA(doc_term_matrix, chunksize=604, num_topics = topics, id2word=dictionary, passes = 2, iterations = 100) "
   ]
  },
  {
   "cell_type": "code",
   "execution_count": 131,
   "metadata": {
    "scrolled": true
   },
   "outputs": [
    {
     "name": "stdout",
     "output_type": "stream",
     "text": [
      "Topic: 0 \n",
      "Words: 0.014*\"de\" + 0.013*\"isoiec\" + 0.011*\"standard\" + 0.009*\"27001\" + 0.006*\"ism\" + 0.006*\"audit\" + 0.006*\"e\" + 0.005*\"paper\" + 0.005*\"software\" + 0.005*\"iso\"\n",
      "Topic: 1 \n",
      "Words: 0.040*\"informationsecurity\" + 0.018*\"security\" + 0.015*\"organization\" + 0.010*\"awareness\" + 0.010*\"study\" + 0.009*\"paper\" + 0.009*\"ism\" + 0.009*\"factor\" + 0.007*\"culture\" + 0.006*\"organizational\"\n",
      "Topic: 2 \n",
      "Words: 0.015*\"security\" + 0.010*\"compliance\" + 0.008*\"information\" + 0.008*\"informationsecurity\" + 0.007*\"isp\" + 0.006*\"framework\" + 0.006*\"approach\" + 0.006*\"organization\" + 0.006*\"paper\" + 0.005*\"federal\"\n",
      "Topic: 3 \n",
      "Words: 0.016*\"ism\" + 0.016*\"informationsecurity\" + 0.014*\"business\" + 0.011*\"paper\" + 0.008*\"company\" + 0.008*\"standard\" + 0.008*\"management\" + 0.007*\"approach\" + 0.006*\"user\" + 0.006*\"need\"\n",
      "Topic: 4 \n",
      "Words: 0.024*\"cloud\" + 0.018*\"security\" + 0.016*\"risk\" + 0.010*\"informationtechnology\" + 0.010*\"management\" + 0.009*\"service\" + 0.009*\"analysis\" + 0.008*\"bcm\" + 0.007*\"computing\" + 0.007*\"method\"\n",
      "Topic: 5 \n",
      "Words: 0.017*\"security\" + 0.008*\"firm\" + 0.007*\"advice\" + 0.007*\"company\" + 0.006*\"skill\" + 0.005*\"higher\" + 0.004*\"study\" + 0.004*\"gene\" + 0.004*\"breach\" + 0.004*\"management\"\n",
      "Topic: 6 \n",
      "Words: 0.020*\"employee\" + 0.012*\"study\" + 0.009*\"research\" + 0.008*\"iso\" + 0.008*\"informationsecurity\" + 0.007*\"value\" + 0.006*\"organization\" + 0.006*\"monitoring\" + 0.006*\"conflict\" + 0.006*\"whistleblowing\"\n",
      "Topic: 7 \n",
      "Words: 0.026*\"risk\" + 0.017*\"management\" + 0.015*\"security\" + 0.015*\"system\" + 0.015*\"informationsecurity\" + 0.012*\"assessment\" + 0.012*\"model\" + 0.011*\"paper\" + 0.010*\"ism\" + 0.010*\"information\"\n",
      "Topic: 8 \n",
      "Words: 0.018*\"ism\" + 0.018*\"security\" + 0.011*\"informationsecurity\" + 0.009*\"study\" + 0.008*\"control\" + 0.008*\"paper\" + 0.007*\"information\" + 0.007*\"standard\" + 0.007*\"method\" + 0.006*\"system\"\n",
      "Topic: 9 \n",
      "Words: 0.022*\"ism\" + 0.021*\"security\" + 0.021*\"system\" + 0.019*\"information\" + 0.018*\"management\" + 0.014*\"informationsecurity\" + 0.010*\"organization\" + 0.009*\"standard\" + 0.008*\"paper\" + 0.008*\"process\"\n"
     ]
    }
   ],
   "source": [
    "for idx, topic in result.print_topics(-1):\n",
    "    print('Topic: {} \\nWords: {}'.format(idx, topic))"
   ]
  },
  {
   "cell_type": "markdown",
   "metadata": {},
   "source": [
    "## Metrics works"
   ]
  },
  {
   "cell_type": "code",
   "execution_count": 19,
   "metadata": {},
   "outputs": [
    {
     "data": {
      "text/latex": [
       "\\begin{align}\n",
       "    Mean\\ Absolute\\ Error\\\\\n",
       "    & MAE &= &\\frac{1}{n}\\sum_{t=1}^{n}|e_t|\\\\\n",
       "    Mean\\ Absolute\\ Percentage\\ Error\\\\\n",
       "    & MAPE &= &\\frac{100\\%}{n}\\sum_{t=1}^{n}\\left |\\frac{e_t}{y_t}\\right|\\\\\n",
       "    Weighted\\ Mean\\ Absolute\\ Percentage\\ Error\\\\\n",
       "    & MAPE &= &\\frac{100\\%}{n}\\sum_{t=1}^{n}\\left |\\frac{e_t - y_t}{y_t}\\right|\\\\\n",
       "\\end{align}\n"
      ],
      "text/plain": [
       "<IPython.core.display.Latex object>"
      ]
     },
     "metadata": {},
     "output_type": "display_data"
    }
   ],
   "source": [
    "%%latex\n",
    "\\begin{align}\n",
    "    Mean\\ Absolute\\ Error\\\\\n",
    "    & MAE &= &\\frac{1}{n}\\sum_{t=1}^{n}|e_t|\\\\\n",
    "    Mean\\ Absolute\\ Percentage\\ Error\\\\\n",
    "    & MAPE &= &\\frac{100\\%}{n}\\sum_{t=1}^{n}\\left |\\frac{e_t}{y_t}\\right|\\\\\n",
    "    Weighted\\ Mean\\ Absolute\\ Percentage\\ Error\\\\\n",
    "    & MAPE &= &\\frac{100\\%}{n}\\sum_{t=1}^{n}\\left |\\frac{e_t - y_t}{y_t}\\right|\\\\\n",
    "\\end{align}"
   ]
  },
  {
   "cell_type": "code",
   "execution_count": null,
   "metadata": {},
   "outputs": [],
   "source": [
    "#Na prática (Corpus =/= Corpus de formação inicial), mas usamos o mesmo aqui para simplificar.\n",
    "#O modelo pode ser atualizado (treinado) com novos documentos.\n",
    "other_corpus = common_corpus\n",
    "\n",
    "lda.update(other_corpus)"
   ]
  },
  {
   "cell_type": "code",
   "execution_count": 22,
   "metadata": {},
   "outputs": [
    {
     "data": {
      "text/plain": [
       "[0, 0, 2, -1, 2]"
      ]
     },
     "execution_count": 22,
     "metadata": {},
     "output_type": "execute_result"
    }
   ],
   "source": [
    "corpus = [[\"a\", \"a\", \"b\"], [\"a\", \"c\"]]\n",
    "dct = Dictionary(corpus)\n",
    "dct.doc2idx([\"a\", \"a\", \"c\", \"not_in_dictionary\", \"c\"])\n",
    "# [0, 0, 2, -1, 2]"
   ]
  },
  {
   "cell_type": "markdown",
   "metadata": {},
   "source": [
    "### A persistência do modelo é obtida através dos métodos load () e save ().\n",
    "\n",
    "## Parâmetros:\n",
    "##### corpus ({iterável da lista de (int, float), scipy.sparse.csc}, opcional) \n",
    "- Fluxo de vetores de documento ou matriz esparsa de forma (num_terms, num_documents). Se não for fornecido, o modelo será deixado sem treinamento (presumivelmente porque você deseja chamar update () manualmente).\n",
    "\n",
    "##### num_topics (int, optional) \n",
    "- O número de tópicos latentes solicitados a serem extraídos do corpus de treinamento.\n",
    "\n",
    "#####  id2word ({dict of (int, str), gensim.corpora.dictionary.Dictionary}) \n",
    "- Mapeamento de IDs de palavras em palavras. Ele é usado para determinar o tamanho do vocabulário, bem como para depuração e impressão de tópicos.\n",
    "\n",
    "#####  distributed (bool, optional) \n",
    "- Se a computação distribuída deve ser usada para acelerar o treinamento.\n",
    "\n",
    "##### chunksize (int, optional) \n",
    "- Número de documentos a serem usados ​​em cada bloco de treinamento.\n",
    "\n",
    "#####  passes (int, opcional) \n",
    "- Número de passagens pelo corpus durante o treinamento.\n",
    "\n",
    "#####  update_every (int, opcional) \n",
    "- Número de documentos a serem repetidos para cada atualização. Definido como 0 para aprendizado em lote,> 1 para aprendizado interativo iterativo.\n",
    "\n",
    "#####  alpha ({numpy.ndarray, str}, opcional) \n",
    "- Pode ser definido para um array 1D de comprimento igual ao número de tópicos esperados que expressam nossa crença a priori para a probabilidade de cada tópico. Alternativamente, as estratégias de seleção prévia padrão podem ser empregadas fornecendo uma string:\n",
    "\n",
    ">  'Assimétrico': Usa um prior assimétrico fixo normalizado de 1.0 / topicno.\n",
    "\n",
    ">  'Auto': aprende um prior assimétrico do corpus (não disponível se distribuído == True).\n",
    "\n",
    "#####  eta ({float, np.array, str}, opcional) - A priori crença na probabilidade da palavra, isso pode ser:\n",
    "- escalar para um prior simétrico sobre probabilidade de tópico / palavra, vetor de comprimento num_words para denotar uma probabilidade definida pelo usuário assimétrica para cada palavra, matriz de forma (num_topics, num_words) para atribuir uma probabilidade para cada combinação de tópicos de palavras,  a string \"auto\" para aprender a priori assimétrica a partir dos dados.\n",
    "\n",
    "##### decay (float, optional) \n",
    "- Um número entre (0.5, 1) para pesar que porcentagem do valor lambda anterior é esquecida quando cada novo documento é examinado Corresponde ao Kappa de Matthew D. Hoffman, David M. Blei e Francis Bach: “Aprendizagem on-line para a alocação de Dirichlet Latent NIPS'10”.\n",
    "\n",
    "##### offset (flutuante, opcional)\n",
    "- Hyper-parâmetro que controla o quanto vamos desacelerar os primeiros passos nas primeiras iterações. Corresponde a Tau_0 de Matthew D. Hoffman, David M. Blei e Francis Bach: “Aprendizagem on-line para alocação de Dirichlet latente NIPS '10”.\n",
    "\n",
    "##### eval_every (int, opcional) \n",
    "- A perplexidade do log é estimada em cada uma das muitas atualizações. Definir isso para um diminui o treinamento em ~ 2x.\n",
    "\n",
    "##### iterações (int, opcional) \n",
    "- Número máximo de iterações no corpus ao inferir a distribuição de tópico de um corpus.\n",
    "\n",
    "##### gamma_threshold (float, optional) \n",
    "- Mínima alteração no valor dos parâmetros gama para continuar a iteração.\n",
    "\n",
    "##### minimum_probability (float, opcional) \n",
    "- Tópicos com uma probabilidade menor que esse limite serão filtrados.\n",
    "\n",
    "##### random_state ({np.random.RandomState, int}, opcional)\n",
    "- Um objeto randomState ou um seed para gerar um. Útil para reprodutibilidade.\n",
    "\n",
    "##### ns_conf (dict de (str, objeto), opcional)\n",
    "- Parâmetros de palavra chave propagados para gensim.utils.getNS () para obter um Pyro4 Nameserved. Usado somente se distribuído estiver definido como True.\n",
    "\n",
    "##### minimum_phi_value (float, opcional) \n",
    "- se per_word_topics for True, isso representa um limite inferior no termo probabilidades.\n",
    "\n",
    "##### per_word_topics (bool)\n",
    "- Se for True, o modelo também calcula uma lista de tópicos, classificados em ordem decrescente dos tópicos mais prováveis para cada palavra, juntamente com seus valores phi multiplicados pelo comprimento do recurso (ou seja, contagem de palavras).\n",
    "\n",
    "##### callbacks (lista de retorno de chamada) \n",
    "- Retornos métricos para registrar e visualizar as métricas de avaliação do modelo durante o treinamento.\n",
    "\n",
    "##### dtype ({numpy.float16, numpy.float32, numpy.float64}, opcional) \n",
    "- Tipo de dados a ser usado durante os cálculos dentro do modelo. Todas as entradas também são convertidas."
   ]
  },
  {
   "cell_type": "markdown",
   "metadata": {},
   "source": [
    "gensim.models.ldamodel.LdaModel\n",
    "(corpus=None, num_topics=100, id2word=None, distributed=False, chunksize=2000, passes=1, update_every=1, alpha='symmetric', eta=None, decay=0.5, offset=1.0, eval_every=10, iterations=50, gamma_threshold=0.001, minimum_probability=0.01, random_state=None, ns_conf=None, minimum_phi_value=0.01, per_word_topics=False, callbacks=None, dtype=<type 'numpy.float32'>)\n"
   ]
  },
  {
   "cell_type": "code",
   "execution_count": 47,
   "metadata": {},
   "outputs": [
    {
     "data": {
      "text/plain": [
       "604"
      ]
     },
     "execution_count": 47,
     "metadata": {},
     "output_type": "execute_result"
    }
   ],
   "source": [
    "result.state.numdocs"
   ]
  },
  {
   "cell_type": "code",
   "execution_count": 139,
   "metadata": {},
   "outputs": [],
   "source": [
    "table = result.show_topics(formatted=False)"
   ]
  },
  {
   "cell_type": "code",
   "execution_count": 140,
   "metadata": {},
   "outputs": [
    {
     "data": {
      "text/plain": [
       "[0.01436848, 0.012892991, 0.011017632, 0.009469971, 0.006496887, 0.0058038095]"
      ]
     },
     "execution_count": 140,
     "metadata": {},
     "output_type": "execute_result"
    }
   ],
   "source": [
    "predict = []\n",
    "for x in range(10):\n",
    "    for y in range(10):\n",
    "        predict.append(table[x][1][y][1])\n",
    "predict[:6]"
   ]
  },
  {
   "cell_type": "code",
   "execution_count": 111,
   "metadata": {},
   "outputs": [
    {
     "name": "stdout",
     "output_type": "stream",
     "text": [
      "\n",
      "Perplexity:  -8.700897277369512\n"
     ]
    }
   ],
   "source": [
    "id2word = corpora.Dictionary(doc_clean)\n",
    "corpus = [id2word.doc2bow(text) for text in doc_clean]\n",
    "print('\\nPerplexity: ', result.log_perplexity(corpus))"
   ]
  },
  {
   "cell_type": "code",
   "execution_count": 123,
   "metadata": {},
   "outputs": [
    {
     "data": {
      "text/plain": [
       "[([(0.048588727, 'informationsecurity'),\n",
       "   (0.024742568, 'organization'),\n",
       "   (0.021666674, 'study'),\n",
       "   (0.020922206, 'ism'),\n",
       "   (0.019962503, 'model'),\n",
       "   (0.017341344, 'research'),\n",
       "   (0.014328179, 'analysis'),\n",
       "   (0.013171633, 'approach'),\n",
       "   (0.012307799, 'paper'),\n",
       "   (0.011820134, 'process'),\n",
       "   (0.011669175, 'result'),\n",
       "   (0.010899328, 'security'),\n",
       "   (0.010188433, 'framework'),\n",
       "   (0.010132207, 'awareness'),\n",
       "   (0.009090984, 'threat'),\n",
       "   (0.008917793, 'method'),\n",
       "   (0.008843088, 'issue'),\n",
       "   (0.008762392, 'application'),\n",
       "   (0.008473777, 'knowledge'),\n",
       "   (0.008460383, 'business')],\n",
       "  -1.464047211783102),\n",
       " ([(0.06632323, 'security'),\n",
       "   (0.030999035, 'information'),\n",
       "   (0.02586801, 'system'),\n",
       "   (0.025247037, 'ism'),\n",
       "   (0.017256139, 'standard'),\n",
       "   (0.015436605, 'network'),\n",
       "   (0.012547541, 'control'),\n",
       "   (0.01147822, 'data'),\n",
       "   (0.01022834, 'paper'),\n",
       "   (0.009856113, 'iso'),\n",
       "   (0.009718649, 'need'),\n",
       "   (0.008569867, 'level'),\n",
       "   (0.008132857, 'policy'),\n",
       "   (0.007661441, 'technology'),\n",
       "   (0.0075605, 'service'),\n",
       "   (0.007196517, '27001'),\n",
       "   (0.007189322, 'one'),\n",
       "   (0.0067971773, 'problem'),\n",
       "   (0.0066712652, 'asset'),\n",
       "   (0.006220415, 'ability')],\n",
       "  -1.7965216786529306),\n",
       " ([(0.07648898, 'management'),\n",
       "   (0.05518032, 'system'),\n",
       "   (0.043602664, 'risk'),\n",
       "   (0.022633756, 'firm'),\n",
       "   (0.022461653, 'development'),\n",
       "   (0.020670652, 'enterprise'),\n",
       "   (0.016419504, 'advice'),\n",
       "   (0.016288007, 'new'),\n",
       "   (0.015519778, 'assessment'),\n",
       "   (0.013489645, 'event'),\n",
       "   (0.013259727, 'also'),\n",
       "   (0.011479943, 'understanding'),\n",
       "   (0.010429082, 'operation'),\n",
       "   (0.010065011, 'influence'),\n",
       "   (0.00956305, 'order'),\n",
       "   (0.009199591, 'dynamic'),\n",
       "   (0.008735417, 'rate'),\n",
       "   (0.008554786, 'review'),\n",
       "   (0.007836173, 'company'),\n",
       "   (0.007696533, 'quality')],\n",
       "  -3.7002085297092226),\n",
       " ([(0.029177248, 'vulnerability'),\n",
       "   (0.019807883, 'also'),\n",
       "   (0.013693583, 'find'),\n",
       "   (0.012759763, 'make'),\n",
       "   (0.011606179, 'audit'),\n",
       "   (0.010983962, 'discus'),\n",
       "   (0.010240172, 'delivery'),\n",
       "   (0.010125781, 'effort'),\n",
       "   (0.009939604, 'fisma'),\n",
       "   (0.009712329, 'human'),\n",
       "   (0.009693523, 'therefore'),\n",
       "   (0.009488618, 'increasing'),\n",
       "   (0.0093123345, 'ensure'),\n",
       "   (0.00924143, 'presence'),\n",
       "   (0.009216058, 'investment'),\n",
       "   (0.0091734715, 'part'),\n",
       "   (0.00911703, 'patch'),\n",
       "   (0.008681455, 'requirement'),\n",
       "   (0.008520492, 'industrial'),\n",
       "   (0.008408252, 'interaction')],\n",
       "  -7.6101440003777165),\n",
       " ([(0.08320972, 'employee'),\n",
       "   (0.044948503, 'detection'),\n",
       "   (0.0364715, 'social'),\n",
       "   (0.02206344, 'existing'),\n",
       "   (0.018440383, 'behaviour'),\n",
       "   (0.016681014, 'personal'),\n",
       "   (0.0152510805, 'maintenance'),\n",
       "   (0.014716338, 'attack'),\n",
       "   (0.014425949, 'antivirus'),\n",
       "   (0.014095574, 'conflict'),\n",
       "   (0.013407161, 'behavioural'),\n",
       "   (0.012990257, 'discussed'),\n",
       "   (0.012915611, 'supervision'),\n",
       "   (0.012362917, 'occur'),\n",
       "   (0.012187749, 'workplace'),\n",
       "   (0.011883631, 'impediment'),\n",
       "   (0.011344582, 'right'),\n",
       "   (0.011130649, 'day'),\n",
       "   (0.010157503, 'pressure'),\n",
       "   (0.009555312, 'trust')],\n",
       "  -12.93189847342939),\n",
       " ([(0.031158302, 'e'),\n",
       "   (0.01868755, 'wellknown'),\n",
       "   (0.0079646, 'se'),\n",
       "   (0.0047174934, 'noted'),\n",
       "   (0.002736733, 'de'),\n",
       "   (0.0013765513, 'en'),\n",
       "   (0.0008557623, 'al'),\n",
       "   (0.0007111485, 'que'),\n",
       "   (0.0005985443, 'informationtechnologysecurity'),\n",
       "   (0.00047945592, 'la'),\n",
       "   (0.00028203792, 'operates'),\n",
       "   (0.000282013, 'methodical'),\n",
       "   (0.0002819548, 'credibility'),\n",
       "   (0.00028127554, 'forming'),\n",
       "   (0.00026131608, 'benthos'),\n",
       "   (0.00025214464, 'estas'),\n",
       "   (0.00023659776, 'seguridad'),\n",
       "   (0.00023181185, 'fishing'),\n",
       "   (0.00023181185, 'fished'),\n",
       "   (0.00021384584, 'agentbased')],\n",
       "  -14.24155921330862),\n",
       " ([(0.031787932, 'finally'),\n",
       "   (0.026796432, 'implementing'),\n",
       "   (0.01984275, 'might'),\n",
       "   (0.017048432, 'local'),\n",
       "   (0.010327001, 'regulator'),\n",
       "   (0.0060501997, 'similar'),\n",
       "   (0.005706107, 'extend'),\n",
       "   (0.0047380235, 'latter'),\n",
       "   (0.0030032853, 'scale'),\n",
       "   (0.002602862, 'clustering'),\n",
       "   (0.0014538518, 'produced'),\n",
       "   (0.0011139625, 'p'),\n",
       "   (0.0010491133, 'giving'),\n",
       "   (0.00075938436, 'showing'),\n",
       "   (0.00067569694, 'whistleblowing'),\n",
       "   (0.000664021, 'disease'),\n",
       "   (0.0006442077, 'kmeans'),\n",
       "   (0.0005197616, 'differ'),\n",
       "   (0.0004722703, 'contrary'),\n",
       "   (0.00039229877, 'cell')],\n",
       "  -14.898273501751879),\n",
       " ([(0.0001546536, 'backslashr'),\n",
       "   (0.00015464418, 'scanner'),\n",
       "   (0.00015464355, 'whistleblowing'),\n",
       "   (0.00015464264, 'discrimination'),\n",
       "   (0.00015464041, 'textlessptextgreaterthis'),\n",
       "   (0.0001546397, 'reasonable'),\n",
       "   (0.00015463967, 'bias'),\n",
       "   (0.00015463958, 'visibility'),\n",
       "   (0.0001546394, 'methylene'),\n",
       "   (0.00015463932, 'strategytextlessptextgreater'),\n",
       "   (0.0001546392, 'analytics'),\n",
       "   (0.00015463897, 'signal'),\n",
       "   (0.00015463802, 'shock'),\n",
       "   (0.00015463728, 'band'),\n",
       "   (0.00015463725, 'telemedicine'),\n",
       "   (0.00015463718, 'optimistic'),\n",
       "   (0.0001546371, 'prudential'),\n",
       "   (0.00015463622, 'hr'),\n",
       "   (0.00015463606, 'benthos'),\n",
       "   (0.00015463588, 'missed')],\n",
       "  -20.74088267165254),\n",
       " ([(0.0001546536, 'backslashr'),\n",
       "   (0.00015464418, 'scanner'),\n",
       "   (0.00015464355, 'whistleblowing'),\n",
       "   (0.00015464264, 'discrimination'),\n",
       "   (0.00015464041, 'textlessptextgreaterthis'),\n",
       "   (0.0001546397, 'reasonable'),\n",
       "   (0.00015463967, 'bias'),\n",
       "   (0.00015463958, 'visibility'),\n",
       "   (0.0001546394, 'methylene'),\n",
       "   (0.00015463932, 'strategytextlessptextgreater'),\n",
       "   (0.0001546392, 'analytics'),\n",
       "   (0.00015463897, 'signal'),\n",
       "   (0.00015463802, 'shock'),\n",
       "   (0.00015463728, 'band'),\n",
       "   (0.00015463725, 'telemedicine'),\n",
       "   (0.00015463718, 'optimistic'),\n",
       "   (0.0001546371, 'prudential'),\n",
       "   (0.00015463622, 'hr'),\n",
       "   (0.00015463606, 'benthos'),\n",
       "   (0.00015463588, 'missed')],\n",
       "  -20.74088267165254),\n",
       " ([(0.0001546536, 'backslashr'),\n",
       "   (0.00015464418, 'scanner'),\n",
       "   (0.00015464355, 'whistleblowing'),\n",
       "   (0.00015464264, 'discrimination'),\n",
       "   (0.00015464041, 'textlessptextgreaterthis'),\n",
       "   (0.0001546397, 'reasonable'),\n",
       "   (0.00015463967, 'bias'),\n",
       "   (0.00015463958, 'visibility'),\n",
       "   (0.0001546394, 'methylene'),\n",
       "   (0.00015463932, 'strategytextlessptextgreater'),\n",
       "   (0.0001546392, 'analytics'),\n",
       "   (0.00015463897, 'signal'),\n",
       "   (0.00015463802, 'shock'),\n",
       "   (0.00015463728, 'band'),\n",
       "   (0.00015463725, 'telemedicine'),\n",
       "   (0.00015463718, 'optimistic'),\n",
       "   (0.0001546371, 'prudential'),\n",
       "   (0.00015463622, 'hr'),\n",
       "   (0.00015463606, 'benthos'),\n",
       "   (0.00015463588, 'missed')],\n",
       "  -20.74088267165254)]"
      ]
     },
     "execution_count": 123,
     "metadata": {},
     "output_type": "execute_result"
    }
   ],
   "source": [
    "result.top_topics(corpus)"
   ]
  },
  {
   "cell_type": "code",
   "execution_count": 135,
   "metadata": {},
   "outputs": [
    {
     "name": "stdout",
     "output_type": "stream",
     "text": [
      "\n",
      "Coherence Score:  0.3591983721670916\n"
     ]
    }
   ],
   "source": [
    "# Compute Coherence Score !lower is better\n",
    "coherence_model_lda = CoherenceModel(model=result, texts=doc_clean, dictionary=id2word, coherence='c_v')\n",
    "coherence_lda = coherence_model_lda.get_coherence()\n",
    "print('\\nCoherence Score: ', coherence_lda)"
   ]
  },
  {
   "cell_type": "code",
   "execution_count": 132,
   "metadata": {},
   "outputs": [],
   "source": [
    "real = [result.alpha for x in range(10)]\n",
    "real = list(i for j in real for i in j)"
   ]
  },
  {
   "cell_type": "code",
   "execution_count": 141,
   "metadata": {},
   "outputs": [
    {
     "name": "stdout",
     "output_type": "stream",
     "text": [
      "89.4754409790039\n",
      "89.4754409790039\n"
     ]
    }
   ],
   "source": [
    "print(Metrics.mean_absolute_percentage_error(real,predict))\n",
    "print(Metrics.weighted_mean_absolute_percentage_error(real,predict))"
   ]
  },
  {
   "cell_type": "code",
   "execution_count": 142,
   "metadata": {},
   "outputs": [
    {
     "name": "stdout",
     "output_type": "stream",
     "text": [
      "89.4754409790039\n"
     ]
    }
   ],
   "source": [
    "print(Metrics.mean_absolute_percentage_error(real,predict))"
   ]
  },
  {
   "cell_type": "code",
   "execution_count": null,
   "metadata": {},
   "outputs": [],
   "source": []
  }
 ],
 "metadata": {
  "kernelspec": {
   "display_name": "Python 3",
   "language": "python",
   "name": "python3"
  },
  "language_info": {
   "codemirror_mode": {
    "name": "ipython",
    "version": 3
   },
   "file_extension": ".py",
   "mimetype": "text/x-python",
   "name": "python",
   "nbconvert_exporter": "python",
   "pygments_lexer": "ipython3",
   "version": "3.7.3"
  }
 },
 "nbformat": 4,
 "nbformat_minor": 2
}
