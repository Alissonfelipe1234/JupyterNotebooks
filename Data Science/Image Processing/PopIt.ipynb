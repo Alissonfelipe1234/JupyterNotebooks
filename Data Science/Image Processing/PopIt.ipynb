{
 "cells": [
  {
   "cell_type": "code",
   "execution_count": 1,
   "metadata": {},
   "outputs": [],
   "source": [
    "from PIL.Image import open, new\n",
    "from PIL.ImageColor import getrgb\n",
    "from PIL.ImageOps import grayscale\n",
    "import os"
   ]
  },
  {
   "cell_type": "code",
   "execution_count": 2,
   "metadata": {},
   "outputs": [],
   "source": [
    "folder = 'C:\\\\Users\\\\alissonsilva.CENARIOCAPITAL\\\\Downloads\\\\make'\n",
    "exit_folder = 'C:\\\\Users\\\\alissonsilva.CENARIOCAPITAL\\\\Downloads\\\\results'"
   ]
  },
  {
   "cell_type": "code",
   "execution_count": 3,
   "metadata": {},
   "outputs": [],
   "source": [
    "def PopIt(pixels, colors):\n",
    "    new_pixels = []\n",
    "    for pixel in pixels:\n",
    "        if pixel < 50:\n",
    "            color = getrgb(colors[0])\n",
    "        elif pixel < 100:\n",
    "            color = getrgb(colors[1])\n",
    "        elif pixel < 150:\n",
    "            color = getrgb(colors[2])\n",
    "        elif pixel < 200:\n",
    "            color = getrgb(colors[3])\n",
    "        else:\n",
    "            color = getrgb(colors[4])\n",
    "\n",
    "        new_pixels.append(color) \n",
    "    return new_pixels"
   ]
  },
  {
   "cell_type": "code",
   "execution_count": 6,
   "metadata": {},
   "outputs": [
    {
     "name": "stdout",
     "output_type": "stream",
     "text": [
      "File name: albert.png\n",
      "Starting first... Ok\n",
      "Starting reverse...Ok\n",
      "End process\n"
     ]
    }
   ],
   "source": [
    "for file in os.listdir(folder):\n",
    "    print(\"File name: \" + file)\n",
    "    img = open(os.path.join(folder, file))\n",
    "    \n",
    "    (file_basename, file_extension) = os.path.splitext(file)\n",
    "    output_name = file_basename + '_pop'  + file_extension\n",
    "    print(\"Starting first... \", end=\"\")\n",
    "    colors = [\"#00A8C6\",\"#AEE239\",\"#8FBE00\",\"#40C0CB\",\"#F9F2E7\"]\n",
    "  \n",
    "    pixels = grayscale(img).getdata()\n",
    "    img2 = new(img.mode, img.size,)\n",
    "    img2.putdata(PopIt(pixels, colors))\n",
    "    img2.save(os.path.join(exit_folder, output_name))\n",
    "    print(\"Ok\\nStarting reverse...\", end=\"\")\n",
    "        \n",
    "    colors.reverse()\n",
    "    \n",
    "    output_name = file_basename + '_reverse_pop'  + \"_dec\" + file_extension\n",
    "    img2 = new(img.mode, img.size,)\n",
    "    img2.putdata(PopIt(pixels, colors))\n",
    "    img2.save(os.path.join(exit_folder, output_name))\n",
    "    print(\"Ok\\nEnd process\")"
   ]
  },
  {
   "cell_type": "code",
   "execution_count": null,
   "metadata": {},
   "outputs": [],
   "source": []
  }
 ],
 "metadata": {
  "kernelspec": {
   "display_name": "Python 3",
   "language": "python",
   "name": "python3"
  },
  "language_info": {
   "codemirror_mode": {
    "name": "ipython",
    "version": 3
   },
   "file_extension": ".py",
   "mimetype": "text/x-python",
   "name": "python",
   "nbconvert_exporter": "python",
   "pygments_lexer": "ipython3",
   "version": "3.7.4"
  }
 },
 "nbformat": 4,
 "nbformat_minor": 2
}
