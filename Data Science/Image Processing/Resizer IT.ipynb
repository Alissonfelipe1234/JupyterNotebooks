{
 "cells": [
  {
   "cell_type": "markdown",
   "metadata": {},
   "source": [
    "## Imports:"
   ]
  },
  {
   "cell_type": "code",
   "execution_count": 43,
   "metadata": {},
   "outputs": [],
   "source": [
    "from PIL import Image, ImageOps\n",
    "import cv2\n",
    "from google_images_download import google_images_download "
   ]
  },
  {
   "cell_type": "code",
   "execution_count": 62,
   "metadata": {},
   "outputs": [
    {
     "name": "stdout",
     "output_type": "stream",
     "text": [
      "\n",
      "Item no.: 1 --> Item name = Itau\n",
      "Evaluating...\n",
      "Starting Download...\n",
      "Completed Image ====> 1.Wg0JTBz9.png\n",
      "\n",
      "Errors: 0\n",
      "\n",
      "{'Itau': ['C:\\\\Users\\\\AlissonSilva\\\\repos\\\\JupyterNotebooks\\\\Data Science\\\\Image Processing\\\\downloads\\\\Itau\\\\1.Wg0JTBz9.png']}\n"
     ]
    }
   ],
   "source": [
    "response = google_images_download.googleimagesdownload()\n",
    "\n",
    "arguments = {\"keywords\":\"Itau\",\"aspect_ratio\":\"square\", \"limit\":1}\n",
    "paths = response.download(arguments)\n",
    "print(paths[0])"
   ]
  },
  {
   "cell_type": "markdown",
   "metadata": {},
   "source": [
    "## Instantiating the variables"
   ]
  },
  {
   "cell_type": "code",
   "execution_count": 39,
   "metadata": {},
   "outputs": [],
   "source": [
    "imagePath = \"original.jpg\"\n",
    "dinamic_image = Image.open(imagePath)\n",
    "\n",
    "new_width = 100\n",
    "new_height = 100"
   ]
  },
  {
   "cell_type": "markdown",
   "metadata": {},
   "source": [
    "## Processing:"
   ]
  },
  {
   "cell_type": "code",
   "execution_count": 40,
   "metadata": {},
   "outputs": [],
   "source": [
    "image1 = dinamic_image.resize((new_width, new_height), Image.NEAREST)      # use nearest neighbour\n",
    "image2 = dinamic_image.resize((new_width, new_height), Image.BILINEAR)     # linear interpolation in a 2x2 environment\n",
    "image3 = dinamic_image.resize((new_width, new_height), Image.BICUBIC)      # cubic spline interpolation in a 4x4 environment\n",
    "image4 = dinamic_image.resize((new_width, new_height), Image.ANTIALIAS)    # best down-sizing filter"
   ]
  },
  {
   "cell_type": "markdown",
   "metadata": {},
   "source": [
    "## Save"
   ]
  },
  {
   "cell_type": "code",
   "execution_count": 42,
   "metadata": {},
   "outputs": [],
   "source": [
    "ext = \".png\"\n",
    "image1.save(\"NEAREST\" + ext) #Bad result for my tests But smaller size\n",
    "image2.save(\"BILINEAR\" + ext) #Averange result and size\n",
    "image3.save(\"BICUBIC\" + ext) #Best result\n",
    "image4.save(\"ANTIALIAS\" + ext) #Best result too\n",
    "dinamic_image.save(\"original\" + ext) #convert original to png"
   ]
  },
  {
   "cell_type": "code",
   "execution_count": 38,
   "metadata": {},
   "outputs": [],
   "source": [
    "#LESS CODE\n",
    "imagePath = \"original.png\"\n",
    "dinamic_image = Image.open(imagePath)\n",
    "\n",
    "new_width = 100\n",
    "new_height = 100\n",
    "image4 = dinamic_image.resize((new_width, new_height), Image.ANTIALIAS)\n",
    "image4.save(imagePath) #Best result too"
   ]
  },
  {
   "cell_type": "code",
   "execution_count": null,
   "metadata": {},
   "outputs": [],
   "source": [
    "#USE TO RETANGULAR FROM SQUARE IMAGE\n",
    "\n",
    "from PIL import Image, ImageOps\n",
    "import cv2\n",
    "\n",
    "desired_size = 333\n",
    "im_pth = \"20 BANCO J. SAFRA S.A..png\"\n",
    "\n",
    "im = Image.open(im_pth)\n",
    "print(im.mode)\n",
    "old_size = im.size  \n",
    "\n",
    "ratio = float(desired_size)/max(old_size)\n",
    "\n",
    "new_size = tuple([int(x) for x in old_size])\n",
    "\n",
    "im = im.resize(new_size, Image.ANTIALIAS)\n",
    "\n",
    "new_im = Image.new(\"RGB\", (desired_size, desired_size))\n",
    "new_im.paste(im, ((desired_size-new_size[0])//2,\n",
    "                      (desired_size-new_size[1])//2))\n",
    "\n",
    "delta_w = desired_size - new_size[0]\n",
    "delta_h = desired_size - new_size[1]\n",
    "padding = (delta_w//2, delta_h//2, delta_w-(delta_w//2), delta_h-(delta_h//2))\n",
    "print(padding)\n",
    "new_im = ImageOps.expand(im, padding, fill=000000)\n",
    "im_final = new_im.resize((new_width, new_height), Image.BICUBIC) \n",
    "im_final.save(im_pth)"
   ]
  }
 ],
 "metadata": {
  "kernelspec": {
   "display_name": "Python 3",
   "language": "python",
   "name": "python3"
  },
  "language_info": {
   "codemirror_mode": {
    "name": "ipython",
    "version": 3
   },
   "file_extension": ".py",
   "mimetype": "text/x-python",
   "name": "python",
   "nbconvert_exporter": "python",
   "pygments_lexer": "ipython3",
   "version": "3.7.4"
  }
 },
 "nbformat": 4,
 "nbformat_minor": 2
}
