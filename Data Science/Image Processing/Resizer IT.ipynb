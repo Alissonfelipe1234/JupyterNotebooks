{
 "cells": [
  {
   "cell_type": "markdown",
   "metadata": {},
   "source": [
    "## Imports:"
   ]
  },
  {
   "cell_type": "code",
   "execution_count": 3,
   "metadata": {},
   "outputs": [],
   "source": [
    "from PIL import Image"
   ]
  },
  {
   "cell_type": "markdown",
   "metadata": {},
   "source": [
    "## Instantiating the variables"
   ]
  },
  {
   "cell_type": "code",
   "execution_count": 4,
   "metadata": {},
   "outputs": [],
   "source": [
    "imagePath = \"c6_grande.png\"\n",
    "dinamic_image = Image.open(imagePath)\n",
    "\n",
    "new_width = 100\n",
    "new_height = 100"
   ]
  },
  {
   "cell_type": "markdown",
   "metadata": {},
   "source": [
    "## Processing:"
   ]
  },
  {
   "cell_type": "code",
   "execution_count": 5,
   "metadata": {},
   "outputs": [],
   "source": [
    "image1 = dinamic_image.resize((new_width, new_height), Image.NEAREST)      # use nearest neighbour\n",
    "image2 = dinamic_image.resize((new_width, new_height), Image.BILINEAR)     # linear interpolation in a 2x2 environment\n",
    "image3 = dinamic_image.resize((new_width, new_height), Image.BICUBIC)      # cubic spline interpolation in a 4x4 environment\n",
    "image4 = dinamic_image.resize((new_width, new_height), Image.ANTIALIAS)    # best down-sizing filter"
   ]
  },
  {
   "cell_type": "markdown",
   "metadata": {},
   "source": [
    "## Save"
   ]
  },
  {
   "cell_type": "code",
   "execution_count": 6,
   "metadata": {},
   "outputs": [],
   "source": [
    "ext = \".png\"\n",
    "image1.save(\"NEAREST\" + ext) #Bad result for my tests But smaller size\n",
    "image2.save(\"BILINEAR\" + ext) #Averange result and size\n",
    "image3.save(\"BICUBIC\" + ext) #Best result\n",
    "image4.save(\"ANTIALIAS\" + ext) #Best result too"
   ]
  },
  {
   "cell_type": "code",
   "execution_count": null,
   "metadata": {
    "scrolled": true
   },
   "outputs": [],
   "source": []
  },
  {
   "cell_type": "code",
   "execution_count": null,
   "metadata": {},
   "outputs": [],
   "source": []
  }
 ],
 "metadata": {
  "kernelspec": {
   "display_name": "Python 3",
   "language": "python",
   "name": "python3"
  },
  "language_info": {
   "codemirror_mode": {
    "name": "ipython",
    "version": 3
   },
   "file_extension": ".py",
   "mimetype": "text/x-python",
   "name": "python",
   "nbconvert_exporter": "python",
   "pygments_lexer": "ipython3",
   "version": "3.7.4"
  }
 },
 "nbformat": 4,
 "nbformat_minor": 2
}
