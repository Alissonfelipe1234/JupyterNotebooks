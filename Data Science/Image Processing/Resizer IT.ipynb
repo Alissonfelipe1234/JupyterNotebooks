{
 "cells": [
  {
   "cell_type": "markdown",
   "metadata": {},
   "source": [
    "## Imports:"
   ]
  },
  {
   "cell_type": "code",
   "execution_count": 5,
   "metadata": {},
   "outputs": [],
   "source": [
    "from PIL import Image, ImageOps\n",
    "import cv2\n",
    "from google_images_download import google_images_download "
   ]
  },
  {
   "cell_type": "code",
   "execution_count": 17,
   "metadata": {},
   "outputs": [
    {
     "name": "stdout",
     "output_type": "stream",
     "text": [
      "\n",
      "Item no.: 1 --> Item name = consorcio feliz\n",
      "Evaluating...\n",
      "Starting Download...\n",
      "Completed Image ====> 1.consorcio_site.banner.b57de633fbb34701.62616e6e6572735f4b415f4d41494f2e706e67.png\n",
      "Completed Image ====> 2.consorcio_site.banner.948ec30cc8c55333.62616e6e6572735f474f4c5f4d41494f2e706e67.png\n",
      "URLError on an image...trying next one... Error: <urlopen error [SSL: CERTIFICATE_VERIFY_FAILED] certificate verify failed: Hostname mismatch, certificate is not valid for 'blog.consorcioluiza.com.br'. (_ssl.c:1076)>\n",
      "Completed Image ====> 3.banner-carro-e-moto-simulador-de-consorcio.png\n",
      "Completed Image ====> 4.img-consorcio-govesa.png\n",
      "Completed Image ====> 5.ademilar-santa-felicidade-belo-horizonte-4.png\n",
      "Completed Image ====> 6.logo.png\n",
      "Completed Image ====> 7.logo-triunfo.png\n",
      "\n",
      "Errors: 1\n",
      "\n"
     ]
    }
   ],
   "source": [
    "solicitor = google_images_download.googleimagesdownload()\n",
    "\n",
    "arguments = {\"keywords\":\"consorcio feliz\", \"aspect_ratio\":\"square\", \"color_type\":\"transparent\", \"limit\":7,\"output_directory\":\"images\", \"no_directory\":True}\n",
    "paths = solicitor.download(arguments)"
   ]
  },
  {
   "cell_type": "markdown",
   "metadata": {},
   "source": [
    "## Instantiating the variables"
   ]
  },
  {
   "cell_type": "code",
   "execution_count": 22,
   "metadata": {},
   "outputs": [],
   "source": [
    "imagePath = \"topo.png\"\n",
    "dinamic_image = Image.open(imagePath)\n",
    "\n",
    "new_width = 386\n",
    "new_height = 390"
   ]
  },
  {
   "cell_type": "markdown",
   "metadata": {},
   "source": [
    "## Processing:"
   ]
  },
  {
   "cell_type": "code",
   "execution_count": 23,
   "metadata": {},
   "outputs": [],
   "source": [
    "image1 = dinamic_image.resize((new_width, new_height), Image.NEAREST)      # use nearest neighbour\n",
    "image2 = dinamic_image.resize((new_width, new_height), Image.BILINEAR)     # linear interpolation in a 2x2 environment\n",
    "image3 = dinamic_image.resize((new_width, new_height), Image.BICUBIC)      # cubic spline interpolation in a 4x4 environment\n",
    "image4 = dinamic_image.resize((new_width, new_height), Image.ANTIALIAS)    # best down-sizing filter"
   ]
  },
  {
   "cell_type": "markdown",
   "metadata": {},
   "source": [
    "## Save"
   ]
  },
  {
   "cell_type": "code",
   "execution_count": 24,
   "metadata": {},
   "outputs": [],
   "source": [
    "ext = \".png\"\n",
    "image1.save(\"top\" + ext) #Bad result for my tests But smaller size\n",
    "image2.save(\"top2\" + ext) #Averange result and size\n",
    "image3.save(\"top3\" + ext) #Best result\n",
    "image4.save(\"top4\" + ext) #Best result too\n",
    "#dinamic_image.save(\"original\" + ext) #convert original to png"
   ]
  },
  {
   "cell_type": "code",
   "execution_count": 6,
   "metadata": {},
   "outputs": [],
   "source": [
    "#LESS CODE\n",
    "imagePath = \"original.png\"\n",
    "dinamic_image = Image.open(imagePath)\n",
    "\n",
    "new_width = 100\n",
    "new_height = 100\n",
    "image4 = dinamic_image.resize((new_width, new_height), Image.ANTIALIAS)\n",
    "image4.save(imagePath) #Best result too"
   ]
  },
  {
   "cell_type": "code",
   "execution_count": 26,
   "metadata": {},
   "outputs": [
    {
     "name": "stdout",
     "output_type": "stream",
     "text": [
      "RGBA\n",
      "(557, 672, 557, 672)\n"
     ]
    }
   ],
   "source": [
    "#USE TO RETANGULAR FROM SQUARE IMAGE\n",
    "\n",
    "from PIL import Image, ImageOps\n",
    "import cv2\n",
    "\n",
    "desired_size = 333\n",
    "im_pth = \"path/img.png\"\n",
    "\n",
    "im = Image.open(im_pth)\n",
    "print(im.mode)\n",
    "old_size = im.size  \n",
    "\n",
    "ratio = float(desired_size)/max(old_size)\n",
    "\n",
    "new_size = tuple([int(x) for x in old_size])\n",
    "\n",
    "im = im.resize(new_size, Image.ANTIALIAS)\n",
    "\n",
    "new_im = Image.new(\"RGB\", (desired_size, desired_size))\n",
    "new_im.paste(im, ((desired_size-new_size[0])//2,\n",
    "                      (desired_size-new_size[1])//2))\n",
    "\n",
    "delta_w = desired_size - new_size[0]\n",
    "delta_h = desired_size - new_size[1]\n",
    "padding = (delta_w//2, delta_h//2, delta_w-(delta_w//2), delta_h-(delta_h//2))\n",
    "print(padding)\n",
    "new_im = ImageOps.expand(im, padding, fill=000000)\n",
    "im_final = new_im.resize((new_width, new_height), Image.BICUBIC) \n",
    "im_final.save(im_pth)"
   ]
  },
  {
   "cell_type": "markdown",
   "metadata": {},
   "source": [
    "## transform white in transparent"
   ]
  },
  {
   "cell_type": "code",
   "execution_count": null,
   "metadata": {},
   "outputs": [],
   "source": [
    "def white_cleaner():\n",
    "    from PIL import Image\n",
    "\n",
    "    img = Image.open('img.png')\n",
    "    img = img.convert(\"RGBA\")\n",
    "\n",
    "    pixdata = img.load()\n",
    "\n",
    "    width, height = image.size\n",
    "    for y in xrange(height):\n",
    "        for x in xrange(width):\n",
    "            if pixdata[x, y] == (255, 255, 255, 255):\n",
    "                pixdata[x, y] = (255, 255, 255, 0)\n",
    "\n",
    "    img.save(\"img2.png\", \"PNG\")"
   ]
  },
  {
   "cell_type": "code",
   "execution_count": 3,
   "metadata": {},
   "outputs": [],
   "source": [
    "from PIL import Image\n",
    "\n",
    "img = Image.open('logo.jpeg')\n",
    "img = img.convert(\"RGBA\")\n",
    "\n",
    "pixdata = img.load()\n",
    "\n",
    "width, height = img.size\n",
    "for y in range(height):\n",
    "    for x in range(width):\n",
    "        if pixdata[x, y] == (255, 255, 255, 255):\n",
    "            pixdata[x, y] = (255, 255, 255, 0)\n",
    "\n",
    "img.save(\"logo.png\")"
   ]
  },
  {
   "cell_type": "code",
   "execution_count": null,
   "metadata": {},
   "outputs": [],
   "source": []
  }
 ],
 "metadata": {
  "kernelspec": {
   "display_name": "Python 3",
   "language": "python",
   "name": "python3"
  },
  "language_info": {
   "codemirror_mode": {
    "name": "ipython",
    "version": 3
   },
   "file_extension": ".py",
   "mimetype": "text/x-python",
   "name": "python",
   "nbconvert_exporter": "python",
   "pygments_lexer": "ipython3",
   "version": "3.7.5"
  }
 },
 "nbformat": 4,
 "nbformat_minor": 2
}
