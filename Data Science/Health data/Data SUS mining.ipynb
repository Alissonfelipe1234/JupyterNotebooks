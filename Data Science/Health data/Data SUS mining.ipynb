{
 "cells": [
  {
   "cell_type": "code",
   "execution_count": 12,
   "metadata": {},
   "outputs": [],
   "source": [
    "import pandas\n",
    "import json\n",
    "import requests\n",
    "import re\n",
    "import os\n",
    "import plotly.express as px"
   ]
  },
  {
   "cell_type": "code",
   "execution_count": 2,
   "metadata": {
    "scrolled": false
   },
   "outputs": [
    {
     "name": "stdout",
     "output_type": "stream",
     "text": [
      "reading the datasets..\n",
      "reading: rlAdmGerenciaCnes202001.csv\n",
      "reading: rlAtividadeObrigatoria202001.csv\n",
      "reading: rlCooperativa202001.csv\n",
      "reading: rlEquipeAldeia202001.csv\n",
      "reading: rlEquipeNasfEsf202001.csv\n",
      "reading: rlEstabAtendPrestConv202001.csv\n",
      "reading: rlEstabAtenPsico202001.csv\n",
      "reading: rlEstabAvaliacao202001.csv\n",
      "reading: rlEstabCentralReg202001.csv\n",
      "reading: rlEstabColetaSelRejeito202001.csv\n",
      "reading: rlEstabComissaoOutro202001.csv\n",
      "reading: rlEstabComplementar202001.csv\n",
      "reading: rlEstabEndCompl202001.csv\n",
      "reading: rlEstabEqpEmbarcacao202001.csv\n",
      "reading: rlEstabEqpUnidApoio202001.csv\n",
      "reading: rlEstabEquipamento202001.csv\n",
      "reading: rlEstabEquipeMun202001.csv\n",
      "reading: rlEstabEquipeProf202001.csv\n",
      "reading: rlEstabInstFisiAssist202001.csv\n",
      "reading: rlEstabOrgParc202001.csv\n",
      "reading: rlEstabPoloAldeia202001.csv\n",
      "reading: rlEstabProfComissao202001.csv\n",
      "reading: rlEstabProgFundo202001.csv\n",
      "reading: rlEstabRegimeRes202001.csv\n",
      "reading: rlEstabRepresentante202001.csv\n",
      "reading: rlEstabSamu202001.csv\n",
      "reading: rlEstabServClass202001.csv\n",
      "reading: rlEstabServicoApoio202001.csv\n",
      "reading: rlEstabSipac202001.csv\n",
      "reading: rlEstabSubTipo202001.csv\n",
      "reading: rlEstabTeleCnes202001.csv\n",
      "reading: rlEstabUnidAcolhim202001.csv\n",
      "reading: rlMunAtenPsico202001.csv\n",
      "reading: rlMunRegimeRes202001.csv\n",
      "reading: rlMunUnidAcolhim202001.csv\n",
      "reading: rlNasfEsf202001.csv\n",
      "reading: rlTipoEstabAtividade202001.csv\n",
      "reading: tbAldeia202001.csv\n",
      "reading: tbArea202001.csv\n",
      "reading: tbAtendimentoPrestado202001.csv\n",
      "reading: tbAtividade202001.csv\n",
      "reading: tbAtividadeEnsino202001.csv\n",
      "reading: tbAtividadeProfissional202001.csv\n",
      "reading: tbAtributo202001.csv\n",
      "reading: tbAvaliacao202001.csv\n",
      "reading: tbBanco202001.csv\n",
      "reading: tbCargaHorariaSus202001.csv\n",
      "reading: tbClassificacaoAval202001.csv\n",
      "reading: tbClassificacaoServico202001.csv\n",
      "reading: tbColetaSeletivaRejeito202001.csv\n",
      "reading: tbComissaoOutro202001.csv\n",
      "reading: tbConselhoClasse202001.csv\n",
      "reading: tbConvenio202001.csv\n",
      "reading: tbDadosProfissionalSus202001.csv\n",
      "reading: tbDialise202001.csv\n",
      "reading: tbDsei202001.csv\n",
      "reading: tbEquipamento202001.csv\n",
      "reading: tbEquipe202001.csv\n",
      "reading: tbEquipeAtendCompl202001.csv\n",
      "reading: tbEquipeChDifer202001.csv\n",
      "reading: tbEstabAtivSecundaria202001.csv\n",
      "reading: tbEstabContrato202001.csv\n",
      "reading: tbEstabelecimento202001.csv\n",
      "reading: tbEstabHorarioAtend202001.csv\n",
      "reading: tbEstado202001.csv\n",
      "reading: tbEtnia202001.csv\n",
      "reading: tbFluxoDadosClientela202001.csv\n",
      "reading: tbGestao202001.csv\n",
      "reading: tbGrupoAtividade202001.csv\n",
      "reading: tbGrupoEquipe202001.csv\n",
      "reading: tbHemoterapia202001.csv\n",
      "reading: tbIncentivos202001.csv\n",
      "reading: tbInstalFisicaParaAssist202001.csv\n",
      "reading: tbInstituicaoAvaliadora202001.csv\n",
      "reading: tbLeito202001.csv\n",
      "reading: tbMantenedora202001.csv\n",
      "reading: tbModVinculo202001.csv\n",
      "reading: tbMotivoDesativacao202001.csv\n",
      "reading: tbMotivoDesativEquipe202001.csv\n",
      "reading: tbMunicipio202001.csv\n",
      "reading: tbNaturezaJuridica202001.csv\n",
      "reading: tbOrgaoEmissor202001.csv\n",
      "reading: tbPoloBase202001.csv\n",
      "reading: tbProfResidencia202001.csv\n",
      "reading: tbQuimioRadio202001.csv\n",
      "reading: tbResidenciaMed202001.csv\n",
      "reading: tbSegmento202001.csv\n",
      "reading: tbServicoApoio202001.csv\n",
      "reading: tbServicoEspecializado202001.csv\n",
      "reading: tbServicoReferenciado202001.csv\n",
      "reading: tbSubGruposHabilitacao202001.csv\n",
      "reading: tbSubTipo202001.csv\n",
      "reading: tbSubTipoEquipe202001.csv\n",
      "reading: tbSubtipoInstalacao202001.csv\n",
      "reading: tbSubTpModVinculo202001.csv\n",
      "reading: tbTipoCertidao202001.csv\n",
      "reading: tbTipoCgDifer202001.csv\n",
      "reading: tbTipoEqSubTipo202001.csv\n",
      "reading: tbTipoEquipamento202001.csv\n",
      "reading: tbTipoEquipe202001.csv\n",
      "reading: tbTipoEscolaridade202001.csv\n",
      "reading: tbTipoEstabelecimento202001.csv\n",
      "reading: tbTipoInstalacaoFisica202001.csv\n",
      "reading: tbTipoServicoReferenciado202001.csv\n",
      "reading: tbTipoUnidade202001.csv\n",
      "reading: tbTpModVinculo202001.csv\n",
      "reading: tbTurnoAtendimento202001.csv\n"
     ]
    }
   ],
   "source": [
    "path = 'C:\\\\Users\\\\alissonsilva\\\\Downloads\\\\BASE_DE_DADOS_CNES_202001\\\\'\n",
    "all_in = []\n",
    "for root, directories, files in os.walk(path):\n",
    "    print('reading the datasets..')\n",
    "    for file in files:\n",
    "        if '.csv' in file:\n",
    "            print('reading: ' + file)\n",
    "            all_in.append(pandas.read_csv(path + file, sep=';', low_memory=False))\n"
   ]
  },
  {
   "cell_type": "code",
   "execution_count": 16,
   "metadata": {},
   "outputs": [
    {
     "ename": "NameError",
     "evalue": "name 'rlEstabAvaliacao202001' is not defined",
     "output_type": "error",
     "traceback": [
      "\u001b[1;31m---------------------------------------------------------------------------\u001b[0m",
      "\u001b[1;31mNameError\u001b[0m                                 Traceback (most recent call last)",
      "\u001b[1;32m<ipython-input-16-7eb49bfc2554>\u001b[0m in \u001b[0;36m<module>\u001b[1;34m\u001b[0m\n\u001b[1;32m----> 1\u001b[1;33m \u001b[0mrlEstabAvaliacao202001\u001b[0m\u001b[1;33m.\u001b[0m\u001b[0mcsv\u001b[0m\u001b[1;33m\u001b[0m\u001b[1;33m\u001b[0m\u001b[0m\n\u001b[0m\u001b[0;32m      2\u001b[0m \u001b[0mrlTipoEstabAtividade202001\u001b[0m\u001b[1;33m.\u001b[0m\u001b[0mcsv\u001b[0m\u001b[1;33m\u001b[0m\u001b[1;33m\u001b[0m\u001b[0m\n\u001b[0;32m      3\u001b[0m \u001b[0mtbTipoEstabelecimento202001\u001b[0m\u001b[1;33m.\u001b[0m\u001b[0mcsv\u001b[0m\u001b[1;33m\u001b[0m\u001b[1;33m\u001b[0m\u001b[0m\n\u001b[0;32m      4\u001b[0m \u001b[0mtbAvaliacao202001\u001b[0m\u001b[1;33m.\u001b[0m\u001b[0mcsv\u001b[0m\u001b[1;33m\u001b[0m\u001b[1;33m\u001b[0m\u001b[0m\n\u001b[0;32m      5\u001b[0m \u001b[1;33m\u001b[0m\u001b[0m\n",
      "\u001b[1;31mNameError\u001b[0m: name 'rlEstabAvaliacao202001' is not defined"
     ]
    }
   ],
   "source": [
    "rlEstabAvaliacao202001.csv\n",
    "tbClassificacaoAval202001.csv\n",
    "tbAvaliacao202001.csv\n",
    "\n",
    "tbEstabelecimento202001.csv\n",
    "rlTipoEstabAtividade202001.csv\n",
    "tbTipoEstabelecimento202001.csv\n",
    "\n",
    "tbDadosProfissionalSus202001.csv\n",
    "tbFluxoDadosClientela202001.csv"
   ]
  },
  {
   "cell_type": "markdown",
   "metadata": {},
   "source": [
    "## Avaliações"
   ]
  },
  {
   "cell_type": "code",
   "execution_count": 20,
   "metadata": {},
   "outputs": [],
   "source": [
    "path = 'C:\\\\Users\\\\alissonsilva\\\\Downloads\\\\BASE_DE_DADOS_CNES_202001\\\\'\n",
    "tbAv = pandas.read_csv(path + \"tbAvaliacao202001.csv\", sep=';', low_memory=False)\n",
    "tbCl = pandas.read_csv(path + \"tbClassificacaoAval202001.csv\", sep=';', low_memory=False)\n",
    "rlAv = pandas.read_csv(path + \"rlEstabAvaliacao202001.csv\", sep=';', low_memory=False)"
   ]
  },
  {
   "cell_type": "code",
   "execution_count": 23,
   "metadata": {},
   "outputs": [
    {
     "data": {
      "text/html": [
       "<div>\n",
       "<style scoped>\n",
       "    .dataframe tbody tr th:only-of-type {\n",
       "        vertical-align: middle;\n",
       "    }\n",
       "\n",
       "    .dataframe tbody tr th {\n",
       "        vertical-align: top;\n",
       "    }\n",
       "\n",
       "    .dataframe thead th {\n",
       "        text-align: right;\n",
       "    }\n",
       "</style>\n",
       "<table border=\"1\" class=\"dataframe\">\n",
       "  <thead>\n",
       "    <tr style=\"text-align: right;\">\n",
       "      <th></th>\n",
       "      <th>CO_UNIDADE</th>\n",
       "      <th>CO_AVALIACAO</th>\n",
       "      <th>CO_CLASSIFICACAO</th>\n",
       "      <th>TO_CHAR(DT_AVALIACAO,'DD/MM/YYYY')</th>\n",
       "      <th>CO_INSTITUICAO_AVALIADORA</th>\n",
       "      <th>TO_CHAR(DT_ATUALIZACAO,'DD/MM/YYYY')</th>\n",
       "      <th>CO_USUARIO</th>\n",
       "      <th>TO_CHAR(DT_ATUALIZACAO_ORIGEM,'DD/MM/YYYY')</th>\n",
       "    </tr>\n",
       "  </thead>\n",
       "  <tbody>\n",
       "    <tr>\n",
       "      <th>0</th>\n",
       "      <td>1501403656969</td>\n",
       "      <td>1</td>\n",
       "      <td>1</td>\n",
       "      <td>10/08/2012</td>\n",
       "      <td>NaN</td>\n",
       "      <td>27/06/2019</td>\n",
       "      <td>RACHEL</td>\n",
       "      <td>NaN</td>\n",
       "    </tr>\n",
       "    <tr>\n",
       "      <th>1</th>\n",
       "      <td>2105503761576</td>\n",
       "      <td>1</td>\n",
       "      <td>1</td>\n",
       "      <td>01/02/2006</td>\n",
       "      <td>NaN</td>\n",
       "      <td>07/11/2019</td>\n",
       "      <td>210550</td>\n",
       "      <td>NaN</td>\n",
       "    </tr>\n",
       "    <tr>\n",
       "      <th>2</th>\n",
       "      <td>2105503761576</td>\n",
       "      <td>2</td>\n",
       "      <td>1</td>\n",
       "      <td>22/02/2006</td>\n",
       "      <td>NaN</td>\n",
       "      <td>07/11/2019</td>\n",
       "      <td>210550</td>\n",
       "      <td>NaN</td>\n",
       "    </tr>\n",
       "    <tr>\n",
       "      <th>3</th>\n",
       "      <td>3119107326521</td>\n",
       "      <td>2</td>\n",
       "      <td>1</td>\n",
       "      <td>01/03/2013</td>\n",
       "      <td>1.0</td>\n",
       "      <td>29/10/2019</td>\n",
       "      <td>SCNES</td>\n",
       "      <td>NaN</td>\n",
       "    </tr>\n",
       "    <tr>\n",
       "      <th>4</th>\n",
       "      <td>2910803749401</td>\n",
       "      <td>2</td>\n",
       "      <td>4</td>\n",
       "      <td>01/01/1899</td>\n",
       "      <td>NaN</td>\n",
       "      <td>24/12/2013</td>\n",
       "      <td>FCES</td>\n",
       "      <td>NaN</td>\n",
       "    </tr>\n",
       "    <tr>\n",
       "      <th>...</th>\n",
       "      <td>...</td>\n",
       "      <td>...</td>\n",
       "      <td>...</td>\n",
       "      <td>...</td>\n",
       "      <td>...</td>\n",
       "      <td>...</td>\n",
       "      <td>...</td>\n",
       "      <td>...</td>\n",
       "    </tr>\n",
       "    <tr>\n",
       "      <th>1222</th>\n",
       "      <td>3550302088495</td>\n",
       "      <td>2</td>\n",
       "      <td>1</td>\n",
       "      <td>07/03/2008</td>\n",
       "      <td>NaN</td>\n",
       "      <td>26/04/2019</td>\n",
       "      <td>CNES13</td>\n",
       "      <td>NaN</td>\n",
       "    </tr>\n",
       "    <tr>\n",
       "      <th>1223</th>\n",
       "      <td>3304555828813</td>\n",
       "      <td>3</td>\n",
       "      <td>1</td>\n",
       "      <td>09/03/2013</td>\n",
       "      <td>2.0</td>\n",
       "      <td>15/07/2019</td>\n",
       "      <td>TANIA</td>\n",
       "      <td>NaN</td>\n",
       "    </tr>\n",
       "    <tr>\n",
       "      <th>1224</th>\n",
       "      <td>3205007257406</td>\n",
       "      <td>5</td>\n",
       "      <td>1</td>\n",
       "      <td>25/04/2017</td>\n",
       "      <td>1.0</td>\n",
       "      <td>28/11/2019</td>\n",
       "      <td>PENHA</td>\n",
       "      <td>NaN</td>\n",
       "    </tr>\n",
       "    <tr>\n",
       "      <th>1225</th>\n",
       "      <td>3538702080699</td>\n",
       "      <td>2</td>\n",
       "      <td>1</td>\n",
       "      <td>01/04/2008</td>\n",
       "      <td>1.0</td>\n",
       "      <td>02/08/2019</td>\n",
       "      <td>SACPIRA</td>\n",
       "      <td>NaN</td>\n",
       "    </tr>\n",
       "    <tr>\n",
       "      <th>1226</th>\n",
       "      <td>3538702080699</td>\n",
       "      <td>3</td>\n",
       "      <td>1</td>\n",
       "      <td>01/04/2008</td>\n",
       "      <td>1.0</td>\n",
       "      <td>02/08/2019</td>\n",
       "      <td>SACPIRA</td>\n",
       "      <td>NaN</td>\n",
       "    </tr>\n",
       "  </tbody>\n",
       "</table>\n",
       "<p>1227 rows × 8 columns</p>\n",
       "</div>"
      ],
      "text/plain": [
       "         CO_UNIDADE  CO_AVALIACAO  CO_CLASSIFICACAO  \\\n",
       "0     1501403656969             1                 1   \n",
       "1     2105503761576             1                 1   \n",
       "2     2105503761576             2                 1   \n",
       "3     3119107326521             2                 1   \n",
       "4     2910803749401             2                 4   \n",
       "...             ...           ...               ...   \n",
       "1222  3550302088495             2                 1   \n",
       "1223  3304555828813             3                 1   \n",
       "1224  3205007257406             5                 1   \n",
       "1225  3538702080699             2                 1   \n",
       "1226  3538702080699             3                 1   \n",
       "\n",
       "     TO_CHAR(DT_AVALIACAO,'DD/MM/YYYY')  CO_INSTITUICAO_AVALIADORA  \\\n",
       "0                            10/08/2012                        NaN   \n",
       "1                            01/02/2006                        NaN   \n",
       "2                            22/02/2006                        NaN   \n",
       "3                            01/03/2013                        1.0   \n",
       "4                            01/01/1899                        NaN   \n",
       "...                                 ...                        ...   \n",
       "1222                         07/03/2008                        NaN   \n",
       "1223                         09/03/2013                        2.0   \n",
       "1224                         25/04/2017                        1.0   \n",
       "1225                         01/04/2008                        1.0   \n",
       "1226                         01/04/2008                        1.0   \n",
       "\n",
       "     TO_CHAR(DT_ATUALIZACAO,'DD/MM/YYYY') CO_USUARIO  \\\n",
       "0                              27/06/2019     RACHEL   \n",
       "1                              07/11/2019     210550   \n",
       "2                              07/11/2019     210550   \n",
       "3                              29/10/2019      SCNES   \n",
       "4                              24/12/2013       FCES   \n",
       "...                                   ...        ...   \n",
       "1222                           26/04/2019     CNES13   \n",
       "1223                           15/07/2019      TANIA   \n",
       "1224                           28/11/2019      PENHA   \n",
       "1225                           02/08/2019    SACPIRA   \n",
       "1226                           02/08/2019    SACPIRA   \n",
       "\n",
       "      TO_CHAR(DT_ATUALIZACAO_ORIGEM,'DD/MM/YYYY')  \n",
       "0                                             NaN  \n",
       "1                                             NaN  \n",
       "2                                             NaN  \n",
       "3                                             NaN  \n",
       "4                                             NaN  \n",
       "...                                           ...  \n",
       "1222                                          NaN  \n",
       "1223                                          NaN  \n",
       "1224                                          NaN  \n",
       "1225                                          NaN  \n",
       "1226                                          NaN  \n",
       "\n",
       "[1227 rows x 8 columns]"
      ]
     },
     "execution_count": 23,
     "metadata": {},
     "output_type": "execute_result"
    }
   ],
   "source": [
    "rlAv"
   ]
  },
  {
   "cell_type": "code",
   "execution_count": 26,
   "metadata": {},
   "outputs": [
    {
     "data": {
      "application/vnd.plotly.v1+json": {
       "config": {
        "plotlyServerURL": "https://plot.ly"
       },
       "data": [
        {
         "alignmentgroup": "True",
         "customdata": [
          [
           1,
           "1501403656969"
          ],
          [
           1,
           "2105503761576"
          ],
          [
           1,
           "2105503761576"
          ],
          [
           1,
           "3119107326521"
          ],
          [
           4,
           "2910803749401"
          ],
          [
           1,
           "3550306037682"
          ],
          [
           1,
           "3106200027901"
          ],
          [
           4,
           "2900103780384"
          ],
          [
           1,
           "2903903780430"
          ],
          [
           1,
           "3302203687872"
          ],
          [
           1,
           "5217403275353"
          ],
          [
           1,
           "3304555285895"
          ],
          [
           1,
           "5300103000974"
          ],
          [
           2,
           "2707103830918"
          ],
          [
           3,
           "3205003450198"
          ],
          [
           2,
           "3303303297454"
          ],
          [
           1,
           "4123503888762"
          ],
          [
           1,
           "5300103915379"
          ],
          [
           1,
           "3304906901409"
          ],
          [
           1,
           "4322546901255"
          ],
          [
           1,
           "3146306911838"
          ],
          [
           1,
           "4322546901751"
          ],
          [
           1,
           "3551606905552"
          ],
          [
           1,
           "4322546925049"
          ],
          [
           1,
           "3551606994725"
          ],
          [
           1,
           "3551606998224"
          ],
          [
           1,
           "3159906505058"
          ],
          [
           1,
           "3200302403099"
          ],
          [
           1,
           "3111006339077"
          ],
          [
           1,
           "2601406373437"
          ],
          [
           1,
           "2611606397018"
          ],
          [
           1,
           "5002406469892"
          ],
          [
           1,
           "3161906463746"
          ],
          [
           1,
           "3202456517862"
          ],
          [
           1,
           "3511006519091"
          ],
          [
           1,
           "4119506518923"
          ],
          [
           1,
           "4209106556612"
          ],
          [
           1,
           "2919956568165"
          ],
          [
           1,
           "3303706586767"
          ],
          [
           1,
           "3519706289231"
          ],
          [
           2,
           "3304556296130"
          ],
          [
           1,
           "3168606316107"
          ],
          [
           1,
           "3168606321992"
          ],
          [
           1,
           "4322546394787"
          ],
          [
           2,
           "3550306423086"
          ],
          [
           1,
           "4104206426204"
          ],
          [
           3,
           "1504452322757"
          ],
          [
           1,
           "3171206477984"
          ],
          [
           1,
           "3509406479014"
          ],
          [
           1,
           "2927406595197"
          ],
          [
           1,
           "4312456580475"
          ],
          [
           2,
           "4312456580475"
          ],
          [
           1,
           "3115806611052"
          ],
          [
           2,
           "3115806611052"
          ],
          [
           1,
           "4108306619126"
          ],
          [
           1,
           "2101802460971"
          ],
          [
           1,
           "1506002331365"
          ],
          [
           3,
           "3526902024632"
          ],
          [
           1,
           "2914703245500"
          ],
          [
           2,
           "2914703245500"
          ],
          [
           1,
           "2113003542203"
          ],
          [
           1,
           "1502002316234"
          ],
          [
           2,
           "1508402318954"
          ],
          [
           3,
           "1508402621592"
          ],
          [
           3,
           "3550307457723"
          ],
          [
           1,
           "5003702371332"
          ],
          [
           1,
           "5003702371332"
          ],
          [
           4,
           "3550404050436"
          ],
          [
           3,
           "3550303146057"
          ],
          [
           1,
           "3550307330804"
          ],
          [
           1,
           "3500403405125"
          ],
          [
           1,
           "3550307457723"
          ],
          [
           2,
           "3106203375390"
          ],
          [
           4,
           "2915303434524"
          ],
          [
           1,
           "3509503846296"
          ],
          [
           1,
           "3509503846296"
          ],
          [
           1,
           "3550309882170"
          ],
          [
           3,
           "3304553356469"
          ],
          [
           3,
           "3304553356469"
          ],
          [
           2,
           "3549903507157"
          ],
          [
           3,
           "3304553356469"
          ],
          [
           4,
           "4314903548961"
          ],
          [
           3,
           "3106200027847"
          ],
          [
           1,
           "2113003541304"
          ],
          [
           1,
           "1304203581748"
          ],
          [
           1,
           "3123706391257"
          ],
          [
           4,
           "3503202046911"
          ],
          [
           4,
           "2925203696995"
          ],
          [
           1,
           "2909802600943"
          ],
          [
           1,
           "3170402760924"
          ],
          [
           3,
           "3513802084163"
          ],
          [
           1,
           "1506002331403"
          ],
          [
           1,
           "3522502078104"
          ],
          [
           1,
           "1506002331330"
          ],
          [
           1,
           "1100042516403"
          ],
          [
           2,
           "3550302077426"
          ],
          [
           1,
           "4303102231034"
          ],
          [
           2,
           "4200802378795"
          ],
          [
           1,
           "2111302458322"
          ],
          [
           1,
           "2211002726998"
          ],
          [
           1,
           "4208602665964"
          ],
          [
           1,
           "5208702519186"
          ],
          [
           1,
           "5208702519186"
          ],
          [
           1,
           "3149902221985"
          ],
          [
           2,
           "4314902237601"
          ],
          [
           1,
           "4112202733420"
          ],
          [
           1,
           "3540803690687"
          ],
          [
           1,
           "3524103668266"
          ],
          [
           1,
           "3524103668347"
          ],
          [
           1,
           "3524103678563"
          ],
          [
           1,
           "3524103678687"
          ],
          [
           1,
           "2924303008185"
          ],
          [
           1,
           "1501405459540"
          ],
          [
           1,
           "1501402695200"
          ],
          [
           2,
           "4305102223546"
          ],
          [
           1,
           "2929902674432"
          ],
          [
           1,
           "1100082803747"
          ],
          [
           1,
           "4308302252120"
          ],
          [
           1,
           "2111302308517"
          ],
          [
           1,
           "1506002331357"
          ],
          [
           1,
           "3523102078562"
          ],
          [
           1,
           "3534400008052"
          ],
          [
           1,
           "3530102083019"
          ],
          [
           1,
           "2311402328372"
          ],
          [
           1,
           "4214602377101"
          ],
          [
           1,
           "2702302010356"
          ],
          [
           1,
           "4323002231778"
          ],
          [
           1,
           "4306902233460"
          ],
          [
           1,
           "3140502144182"
          ],
          [
           4,
           "4322602236087"
          ],
          [
           1,
           "3136202709848"
          ],
          [
           1,
           "3303302288966"
          ],
          [
           1,
           "2927402497751"
          ],
          [
           3,
           "3550302077507"
          ],
          [
           1,
           "3115806504558"
          ],
          [
           1,
           "3115806504558"
          ],
          [
           2,
           "3549902748029"
          ],
          [
           1,
           "3529403424847"
          ],
          [
           1,
           "2512302682656"
          ],
          [
           4,
           "3304552269988"
          ],
          [
           1,
           "3302202278987"
          ],
          [
           1,
           "3509502078465"
          ],
          [
           1,
           "3550303322637"
          ],
          [
           1,
           "3530502705222"
          ],
          [
           1,
           "5102792471191"
          ],
          [
           1,
           "4317952244381"
          ],
          [
           1,
           "2602900024244"
          ],
          [
           3,
           "2104622460564"
          ],
          [
           4,
           "1200452002558"
          ],
          [
           1,
           "4215402302667"
          ],
          [
           1,
           "1500402331861"
          ],
          [
           2,
           "4305102223562"
          ],
          [
           2,
           "3552202078813"
          ],
          [
           1,
           "2806202421798"
          ],
          [
           1,
           "2806202421828"
          ],
          [
           2,
           "2806202421860"
          ],
          [
           1,
           "2504002363070"
          ],
          [
           1,
           "2504002363070"
          ],
          [
           1,
           "5218802340682"
          ],
          [
           1,
           "2513702757915"
          ],
          [
           1,
           "3170102206595"
          ],
          [
           1,
           "3144306447260"
          ],
          [
           2,
           "1101454003160"
          ],
          [
           1,
           "4204102553163"
          ],
          [
           1,
           "4204102553163"
          ],
          [
           1,
           "2927400004081"
          ],
          [
           2,
           "3200202447886"
          ],
          [
           1,
           "3524102751704"
          ],
          [
           2,
           "3304553187799"
          ],
          [
           1,
           "4117602738287"
          ],
          [
           1,
           "4107502735962"
          ],
          [
           1,
           "2513702357429"
          ],
          [
           2,
           "1506002331756"
          ],
          [
           4,
           "5300103051412"
          ],
          [
           1,
           "3171206314015"
          ],
          [
           1,
           "3119302197693"
          ],
          [
           2,
           "3119302197693"
          ],
          [
           1,
           "3125102127881"
          ],
          [
           2,
           "4204202537397"
          ],
          [
           2,
           "5211902340046"
          ],
          [
           1,
           "3541402755130"
          ],
          [
           2,
           "3106202200422"
          ],
          [
           1,
           "3507802029553"
          ],
          [
           3,
           "3132102119455"
          ],
          [
           4,
           "2920603226352"
          ],
          [
           2,
           "3550303160548"
          ],
          [
           3,
           "3145902139014"
          ],
          [
           1,
           "2211002727005"
          ],
          [
           3,
           "2211002727005"
          ],
          [
           1,
           "4307502246813"
          ],
          [
           2,
           "4307502246813"
          ],
          [
           2,
           "3505706095666"
          ],
          [
           1,
           "2506002322714"
          ],
          [
           2,
           "3529403424847"
          ],
          [
           4,
           "2924302508176"
          ],
          [
           1,
           "3548702080591"
          ],
          [
           1,
           "3518402081644"
          ],
          [
           2,
           "3518402081644"
          ],
          [
           1,
           "2927403827992"
          ],
          [
           3,
           "2110202463997"
          ],
          [
           1,
           "3554103126838"
          ],
          [
           3,
           "3304553048721"
          ],
          [
           1,
           "3516402746220"
          ],
          [
           2,
           "3554103126838"
          ],
          [
           2,
           "3554103126838"
          ],
          [
           1,
           "3516303028399"
          ],
          [
           1,
           "3516402092107"
          ],
          [
           2,
           "3554103126838"
          ],
          [
           1,
           "4115202743469"
          ],
          [
           2,
           "3143302149990"
          ],
          [
           1,
           "2604602715295"
          ],
          [
           1,
           "3509502078465"
          ],
          [
           1,
           "3536702791749"
          ],
          [
           1,
           "3518102745410"
          ],
          [
           1,
           "2310102664283"
          ],
          [
           1,
           "3143502178648"
          ],
          [
           1,
           "3300302799308"
          ],
          [
           4,
           "3300302799308"
          ],
          [
           1,
           "5107603028925"
          ],
          [
           1,
           "5107602701626"
          ],
          [
           3,
           "3554103126838"
          ],
          [
           1,
           "3110806398960"
          ],
          [
           1,
           "2403702410192"
          ],
          [
           1,
           "3204402652773"
          ],
          [
           1,
           "2611600020516"
          ],
          [
           1,
           "1501575517109"
          ],
          [
           1,
           "5209102340038"
          ],
          [
           1,
           "4314902262487"
          ],
          [
           1,
           "4108602735970"
          ],
          [
           3,
           "3548706273270"
          ],
          [
           4,
           "4313402229714"
          ],
          [
           4,
           "MA00000000000000000000000011290"
          ],
          [
           1,
           "3139602099209"
          ],
          [
           3,
           "3530602080680"
          ],
          [
           4,
           "1506002331438"
          ],
          [
           1,
           "1506002331381"
          ],
          [
           1,
           "2910502627140"
          ],
          [
           1,
           "4121102731452"
          ],
          [
           1,
           "5208702517957"
          ],
          [
           3,
           "3139402173166"
          ],
          [
           1,
           "2800202422646"
          ],
          [
           1,
           "1303402016893"
          ],
          [
           4,
           "4101902577100"
          ],
          [
           2,
           "1502102313367"
          ],
          [
           1,
           "3169402139200"
          ],
          [
           3,
           "2807302422964"
          ],
          [
           1,
           "3552202708779"
          ],
          [
           1,
           "3530602718359"
          ],
          [
           3,
           "3530602718359"
          ],
          [
           4,
           "2906503628140"
          ],
          [
           1,
           "3170102195593"
          ],
          [
           2,
           "3143902195453"
          ],
          [
           3,
           "3106202200457"
          ],
          [
           1,
           "3304556407412"
          ],
          [
           3,
           "3170202152118"
          ],
          [
           1,
           "3170202152118"
          ],
          [
           1,
           "3170206235212"
          ],
          [
           1,
           "2919553319717"
          ],
          [
           1,
           "3513802035529"
          ],
          [
           1,
           "1505535408032"
          ],
          [
           1,
           "3106207039212"
          ],
          [
           1,
           "3200302402866"
          ],
          [
           1,
           "2113002530473"
          ],
          [
           1,
           "3304556407412"
          ],
          [
           1,
           "1506002331411"
          ],
          [
           1,
           "5211507005660"
          ],
          [
           3,
           "3302102295016"
          ],
          [
           3,
           "1504452622475"
          ],
          [
           1,
           "3106203702693"
          ],
          [
           1,
           "3106203069575"
          ],
          [
           1,
           "3106203069575"
          ],
          [
           2,
           "2807302422972"
          ],
          [
           1,
           "2304402529467"
          ],
          [
           1,
           "5300106786316"
          ],
          [
           1,
           "3303306827128"
          ],
          [
           1,
           "3551606786170"
          ],
          [
           1,
           "3551606818129"
          ],
          [
           1,
           "4315006808654"
          ],
          [
           1,
           "3524406843727"
          ],
          [
           1,
           "3509507295324"
          ],
          [
           4,
           "3550303764206"
          ],
          [
           1,
           "2105477387539"
          ],
          [
           1,
           "2304402644967"
          ],
          [
           1,
           "2313002328119"
          ],
          [
           1,
           "2104802462753"
          ],
          [
           4,
           "5300103431398"
          ],
          [
           4,
           "3512803436195"
          ],
          [
           3,
           "1501572678624"
          ],
          [
           1,
           "3106306196969"
          ],
          [
           1,
           "1504422316498"
          ],
          [
           1,
           "1504422619717"
          ],
          [
           1,
           "3157002204649"
          ],
          [
           1,
           "2104302463806"
          ],
          [
           2,
           "2104302463806"
          ],
          [
           1,
           "2903908015783"
          ],
          [
           2,
           "2903908015783"
          ],
          [
           1,
           "3118802205904"
          ],
          [
           1,
           "4304635695996"
          ],
          [
           1,
           "2703306442730"
          ],
          [
           1,
           "2113003541290"
          ],
          [
           2,
           "1508402318970"
          ],
          [
           1,
           "3552403393739"
          ],
          [
           2,
           "2101802646587"
          ],
          [
           1,
           "1506002331373"
          ],
          [
           1,
           "1506002331624"
          ],
          [
           1,
           "4322502241048"
          ],
          [
           3,
           "2304403242587"
          ],
          [
           3,
           "3547803528596"
          ],
          [
           1,
           "3550603539113"
          ],
          [
           2,
           "1502152677563"
          ],
          [
           2,
           "1508402318962"
          ],
          [
           1,
           "4102503587010"
          ],
          [
           1,
           "4217905266599"
          ],
          [
           1,
           "3514005341310"
          ],
          [
           1,
           "3510605437288"
          ],
          [
           1,
           "1505535988101"
          ],
          [
           1,
           "2910725523877"
          ],
          [
           1,
           "2927400004057"
          ],
          [
           1,
           "5201402589672"
          ],
          [
           1,
           "4310205611075"
          ],
          [
           1,
           "3546005677475"
          ],
          [
           2,
           "3552203020762"
          ],
          [
           1,
           "3548802037726"
          ],
          [
           3,
           "3304552273276"
          ],
          [
           1,
           "3550309121293"
          ],
          [
           1,
           "4115202587165"
          ],
          [
           1,
           "3511902080982"
          ],
          [
           2,
           "2304402785900"
          ],
          [
           1,
           "3550309369120"
          ],
          [
           1,
           "3551607216904"
          ],
          [
           1,
           "3551607228864"
          ],
          [
           1,
           "3304559616039"
          ],
          [
           1,
           "2903907232519"
          ],
          [
           1,
           "3550309369120"
          ],
          [
           1,
           "3546007239556"
          ],
          [
           1,
           "3304557252676"
          ],
          [
           1,
           "2706707248954"
          ],
          [
           1,
           "4115202587165"
          ],
          [
           1,
           "3509509757821"
          ],
          [
           1,
           "3551607108427"
          ],
          [
           1,
           "3551607317670"
          ],
          [
           2,
           "3550307223889"
          ],
          [
           1,
           "3304553095142"
          ],
          [
           1,
           "3200407299168"
          ],
          [
           1,
           "3148607313012"
          ],
          [
           1,
           "4211707329814"
          ],
          [
           1,
           "3511407321511"
          ],
          [
           1,
           "3151107309511"
          ],
          [
           1,
           "3302205926890"
          ],
          [
           1,
           "1501405996457"
          ],
          [
           1,
           "2704406224067"
          ],
          [
           1,
           "3540806049419"
          ],
          [
           1,
           "3107105687500"
          ],
          [
           1,
           "3552406130178"
          ],
          [
           1,
           "3171206121357"
          ],
          [
           1,
           "2312305939607"
          ],
          [
           1,
           "3101605980763"
          ],
          [
           1,
           "3171206035663"
          ],
          [
           1,
           "3171206035752"
          ],
          [
           1,
           "1505636031447"
          ],
          [
           1,
           "3551006050018"
          ],
          [
           1,
           "3101606068863"
          ],
          [
           3,
           "5300106065880"
          ],
          [
           1,
           "3305206120423"
          ],
          [
           1,
           "3552206160263"
          ],
          [
           1,
           "3148606160409"
          ],
          [
           1,
           "2109106170412"
          ],
          [
           1,
           "2504006212085"
          ],
          [
           1,
           "2705906153720"
          ],
          [
           1,
           "3300106274056"
          ],
          [
           4,
           "ES0000320200000031721921000177"
          ],
          [
           3,
           "4309002260069"
          ],
          [
           1,
           "3506502082160"
          ],
          [
           1,
           "3505502092611"
          ],
          [
           2,
           "3157802164299"
          ],
          [
           1,
           "4208202522691"
          ],
          [
           1,
           "1506002331446"
          ],
          [
           1,
           "4204302303892"
          ],
          [
           2,
           "3170702761041"
          ],
          [
           1,
           "2513702357534"
          ],
          [
           1,
           "2927400004286"
          ],
          [
           1,
           "3509502082128"
          ],
          [
           2,
           "3509502022621"
          ],
          [
           1,
           "3550302077620"
          ],
          [
           2,
           "3525902033445"
          ],
          [
           1,
           "2409202375036"
          ],
          [
           1,
           "2409202375036"
          ],
          [
           1,
           "2409702473968"
          ],
          [
           3,
           "3550303234096"
          ],
          [
           1,
           "3550303779270"
          ],
          [
           1,
           "1501405332419"
          ],
          [
           1,
           "1501405332419"
          ],
          [
           3,
           "3550302032481"
          ],
          [
           1,
           "1505535601266"
          ],
          [
           2,
           "4106903000885"
          ],
          [
           1,
           "4106903134601"
          ],
          [
           2,
           "1503802312115"
          ],
          [
           1,
           "1505802676923"
          ],
          [
           2,
           "1506202676435"
          ],
          [
           1,
           "3552202079321"
          ],
          [
           1,
           "3552202083167"
          ],
          [
           1,
           "5300105703999"
          ],
          [
           1,
           "3552205125235"
          ],
          [
           1,
           "3508705757177"
          ],
          [
           1,
           "3500405792614"
          ],
          [
           1,
           "4202905872189"
          ],
          [
           1,
           "3146305866146"
          ],
          [
           1,
           "1502902311992"
          ],
          [
           1,
           "3118605352517"
          ],
          [
           1,
           "3524405345073"
          ],
          [
           1,
           "4214805383234"
          ],
          [
           1,
           "1502155864453"
          ],
          [
           1,
           "1301905434637"
          ],
          [
           1,
           "3161105501180"
          ],
          [
           1,
           "3130905628164"
          ],
          [
           3,
           "3552202708566"
          ],
          [
           1,
           "2701005702895"
          ],
          [
           1,
           "3552202084465"
          ],
          [
           1,
           "2301305776120"
          ],
          [
           1,
           "2307305841216"
          ],
          [
           1,
           "3536405854547"
          ],
          [
           1,
           "3551606250572"
          ],
          [
           1,
           "4103056272096"
          ],
          [
           2,
           "4103056272096"
          ],
          [
           1,
           "4305586275443"
          ],
          [
           1,
           "3106306304907"
          ],
          [
           1,
           "3168606321925"
          ],
          [
           1,
           "2914806211402"
          ],
          [
           1,
           "4318306274404"
          ],
          [
           1,
           "4119506303161"
          ],
          [
           1,
           "2909806312101"
          ],
          [
           1,
           "4322546350992"
          ],
          [
           1,
           "4219706367461"
          ],
          [
           1,
           "3161906390285"
          ],
          [
           1,
           "2312906456480"
          ],
          [
           1,
           "4209106496393"
          ],
          [
           1,
           "3110806512860"
          ],
          [
           1,
           "4209106522149"
          ],
          [
           1,
           "3506806549810"
          ],
          [
           3,
           "2927402802082"
          ],
          [
           1,
           "3117506639089"
          ],
          [
           1,
           "4318306644325"
          ],
          [
           1,
           "1506006652808"
          ],
          [
           1,
           "3135106672353"
          ],
          [
           1,
           "3144306664504"
          ],
          [
           1,
           "3519056567924"
          ],
          [
           1,
           "3171206507212"
          ],
          [
           1,
           "3514906604463"
          ],
          [
           1,
           "3150576598617"
          ],
          [
           1,
           "3168606616445"
          ],
          [
           1,
           "3304559264825"
          ],
          [
           2,
           "3548702083248"
          ],
          [
           2,
           "3523102078562"
          ],
          [
           1,
           "2516806714048"
          ],
          [
           2,
           "4217206683134"
          ],
          [
           1,
           "3127706725473"
          ],
          [
           2,
           "3550305718368"
          ],
          [
           1,
           "3151106731422"
          ],
          [
           1,
           "2928702520303"
          ],
          [
           3,
           "3550305718368"
          ],
          [
           2,
           "3509509650466"
          ],
          [
           1,
           "3540803611957"
          ],
          [
           1,
           "3507503678008"
          ],
          [
           1,
           "2208403721973"
          ],
          [
           4,
           "2910803749681"
          ],
          [
           4,
           "2900103780376"
          ],
          [
           1,
           "3553703770559"
          ],
          [
           1,
           "2103603777510"
          ],
          [
           4,
           "2906503790703"
          ],
          [
           2,
           "1508402672111"
          ],
          [
           1,
           "2928506433529"
          ],
          [
           1,
           "5003702371375"
          ],
          [
           1,
           "1100043651665"
          ],
          [
           3,
           "1100043651665"
          ],
          [
           4,
           "3550402078651"
          ],
          [
           1,
           "3522403680215"
          ],
          [
           1,
           "3553703699323"
          ],
          [
           1,
           "3553703699420"
          ],
          [
           1,
           "3553703699528"
          ],
          [
           1,
           "3553703702049"
          ],
          [
           4,
           "2922903720055"
          ],
          [
           1,
           "3524103708845"
          ],
          [
           1,
           "3524103708888"
          ],
          [
           4,
           "2923033768368"
          ],
          [
           4,
           "2924303769844"
          ],
          [
           2,
           "3305102283980"
          ],
          [
           4,
           "2908603770141"
          ],
          [
           4,
           "2918503780147"
          ],
          [
           1,
           "4215205886155"
          ],
          [
           1,
           "2920456422780"
          ],
          [
           1,
           "5300105128641"
          ],
          [
           1,
           "2806305091217"
          ],
          [
           1,
           "3528405115914"
          ],
          [
           1,
           "3550405182336"
          ],
          [
           1,
           "2906002799839"
          ],
          [
           2,
           "3534405101654"
          ],
          [
           1,
           "4206105140099"
          ],
          [
           1,
           "2310706413641"
          ],
          [
           1,
           "4117052741970"
          ],
          [
           1,
           "3550405219892"
          ],
          [
           1,
           "4102405207266"
          ],
          [
           1,
           "1100505184843"
          ],
          [
           1,
           "3515505212030"
          ],
          [
           1,
           "1721002492768"
          ],
          [
           1,
           "5103402495015"
          ],
          [
           3,
           "5103402495015"
          ],
          [
           1,
           "4202802385341"
          ],
          [
           1,
           "4215402651874"
          ],
          [
           1,
           "4308602257645"
          ],
          [
           1,
           "3143102195925"
          ],
          [
           3,
           "3143904042085"
          ],
          [
           1,
           "4118802733625"
          ],
          [
           1,
           "5103452795590"
          ],
          [
           1,
           "2806202421801"
          ],
          [
           1,
           "2806202421836"
          ],
          [
           1,
           "2806202421852"
          ],
          [
           1,
           "2806202421879"
          ],
          [
           1,
           "5208702338165"
          ],
          [
           1,
           "5300103343480"
          ],
          [
           1,
           "4119902686953"
          ],
          [
           1,
           "5107602396866"
          ],
          [
           1,
           "2509802592401"
          ],
          [
           1,
           "3106203046028"
          ],
          [
           1,
           "4207302385880"
          ],
          [
           1,
           "3106306333923"
          ],
          [
           3,
           "3202103145190"
          ],
          [
           2,
           "2408103649563"
          ],
          [
           1,
           "3524103668312"
          ],
          [
           1,
           "3524103678504"
          ],
          [
           1,
           "3524103678520"
          ],
          [
           1,
           "3524103678601"
          ],
          [
           1,
           "3524103683710"
          ],
          [
           2,
           "5208702338416"
          ],
          [
           1,
           "2906872387727"
          ],
          [
           2,
           "3106202695375"
          ],
          [
           1,
           "5208702338106"
          ],
          [
           3,
           "2903904022718"
          ],
          [
           1,
           "3509502072831"
          ],
          [
           1,
           "3509502072831"
          ],
          [
           1,
           "4201502550938"
          ],
          [
           1,
           "3147302127695"
          ],
          [
           1,
           "2111302308665"
          ],
          [
           1,
           "2508802362058"
          ],
          [
           1,
           "4106602783428"
          ],
          [
           3,
           "4106900015318"
          ],
          [
           1,
           "3506806352863"
          ],
          [
           1,
           "2800202422670"
          ],
          [
           3,
           "2800202422697"
          ],
          [
           3,
           "2800203049833"
          ],
          [
           1,
           "4115602587912"
          ],
          [
           1,
           "3139402785676"
          ],
          [
           1,
           "2913702653230"
          ],
          [
           1,
           "2913702653230"
          ],
          [
           1,
           "4323802224356"
          ],
          [
           1,
           "3516702086263"
          ],
          [
           1,
           "3516702078023"
          ],
          [
           1,
           "2508552591693"
          ],
          [
           1,
           "3168602184834"
          ],
          [
           3,
           "3168602184834"
          ],
          [
           1,
           "5211902535556"
          ],
          [
           1,
           "1721002755157"
          ],
          [
           1,
           "3202552447479"
          ],
          [
           1,
           "2922002498413"
          ],
          [
           1,
           "2910503273148"
          ],
          [
           1,
           "3170402184788"
          ],
          [
           1,
           "2919206396763"
          ],
          [
           1,
           "2509702336812"
          ],
          [
           1,
           "1503702614189"
          ],
          [
           1,
           "1100132808617"
          ],
          [
           1,
           "5102502395290"
          ],
          [
           1,
           "5107902534231"
          ],
          [
           1,
           "5107902534231"
          ],
          [
           1,
           "3550306479200"
          ],
          [
           1,
           "2909802390043"
          ],
          [
           2,
           "3170203752178"
          ],
          [
           1,
           "3171302099454"
          ],
          [
           2,
           "3550303027600"
          ],
          [
           2,
           "1600302020890"
          ],
          [
           3,
           "3525902078767"
          ],
          [
           1,
           "4314903567664"
          ],
          [
           1,
           "3106205946824"
          ],
          [
           1,
           "4209852691876"
          ],
          [
           1,
           "2903102602628"
          ],
          [
           1,
           "5107602396807"
          ],
          [
           1,
           "3540202083493"
          ],
          [
           1,
           "2503202342235"
          ],
          [
           1,
           "3106206492495"
          ],
          [
           1,
           "3106207491662"
          ],
          [
           1,
           "3303405915937"
          ],
          [
           2,
           "3550307526512"
          ],
          [
           3,
           "3550307552904"
          ],
          [
           1,
           "3171206035671"
          ],
          [
           1,
           "3171206035728"
          ],
          [
           1,
           "3171206035744"
          ],
          [
           1,
           "3550307552904"
          ],
          [
           1,
           "3171206065589"
          ],
          [
           1,
           "3171206087663"
          ],
          [
           1,
           "4216206186742"
          ],
          [
           4,
           "1503075925606"
          ],
          [
           1,
           "2704406224059"
          ],
          [
           1,
           "1501405996384"
          ],
          [
           1,
           "1505536023827"
          ],
          [
           1,
           "1505536023827"
          ],
          [
           2,
           "3517606042473"
          ],
          [
           1,
           "3552206125646"
          ],
          [
           1,
           "3547606201776"
          ],
          [
           2,
           "1508403886344"
          ],
          [
           1,
           "2913904026497"
          ],
          [
           1,
           "2903902603233"
          ],
          [
           1,
           "2307303963926"
          ],
          [
           1,
           "5300105008980"
          ],
          [
           1,
           "2104305027837"
          ],
          [
           1,
           "2903905024773"
          ],
          [
           3,
           "2915305063302"
          ],
          [
           1,
           "3546005101387"
          ],
          [
           3,
           "2928203855821"
          ],
          [
           1,
           "5107603893596"
          ],
          [
           1,
           "1508403944093"
          ],
          [
           1,
           "4103003951731"
          ],
          [
           1,
           "5300103955621"
          ],
          [
           3,
           "5300103955621"
          ],
          [
           1,
           "2703903954005"
          ],
          [
           1,
           "3130903974073"
          ],
          [
           1,
           "4122103980766"
          ],
          [
           1,
           "2919205080916"
          ],
          [
           1,
           "5300105078962"
          ],
          [
           1,
           "3519602082640"
          ],
          [
           1,
           "4115602587890"
          ],
          [
           1,
           "4207602691507"
          ],
          [
           1,
           "1200332002272"
          ],
          [
           1,
           "3123102169878"
          ],
          [
           1,
           "3304552273403"
          ],
          [
           2,
           "3518802081628"
          ],
          [
           1,
           "1507972331772"
          ],
          [
           2,
           "1500102318660"
          ],
          [
           1,
           "1506002331764"
          ],
          [
           1,
           "1506002331349"
          ],
          [
           1,
           "2104809217932"
          ],
          [
           1,
           "1501402332639"
          ],
          [
           3,
           "1501402332809"
          ],
          [
           1,
           "3549900009628"
          ],
          [
           1,
           "3139402785692"
          ],
          [
           1,
           "3157202144638"
          ],
          [
           1,
           "3505902082853"
          ],
          [
           3,
           "1507972331799"
          ],
          [
           1,
           "3106200026859"
          ],
          [
           2,
           "2927405407591"
          ],
          [
           1,
           "3304557859341"
          ],
          [
           1,
           "5107602396793"
          ],
          [
           1,
           "4115205704332"
          ],
          [
           1,
           "3304559139923"
          ],
          [
           1,
           "4210502538180"
          ],
          [
           4,
           "3303802696592"
          ],
          [
           1,
           "2910502627132"
          ],
          [
           1,
           "2910502627159"
          ],
          [
           1,
           "2910502620502"
          ],
          [
           1,
           "2910502627124"
          ],
          [
           3,
           "3136703019063"
          ],
          [
           1,
           "2504002315793"
          ],
          [
           1,
           "2504002315793"
          ],
          [
           1,
           "3170102164825"
          ],
          [
           1,
           "3170102165058"
          ],
          [
           1,
           "4318302247763"
          ],
          [
           1,
           "2910502627108"
          ],
          [
           1,
           "2910502627116"
          ],
          [
           1,
           "2910502620472"
          ],
          [
           1,
           "2910502620480"
          ],
          [
           1,
           "2914404026772"
          ],
          [
           1,
           "5107742311496"
          ],
          [
           1,
           "2611600000582"
          ],
          [
           2,
           "3143902162377"
          ],
          [
           1,
           "3523402023709"
          ],
          [
           1,
           "4122502734885"
          ],
          [
           1,
           "1708203341887"
          ],
          [
           1,
           "3509502084252"
          ],
          [
           1,
           "1702102600536"
          ],
          [
           1,
           "2708602010151"
          ],
          [
           1,
           "3552502048299"
          ],
          [
           3,
           "3552502048299"
          ],
          [
           3,
           "4205502302330"
          ],
          [
           1,
           "2516302322536"
          ],
          [
           1,
           "1502102418665"
          ],
          [
           1,
           "3517806357555"
          ],
          [
           1,
           "4112952733501"
          ],
          [
           1,
           "4119902686791"
          ],
          [
           3,
           "4103702729539"
          ],
          [
           1,
           "2906503504808"
          ],
          [
           4,
           "4211102663422"
          ],
          [
           3,
           "1702102755165"
          ],
          [
           1,
           "4202902537141"
          ],
          [
           1,
           "1709502786109"
          ],
          [
           1,
           "2605452429594"
          ],
          [
           1,
           "3552402076365"
          ],
          [
           1,
           "1505532615754"
          ],
          [
           1,
           "5218802340704"
          ],
          [
           2,
           "5218802340704"
          ],
          [
           1,
           "3129402136139"
          ],
          [
           4,
           "1506002331322"
          ],
          [
           1,
           "2910502627167"
          ],
          [
           1,
           "3122302159252"
          ],
          [
           1,
           "2411704014219"
          ],
          [
           3,
           "4305103356868"
          ],
          [
           3,
           "5300102811219"
          ],
          [
           1,
           "2611600001120"
          ],
          [
           1,
           "3171802144557"
          ],
          [
           1,
           "4215802521776"
          ],
          [
           2,
           "1501407871902"
          ],
          [
           1,
           "3106206492487"
          ],
          [
           1,
           "3550302088517"
          ],
          [
           1,
           "3531002093472"
          ],
          [
           1,
           "5104802397269"
          ],
          [
           3,
           "5104802397269"
          ],
          [
           1,
           "3106207265840"
          ],
          [
           1,
           "3115806379826"
          ],
          [
           1,
           "3107802760738"
          ],
          [
           1,
           "2507502399555"
          ],
          [
           3,
           "4322602236370"
          ],
          [
           1,
           "2508802321343"
          ],
          [
           1,
           "4106900015334"
          ],
          [
           1,
           "2513202341859"
          ],
          [
           1,
           "2513202341859"
          ],
          [
           1,
           "2800202422778"
          ],
          [
           2,
           "2307652372150"
          ],
          [
           1,
           "1501402332914"
          ],
          [
           1,
           "3541004049349"
          ],
          [
           1,
           "4219302302500"
          ],
          [
           3,
           "4219302302500"
          ],
          [
           1,
           "4104802738554"
          ],
          [
           1,
           "5215002569973"
          ],
          [
           1,
           "5215002569973"
          ],
          [
           2,
           "4315202252171"
          ],
          [
           2,
           "3526402079976"
          ],
          [
           1,
           "2504002362821"
          ],
          [
           1,
           "3129502181029"
          ],
          [
           1,
           "3162942147106"
          ],
          [
           3,
           "2929602523051"
          ],
          [
           1,
           "2111302456915"
          ],
          [
           1,
           "2111302457962"
          ],
          [
           1,
           "2507502399113"
          ],
          [
           1,
           "2113003573796"
          ],
          [
           1,
           "4205302652099"
          ],
          [
           2,
           "3203202465833"
          ],
          [
           1,
           "3132802169541"
          ],
          [
           1,
           "3552402027887"
          ],
          [
           3,
           "4216602302969"
          ],
          [
           1,
           "2805402420120"
          ],
          [
           1,
           "2805402420147"
          ],
          [
           4,
           "2916853661245"
          ],
          [
           1,
           "2611105653118"
          ],
          [
           1,
           "3506002790602"
          ],
          [
           3,
           "2928205416744"
          ],
          [
           2,
           "5214002535165"
          ],
          [
           1,
           "3110602128012"
          ],
          [
           1,
           "3165002123711"
          ],
          [
           1,
           "3513702081717"
          ],
          [
           1,
           "4106900015644"
          ],
          [
           1,
           "4106900015644"
          ],
          [
           1,
           "4120806331777"
          ],
          [
           1,
           "3205032547201"
          ],
          [
           1,
           "4209002560771"
          ],
          [
           1,
           "2928702799286"
          ],
          [
           2,
           "2704302007037"
          ],
          [
           1,
           "3300502282801"
          ],
          [
           3,
           "3300502282801"
          ],
          [
           1,
           "3550302752077"
          ],
          [
           1,
           "3550306729150"
          ],
          [
           1,
           "3550306866913"
          ],
          [
           2,
           "3550309369139"
          ],
          [
           1,
           "3550309369139"
          ],
          [
           1,
           "3304552270471"
          ],
          [
           1,
           "3204052678233"
          ],
          [
           2,
           "3509507312547"
          ],
          [
           1,
           "3522303987957"
          ],
          [
           1,
           "3109102128020"
          ],
          [
           1,
           "3150803985598"
          ],
          [
           1,
           "3549102812665"
          ],
          [
           1,
           "2910503998894"
          ],
          [
           1,
           "1501405036569"
          ],
          [
           1,
           "4102505081378"
          ],
          [
           1,
           "1501405083060"
          ],
          [
           1,
           "3205175125502"
          ],
          [
           1,
           "2910502620464"
          ],
          [
           1,
           "2925305138841"
          ],
          [
           1,
           "1100505184886"
          ],
          [
           1,
           "2104305027810"
          ],
          [
           1,
           "3106305061679"
          ],
          [
           1,
           "5300105084911"
          ],
          [
           1,
           "1506605058198"
          ],
          [
           2,
           "1506605058198"
          ],
          [
           1,
           "2903905110009"
          ],
          [
           1,
           "3528405111463"
          ],
          [
           1,
           "4310105176409"
          ],
          [
           1,
           "4217905218810"
          ],
          [
           1,
           "4314055258251"
          ],
          [
           1,
           "4318505257247"
          ],
          [
           1,
           "3520007049196"
          ],
          [
           1,
           "3301707067259"
          ],
          [
           1,
           "2928207078781"
          ],
          [
           2,
           "2928207078781"
          ],
          [
           1,
           "2604107074824"
          ],
          [
           1,
           "2604107074824"
          ],
          [
           1,
           "4209307116519"
          ],
          [
           1,
           "3507507128916"
          ],
          [
           1,
           "3551607161670"
          ],
          [
           1,
           "3553703699366"
          ],
          [
           1,
           "3553703699471"
          ],
          [
           4,
           "2926003720039"
          ],
          [
           4,
           "2922903720063"
          ],
          [
           3,
           "3105603698548"
          ],
          [
           1,
           "3524103708780"
          ],
          [
           1,
           "3524103708853"
          ],
          [
           1,
           "3553703737985"
          ],
          [
           1,
           "2805503675319"
          ],
          [
           4,
           "2924303769836"
          ],
          [
           4,
           "2901603780392"
          ],
          [
           4,
           "2918503780155"
          ],
          [
           4,
           "3526903046451"
          ],
          [
           1,
           "2103403846407"
          ],
          [
           3,
           "1508403835987"
          ],
          [
           3,
           "1508402621606"
          ],
          [
           1,
           "2903903893170"
          ],
          [
           1,
           "3106306301355"
          ],
          [
           1,
           "5300103938069"
          ],
          [
           1,
           "2705703905578"
          ],
          [
           1,
           "3510605525195"
          ],
          [
           1,
           "3202406365965"
          ],
          [
           1,
           "2111307495579"
          ],
          [
           1,
           "2111307509839"
          ],
          [
           1,
           "5300102815966"
          ],
          [
           2,
           "5300103055450"
          ],
          [
           2,
           "4309702265893"
          ],
          [
           3,
           "5300103030121"
          ],
          [
           1,
           "3306306635148"
          ],
          [
           1,
           "2515706967450"
          ],
          [
           1,
           "3106206636632"
          ],
          [
           2,
           "3304557954549"
          ],
          [
           1,
           "3509509860177"
          ],
          [
           1,
           "3301702277360"
          ],
          [
           1,
           "3106207684878"
          ],
          [
           1,
           "3205202494442"
          ],
          [
           2,
           "3550302080168"
          ],
          [
           1,
           "3106205973821"
          ],
          [
           3,
           "3143302149990"
          ],
          [
           1,
           "3106200027901"
          ],
          [
           1,
           "3550306317480"
          ],
          [
           3,
           "3550307033486"
          ],
          [
           1,
           "3550307033486"
          ],
          [
           3,
           "3550307042345"
          ],
          [
           1,
           "3550307042345"
          ],
          [
           3,
           "3550307095031"
          ],
          [
           1,
           "3550307095031"
          ],
          [
           3,
           "3550307557353"
          ],
          [
           1,
           "3550307557353"
          ],
          [
           1,
           "3550307830297"
          ],
          [
           1,
           "4106505729106"
          ],
          [
           1,
           "3118606151167"
          ],
          [
           3,
           "5100252471345"
          ],
          [
           1,
           "3524806365213"
          ],
          [
           1,
           "4120805849713"
          ],
          [
           1,
           "1302602017245"
          ],
          [
           2,
           "1302602017245"
          ],
          [
           1,
           "3550302688603"
          ],
          [
           1,
           "3506005336465"
          ],
          [
           1,
           "3106209985379"
          ],
          [
           1,
           "1501405326605"
          ],
          [
           1,
           "1501405332427"
          ],
          [
           1,
           "1501405332427"
          ],
          [
           1,
           "4215205373654"
          ],
          [
           1,
           "2925302800047"
          ],
          [
           2,
           "3550306891411"
          ],
          [
           1,
           "4201505546796"
          ],
          [
           1,
           "3144305905176"
          ],
          [
           1,
           "2111302464276"
          ],
          [
           1,
           "1505535586720"
          ],
          [
           1,
           "2600055563720"
          ],
          [
           1,
           "3303205604338"
          ],
          [
           3,
           "1302602017245"
          ],
          [
           1,
           "5107705610087"
          ],
          [
           1,
           "1302602017245"
          ],
          [
           2,
           "2312905691389"
          ],
          [
           1,
           "4100205687691"
          ],
          [
           3,
           "3306305739993"
          ],
          [
           1,
           "3500405734282"
          ],
          [
           1,
           "4106605856981"
          ],
          [
           1,
           "1502155921503"
          ],
          [
           1,
           "4310206659551"
          ],
          [
           2,
           "4217206683134"
          ],
          [
           1,
           "2312906701582"
          ],
          [
           1,
           "1100806843115"
          ],
          [
           3,
           "3548703024660"
          ],
          [
           1,
           "3552206806899"
          ],
          [
           1,
           "3551606808697"
          ],
          [
           1,
           "5300106866131"
          ],
          [
           1,
           "2307307436300"
          ],
          [
           1,
           "2307307468172"
          ],
          [
           1,
           "2307307497075"
          ],
          [
           1,
           "3157807541988"
          ],
          [
           2,
           "3303307920911"
          ],
          [
           1,
           "3304553034984"
          ],
          [
           2,
           "3303303594432"
          ],
          [
           1,
           "2307307670710"
          ],
          [
           2,
           "3550305420938"
          ],
          [
           1,
           "2807207408668"
          ],
          [
           1,
           "2307307462956"
          ],
          [
           1,
           "2111307542186"
          ],
          [
           1,
           "2307307689934"
          ],
          [
           3,
           "3106209642706"
          ],
          [
           2,
           "3106202695596"
          ],
          [
           1,
           "2307307575459"
          ],
          [
           1,
           "2307307645902"
          ],
          [
           1,
           "3548706333265"
          ],
          [
           1,
           "1500807447949"
          ],
          [
           1,
           "2111307453582"
          ],
          [
           1,
           "2111307455976"
          ],
          [
           1,
           "2111307458851"
          ],
          [
           1,
           "2307307470827"
          ],
          [
           1,
           "2307307471203"
          ],
          [
           1,
           "2111307476795"
          ],
          [
           1,
           "2111307477732"
          ],
          [
           2,
           "2611603828778"
          ],
          [
           3,
           "3526902825309"
          ],
          [
           2,
           "3550302082535"
          ],
          [
           3,
           "3550302091410"
          ],
          [
           1,
           "2111307533349"
          ],
          [
           1,
           "2111307533381"
          ],
          [
           1,
           "2111307533578"
          ],
          [
           1,
           "2111307533675"
          ],
          [
           1,
           "2111307534337"
          ],
          [
           1,
           "2111307536399"
          ],
          [
           1,
           "2111307538995"
          ],
          [
           1,
           "2111307541899"
          ],
          [
           1,
           "2111307542607"
          ],
          [
           1,
           "2111307545568"
          ],
          [
           1,
           "2111307551436"
          ],
          [
           1,
           "2307307629141"
          ],
          [
           1,
           "3550306317502"
          ],
          [
           1,
           "1302602017776"
          ],
          [
           1,
           "2307306800815"
          ],
          [
           1,
           "2307307808542"
          ],
          [
           1,
           "1501402332981"
          ],
          [
           4,
           "5103202392410"
          ],
          [
           1,
           "2927400005118"
          ],
          [
           3,
           "3552802079828"
          ],
          [
           2,
           "2927400005118"
          ],
          [
           3,
           "2927400005118"
          ],
          [
           3,
           "3550307079060"
          ],
          [
           1,
           "3550307079060"
          ],
          [
           1,
           "3303902268671"
          ],
          [
           1,
           "4305102223570"
          ],
          [
           1,
           "3106200035009"
          ],
          [
           2,
           "3548702081539"
          ],
          [
           2,
           "3549802097613"
          ],
          [
           1,
           "3170206235247"
          ],
          [
           1,
           "3550302048108"
          ],
          [
           3,
           "4314903007847"
          ],
          [
           1,
           "2111302455765"
          ],
          [
           1,
           "2111307624085"
          ],
          [
           2,
           "3550302078589"
          ],
          [
           1,
           "3508207351569"
          ],
          [
           1,
           "4300802238667"
          ],
          [
           1,
           "2111307553943"
          ],
          [
           1,
           "2307307604602"
          ],
          [
           1,
           "4110702517566"
          ],
          [
           1,
           "2307307671210"
          ],
          [
           1,
           "2307307734239"
          ],
          [
           1,
           "2307307800274"
          ],
          [
           1,
           "4113702578247"
          ],
          [
           1,
           "5217109322434"
          ],
          [
           1,
           "5300107719531"
          ],
          [
           3,
           "1500605597501"
          ],
          [
           1,
           "2111307435061"
          ],
          [
           1,
           "2111307441207"
          ],
          [
           1,
           "2111307445423"
          ],
          [
           1,
           "5300105128757"
          ],
          [
           1,
           "3170107575025"
          ],
          [
           4,
           "3170107575025"
          ],
          [
           1,
           "2307307623100"
          ],
          [
           1,
           "2307307624646"
          ],
          [
           1,
           "3538806596150"
          ],
          [
           1,
           "3301707517475"
          ],
          [
           1,
           "5105255688868"
          ],
          [
           1,
           "4314102246988"
          ],
          [
           1,
           "3513802059886"
          ],
          [
           3,
           "4106903063216"
          ],
          [
           2,
           "4314906709818"
          ],
          [
           2,
           "4314906709826"
          ],
          [
           2,
           "3525907477260"
          ],
          [
           1,
           "2111307599900"
          ],
          [
           1,
           "2111307613008"
          ],
          [
           3,
           "5300103211541"
          ],
          [
           3,
           "3106200027995"
          ],
          [
           1,
           "3301003132455"
          ],
          [
           1,
           "3301003132455"
          ],
          [
           2,
           "3550303157547"
          ],
          [
           1,
           "3547802080273"
          ],
          [
           3,
           "3547802080273"
          ],
          [
           3,
           "3550305255414"
          ],
          [
           1,
           "3550305255414"
          ],
          [
           2,
           "3550302077620"
          ],
          [
           1,
           "4314903006522"
          ],
          [
           1,
           "2307307519303"
          ],
          [
           1,
           "3304559104267"
          ],
          [
           1,
           "4202402558254"
          ],
          [
           2,
           "3550307686749"
          ],
          [
           3,
           "3106200027936"
          ],
          [
           1,
           "3302907426925"
          ],
          [
           2,
           "3509502078465"
          ],
          [
           2,
           "3550307134517"
          ],
          [
           1,
           "5300103224228"
          ],
          [
           2,
           "4314906314023"
          ],
          [
           1,
           "3547802084090"
          ],
          [
           1,
           "2307307557086"
          ],
          [
           1,
           "2307307844352"
          ],
          [
           1,
           "5215237839901"
          ],
          [
           3,
           "3143902195453"
          ],
          [
           1,
           "2307307724802"
          ],
          [
           1,
           "4319002240750"
          ],
          [
           3,
           "3106202695634"
          ],
          [
           1,
           "3547802789590"
          ],
          [
           3,
           "5300107978642"
          ],
          [
           1,
           "4113702577666"
          ],
          [
           1,
           "3550306317529"
          ],
          [
           3,
           "4314902262568"
          ],
          [
           2,
           "1302602019086"
          ],
          [
           1,
           "3510602792168"
          ],
          [
           1,
           "3550302058391"
          ],
          [
           1,
           "3304557834721"
          ],
          [
           1,
           "4125707953275"
          ],
          [
           4,
           "4125707953275"
          ],
          [
           1,
           "3106203526690"
          ],
          [
           1,
           "3549906988938"
          ],
          [
           1,
           "4104422742020"
          ],
          [
           1,
           "3519079178104"
          ],
          [
           1,
           "3550302089343"
          ],
          [
           1,
           "3550302091399"
          ],
          [
           1,
           "3550306311253"
          ],
          [
           2,
           "5300102649497"
          ],
          [
           1,
           "5300102649497"
          ],
          [
           3,
           "3548707752326"
          ],
          [
           1,
           "2307307758316"
          ],
          [
           1,
           "2307307828780"
          ],
          [
           1,
           "3303102276267"
          ],
          [
           3,
           "5300103055450"
          ],
          [
           2,
           "3550309392602"
          ],
          [
           3,
           "4302102241021"
          ],
          [
           1,
           "3550302080818"
          ],
          [
           3,
           "3550302080818"
          ],
          [
           1,
           "3106200027383"
          ],
          [
           1,
           "4314902237261"
          ],
          [
           3,
           "3550303187764"
          ],
          [
           1,
           "3550303187764"
          ],
          [
           2,
           "3550309369112"
          ],
          [
           1,
           "3550309369112"
          ],
          [
           1,
           "5300106012515"
          ],
          [
           1,
           "3106707727186"
          ],
          [
           3,
           "3550302077590"
          ],
          [
           1,
           "4113702577674"
          ],
          [
           1,
           "3170206235239"
          ],
          [
           1,
           "2927405407591"
          ],
          [
           1,
           "3509502078376"
          ],
          [
           1,
           "4202003718395"
          ],
          [
           1,
           "3301702277360"
          ],
          [
           1,
           "3513209513671"
          ],
          [
           2,
           "3550303204561"
          ],
          [
           2,
           "3541006323898"
          ],
          [
           2,
           "3550307526482"
          ],
          [
           1,
           "3205009966803"
          ],
          [
           1,
           "3550302082314"
          ],
          [
           3,
           "3106205092302"
          ],
          [
           3,
           "1506805585422"
          ],
          [
           3,
           "3304552271443"
          ],
          [
           1,
           "1100202552914"
          ],
          [
           3,
           "3106203143163"
          ],
          [
           1,
           "4304632707969"
          ],
          [
           3,
           "3304552271443"
          ],
          [
           3,
           "3304552271443"
          ],
          [
           3,
           "3304552271443"
          ],
          [
           3,
           "3304552271443"
          ],
          [
           1,
           "3304552271443"
          ],
          [
           1,
           "3304552271443"
          ],
          [
           1,
           "3304553061310"
          ],
          [
           3,
           "3503203625087"
          ],
          [
           3,
           "3550302089777"
          ],
          [
           3,
           "3513002792141"
          ],
          [
           1,
           "2307307840160"
          ],
          [
           1,
           "3106207762771"
          ],
          [
           3,
           "3304552269821"
          ],
          [
           3,
           "3550302080168"
          ],
          [
           1,
           "3538807072104"
          ],
          [
           1,
           "3538702087057"
          ],
          [
           2,
           "4106900015563"
          ],
          [
           3,
           "3106200026824"
          ],
          [
           1,
           "3165539448551"
          ],
          [
           2,
           "3304553148564"
          ],
          [
           1,
           "3132402127687"
          ],
          [
           3,
           "3549802091305"
          ],
          [
           2,
           "3550307526490"
          ],
          [
           1,
           "3170206235166"
          ],
          [
           3,
           "4106903000869"
          ],
          [
           1,
           "3304553134172"
          ],
          [
           3,
           "3131302205440"
          ],
          [
           3,
           "3552202082101"
          ],
          [
           1,
           "3550306614426"
          ],
          [
           1,
           "2307307793499"
          ],
          [
           1,
           "4209102521253"
          ],
          [
           2,
           "5300107157207"
          ],
          [
           1,
           "3106207146167"
          ],
          [
           1,
           "3106207349742"
          ],
          [
           1,
           "3550306614426"
          ],
          [
           1,
           "3550307014821"
          ],
          [
           1,
           "3106207166966"
          ],
          [
           1,
           "3501603038130"
          ],
          [
           1,
           "3509509677232"
          ],
          [
           1,
           "3106207054998"
          ],
          [
           1,
           "3106203485404"
          ],
          [
           1,
           "4313406090788"
          ],
          [
           1,
           "3304557859341"
          ],
          [
           3,
           "1300502012022"
          ],
          [
           1,
           "3301003132455"
          ],
          [
           1,
           "3548703367312"
          ],
          [
           1,
           "3547803165078"
          ],
          [
           1,
           "5219306665322"
          ],
          [
           1,
           "2307307728093"
          ],
          [
           1,
           "4211202419378"
          ],
          [
           1,
           "3522402027186"
          ],
          [
           1,
           "4105907906536"
          ],
          [
           1,
           "1200422000024"
          ],
          [
           2,
           "3303302288966"
          ],
          [
           2,
           "3522202792176"
          ],
          [
           1,
           "2919207006497"
          ],
          [
           1,
           "3546605967945"
          ],
          [
           1,
           "5211503292320"
          ],
          [
           1,
           "4307802252260"
          ],
          [
           1,
           "4322202241706"
          ],
          [
           1,
           "2307307847114"
          ],
          [
           1,
           "4319006523617"
          ],
          [
           3,
           "2919206440274"
          ],
          [
           1,
           "4314902237601"
          ],
          [
           1,
           "4314902237601"
          ],
          [
           1,
           "3106209417664"
          ],
          [
           3,
           "3168702140217"
          ],
          [
           1,
           "3550302079127"
          ],
          [
           3,
           "3106200027685"
          ],
          [
           1,
           "5217709196307"
          ],
          [
           1,
           "3530602084236"
          ],
          [
           1,
           "2111302308355"
          ],
          [
           1,
           "3106203314014"
          ],
          [
           1,
           "3106203127230"
          ],
          [
           1,
           "3106203526690"
          ],
          [
           1,
           "3106205672015"
          ],
          [
           1,
           "5209107541309"
          ],
          [
           1,
           "3106205953448"
          ],
          [
           1,
           "3106206492509"
          ],
          [
           3,
           "3106209326332"
          ],
          [
           1,
           "3106209326332"
          ],
          [
           1,
           "1721002786117"
          ],
          [
           1,
           "4106905310350"
          ],
          [
           2,
           "3127702118858"
          ],
          [
           3,
           "3106203557146"
          ],
          [
           1,
           "5213806632467"
          ],
          [
           3,
           "3106202216256"
          ],
          [
           1,
           "3302405412447"
          ],
          [
           1,
           "4314902237601"
          ],
          [
           2,
           "4314902237601"
          ],
          [
           1,
           "3106205670098"
          ],
          [
           1,
           "3548706938876"
          ],
          [
           1,
           "3550303143953"
          ],
          [
           2,
           "3552209491112"
          ],
          [
           1,
           "3550302079186"
          ],
          [
           1,
           "3106205466989"
          ],
          [
           1,
           "5103409016856"
          ],
          [
           2,
           "3513803195066"
          ],
          [
           1,
           "3303902268671"
          ],
          [
           1,
           "3550302076950"
          ],
          [
           1,
           "4314907092571"
          ],
          [
           1,
           "3106203097927"
          ],
          [
           1,
           "3304002267187"
          ],
          [
           2,
           "3106206049443"
          ],
          [
           2,
           "3550307552017"
          ],
          [
           2,
           "3525907160526"
          ],
          [
           1,
           "3501706164366"
          ],
          [
           1,
           "3519079010866"
          ],
          [
           1,
           "3106203282406"
          ],
          [
           1,
           "3509502078678"
          ],
          [
           2,
           "3549902085577"
          ],
          [
           1,
           "3106202695316"
          ],
          [
           1,
           "3548705135117"
          ],
          [
           1,
           "3106207303572"
          ],
          [
           1,
           "3106207303572"
          ],
          [
           1,
           "3538807997272"
          ],
          [
           1,
           "5211906481094"
          ],
          [
           1,
           "3550302073471"
          ],
          [
           2,
           "3550303684865"
          ],
          [
           1,
           "3205307621442"
          ],
          [
           2,
           "5211506451616"
          ],
          [
           1,
           "5211506451616"
          ],
          [
           1,
           "3543902029359"
          ],
          [
           1,
           "3536307415982"
          ],
          [
           2,
           "3106200027278"
          ],
          [
           1,
           "3303303049051"
          ],
          [
           2,
           "3510602792168"
          ],
          [
           1,
           "3538805860571"
          ],
          [
           1,
           "3513803195066"
          ],
          [
           1,
           "3548806283020"
          ],
          [
           1,
           "4106907605749"
          ],
          [
           1,
           "4314902237598"
          ],
          [
           1,
           "3550305426243"
          ],
          [
           1,
           "3509509617930"
          ],
          [
           1,
           "3550302688565"
          ],
          [
           1,
           "2504002676060"
          ],
          [
           3,
           "4108302591049"
          ],
          [
           1,
           "3106206681069"
          ],
          [
           1,
           "3106207830521"
          ],
          [
           1,
           "4303002266474"
          ],
          [
           1,
           "3548702030039"
          ],
          [
           1,
           "3105602098946"
          ],
          [
           2,
           "3303302288966"
          ],
          [
           1,
           "1200209160868"
          ],
          [
           1,
           "3304552708361"
          ],
          [
           2,
           "2313407386257"
          ],
          [
           1,
           "2307307838743"
          ],
          [
           1,
           "3170206235220"
          ],
          [
           1,
           "3550302088495"
          ],
          [
           1,
           "3304555828813"
          ],
          [
           1,
           "3205007257406"
          ],
          [
           1,
           "3538702080699"
          ],
          [
           1,
           "3538702080699"
          ]
         ],
         "hoverlabel": {
          "namelength": 0
         },
         "hovertemplate": "CO_CLASSIFICACAO=%{customdata[0]}<br>Nota obtida na avaliação=%{customdata[1]}",
         "legendgroup": "",
         "marker": {
          "color": "rgb(158,202,225)",
          "line": {
           "color": "rgb(8,48,107)",
           "width": 1.5
          }
         },
         "name": "",
         "offsetgroup": "",
         "opacity": 0.6,
         "orientation": "v",
         "showlegend": false,
         "textposition": "auto",
         "type": "bar",
         "x": [
          1,
          1,
          1,
          1,
          4,
          1,
          1,
          4,
          1,
          1,
          1,
          1,
          1,
          2,
          3,
          2,
          1,
          1,
          1,
          1,
          1,
          1,
          1,
          1,
          1,
          1,
          1,
          1,
          1,
          1,
          1,
          1,
          1,
          1,
          1,
          1,
          1,
          1,
          1,
          1,
          2,
          1,
          1,
          1,
          2,
          1,
          3,
          1,
          1,
          1,
          1,
          2,
          1,
          2,
          1,
          1,
          1,
          3,
          1,
          2,
          1,
          1,
          2,
          3,
          3,
          1,
          1,
          4,
          3,
          1,
          1,
          1,
          2,
          4,
          1,
          1,
          1,
          3,
          3,
          2,
          3,
          4,
          3,
          1,
          1,
          1,
          4,
          4,
          1,
          1,
          3,
          1,
          1,
          1,
          1,
          2,
          1,
          2,
          1,
          1,
          1,
          1,
          1,
          1,
          2,
          1,
          1,
          1,
          1,
          1,
          1,
          1,
          1,
          1,
          2,
          1,
          1,
          1,
          1,
          1,
          1,
          1,
          1,
          1,
          1,
          1,
          1,
          1,
          1,
          4,
          1,
          1,
          1,
          3,
          1,
          1,
          2,
          1,
          1,
          4,
          1,
          1,
          1,
          1,
          1,
          1,
          1,
          3,
          4,
          1,
          1,
          2,
          2,
          1,
          1,
          2,
          1,
          1,
          1,
          1,
          1,
          1,
          2,
          1,
          1,
          1,
          2,
          1,
          2,
          1,
          1,
          1,
          2,
          4,
          1,
          1,
          2,
          1,
          2,
          2,
          1,
          2,
          1,
          3,
          4,
          2,
          3,
          1,
          3,
          1,
          2,
          2,
          1,
          2,
          4,
          1,
          1,
          2,
          1,
          3,
          1,
          3,
          1,
          2,
          2,
          1,
          1,
          2,
          1,
          2,
          1,
          1,
          1,
          1,
          1,
          1,
          1,
          4,
          1,
          1,
          3,
          1,
          1,
          1,
          1,
          1,
          1,
          1,
          1,
          3,
          4,
          4,
          1,
          3,
          4,
          1,
          1,
          1,
          1,
          3,
          1,
          1,
          4,
          2,
          1,
          3,
          1,
          1,
          3,
          4,
          1,
          2,
          3,
          1,
          3,
          1,
          1,
          1,
          1,
          1,
          1,
          1,
          1,
          1,
          1,
          1,
          3,
          3,
          1,
          1,
          1,
          2,
          1,
          1,
          1,
          1,
          1,
          1,
          1,
          1,
          4,
          1,
          1,
          1,
          1,
          4,
          4,
          3,
          1,
          1,
          1,
          1,
          1,
          2,
          1,
          2,
          1,
          1,
          1,
          1,
          2,
          1,
          2,
          1,
          1,
          1,
          3,
          3,
          1,
          2,
          2,
          1,
          1,
          1,
          1,
          1,
          1,
          1,
          1,
          1,
          1,
          2,
          1,
          3,
          1,
          1,
          1,
          2,
          1,
          1,
          1,
          1,
          1,
          1,
          1,
          1,
          1,
          1,
          1,
          1,
          1,
          2,
          1,
          1,
          1,
          1,
          1,
          1,
          1,
          1,
          1,
          1,
          1,
          1,
          1,
          1,
          1,
          1,
          1,
          1,
          1,
          1,
          3,
          1,
          1,
          1,
          1,
          1,
          1,
          1,
          4,
          3,
          1,
          1,
          2,
          1,
          1,
          1,
          2,
          1,
          1,
          1,
          2,
          1,
          2,
          1,
          1,
          1,
          3,
          1,
          1,
          1,
          3,
          1,
          2,
          1,
          2,
          1,
          2,
          1,
          1,
          1,
          1,
          1,
          1,
          1,
          1,
          1,
          1,
          1,
          1,
          1,
          1,
          1,
          1,
          3,
          1,
          1,
          1,
          1,
          1,
          1,
          1,
          2,
          1,
          1,
          1,
          1,
          1,
          1,
          1,
          1,
          1,
          1,
          1,
          1,
          1,
          1,
          1,
          3,
          1,
          1,
          1,
          1,
          1,
          1,
          1,
          1,
          1,
          1,
          1,
          2,
          2,
          1,
          2,
          1,
          2,
          1,
          1,
          3,
          2,
          1,
          1,
          1,
          4,
          4,
          1,
          1,
          4,
          2,
          1,
          1,
          1,
          3,
          4,
          1,
          1,
          1,
          1,
          1,
          4,
          1,
          1,
          4,
          4,
          2,
          4,
          4,
          1,
          1,
          1,
          1,
          1,
          1,
          1,
          2,
          1,
          1,
          1,
          1,
          1,
          1,
          1,
          1,
          1,
          3,
          1,
          1,
          1,
          1,
          3,
          1,
          1,
          1,
          1,
          1,
          1,
          1,
          1,
          1,
          1,
          1,
          1,
          1,
          1,
          3,
          2,
          1,
          1,
          1,
          1,
          1,
          2,
          1,
          2,
          1,
          3,
          1,
          1,
          1,
          1,
          1,
          1,
          1,
          3,
          1,
          1,
          3,
          3,
          1,
          1,
          1,
          1,
          1,
          1,
          1,
          1,
          1,
          3,
          1,
          1,
          1,
          1,
          1,
          1,
          1,
          1,
          1,
          1,
          1,
          1,
          1,
          1,
          1,
          2,
          1,
          2,
          2,
          3,
          1,
          1,
          1,
          1,
          1,
          1,
          1,
          1,
          1,
          1,
          2,
          3,
          1,
          1,
          1,
          1,
          1,
          1,
          1,
          4,
          1,
          1,
          1,
          1,
          2,
          1,
          1,
          2,
          1,
          1,
          1,
          1,
          1,
          1,
          3,
          1,
          3,
          1,
          1,
          1,
          1,
          3,
          1,
          1,
          1,
          1,
          1,
          1,
          1,
          1,
          1,
          1,
          1,
          2,
          1,
          2,
          1,
          1,
          1,
          1,
          3,
          1,
          1,
          1,
          1,
          3,
          1,
          2,
          1,
          1,
          1,
          1,
          1,
          4,
          1,
          1,
          1,
          1,
          3,
          1,
          1,
          1,
          1,
          1,
          1,
          1,
          1,
          1,
          1,
          1,
          1,
          2,
          1,
          1,
          1,
          1,
          1,
          1,
          1,
          3,
          3,
          1,
          1,
          1,
          1,
          1,
          3,
          1,
          4,
          3,
          1,
          1,
          1,
          1,
          1,
          1,
          2,
          1,
          4,
          1,
          1,
          1,
          3,
          3,
          1,
          1,
          1,
          2,
          1,
          1,
          1,
          1,
          3,
          1,
          1,
          1,
          1,
          3,
          1,
          1,
          1,
          1,
          1,
          2,
          1,
          1,
          1,
          3,
          1,
          1,
          1,
          2,
          2,
          1,
          1,
          1,
          3,
          1,
          1,
          1,
          1,
          1,
          2,
          1,
          1,
          3,
          1,
          1,
          4,
          1,
          1,
          3,
          2,
          1,
          1,
          1,
          1,
          1,
          1,
          1,
          1,
          1,
          2,
          1,
          3,
          1,
          1,
          1,
          2,
          1,
          1,
          1,
          2,
          1,
          1,
          1,
          1,
          1,
          1,
          1,
          1,
          1,
          1,
          1,
          1,
          1,
          1,
          1,
          1,
          2,
          1,
          1,
          1,
          1,
          1,
          1,
          1,
          1,
          1,
          2,
          1,
          1,
          1,
          1,
          1,
          1,
          1,
          4,
          4,
          3,
          1,
          1,
          1,
          1,
          4,
          4,
          4,
          4,
          1,
          3,
          3,
          1,
          1,
          1,
          1,
          1,
          1,
          1,
          1,
          1,
          2,
          2,
          3,
          1,
          1,
          1,
          2,
          1,
          1,
          1,
          1,
          2,
          1,
          3,
          1,
          1,
          3,
          1,
          3,
          1,
          3,
          1,
          3,
          1,
          1,
          1,
          1,
          3,
          1,
          1,
          1,
          2,
          1,
          1,
          1,
          1,
          1,
          1,
          1,
          1,
          2,
          1,
          1,
          1,
          1,
          1,
          1,
          3,
          1,
          1,
          2,
          1,
          3,
          1,
          1,
          1,
          1,
          2,
          1,
          1,
          3,
          1,
          1,
          1,
          1,
          1,
          1,
          1,
          2,
          1,
          2,
          1,
          2,
          1,
          1,
          1,
          1,
          3,
          2,
          1,
          1,
          1,
          1,
          1,
          1,
          1,
          1,
          1,
          1,
          1,
          2,
          3,
          2,
          3,
          1,
          1,
          1,
          1,
          1,
          1,
          1,
          1,
          1,
          1,
          1,
          1,
          1,
          1,
          1,
          1,
          1,
          4,
          1,
          3,
          2,
          3,
          3,
          1,
          1,
          1,
          1,
          2,
          2,
          1,
          1,
          3,
          1,
          1,
          2,
          1,
          1,
          1,
          1,
          1,
          1,
          1,
          1,
          1,
          1,
          1,
          3,
          1,
          1,
          1,
          1,
          1,
          4,
          1,
          1,
          1,
          1,
          1,
          1,
          1,
          3,
          2,
          2,
          2,
          1,
          1,
          3,
          3,
          1,
          1,
          2,
          1,
          3,
          3,
          1,
          2,
          1,
          1,
          1,
          1,
          2,
          3,
          1,
          2,
          2,
          1,
          2,
          1,
          1,
          1,
          1,
          3,
          1,
          1,
          3,
          1,
          3,
          1,
          1,
          3,
          2,
          1,
          1,
          1,
          1,
          4,
          1,
          1,
          1,
          1,
          1,
          1,
          1,
          2,
          1,
          3,
          1,
          1,
          1,
          3,
          2,
          3,
          1,
          3,
          1,
          1,
          3,
          1,
          2,
          1,
          1,
          1,
          3,
          1,
          1,
          1,
          1,
          1,
          1,
          1,
          2,
          2,
          2,
          1,
          1,
          3,
          3,
          3,
          1,
          3,
          1,
          3,
          3,
          3,
          3,
          1,
          1,
          1,
          3,
          3,
          3,
          1,
          1,
          3,
          3,
          1,
          1,
          2,
          3,
          1,
          2,
          1,
          3,
          2,
          1,
          3,
          1,
          3,
          3,
          1,
          1,
          1,
          2,
          1,
          1,
          1,
          1,
          1,
          1,
          1,
          1,
          1,
          1,
          1,
          3,
          1,
          1,
          1,
          1,
          1,
          1,
          1,
          1,
          1,
          2,
          2,
          1,
          1,
          1,
          1,
          1,
          1,
          1,
          3,
          1,
          1,
          1,
          3,
          1,
          3,
          1,
          1,
          1,
          1,
          1,
          1,
          1,
          1,
          1,
          1,
          3,
          1,
          1,
          1,
          2,
          3,
          1,
          3,
          1,
          1,
          2,
          1,
          1,
          1,
          2,
          1,
          1,
          1,
          2,
          1,
          1,
          1,
          1,
          1,
          2,
          2,
          2,
          1,
          1,
          1,
          1,
          2,
          1,
          1,
          1,
          1,
          1,
          1,
          1,
          2,
          1,
          2,
          1,
          1,
          1,
          2,
          1,
          2,
          1,
          1,
          1,
          1,
          1,
          1,
          1,
          1,
          1,
          3,
          1,
          1,
          1,
          1,
          1,
          2,
          1,
          1,
          2,
          1,
          1,
          1,
          1,
          1,
          1,
          1
         ],
         "xaxis": "x",
         "y": [
          "1501403656969",
          "2105503761576",
          "2105503761576",
          "3119107326521",
          "2910803749401",
          "3550306037682",
          "3106200027901",
          "2900103780384",
          "2903903780430",
          "3302203687872",
          "5217403275353",
          "3304555285895",
          "5300103000974",
          "2707103830918",
          "3205003450198",
          "3303303297454",
          "4123503888762",
          "5300103915379",
          "3304906901409",
          "4322546901255",
          "3146306911838",
          "4322546901751",
          "3551606905552",
          "4322546925049",
          "3551606994725",
          "3551606998224",
          "3159906505058",
          "3200302403099",
          "3111006339077",
          "2601406373437",
          "2611606397018",
          "5002406469892",
          "3161906463746",
          "3202456517862",
          "3511006519091",
          "4119506518923",
          "4209106556612",
          "2919956568165",
          "3303706586767",
          "3519706289231",
          "3304556296130",
          "3168606316107",
          "3168606321992",
          "4322546394787",
          "3550306423086",
          "4104206426204",
          "1504452322757",
          "3171206477984",
          "3509406479014",
          "2927406595197",
          "4312456580475",
          "4312456580475",
          "3115806611052",
          "3115806611052",
          "4108306619126",
          "2101802460971",
          "1506002331365",
          "3526902024632",
          "2914703245500",
          "2914703245500",
          "2113003542203",
          "1502002316234",
          "1508402318954",
          "1508402621592",
          "3550307457723",
          "5003702371332",
          "5003702371332",
          "3550404050436",
          "3550303146057",
          "3550307330804",
          "3500403405125",
          "3550307457723",
          "3106203375390",
          "2915303434524",
          "3509503846296",
          "3509503846296",
          "3550309882170",
          "3304553356469",
          "3304553356469",
          "3549903507157",
          "3304553356469",
          "4314903548961",
          "3106200027847",
          "2113003541304",
          "1304203581748",
          "3123706391257",
          "3503202046911",
          "2925203696995",
          "2909802600943",
          "3170402760924",
          "3513802084163",
          "1506002331403",
          "3522502078104",
          "1506002331330",
          "1100042516403",
          "3550302077426",
          "4303102231034",
          "4200802378795",
          "2111302458322",
          "2211002726998",
          "4208602665964",
          "5208702519186",
          "5208702519186",
          "3149902221985",
          "4314902237601",
          "4112202733420",
          "3540803690687",
          "3524103668266",
          "3524103668347",
          "3524103678563",
          "3524103678687",
          "2924303008185",
          "1501405459540",
          "1501402695200",
          "4305102223546",
          "2929902674432",
          "1100082803747",
          "4308302252120",
          "2111302308517",
          "1506002331357",
          "3523102078562",
          "3534400008052",
          "3530102083019",
          "2311402328372",
          "4214602377101",
          "2702302010356",
          "4323002231778",
          "4306902233460",
          "3140502144182",
          "4322602236087",
          "3136202709848",
          "3303302288966",
          "2927402497751",
          "3550302077507",
          "3115806504558",
          "3115806504558",
          "3549902748029",
          "3529403424847",
          "2512302682656",
          "3304552269988",
          "3302202278987",
          "3509502078465",
          "3550303322637",
          "3530502705222",
          "5102792471191",
          "4317952244381",
          "2602900024244",
          "2104622460564",
          "1200452002558",
          "4215402302667",
          "1500402331861",
          "4305102223562",
          "3552202078813",
          "2806202421798",
          "2806202421828",
          "2806202421860",
          "2504002363070",
          "2504002363070",
          "5218802340682",
          "2513702757915",
          "3170102206595",
          "3144306447260",
          "1101454003160",
          "4204102553163",
          "4204102553163",
          "2927400004081",
          "3200202447886",
          "3524102751704",
          "3304553187799",
          "4117602738287",
          "4107502735962",
          "2513702357429",
          "1506002331756",
          "5300103051412",
          "3171206314015",
          "3119302197693",
          "3119302197693",
          "3125102127881",
          "4204202537397",
          "5211902340046",
          "3541402755130",
          "3106202200422",
          "3507802029553",
          "3132102119455",
          "2920603226352",
          "3550303160548",
          "3145902139014",
          "2211002727005",
          "2211002727005",
          "4307502246813",
          "4307502246813",
          "3505706095666",
          "2506002322714",
          "3529403424847",
          "2924302508176",
          "3548702080591",
          "3518402081644",
          "3518402081644",
          "2927403827992",
          "2110202463997",
          "3554103126838",
          "3304553048721",
          "3516402746220",
          "3554103126838",
          "3554103126838",
          "3516303028399",
          "3516402092107",
          "3554103126838",
          "4115202743469",
          "3143302149990",
          "2604602715295",
          "3509502078465",
          "3536702791749",
          "3518102745410",
          "2310102664283",
          "3143502178648",
          "3300302799308",
          "3300302799308",
          "5107603028925",
          "5107602701626",
          "3554103126838",
          "3110806398960",
          "2403702410192",
          "3204402652773",
          "2611600020516",
          "1501575517109",
          "5209102340038",
          "4314902262487",
          "4108602735970",
          "3548706273270",
          "4313402229714",
          "MA00000000000000000000000011290",
          "3139602099209",
          "3530602080680",
          "1506002331438",
          "1506002331381",
          "2910502627140",
          "4121102731452",
          "5208702517957",
          "3139402173166",
          "2800202422646",
          "1303402016893",
          "4101902577100",
          "1502102313367",
          "3169402139200",
          "2807302422964",
          "3552202708779",
          "3530602718359",
          "3530602718359",
          "2906503628140",
          "3170102195593",
          "3143902195453",
          "3106202200457",
          "3304556407412",
          "3170202152118",
          "3170202152118",
          "3170206235212",
          "2919553319717",
          "3513802035529",
          "1505535408032",
          "3106207039212",
          "3200302402866",
          "2113002530473",
          "3304556407412",
          "1506002331411",
          "5211507005660",
          "3302102295016",
          "1504452622475",
          "3106203702693",
          "3106203069575",
          "3106203069575",
          "2807302422972",
          "2304402529467",
          "5300106786316",
          "3303306827128",
          "3551606786170",
          "3551606818129",
          "4315006808654",
          "3524406843727",
          "3509507295324",
          "3550303764206",
          "2105477387539",
          "2304402644967",
          "2313002328119",
          "2104802462753",
          "5300103431398",
          "3512803436195",
          "1501572678624",
          "3106306196969",
          "1504422316498",
          "1504422619717",
          "3157002204649",
          "2104302463806",
          "2104302463806",
          "2903908015783",
          "2903908015783",
          "3118802205904",
          "4304635695996",
          "2703306442730",
          "2113003541290",
          "1508402318970",
          "3552403393739",
          "2101802646587",
          "1506002331373",
          "1506002331624",
          "4322502241048",
          "2304403242587",
          "3547803528596",
          "3550603539113",
          "1502152677563",
          "1508402318962",
          "4102503587010",
          "4217905266599",
          "3514005341310",
          "3510605437288",
          "1505535988101",
          "2910725523877",
          "2927400004057",
          "5201402589672",
          "4310205611075",
          "3546005677475",
          "3552203020762",
          "3548802037726",
          "3304552273276",
          "3550309121293",
          "4115202587165",
          "3511902080982",
          "2304402785900",
          "3550309369120",
          "3551607216904",
          "3551607228864",
          "3304559616039",
          "2903907232519",
          "3550309369120",
          "3546007239556",
          "3304557252676",
          "2706707248954",
          "4115202587165",
          "3509509757821",
          "3551607108427",
          "3551607317670",
          "3550307223889",
          "3304553095142",
          "3200407299168",
          "3148607313012",
          "4211707329814",
          "3511407321511",
          "3151107309511",
          "3302205926890",
          "1501405996457",
          "2704406224067",
          "3540806049419",
          "3107105687500",
          "3552406130178",
          "3171206121357",
          "2312305939607",
          "3101605980763",
          "3171206035663",
          "3171206035752",
          "1505636031447",
          "3551006050018",
          "3101606068863",
          "5300106065880",
          "3305206120423",
          "3552206160263",
          "3148606160409",
          "2109106170412",
          "2504006212085",
          "2705906153720",
          "3300106274056",
          "ES0000320200000031721921000177",
          "4309002260069",
          "3506502082160",
          "3505502092611",
          "3157802164299",
          "4208202522691",
          "1506002331446",
          "4204302303892",
          "3170702761041",
          "2513702357534",
          "2927400004286",
          "3509502082128",
          "3509502022621",
          "3550302077620",
          "3525902033445",
          "2409202375036",
          "2409202375036",
          "2409702473968",
          "3550303234096",
          "3550303779270",
          "1501405332419",
          "1501405332419",
          "3550302032481",
          "1505535601266",
          "4106903000885",
          "4106903134601",
          "1503802312115",
          "1505802676923",
          "1506202676435",
          "3552202079321",
          "3552202083167",
          "5300105703999",
          "3552205125235",
          "3508705757177",
          "3500405792614",
          "4202905872189",
          "3146305866146",
          "1502902311992",
          "3118605352517",
          "3524405345073",
          "4214805383234",
          "1502155864453",
          "1301905434637",
          "3161105501180",
          "3130905628164",
          "3552202708566",
          "2701005702895",
          "3552202084465",
          "2301305776120",
          "2307305841216",
          "3536405854547",
          "3551606250572",
          "4103056272096",
          "4103056272096",
          "4305586275443",
          "3106306304907",
          "3168606321925",
          "2914806211402",
          "4318306274404",
          "4119506303161",
          "2909806312101",
          "4322546350992",
          "4219706367461",
          "3161906390285",
          "2312906456480",
          "4209106496393",
          "3110806512860",
          "4209106522149",
          "3506806549810",
          "2927402802082",
          "3117506639089",
          "4318306644325",
          "1506006652808",
          "3135106672353",
          "3144306664504",
          "3519056567924",
          "3171206507212",
          "3514906604463",
          "3150576598617",
          "3168606616445",
          "3304559264825",
          "3548702083248",
          "3523102078562",
          "2516806714048",
          "4217206683134",
          "3127706725473",
          "3550305718368",
          "3151106731422",
          "2928702520303",
          "3550305718368",
          "3509509650466",
          "3540803611957",
          "3507503678008",
          "2208403721973",
          "2910803749681",
          "2900103780376",
          "3553703770559",
          "2103603777510",
          "2906503790703",
          "1508402672111",
          "2928506433529",
          "5003702371375",
          "1100043651665",
          "1100043651665",
          "3550402078651",
          "3522403680215",
          "3553703699323",
          "3553703699420",
          "3553703699528",
          "3553703702049",
          "2922903720055",
          "3524103708845",
          "3524103708888",
          "2923033768368",
          "2924303769844",
          "3305102283980",
          "2908603770141",
          "2918503780147",
          "4215205886155",
          "2920456422780",
          "5300105128641",
          "2806305091217",
          "3528405115914",
          "3550405182336",
          "2906002799839",
          "3534405101654",
          "4206105140099",
          "2310706413641",
          "4117052741970",
          "3550405219892",
          "4102405207266",
          "1100505184843",
          "3515505212030",
          "1721002492768",
          "5103402495015",
          "5103402495015",
          "4202802385341",
          "4215402651874",
          "4308602257645",
          "3143102195925",
          "3143904042085",
          "4118802733625",
          "5103452795590",
          "2806202421801",
          "2806202421836",
          "2806202421852",
          "2806202421879",
          "5208702338165",
          "5300103343480",
          "4119902686953",
          "5107602396866",
          "2509802592401",
          "3106203046028",
          "4207302385880",
          "3106306333923",
          "3202103145190",
          "2408103649563",
          "3524103668312",
          "3524103678504",
          "3524103678520",
          "3524103678601",
          "3524103683710",
          "5208702338416",
          "2906872387727",
          "3106202695375",
          "5208702338106",
          "2903904022718",
          "3509502072831",
          "3509502072831",
          "4201502550938",
          "3147302127695",
          "2111302308665",
          "2508802362058",
          "4106602783428",
          "4106900015318",
          "3506806352863",
          "2800202422670",
          "2800202422697",
          "2800203049833",
          "4115602587912",
          "3139402785676",
          "2913702653230",
          "2913702653230",
          "4323802224356",
          "3516702086263",
          "3516702078023",
          "2508552591693",
          "3168602184834",
          "3168602184834",
          "5211902535556",
          "1721002755157",
          "3202552447479",
          "2922002498413",
          "2910503273148",
          "3170402184788",
          "2919206396763",
          "2509702336812",
          "1503702614189",
          "1100132808617",
          "5102502395290",
          "5107902534231",
          "5107902534231",
          "3550306479200",
          "2909802390043",
          "3170203752178",
          "3171302099454",
          "3550303027600",
          "1600302020890",
          "3525902078767",
          "4314903567664",
          "3106205946824",
          "4209852691876",
          "2903102602628",
          "5107602396807",
          "3540202083493",
          "2503202342235",
          "3106206492495",
          "3106207491662",
          "3303405915937",
          "3550307526512",
          "3550307552904",
          "3171206035671",
          "3171206035728",
          "3171206035744",
          "3550307552904",
          "3171206065589",
          "3171206087663",
          "4216206186742",
          "1503075925606",
          "2704406224059",
          "1501405996384",
          "1505536023827",
          "1505536023827",
          "3517606042473",
          "3552206125646",
          "3547606201776",
          "1508403886344",
          "2913904026497",
          "2903902603233",
          "2307303963926",
          "5300105008980",
          "2104305027837",
          "2903905024773",
          "2915305063302",
          "3546005101387",
          "2928203855821",
          "5107603893596",
          "1508403944093",
          "4103003951731",
          "5300103955621",
          "5300103955621",
          "2703903954005",
          "3130903974073",
          "4122103980766",
          "2919205080916",
          "5300105078962",
          "3519602082640",
          "4115602587890",
          "4207602691507",
          "1200332002272",
          "3123102169878",
          "3304552273403",
          "3518802081628",
          "1507972331772",
          "1500102318660",
          "1506002331764",
          "1506002331349",
          "2104809217932",
          "1501402332639",
          "1501402332809",
          "3549900009628",
          "3139402785692",
          "3157202144638",
          "3505902082853",
          "1507972331799",
          "3106200026859",
          "2927405407591",
          "3304557859341",
          "5107602396793",
          "4115205704332",
          "3304559139923",
          "4210502538180",
          "3303802696592",
          "2910502627132",
          "2910502627159",
          "2910502620502",
          "2910502627124",
          "3136703019063",
          "2504002315793",
          "2504002315793",
          "3170102164825",
          "3170102165058",
          "4318302247763",
          "2910502627108",
          "2910502627116",
          "2910502620472",
          "2910502620480",
          "2914404026772",
          "5107742311496",
          "2611600000582",
          "3143902162377",
          "3523402023709",
          "4122502734885",
          "1708203341887",
          "3509502084252",
          "1702102600536",
          "2708602010151",
          "3552502048299",
          "3552502048299",
          "4205502302330",
          "2516302322536",
          "1502102418665",
          "3517806357555",
          "4112952733501",
          "4119902686791",
          "4103702729539",
          "2906503504808",
          "4211102663422",
          "1702102755165",
          "4202902537141",
          "1709502786109",
          "2605452429594",
          "3552402076365",
          "1505532615754",
          "5218802340704",
          "5218802340704",
          "3129402136139",
          "1506002331322",
          "2910502627167",
          "3122302159252",
          "2411704014219",
          "4305103356868",
          "5300102811219",
          "2611600001120",
          "3171802144557",
          "4215802521776",
          "1501407871902",
          "3106206492487",
          "3550302088517",
          "3531002093472",
          "5104802397269",
          "5104802397269",
          "3106207265840",
          "3115806379826",
          "3107802760738",
          "2507502399555",
          "4322602236370",
          "2508802321343",
          "4106900015334",
          "2513202341859",
          "2513202341859",
          "2800202422778",
          "2307652372150",
          "1501402332914",
          "3541004049349",
          "4219302302500",
          "4219302302500",
          "4104802738554",
          "5215002569973",
          "5215002569973",
          "4315202252171",
          "3526402079976",
          "2504002362821",
          "3129502181029",
          "3162942147106",
          "2929602523051",
          "2111302456915",
          "2111302457962",
          "2507502399113",
          "2113003573796",
          "4205302652099",
          "3203202465833",
          "3132802169541",
          "3552402027887",
          "4216602302969",
          "2805402420120",
          "2805402420147",
          "2916853661245",
          "2611105653118",
          "3506002790602",
          "2928205416744",
          "5214002535165",
          "3110602128012",
          "3165002123711",
          "3513702081717",
          "4106900015644",
          "4106900015644",
          "4120806331777",
          "3205032547201",
          "4209002560771",
          "2928702799286",
          "2704302007037",
          "3300502282801",
          "3300502282801",
          "3550302752077",
          "3550306729150",
          "3550306866913",
          "3550309369139",
          "3550309369139",
          "3304552270471",
          "3204052678233",
          "3509507312547",
          "3522303987957",
          "3109102128020",
          "3150803985598",
          "3549102812665",
          "2910503998894",
          "1501405036569",
          "4102505081378",
          "1501405083060",
          "3205175125502",
          "2910502620464",
          "2925305138841",
          "1100505184886",
          "2104305027810",
          "3106305061679",
          "5300105084911",
          "1506605058198",
          "1506605058198",
          "2903905110009",
          "3528405111463",
          "4310105176409",
          "4217905218810",
          "4314055258251",
          "4318505257247",
          "3520007049196",
          "3301707067259",
          "2928207078781",
          "2928207078781",
          "2604107074824",
          "2604107074824",
          "4209307116519",
          "3507507128916",
          "3551607161670",
          "3553703699366",
          "3553703699471",
          "2926003720039",
          "2922903720063",
          "3105603698548",
          "3524103708780",
          "3524103708853",
          "3553703737985",
          "2805503675319",
          "2924303769836",
          "2901603780392",
          "2918503780155",
          "3526903046451",
          "2103403846407",
          "1508403835987",
          "1508402621606",
          "2903903893170",
          "3106306301355",
          "5300103938069",
          "2705703905578",
          "3510605525195",
          "3202406365965",
          "2111307495579",
          "2111307509839",
          "5300102815966",
          "5300103055450",
          "4309702265893",
          "5300103030121",
          "3306306635148",
          "2515706967450",
          "3106206636632",
          "3304557954549",
          "3509509860177",
          "3301702277360",
          "3106207684878",
          "3205202494442",
          "3550302080168",
          "3106205973821",
          "3143302149990",
          "3106200027901",
          "3550306317480",
          "3550307033486",
          "3550307033486",
          "3550307042345",
          "3550307042345",
          "3550307095031",
          "3550307095031",
          "3550307557353",
          "3550307557353",
          "3550307830297",
          "4106505729106",
          "3118606151167",
          "5100252471345",
          "3524806365213",
          "4120805849713",
          "1302602017245",
          "1302602017245",
          "3550302688603",
          "3506005336465",
          "3106209985379",
          "1501405326605",
          "1501405332427",
          "1501405332427",
          "4215205373654",
          "2925302800047",
          "3550306891411",
          "4201505546796",
          "3144305905176",
          "2111302464276",
          "1505535586720",
          "2600055563720",
          "3303205604338",
          "1302602017245",
          "5107705610087",
          "1302602017245",
          "2312905691389",
          "4100205687691",
          "3306305739993",
          "3500405734282",
          "4106605856981",
          "1502155921503",
          "4310206659551",
          "4217206683134",
          "2312906701582",
          "1100806843115",
          "3548703024660",
          "3552206806899",
          "3551606808697",
          "5300106866131",
          "2307307436300",
          "2307307468172",
          "2307307497075",
          "3157807541988",
          "3303307920911",
          "3304553034984",
          "3303303594432",
          "2307307670710",
          "3550305420938",
          "2807207408668",
          "2307307462956",
          "2111307542186",
          "2307307689934",
          "3106209642706",
          "3106202695596",
          "2307307575459",
          "2307307645902",
          "3548706333265",
          "1500807447949",
          "2111307453582",
          "2111307455976",
          "2111307458851",
          "2307307470827",
          "2307307471203",
          "2111307476795",
          "2111307477732",
          "2611603828778",
          "3526902825309",
          "3550302082535",
          "3550302091410",
          "2111307533349",
          "2111307533381",
          "2111307533578",
          "2111307533675",
          "2111307534337",
          "2111307536399",
          "2111307538995",
          "2111307541899",
          "2111307542607",
          "2111307545568",
          "2111307551436",
          "2307307629141",
          "3550306317502",
          "1302602017776",
          "2307306800815",
          "2307307808542",
          "1501402332981",
          "5103202392410",
          "2927400005118",
          "3552802079828",
          "2927400005118",
          "2927400005118",
          "3550307079060",
          "3550307079060",
          "3303902268671",
          "4305102223570",
          "3106200035009",
          "3548702081539",
          "3549802097613",
          "3170206235247",
          "3550302048108",
          "4314903007847",
          "2111302455765",
          "2111307624085",
          "3550302078589",
          "3508207351569",
          "4300802238667",
          "2111307553943",
          "2307307604602",
          "4110702517566",
          "2307307671210",
          "2307307734239",
          "2307307800274",
          "4113702578247",
          "5217109322434",
          "5300107719531",
          "1500605597501",
          "2111307435061",
          "2111307441207",
          "2111307445423",
          "5300105128757",
          "3170107575025",
          "3170107575025",
          "2307307623100",
          "2307307624646",
          "3538806596150",
          "3301707517475",
          "5105255688868",
          "4314102246988",
          "3513802059886",
          "4106903063216",
          "4314906709818",
          "4314906709826",
          "3525907477260",
          "2111307599900",
          "2111307613008",
          "5300103211541",
          "3106200027995",
          "3301003132455",
          "3301003132455",
          "3550303157547",
          "3547802080273",
          "3547802080273",
          "3550305255414",
          "3550305255414",
          "3550302077620",
          "4314903006522",
          "2307307519303",
          "3304559104267",
          "4202402558254",
          "3550307686749",
          "3106200027936",
          "3302907426925",
          "3509502078465",
          "3550307134517",
          "5300103224228",
          "4314906314023",
          "3547802084090",
          "2307307557086",
          "2307307844352",
          "5215237839901",
          "3143902195453",
          "2307307724802",
          "4319002240750",
          "3106202695634",
          "3547802789590",
          "5300107978642",
          "4113702577666",
          "3550306317529",
          "4314902262568",
          "1302602019086",
          "3510602792168",
          "3550302058391",
          "3304557834721",
          "4125707953275",
          "4125707953275",
          "3106203526690",
          "3549906988938",
          "4104422742020",
          "3519079178104",
          "3550302089343",
          "3550302091399",
          "3550306311253",
          "5300102649497",
          "5300102649497",
          "3548707752326",
          "2307307758316",
          "2307307828780",
          "3303102276267",
          "5300103055450",
          "3550309392602",
          "4302102241021",
          "3550302080818",
          "3550302080818",
          "3106200027383",
          "4314902237261",
          "3550303187764",
          "3550303187764",
          "3550309369112",
          "3550309369112",
          "5300106012515",
          "3106707727186",
          "3550302077590",
          "4113702577674",
          "3170206235239",
          "2927405407591",
          "3509502078376",
          "4202003718395",
          "3301702277360",
          "3513209513671",
          "3550303204561",
          "3541006323898",
          "3550307526482",
          "3205009966803",
          "3550302082314",
          "3106205092302",
          "1506805585422",
          "3304552271443",
          "1100202552914",
          "3106203143163",
          "4304632707969",
          "3304552271443",
          "3304552271443",
          "3304552271443",
          "3304552271443",
          "3304552271443",
          "3304552271443",
          "3304553061310",
          "3503203625087",
          "3550302089777",
          "3513002792141",
          "2307307840160",
          "3106207762771",
          "3304552269821",
          "3550302080168",
          "3538807072104",
          "3538702087057",
          "4106900015563",
          "3106200026824",
          "3165539448551",
          "3304553148564",
          "3132402127687",
          "3549802091305",
          "3550307526490",
          "3170206235166",
          "4106903000869",
          "3304553134172",
          "3131302205440",
          "3552202082101",
          "3550306614426",
          "2307307793499",
          "4209102521253",
          "5300107157207",
          "3106207146167",
          "3106207349742",
          "3550306614426",
          "3550307014821",
          "3106207166966",
          "3501603038130",
          "3509509677232",
          "3106207054998",
          "3106203485404",
          "4313406090788",
          "3304557859341",
          "1300502012022",
          "3301003132455",
          "3548703367312",
          "3547803165078",
          "5219306665322",
          "2307307728093",
          "4211202419378",
          "3522402027186",
          "4105907906536",
          "1200422000024",
          "3303302288966",
          "3522202792176",
          "2919207006497",
          "3546605967945",
          "5211503292320",
          "4307802252260",
          "4322202241706",
          "2307307847114",
          "4319006523617",
          "2919206440274",
          "4314902237601",
          "4314902237601",
          "3106209417664",
          "3168702140217",
          "3550302079127",
          "3106200027685",
          "5217709196307",
          "3530602084236",
          "2111302308355",
          "3106203314014",
          "3106203127230",
          "3106203526690",
          "3106205672015",
          "5209107541309",
          "3106205953448",
          "3106206492509",
          "3106209326332",
          "3106209326332",
          "1721002786117",
          "4106905310350",
          "3127702118858",
          "3106203557146",
          "5213806632467",
          "3106202216256",
          "3302405412447",
          "4314902237601",
          "4314902237601",
          "3106205670098",
          "3548706938876",
          "3550303143953",
          "3552209491112",
          "3550302079186",
          "3106205466989",
          "5103409016856",
          "3513803195066",
          "3303902268671",
          "3550302076950",
          "4314907092571",
          "3106203097927",
          "3304002267187",
          "3106206049443",
          "3550307552017",
          "3525907160526",
          "3501706164366",
          "3519079010866",
          "3106203282406",
          "3509502078678",
          "3549902085577",
          "3106202695316",
          "3548705135117",
          "3106207303572",
          "3106207303572",
          "3538807997272",
          "5211906481094",
          "3550302073471",
          "3550303684865",
          "3205307621442",
          "5211506451616",
          "5211506451616",
          "3543902029359",
          "3536307415982",
          "3106200027278",
          "3303303049051",
          "3510602792168",
          "3538805860571",
          "3513803195066",
          "3548806283020",
          "4106907605749",
          "4314902237598",
          "3550305426243",
          "3509509617930",
          "3550302688565",
          "2504002676060",
          "4108302591049",
          "3106206681069",
          "3106207830521",
          "4303002266474",
          "3548702030039",
          "3105602098946",
          "3303302288966",
          "1200209160868",
          "3304552708361",
          "2313407386257",
          "2307307838743",
          "3170206235220",
          "3550302088495",
          "3304555828813",
          "3205007257406",
          "3538702080699",
          "3538702080699"
         ],
         "yaxis": "y"
        }
       ],
       "layout": {
        "barmode": "relative",
        "height": 800,
        "legend": {
         "tracegroupgap": 0
        },
        "margin": {
         "t": 60
        },
        "template": {
         "data": {
          "bar": [
           {
            "error_x": {
             "color": "#2a3f5f"
            },
            "error_y": {
             "color": "#2a3f5f"
            },
            "marker": {
             "line": {
              "color": "#E5ECF6",
              "width": 0.5
             }
            },
            "type": "bar"
           }
          ],
          "barpolar": [
           {
            "marker": {
             "line": {
              "color": "#E5ECF6",
              "width": 0.5
             }
            },
            "type": "barpolar"
           }
          ],
          "carpet": [
           {
            "aaxis": {
             "endlinecolor": "#2a3f5f",
             "gridcolor": "white",
             "linecolor": "white",
             "minorgridcolor": "white",
             "startlinecolor": "#2a3f5f"
            },
            "baxis": {
             "endlinecolor": "#2a3f5f",
             "gridcolor": "white",
             "linecolor": "white",
             "minorgridcolor": "white",
             "startlinecolor": "#2a3f5f"
            },
            "type": "carpet"
           }
          ],
          "choropleth": [
           {
            "colorbar": {
             "outlinewidth": 0,
             "ticks": ""
            },
            "type": "choropleth"
           }
          ],
          "contour": [
           {
            "colorbar": {
             "outlinewidth": 0,
             "ticks": ""
            },
            "colorscale": [
             [
              0,
              "#0d0887"
             ],
             [
              0.1111111111111111,
              "#46039f"
             ],
             [
              0.2222222222222222,
              "#7201a8"
             ],
             [
              0.3333333333333333,
              "#9c179e"
             ],
             [
              0.4444444444444444,
              "#bd3786"
             ],
             [
              0.5555555555555556,
              "#d8576b"
             ],
             [
              0.6666666666666666,
              "#ed7953"
             ],
             [
              0.7777777777777778,
              "#fb9f3a"
             ],
             [
              0.8888888888888888,
              "#fdca26"
             ],
             [
              1,
              "#f0f921"
             ]
            ],
            "type": "contour"
           }
          ],
          "contourcarpet": [
           {
            "colorbar": {
             "outlinewidth": 0,
             "ticks": ""
            },
            "type": "contourcarpet"
           }
          ],
          "heatmap": [
           {
            "colorbar": {
             "outlinewidth": 0,
             "ticks": ""
            },
            "colorscale": [
             [
              0,
              "#0d0887"
             ],
             [
              0.1111111111111111,
              "#46039f"
             ],
             [
              0.2222222222222222,
              "#7201a8"
             ],
             [
              0.3333333333333333,
              "#9c179e"
             ],
             [
              0.4444444444444444,
              "#bd3786"
             ],
             [
              0.5555555555555556,
              "#d8576b"
             ],
             [
              0.6666666666666666,
              "#ed7953"
             ],
             [
              0.7777777777777778,
              "#fb9f3a"
             ],
             [
              0.8888888888888888,
              "#fdca26"
             ],
             [
              1,
              "#f0f921"
             ]
            ],
            "type": "heatmap"
           }
          ],
          "heatmapgl": [
           {
            "colorbar": {
             "outlinewidth": 0,
             "ticks": ""
            },
            "colorscale": [
             [
              0,
              "#0d0887"
             ],
             [
              0.1111111111111111,
              "#46039f"
             ],
             [
              0.2222222222222222,
              "#7201a8"
             ],
             [
              0.3333333333333333,
              "#9c179e"
             ],
             [
              0.4444444444444444,
              "#bd3786"
             ],
             [
              0.5555555555555556,
              "#d8576b"
             ],
             [
              0.6666666666666666,
              "#ed7953"
             ],
             [
              0.7777777777777778,
              "#fb9f3a"
             ],
             [
              0.8888888888888888,
              "#fdca26"
             ],
             [
              1,
              "#f0f921"
             ]
            ],
            "type": "heatmapgl"
           }
          ],
          "histogram": [
           {
            "marker": {
             "colorbar": {
              "outlinewidth": 0,
              "ticks": ""
             }
            },
            "type": "histogram"
           }
          ],
          "histogram2d": [
           {
            "colorbar": {
             "outlinewidth": 0,
             "ticks": ""
            },
            "colorscale": [
             [
              0,
              "#0d0887"
             ],
             [
              0.1111111111111111,
              "#46039f"
             ],
             [
              0.2222222222222222,
              "#7201a8"
             ],
             [
              0.3333333333333333,
              "#9c179e"
             ],
             [
              0.4444444444444444,
              "#bd3786"
             ],
             [
              0.5555555555555556,
              "#d8576b"
             ],
             [
              0.6666666666666666,
              "#ed7953"
             ],
             [
              0.7777777777777778,
              "#fb9f3a"
             ],
             [
              0.8888888888888888,
              "#fdca26"
             ],
             [
              1,
              "#f0f921"
             ]
            ],
            "type": "histogram2d"
           }
          ],
          "histogram2dcontour": [
           {
            "colorbar": {
             "outlinewidth": 0,
             "ticks": ""
            },
            "colorscale": [
             [
              0,
              "#0d0887"
             ],
             [
              0.1111111111111111,
              "#46039f"
             ],
             [
              0.2222222222222222,
              "#7201a8"
             ],
             [
              0.3333333333333333,
              "#9c179e"
             ],
             [
              0.4444444444444444,
              "#bd3786"
             ],
             [
              0.5555555555555556,
              "#d8576b"
             ],
             [
              0.6666666666666666,
              "#ed7953"
             ],
             [
              0.7777777777777778,
              "#fb9f3a"
             ],
             [
              0.8888888888888888,
              "#fdca26"
             ],
             [
              1,
              "#f0f921"
             ]
            ],
            "type": "histogram2dcontour"
           }
          ],
          "mesh3d": [
           {
            "colorbar": {
             "outlinewidth": 0,
             "ticks": ""
            },
            "type": "mesh3d"
           }
          ],
          "parcoords": [
           {
            "line": {
             "colorbar": {
              "outlinewidth": 0,
              "ticks": ""
             }
            },
            "type": "parcoords"
           }
          ],
          "pie": [
           {
            "automargin": true,
            "type": "pie"
           }
          ],
          "scatter": [
           {
            "marker": {
             "colorbar": {
              "outlinewidth": 0,
              "ticks": ""
             }
            },
            "type": "scatter"
           }
          ],
          "scatter3d": [
           {
            "line": {
             "colorbar": {
              "outlinewidth": 0,
              "ticks": ""
             }
            },
            "marker": {
             "colorbar": {
              "outlinewidth": 0,
              "ticks": ""
             }
            },
            "type": "scatter3d"
           }
          ],
          "scattercarpet": [
           {
            "marker": {
             "colorbar": {
              "outlinewidth": 0,
              "ticks": ""
             }
            },
            "type": "scattercarpet"
           }
          ],
          "scattergeo": [
           {
            "marker": {
             "colorbar": {
              "outlinewidth": 0,
              "ticks": ""
             }
            },
            "type": "scattergeo"
           }
          ],
          "scattergl": [
           {
            "marker": {
             "colorbar": {
              "outlinewidth": 0,
              "ticks": ""
             }
            },
            "type": "scattergl"
           }
          ],
          "scattermapbox": [
           {
            "marker": {
             "colorbar": {
              "outlinewidth": 0,
              "ticks": ""
             }
            },
            "type": "scattermapbox"
           }
          ],
          "scatterpolar": [
           {
            "marker": {
             "colorbar": {
              "outlinewidth": 0,
              "ticks": ""
             }
            },
            "type": "scatterpolar"
           }
          ],
          "scatterpolargl": [
           {
            "marker": {
             "colorbar": {
              "outlinewidth": 0,
              "ticks": ""
             }
            },
            "type": "scatterpolargl"
           }
          ],
          "scatterternary": [
           {
            "marker": {
             "colorbar": {
              "outlinewidth": 0,
              "ticks": ""
             }
            },
            "type": "scatterternary"
           }
          ],
          "surface": [
           {
            "colorbar": {
             "outlinewidth": 0,
             "ticks": ""
            },
            "colorscale": [
             [
              0,
              "#0d0887"
             ],
             [
              0.1111111111111111,
              "#46039f"
             ],
             [
              0.2222222222222222,
              "#7201a8"
             ],
             [
              0.3333333333333333,
              "#9c179e"
             ],
             [
              0.4444444444444444,
              "#bd3786"
             ],
             [
              0.5555555555555556,
              "#d8576b"
             ],
             [
              0.6666666666666666,
              "#ed7953"
             ],
             [
              0.7777777777777778,
              "#fb9f3a"
             ],
             [
              0.8888888888888888,
              "#fdca26"
             ],
             [
              1,
              "#f0f921"
             ]
            ],
            "type": "surface"
           }
          ],
          "table": [
           {
            "cells": {
             "fill": {
              "color": "#EBF0F8"
             },
             "line": {
              "color": "white"
             }
            },
            "header": {
             "fill": {
              "color": "#C8D4E3"
             },
             "line": {
              "color": "white"
             }
            },
            "type": "table"
           }
          ]
         },
         "layout": {
          "annotationdefaults": {
           "arrowcolor": "#2a3f5f",
           "arrowhead": 0,
           "arrowwidth": 1
          },
          "coloraxis": {
           "colorbar": {
            "outlinewidth": 0,
            "ticks": ""
           }
          },
          "colorscale": {
           "diverging": [
            [
             0,
             "#8e0152"
            ],
            [
             0.1,
             "#c51b7d"
            ],
            [
             0.2,
             "#de77ae"
            ],
            [
             0.3,
             "#f1b6da"
            ],
            [
             0.4,
             "#fde0ef"
            ],
            [
             0.5,
             "#f7f7f7"
            ],
            [
             0.6,
             "#e6f5d0"
            ],
            [
             0.7,
             "#b8e186"
            ],
            [
             0.8,
             "#7fbc41"
            ],
            [
             0.9,
             "#4d9221"
            ],
            [
             1,
             "#276419"
            ]
           ],
           "sequential": [
            [
             0,
             "#0d0887"
            ],
            [
             0.1111111111111111,
             "#46039f"
            ],
            [
             0.2222222222222222,
             "#7201a8"
            ],
            [
             0.3333333333333333,
             "#9c179e"
            ],
            [
             0.4444444444444444,
             "#bd3786"
            ],
            [
             0.5555555555555556,
             "#d8576b"
            ],
            [
             0.6666666666666666,
             "#ed7953"
            ],
            [
             0.7777777777777778,
             "#fb9f3a"
            ],
            [
             0.8888888888888888,
             "#fdca26"
            ],
            [
             1,
             "#f0f921"
            ]
           ],
           "sequentialminus": [
            [
             0,
             "#0d0887"
            ],
            [
             0.1111111111111111,
             "#46039f"
            ],
            [
             0.2222222222222222,
             "#7201a8"
            ],
            [
             0.3333333333333333,
             "#9c179e"
            ],
            [
             0.4444444444444444,
             "#bd3786"
            ],
            [
             0.5555555555555556,
             "#d8576b"
            ],
            [
             0.6666666666666666,
             "#ed7953"
            ],
            [
             0.7777777777777778,
             "#fb9f3a"
            ],
            [
             0.8888888888888888,
             "#fdca26"
            ],
            [
             1,
             "#f0f921"
            ]
           ]
          },
          "colorway": [
           "#636efa",
           "#EF553B",
           "#00cc96",
           "#ab63fa",
           "#FFA15A",
           "#19d3f3",
           "#FF6692",
           "#B6E880",
           "#FF97FF",
           "#FECB52"
          ],
          "font": {
           "color": "#2a3f5f"
          },
          "geo": {
           "bgcolor": "white",
           "lakecolor": "white",
           "landcolor": "#E5ECF6",
           "showlakes": true,
           "showland": true,
           "subunitcolor": "white"
          },
          "hoverlabel": {
           "align": "left"
          },
          "hovermode": "closest",
          "mapbox": {
           "style": "light"
          },
          "paper_bgcolor": "white",
          "plot_bgcolor": "#E5ECF6",
          "polar": {
           "angularaxis": {
            "gridcolor": "white",
            "linecolor": "white",
            "ticks": ""
           },
           "bgcolor": "#E5ECF6",
           "radialaxis": {
            "gridcolor": "white",
            "linecolor": "white",
            "ticks": ""
           }
          },
          "scene": {
           "xaxis": {
            "backgroundcolor": "#E5ECF6",
            "gridcolor": "white",
            "gridwidth": 2,
            "linecolor": "white",
            "showbackground": true,
            "ticks": "",
            "zerolinecolor": "white"
           },
           "yaxis": {
            "backgroundcolor": "#E5ECF6",
            "gridcolor": "white",
            "gridwidth": 2,
            "linecolor": "white",
            "showbackground": true,
            "ticks": "",
            "zerolinecolor": "white"
           },
           "zaxis": {
            "backgroundcolor": "#E5ECF6",
            "gridcolor": "white",
            "gridwidth": 2,
            "linecolor": "white",
            "showbackground": true,
            "ticks": "",
            "zerolinecolor": "white"
           }
          },
          "shapedefaults": {
           "line": {
            "color": "#2a3f5f"
           }
          },
          "ternary": {
           "aaxis": {
            "gridcolor": "white",
            "linecolor": "white",
            "ticks": ""
           },
           "baxis": {
            "gridcolor": "white",
            "linecolor": "white",
            "ticks": ""
           },
           "bgcolor": "#E5ECF6",
           "caxis": {
            "gridcolor": "white",
            "linecolor": "white",
            "ticks": ""
           }
          },
          "title": {
           "x": 0.05
          },
          "xaxis": {
           "automargin": true,
           "gridcolor": "white",
           "linecolor": "white",
           "ticks": "",
           "title": {
            "standoff": 15
           },
           "zerolinecolor": "white",
           "zerolinewidth": 2
          },
          "yaxis": {
           "automargin": true,
           "gridcolor": "white",
           "linecolor": "white",
           "ticks": "",
           "title": {
            "standoff": 15
           },
           "zerolinecolor": "white",
           "zerolinewidth": 2
          }
         }
        },
        "xaxis": {
         "anchor": "y",
         "domain": [
          0,
          1
         ],
         "title": {
          "text": "CO_CLASSIFICACAO"
         }
        },
        "yaxis": {
         "anchor": "x",
         "domain": [
          0,
          1
         ],
         "title": {
          "text": "Nota obtida na avaliação"
         }
        }
       }
      },
      "text/html": [
       "<div>\n",
       "        \n",
       "        \n",
       "            <div id=\"04cf7fba-bc4b-4ed5-9119-8153c8e9466b\" class=\"plotly-graph-div\" style=\"height:800px; width:100%;\"></div>\n",
       "            <script type=\"text/javascript\">\n",
       "                require([\"plotly\"], function(Plotly) {\n",
       "                    window.PLOTLYENV=window.PLOTLYENV || {};\n",
       "                    \n",
       "                if (document.getElementById(\"04cf7fba-bc4b-4ed5-9119-8153c8e9466b\")) {\n",
       "                    Plotly.newPlot(\n",
       "                        '04cf7fba-bc4b-4ed5-9119-8153c8e9466b',\n",
       "                        [{\"alignmentgroup\": \"True\", \"customdata\": [[1, \"1501403656969\"], [1, \"2105503761576\"], [1, \"2105503761576\"], [1, \"3119107326521\"], [4, \"2910803749401\"], [1, \"3550306037682\"], [1, \"3106200027901\"], [4, \"2900103780384\"], [1, \"2903903780430\"], [1, \"3302203687872\"], [1, \"5217403275353\"], [1, \"3304555285895\"], [1, \"5300103000974\"], [2, \"2707103830918\"], [3, \"3205003450198\"], [2, \"3303303297454\"], [1, \"4123503888762\"], [1, \"5300103915379\"], [1, \"3304906901409\"], [1, \"4322546901255\"], [1, \"3146306911838\"], [1, \"4322546901751\"], [1, \"3551606905552\"], [1, \"4322546925049\"], [1, \"3551606994725\"], [1, \"3551606998224\"], [1, \"3159906505058\"], [1, \"3200302403099\"], [1, \"3111006339077\"], [1, \"2601406373437\"], [1, \"2611606397018\"], [1, \"5002406469892\"], [1, \"3161906463746\"], [1, \"3202456517862\"], [1, \"3511006519091\"], [1, \"4119506518923\"], [1, \"4209106556612\"], [1, \"2919956568165\"], [1, \"3303706586767\"], [1, \"3519706289231\"], [2, \"3304556296130\"], [1, \"3168606316107\"], [1, \"3168606321992\"], [1, \"4322546394787\"], [2, \"3550306423086\"], [1, \"4104206426204\"], [3, \"1504452322757\"], [1, \"3171206477984\"], [1, \"3509406479014\"], [1, \"2927406595197\"], [1, \"4312456580475\"], [2, \"4312456580475\"], [1, \"3115806611052\"], [2, \"3115806611052\"], [1, \"4108306619126\"], [1, \"2101802460971\"], [1, \"1506002331365\"], [3, \"3526902024632\"], [1, \"2914703245500\"], [2, \"2914703245500\"], [1, \"2113003542203\"], [1, \"1502002316234\"], [2, \"1508402318954\"], [3, \"1508402621592\"], [3, \"3550307457723\"], [1, \"5003702371332\"], [1, \"5003702371332\"], [4, \"3550404050436\"], [3, \"3550303146057\"], [1, \"3550307330804\"], [1, \"3500403405125\"], [1, \"3550307457723\"], [2, \"3106203375390\"], [4, \"2915303434524\"], [1, \"3509503846296\"], [1, \"3509503846296\"], [1, \"3550309882170\"], [3, \"3304553356469\"], [3, \"3304553356469\"], [2, \"3549903507157\"], [3, \"3304553356469\"], [4, \"4314903548961\"], [3, \"3106200027847\"], [1, \"2113003541304\"], [1, \"1304203581748\"], [1, \"3123706391257\"], [4, \"3503202046911\"], [4, \"2925203696995\"], [1, \"2909802600943\"], [1, \"3170402760924\"], [3, \"3513802084163\"], [1, \"1506002331403\"], [1, \"3522502078104\"], [1, \"1506002331330\"], [1, \"1100042516403\"], [2, \"3550302077426\"], [1, \"4303102231034\"], [2, \"4200802378795\"], [1, \"2111302458322\"], [1, \"2211002726998\"], [1, \"4208602665964\"], [1, \"5208702519186\"], [1, \"5208702519186\"], [1, \"3149902221985\"], [2, \"4314902237601\"], [1, \"4112202733420\"], [1, \"3540803690687\"], [1, \"3524103668266\"], [1, \"3524103668347\"], [1, \"3524103678563\"], [1, \"3524103678687\"], [1, \"2924303008185\"], [1, \"1501405459540\"], [1, \"1501402695200\"], [2, \"4305102223546\"], [1, \"2929902674432\"], [1, \"1100082803747\"], [1, \"4308302252120\"], [1, \"2111302308517\"], [1, \"1506002331357\"], [1, \"3523102078562\"], [1, \"3534400008052\"], [1, \"3530102083019\"], [1, \"2311402328372\"], [1, \"4214602377101\"], [1, \"2702302010356\"], [1, \"4323002231778\"], [1, \"4306902233460\"], [1, \"3140502144182\"], [4, \"4322602236087\"], [1, \"3136202709848\"], [1, \"3303302288966\"], [1, \"2927402497751\"], [3, \"3550302077507\"], [1, \"3115806504558\"], [1, \"3115806504558\"], [2, \"3549902748029\"], [1, \"3529403424847\"], [1, \"2512302682656\"], [4, \"3304552269988\"], [1, \"3302202278987\"], [1, \"3509502078465\"], [1, \"3550303322637\"], [1, \"3530502705222\"], [1, \"5102792471191\"], [1, \"4317952244381\"], [1, \"2602900024244\"], [3, \"2104622460564\"], [4, \"1200452002558\"], [1, \"4215402302667\"], [1, \"1500402331861\"], [2, \"4305102223562\"], [2, \"3552202078813\"], [1, \"2806202421798\"], [1, \"2806202421828\"], [2, \"2806202421860\"], [1, \"2504002363070\"], [1, \"2504002363070\"], [1, \"5218802340682\"], [1, \"2513702757915\"], [1, \"3170102206595\"], [1, \"3144306447260\"], [2, \"1101454003160\"], [1, \"4204102553163\"], [1, \"4204102553163\"], [1, \"2927400004081\"], [2, \"3200202447886\"], [1, \"3524102751704\"], [2, \"3304553187799\"], [1, \"4117602738287\"], [1, \"4107502735962\"], [1, \"2513702357429\"], [2, \"1506002331756\"], [4, \"5300103051412\"], [1, \"3171206314015\"], [1, \"3119302197693\"], [2, \"3119302197693\"], [1, \"3125102127881\"], [2, \"4204202537397\"], [2, \"5211902340046\"], [1, \"3541402755130\"], [2, \"3106202200422\"], [1, \"3507802029553\"], [3, \"3132102119455\"], [4, \"2920603226352\"], [2, \"3550303160548\"], [3, \"3145902139014\"], [1, \"2211002727005\"], [3, \"2211002727005\"], [1, \"4307502246813\"], [2, \"4307502246813\"], [2, \"3505706095666\"], [1, \"2506002322714\"], [2, \"3529403424847\"], [4, \"2924302508176\"], [1, \"3548702080591\"], [1, \"3518402081644\"], [2, \"3518402081644\"], [1, \"2927403827992\"], [3, \"2110202463997\"], [1, \"3554103126838\"], [3, \"3304553048721\"], [1, \"3516402746220\"], [2, \"3554103126838\"], [2, \"3554103126838\"], [1, \"3516303028399\"], [1, \"3516402092107\"], [2, \"3554103126838\"], [1, \"4115202743469\"], [2, \"3143302149990\"], [1, \"2604602715295\"], [1, \"3509502078465\"], [1, \"3536702791749\"], [1, \"3518102745410\"], [1, \"2310102664283\"], [1, \"3143502178648\"], [1, \"3300302799308\"], [4, \"3300302799308\"], [1, \"5107603028925\"], [1, \"5107602701626\"], [3, \"3554103126838\"], [1, \"3110806398960\"], [1, \"2403702410192\"], [1, \"3204402652773\"], [1, \"2611600020516\"], [1, \"1501575517109\"], [1, \"5209102340038\"], [1, \"4314902262487\"], [1, \"4108602735970\"], [3, \"3548706273270\"], [4, \"4313402229714\"], [4, \"MA00000000000000000000000011290\"], [1, \"3139602099209\"], [3, \"3530602080680\"], [4, \"1506002331438\"], [1, \"1506002331381\"], [1, \"2910502627140\"], [1, \"4121102731452\"], [1, \"5208702517957\"], [3, \"3139402173166\"], [1, \"2800202422646\"], [1, \"1303402016893\"], [4, \"4101902577100\"], [2, \"1502102313367\"], [1, \"3169402139200\"], [3, \"2807302422964\"], [1, \"3552202708779\"], [1, \"3530602718359\"], [3, \"3530602718359\"], [4, \"2906503628140\"], [1, \"3170102195593\"], [2, \"3143902195453\"], [3, \"3106202200457\"], [1, \"3304556407412\"], [3, \"3170202152118\"], [1, \"3170202152118\"], [1, \"3170206235212\"], [1, \"2919553319717\"], [1, \"3513802035529\"], [1, \"1505535408032\"], [1, \"3106207039212\"], [1, \"3200302402866\"], [1, \"2113002530473\"], [1, \"3304556407412\"], [1, \"1506002331411\"], [1, \"5211507005660\"], [3, \"3302102295016\"], [3, \"1504452622475\"], [1, \"3106203702693\"], [1, \"3106203069575\"], [1, \"3106203069575\"], [2, \"2807302422972\"], [1, \"2304402529467\"], [1, \"5300106786316\"], [1, \"3303306827128\"], [1, \"3551606786170\"], [1, \"3551606818129\"], [1, \"4315006808654\"], [1, \"3524406843727\"], [1, \"3509507295324\"], [4, \"3550303764206\"], [1, \"2105477387539\"], [1, \"2304402644967\"], [1, \"2313002328119\"], [1, \"2104802462753\"], [4, \"5300103431398\"], [4, \"3512803436195\"], [3, \"1501572678624\"], [1, \"3106306196969\"], [1, \"1504422316498\"], [1, \"1504422619717\"], [1, \"3157002204649\"], [1, \"2104302463806\"], [2, \"2104302463806\"], [1, \"2903908015783\"], [2, \"2903908015783\"], [1, \"3118802205904\"], [1, \"4304635695996\"], [1, \"2703306442730\"], [1, \"2113003541290\"], [2, \"1508402318970\"], [1, \"3552403393739\"], [2, \"2101802646587\"], [1, \"1506002331373\"], [1, \"1506002331624\"], [1, \"4322502241048\"], [3, \"2304403242587\"], [3, \"3547803528596\"], [1, \"3550603539113\"], [2, \"1502152677563\"], [2, \"1508402318962\"], [1, \"4102503587010\"], [1, \"4217905266599\"], [1, \"3514005341310\"], [1, \"3510605437288\"], [1, \"1505535988101\"], [1, \"2910725523877\"], [1, \"2927400004057\"], [1, \"5201402589672\"], [1, \"4310205611075\"], [1, \"3546005677475\"], [2, \"3552203020762\"], [1, \"3548802037726\"], [3, \"3304552273276\"], [1, \"3550309121293\"], [1, \"4115202587165\"], [1, \"3511902080982\"], [2, \"2304402785900\"], [1, \"3550309369120\"], [1, \"3551607216904\"], [1, \"3551607228864\"], [1, \"3304559616039\"], [1, \"2903907232519\"], [1, \"3550309369120\"], [1, \"3546007239556\"], [1, \"3304557252676\"], [1, \"2706707248954\"], [1, \"4115202587165\"], [1, \"3509509757821\"], [1, \"3551607108427\"], [1, \"3551607317670\"], [2, \"3550307223889\"], [1, \"3304553095142\"], [1, \"3200407299168\"], [1, \"3148607313012\"], [1, \"4211707329814\"], [1, \"3511407321511\"], [1, \"3151107309511\"], [1, \"3302205926890\"], [1, \"1501405996457\"], [1, \"2704406224067\"], [1, \"3540806049419\"], [1, \"3107105687500\"], [1, \"3552406130178\"], [1, \"3171206121357\"], [1, \"2312305939607\"], [1, \"3101605980763\"], [1, \"3171206035663\"], [1, \"3171206035752\"], [1, \"1505636031447\"], [1, \"3551006050018\"], [1, \"3101606068863\"], [3, \"5300106065880\"], [1, \"3305206120423\"], [1, \"3552206160263\"], [1, \"3148606160409\"], [1, \"2109106170412\"], [1, \"2504006212085\"], [1, \"2705906153720\"], [1, \"3300106274056\"], [4, \"ES0000320200000031721921000177\"], [3, \"4309002260069\"], [1, \"3506502082160\"], [1, \"3505502092611\"], [2, \"3157802164299\"], [1, \"4208202522691\"], [1, \"1506002331446\"], [1, \"4204302303892\"], [2, \"3170702761041\"], [1, \"2513702357534\"], [1, \"2927400004286\"], [1, \"3509502082128\"], [2, \"3509502022621\"], [1, \"3550302077620\"], [2, \"3525902033445\"], [1, \"2409202375036\"], [1, \"2409202375036\"], [1, \"2409702473968\"], [3, \"3550303234096\"], [1, \"3550303779270\"], [1, \"1501405332419\"], [1, \"1501405332419\"], [3, \"3550302032481\"], [1, \"1505535601266\"], [2, \"4106903000885\"], [1, \"4106903134601\"], [2, \"1503802312115\"], [1, \"1505802676923\"], [2, \"1506202676435\"], [1, \"3552202079321\"], [1, \"3552202083167\"], [1, \"5300105703999\"], [1, \"3552205125235\"], [1, \"3508705757177\"], [1, \"3500405792614\"], [1, \"4202905872189\"], [1, \"3146305866146\"], [1, \"1502902311992\"], [1, \"3118605352517\"], [1, \"3524405345073\"], [1, \"4214805383234\"], [1, \"1502155864453\"], [1, \"1301905434637\"], [1, \"3161105501180\"], [1, \"3130905628164\"], [3, \"3552202708566\"], [1, \"2701005702895\"], [1, \"3552202084465\"], [1, \"2301305776120\"], [1, \"2307305841216\"], [1, \"3536405854547\"], [1, \"3551606250572\"], [1, \"4103056272096\"], [2, \"4103056272096\"], [1, \"4305586275443\"], [1, \"3106306304907\"], [1, \"3168606321925\"], [1, \"2914806211402\"], [1, \"4318306274404\"], [1, \"4119506303161\"], [1, \"2909806312101\"], [1, \"4322546350992\"], [1, \"4219706367461\"], [1, \"3161906390285\"], [1, \"2312906456480\"], [1, \"4209106496393\"], [1, \"3110806512860\"], [1, \"4209106522149\"], [1, \"3506806549810\"], [3, \"2927402802082\"], [1, \"3117506639089\"], [1, \"4318306644325\"], [1, \"1506006652808\"], [1, \"3135106672353\"], [1, \"3144306664504\"], [1, \"3519056567924\"], [1, \"3171206507212\"], [1, \"3514906604463\"], [1, \"3150576598617\"], [1, \"3168606616445\"], [1, \"3304559264825\"], [2, \"3548702083248\"], [2, \"3523102078562\"], [1, \"2516806714048\"], [2, \"4217206683134\"], [1, \"3127706725473\"], [2, \"3550305718368\"], [1, \"3151106731422\"], [1, \"2928702520303\"], [3, \"3550305718368\"], [2, \"3509509650466\"], [1, \"3540803611957\"], [1, \"3507503678008\"], [1, \"2208403721973\"], [4, \"2910803749681\"], [4, \"2900103780376\"], [1, \"3553703770559\"], [1, \"2103603777510\"], [4, \"2906503790703\"], [2, \"1508402672111\"], [1, \"2928506433529\"], [1, \"5003702371375\"], [1, \"1100043651665\"], [3, \"1100043651665\"], [4, \"3550402078651\"], [1, \"3522403680215\"], [1, \"3553703699323\"], [1, \"3553703699420\"], [1, \"3553703699528\"], [1, \"3553703702049\"], [4, \"2922903720055\"], [1, \"3524103708845\"], [1, \"3524103708888\"], [4, \"2923033768368\"], [4, \"2924303769844\"], [2, \"3305102283980\"], [4, \"2908603770141\"], [4, \"2918503780147\"], [1, \"4215205886155\"], [1, \"2920456422780\"], [1, \"5300105128641\"], [1, \"2806305091217\"], [1, \"3528405115914\"], [1, \"3550405182336\"], [1, \"2906002799839\"], [2, \"3534405101654\"], [1, \"4206105140099\"], [1, \"2310706413641\"], [1, \"4117052741970\"], [1, \"3550405219892\"], [1, \"4102405207266\"], [1, \"1100505184843\"], [1, \"3515505212030\"], [1, \"1721002492768\"], [1, \"5103402495015\"], [3, \"5103402495015\"], [1, \"4202802385341\"], [1, \"4215402651874\"], [1, \"4308602257645\"], [1, \"3143102195925\"], [3, \"3143904042085\"], [1, \"4118802733625\"], [1, \"5103452795590\"], [1, \"2806202421801\"], [1, \"2806202421836\"], [1, \"2806202421852\"], [1, \"2806202421879\"], [1, \"5208702338165\"], [1, \"5300103343480\"], [1, \"4119902686953\"], [1, \"5107602396866\"], [1, \"2509802592401\"], [1, \"3106203046028\"], [1, \"4207302385880\"], [1, \"3106306333923\"], [3, \"3202103145190\"], [2, \"2408103649563\"], [1, \"3524103668312\"], [1, \"3524103678504\"], [1, \"3524103678520\"], [1, \"3524103678601\"], [1, \"3524103683710\"], [2, \"5208702338416\"], [1, \"2906872387727\"], [2, \"3106202695375\"], [1, \"5208702338106\"], [3, \"2903904022718\"], [1, \"3509502072831\"], [1, \"3509502072831\"], [1, \"4201502550938\"], [1, \"3147302127695\"], [1, \"2111302308665\"], [1, \"2508802362058\"], [1, \"4106602783428\"], [3, \"4106900015318\"], [1, \"3506806352863\"], [1, \"2800202422670\"], [3, \"2800202422697\"], [3, \"2800203049833\"], [1, \"4115602587912\"], [1, \"3139402785676\"], [1, \"2913702653230\"], [1, \"2913702653230\"], [1, \"4323802224356\"], [1, \"3516702086263\"], [1, \"3516702078023\"], [1, \"2508552591693\"], [1, \"3168602184834\"], [3, \"3168602184834\"], [1, \"5211902535556\"], [1, \"1721002755157\"], [1, \"3202552447479\"], [1, \"2922002498413\"], [1, \"2910503273148\"], [1, \"3170402184788\"], [1, \"2919206396763\"], [1, \"2509702336812\"], [1, \"1503702614189\"], [1, \"1100132808617\"], [1, \"5102502395290\"], [1, \"5107902534231\"], [1, \"5107902534231\"], [1, \"3550306479200\"], [1, \"2909802390043\"], [2, \"3170203752178\"], [1, \"3171302099454\"], [2, \"3550303027600\"], [2, \"1600302020890\"], [3, \"3525902078767\"], [1, \"4314903567664\"], [1, \"3106205946824\"], [1, \"4209852691876\"], [1, \"2903102602628\"], [1, \"5107602396807\"], [1, \"3540202083493\"], [1, \"2503202342235\"], [1, \"3106206492495\"], [1, \"3106207491662\"], [1, \"3303405915937\"], [2, \"3550307526512\"], [3, \"3550307552904\"], [1, \"3171206035671\"], [1, \"3171206035728\"], [1, \"3171206035744\"], [1, \"3550307552904\"], [1, \"3171206065589\"], [1, \"3171206087663\"], [1, \"4216206186742\"], [4, \"1503075925606\"], [1, \"2704406224059\"], [1, \"1501405996384\"], [1, \"1505536023827\"], [1, \"1505536023827\"], [2, \"3517606042473\"], [1, \"3552206125646\"], [1, \"3547606201776\"], [2, \"1508403886344\"], [1, \"2913904026497\"], [1, \"2903902603233\"], [1, \"2307303963926\"], [1, \"5300105008980\"], [1, \"2104305027837\"], [1, \"2903905024773\"], [3, \"2915305063302\"], [1, \"3546005101387\"], [3, \"2928203855821\"], [1, \"5107603893596\"], [1, \"1508403944093\"], [1, \"4103003951731\"], [1, \"5300103955621\"], [3, \"5300103955621\"], [1, \"2703903954005\"], [1, \"3130903974073\"], [1, \"4122103980766\"], [1, \"2919205080916\"], [1, \"5300105078962\"], [1, \"3519602082640\"], [1, \"4115602587890\"], [1, \"4207602691507\"], [1, \"1200332002272\"], [1, \"3123102169878\"], [1, \"3304552273403\"], [2, \"3518802081628\"], [1, \"1507972331772\"], [2, \"1500102318660\"], [1, \"1506002331764\"], [1, \"1506002331349\"], [1, \"2104809217932\"], [1, \"1501402332639\"], [3, \"1501402332809\"], [1, \"3549900009628\"], [1, \"3139402785692\"], [1, \"3157202144638\"], [1, \"3505902082853\"], [3, \"1507972331799\"], [1, \"3106200026859\"], [2, \"2927405407591\"], [1, \"3304557859341\"], [1, \"5107602396793\"], [1, \"4115205704332\"], [1, \"3304559139923\"], [1, \"4210502538180\"], [4, \"3303802696592\"], [1, \"2910502627132\"], [1, \"2910502627159\"], [1, \"2910502620502\"], [1, \"2910502627124\"], [3, \"3136703019063\"], [1, \"2504002315793\"], [1, \"2504002315793\"], [1, \"3170102164825\"], [1, \"3170102165058\"], [1, \"4318302247763\"], [1, \"2910502627108\"], [1, \"2910502627116\"], [1, \"2910502620472\"], [1, \"2910502620480\"], [1, \"2914404026772\"], [1, \"5107742311496\"], [1, \"2611600000582\"], [2, \"3143902162377\"], [1, \"3523402023709\"], [1, \"4122502734885\"], [1, \"1708203341887\"], [1, \"3509502084252\"], [1, \"1702102600536\"], [1, \"2708602010151\"], [1, \"3552502048299\"], [3, \"3552502048299\"], [3, \"4205502302330\"], [1, \"2516302322536\"], [1, \"1502102418665\"], [1, \"3517806357555\"], [1, \"4112952733501\"], [1, \"4119902686791\"], [3, \"4103702729539\"], [1, \"2906503504808\"], [4, \"4211102663422\"], [3, \"1702102755165\"], [1, \"4202902537141\"], [1, \"1709502786109\"], [1, \"2605452429594\"], [1, \"3552402076365\"], [1, \"1505532615754\"], [1, \"5218802340704\"], [2, \"5218802340704\"], [1, \"3129402136139\"], [4, \"1506002331322\"], [1, \"2910502627167\"], [1, \"3122302159252\"], [1, \"2411704014219\"], [3, \"4305103356868\"], [3, \"5300102811219\"], [1, \"2611600001120\"], [1, \"3171802144557\"], [1, \"4215802521776\"], [2, \"1501407871902\"], [1, \"3106206492487\"], [1, \"3550302088517\"], [1, \"3531002093472\"], [1, \"5104802397269\"], [3, \"5104802397269\"], [1, \"3106207265840\"], [1, \"3115806379826\"], [1, \"3107802760738\"], [1, \"2507502399555\"], [3, \"4322602236370\"], [1, \"2508802321343\"], [1, \"4106900015334\"], [1, \"2513202341859\"], [1, \"2513202341859\"], [1, \"2800202422778\"], [2, \"2307652372150\"], [1, \"1501402332914\"], [1, \"3541004049349\"], [1, \"4219302302500\"], [3, \"4219302302500\"], [1, \"4104802738554\"], [1, \"5215002569973\"], [1, \"5215002569973\"], [2, \"4315202252171\"], [2, \"3526402079976\"], [1, \"2504002362821\"], [1, \"3129502181029\"], [1, \"3162942147106\"], [3, \"2929602523051\"], [1, \"2111302456915\"], [1, \"2111302457962\"], [1, \"2507502399113\"], [1, \"2113003573796\"], [1, \"4205302652099\"], [2, \"3203202465833\"], [1, \"3132802169541\"], [1, \"3552402027887\"], [3, \"4216602302969\"], [1, \"2805402420120\"], [1, \"2805402420147\"], [4, \"2916853661245\"], [1, \"2611105653118\"], [1, \"3506002790602\"], [3, \"2928205416744\"], [2, \"5214002535165\"], [1, \"3110602128012\"], [1, \"3165002123711\"], [1, \"3513702081717\"], [1, \"4106900015644\"], [1, \"4106900015644\"], [1, \"4120806331777\"], [1, \"3205032547201\"], [1, \"4209002560771\"], [1, \"2928702799286\"], [2, \"2704302007037\"], [1, \"3300502282801\"], [3, \"3300502282801\"], [1, \"3550302752077\"], [1, \"3550306729150\"], [1, \"3550306866913\"], [2, \"3550309369139\"], [1, \"3550309369139\"], [1, \"3304552270471\"], [1, \"3204052678233\"], [2, \"3509507312547\"], [1, \"3522303987957\"], [1, \"3109102128020\"], [1, \"3150803985598\"], [1, \"3549102812665\"], [1, \"2910503998894\"], [1, \"1501405036569\"], [1, \"4102505081378\"], [1, \"1501405083060\"], [1, \"3205175125502\"], [1, \"2910502620464\"], [1, \"2925305138841\"], [1, \"1100505184886\"], [1, \"2104305027810\"], [1, \"3106305061679\"], [1, \"5300105084911\"], [1, \"1506605058198\"], [2, \"1506605058198\"], [1, \"2903905110009\"], [1, \"3528405111463\"], [1, \"4310105176409\"], [1, \"4217905218810\"], [1, \"4314055258251\"], [1, \"4318505257247\"], [1, \"3520007049196\"], [1, \"3301707067259\"], [1, \"2928207078781\"], [2, \"2928207078781\"], [1, \"2604107074824\"], [1, \"2604107074824\"], [1, \"4209307116519\"], [1, \"3507507128916\"], [1, \"3551607161670\"], [1, \"3553703699366\"], [1, \"3553703699471\"], [4, \"2926003720039\"], [4, \"2922903720063\"], [3, \"3105603698548\"], [1, \"3524103708780\"], [1, \"3524103708853\"], [1, \"3553703737985\"], [1, \"2805503675319\"], [4, \"2924303769836\"], [4, \"2901603780392\"], [4, \"2918503780155\"], [4, \"3526903046451\"], [1, \"2103403846407\"], [3, \"1508403835987\"], [3, \"1508402621606\"], [1, \"2903903893170\"], [1, \"3106306301355\"], [1, \"5300103938069\"], [1, \"2705703905578\"], [1, \"3510605525195\"], [1, \"3202406365965\"], [1, \"2111307495579\"], [1, \"2111307509839\"], [1, \"5300102815966\"], [2, \"5300103055450\"], [2, \"4309702265893\"], [3, \"5300103030121\"], [1, \"3306306635148\"], [1, \"2515706967450\"], [1, \"3106206636632\"], [2, \"3304557954549\"], [1, \"3509509860177\"], [1, \"3301702277360\"], [1, \"3106207684878\"], [1, \"3205202494442\"], [2, \"3550302080168\"], [1, \"3106205973821\"], [3, \"3143302149990\"], [1, \"3106200027901\"], [1, \"3550306317480\"], [3, \"3550307033486\"], [1, \"3550307033486\"], [3, \"3550307042345\"], [1, \"3550307042345\"], [3, \"3550307095031\"], [1, \"3550307095031\"], [3, \"3550307557353\"], [1, \"3550307557353\"], [1, \"3550307830297\"], [1, \"4106505729106\"], [1, \"3118606151167\"], [3, \"5100252471345\"], [1, \"3524806365213\"], [1, \"4120805849713\"], [1, \"1302602017245\"], [2, \"1302602017245\"], [1, \"3550302688603\"], [1, \"3506005336465\"], [1, \"3106209985379\"], [1, \"1501405326605\"], [1, \"1501405332427\"], [1, \"1501405332427\"], [1, \"4215205373654\"], [1, \"2925302800047\"], [2, \"3550306891411\"], [1, \"4201505546796\"], [1, \"3144305905176\"], [1, \"2111302464276\"], [1, \"1505535586720\"], [1, \"2600055563720\"], [1, \"3303205604338\"], [3, \"1302602017245\"], [1, \"5107705610087\"], [1, \"1302602017245\"], [2, \"2312905691389\"], [1, \"4100205687691\"], [3, \"3306305739993\"], [1, \"3500405734282\"], [1, \"4106605856981\"], [1, \"1502155921503\"], [1, \"4310206659551\"], [2, \"4217206683134\"], [1, \"2312906701582\"], [1, \"1100806843115\"], [3, \"3548703024660\"], [1, \"3552206806899\"], [1, \"3551606808697\"], [1, \"5300106866131\"], [1, \"2307307436300\"], [1, \"2307307468172\"], [1, \"2307307497075\"], [1, \"3157807541988\"], [2, \"3303307920911\"], [1, \"3304553034984\"], [2, \"3303303594432\"], [1, \"2307307670710\"], [2, \"3550305420938\"], [1, \"2807207408668\"], [1, \"2307307462956\"], [1, \"2111307542186\"], [1, \"2307307689934\"], [3, \"3106209642706\"], [2, \"3106202695596\"], [1, \"2307307575459\"], [1, \"2307307645902\"], [1, \"3548706333265\"], [1, \"1500807447949\"], [1, \"2111307453582\"], [1, \"2111307455976\"], [1, \"2111307458851\"], [1, \"2307307470827\"], [1, \"2307307471203\"], [1, \"2111307476795\"], [1, \"2111307477732\"], [2, \"2611603828778\"], [3, \"3526902825309\"], [2, \"3550302082535\"], [3, \"3550302091410\"], [1, \"2111307533349\"], [1, \"2111307533381\"], [1, \"2111307533578\"], [1, \"2111307533675\"], [1, \"2111307534337\"], [1, \"2111307536399\"], [1, \"2111307538995\"], [1, \"2111307541899\"], [1, \"2111307542607\"], [1, \"2111307545568\"], [1, \"2111307551436\"], [1, \"2307307629141\"], [1, \"3550306317502\"], [1, \"1302602017776\"], [1, \"2307306800815\"], [1, \"2307307808542\"], [1, \"1501402332981\"], [4, \"5103202392410\"], [1, \"2927400005118\"], [3, \"3552802079828\"], [2, \"2927400005118\"], [3, \"2927400005118\"], [3, \"3550307079060\"], [1, \"3550307079060\"], [1, \"3303902268671\"], [1, \"4305102223570\"], [1, \"3106200035009\"], [2, \"3548702081539\"], [2, \"3549802097613\"], [1, \"3170206235247\"], [1, \"3550302048108\"], [3, \"4314903007847\"], [1, \"2111302455765\"], [1, \"2111307624085\"], [2, \"3550302078589\"], [1, \"3508207351569\"], [1, \"4300802238667\"], [1, \"2111307553943\"], [1, \"2307307604602\"], [1, \"4110702517566\"], [1, \"2307307671210\"], [1, \"2307307734239\"], [1, \"2307307800274\"], [1, \"4113702578247\"], [1, \"5217109322434\"], [1, \"5300107719531\"], [3, \"1500605597501\"], [1, \"2111307435061\"], [1, \"2111307441207\"], [1, \"2111307445423\"], [1, \"5300105128757\"], [1, \"3170107575025\"], [4, \"3170107575025\"], [1, \"2307307623100\"], [1, \"2307307624646\"], [1, \"3538806596150\"], [1, \"3301707517475\"], [1, \"5105255688868\"], [1, \"4314102246988\"], [1, \"3513802059886\"], [3, \"4106903063216\"], [2, \"4314906709818\"], [2, \"4314906709826\"], [2, \"3525907477260\"], [1, \"2111307599900\"], [1, \"2111307613008\"], [3, \"5300103211541\"], [3, \"3106200027995\"], [1, \"3301003132455\"], [1, \"3301003132455\"], [2, \"3550303157547\"], [1, \"3547802080273\"], [3, \"3547802080273\"], [3, \"3550305255414\"], [1, \"3550305255414\"], [2, \"3550302077620\"], [1, \"4314903006522\"], [1, \"2307307519303\"], [1, \"3304559104267\"], [1, \"4202402558254\"], [2, \"3550307686749\"], [3, \"3106200027936\"], [1, \"3302907426925\"], [2, \"3509502078465\"], [2, \"3550307134517\"], [1, \"5300103224228\"], [2, \"4314906314023\"], [1, \"3547802084090\"], [1, \"2307307557086\"], [1, \"2307307844352\"], [1, \"5215237839901\"], [3, \"3143902195453\"], [1, \"2307307724802\"], [1, \"4319002240750\"], [3, \"3106202695634\"], [1, \"3547802789590\"], [3, \"5300107978642\"], [1, \"4113702577666\"], [1, \"3550306317529\"], [3, \"4314902262568\"], [2, \"1302602019086\"], [1, \"3510602792168\"], [1, \"3550302058391\"], [1, \"3304557834721\"], [1, \"4125707953275\"], [4, \"4125707953275\"], [1, \"3106203526690\"], [1, \"3549906988938\"], [1, \"4104422742020\"], [1, \"3519079178104\"], [1, \"3550302089343\"], [1, \"3550302091399\"], [1, \"3550306311253\"], [2, \"5300102649497\"], [1, \"5300102649497\"], [3, \"3548707752326\"], [1, \"2307307758316\"], [1, \"2307307828780\"], [1, \"3303102276267\"], [3, \"5300103055450\"], [2, \"3550309392602\"], [3, \"4302102241021\"], [1, \"3550302080818\"], [3, \"3550302080818\"], [1, \"3106200027383\"], [1, \"4314902237261\"], [3, \"3550303187764\"], [1, \"3550303187764\"], [2, \"3550309369112\"], [1, \"3550309369112\"], [1, \"5300106012515\"], [1, \"3106707727186\"], [3, \"3550302077590\"], [1, \"4113702577674\"], [1, \"3170206235239\"], [1, \"2927405407591\"], [1, \"3509502078376\"], [1, \"4202003718395\"], [1, \"3301702277360\"], [1, \"3513209513671\"], [2, \"3550303204561\"], [2, \"3541006323898\"], [2, \"3550307526482\"], [1, \"3205009966803\"], [1, \"3550302082314\"], [3, \"3106205092302\"], [3, \"1506805585422\"], [3, \"3304552271443\"], [1, \"1100202552914\"], [3, \"3106203143163\"], [1, \"4304632707969\"], [3, \"3304552271443\"], [3, \"3304552271443\"], [3, \"3304552271443\"], [3, \"3304552271443\"], [1, \"3304552271443\"], [1, \"3304552271443\"], [1, \"3304553061310\"], [3, \"3503203625087\"], [3, \"3550302089777\"], [3, \"3513002792141\"], [1, \"2307307840160\"], [1, \"3106207762771\"], [3, \"3304552269821\"], [3, \"3550302080168\"], [1, \"3538807072104\"], [1, \"3538702087057\"], [2, \"4106900015563\"], [3, \"3106200026824\"], [1, \"3165539448551\"], [2, \"3304553148564\"], [1, \"3132402127687\"], [3, \"3549802091305\"], [2, \"3550307526490\"], [1, \"3170206235166\"], [3, \"4106903000869\"], [1, \"3304553134172\"], [3, \"3131302205440\"], [3, \"3552202082101\"], [1, \"3550306614426\"], [1, \"2307307793499\"], [1, \"4209102521253\"], [2, \"5300107157207\"], [1, \"3106207146167\"], [1, \"3106207349742\"], [1, \"3550306614426\"], [1, \"3550307014821\"], [1, \"3106207166966\"], [1, \"3501603038130\"], [1, \"3509509677232\"], [1, \"3106207054998\"], [1, \"3106203485404\"], [1, \"4313406090788\"], [1, \"3304557859341\"], [3, \"1300502012022\"], [1, \"3301003132455\"], [1, \"3548703367312\"], [1, \"3547803165078\"], [1, \"5219306665322\"], [1, \"2307307728093\"], [1, \"4211202419378\"], [1, \"3522402027186\"], [1, \"4105907906536\"], [1, \"1200422000024\"], [2, \"3303302288966\"], [2, \"3522202792176\"], [1, \"2919207006497\"], [1, \"3546605967945\"], [1, \"5211503292320\"], [1, \"4307802252260\"], [1, \"4322202241706\"], [1, \"2307307847114\"], [1, \"4319006523617\"], [3, \"2919206440274\"], [1, \"4314902237601\"], [1, \"4314902237601\"], [1, \"3106209417664\"], [3, \"3168702140217\"], [1, \"3550302079127\"], [3, \"3106200027685\"], [1, \"5217709196307\"], [1, \"3530602084236\"], [1, \"2111302308355\"], [1, \"3106203314014\"], [1, \"3106203127230\"], [1, \"3106203526690\"], [1, \"3106205672015\"], [1, \"5209107541309\"], [1, \"3106205953448\"], [1, \"3106206492509\"], [3, \"3106209326332\"], [1, \"3106209326332\"], [1, \"1721002786117\"], [1, \"4106905310350\"], [2, \"3127702118858\"], [3, \"3106203557146\"], [1, \"5213806632467\"], [3, \"3106202216256\"], [1, \"3302405412447\"], [1, \"4314902237601\"], [2, \"4314902237601\"], [1, \"3106205670098\"], [1, \"3548706938876\"], [1, \"3550303143953\"], [2, \"3552209491112\"], [1, \"3550302079186\"], [1, \"3106205466989\"], [1, \"5103409016856\"], [2, \"3513803195066\"], [1, \"3303902268671\"], [1, \"3550302076950\"], [1, \"4314907092571\"], [1, \"3106203097927\"], [1, \"3304002267187\"], [2, \"3106206049443\"], [2, \"3550307552017\"], [2, \"3525907160526\"], [1, \"3501706164366\"], [1, \"3519079010866\"], [1, \"3106203282406\"], [1, \"3509502078678\"], [2, \"3549902085577\"], [1, \"3106202695316\"], [1, \"3548705135117\"], [1, \"3106207303572\"], [1, \"3106207303572\"], [1, \"3538807997272\"], [1, \"5211906481094\"], [1, \"3550302073471\"], [2, \"3550303684865\"], [1, \"3205307621442\"], [2, \"5211506451616\"], [1, \"5211506451616\"], [1, \"3543902029359\"], [1, \"3536307415982\"], [2, \"3106200027278\"], [1, \"3303303049051\"], [2, \"3510602792168\"], [1, \"3538805860571\"], [1, \"3513803195066\"], [1, \"3548806283020\"], [1, \"4106907605749\"], [1, \"4314902237598\"], [1, \"3550305426243\"], [1, \"3509509617930\"], [1, \"3550302688565\"], [1, \"2504002676060\"], [3, \"4108302591049\"], [1, \"3106206681069\"], [1, \"3106207830521\"], [1, \"4303002266474\"], [1, \"3548702030039\"], [1, \"3105602098946\"], [2, \"3303302288966\"], [1, \"1200209160868\"], [1, \"3304552708361\"], [2, \"2313407386257\"], [1, \"2307307838743\"], [1, \"3170206235220\"], [1, \"3550302088495\"], [1, \"3304555828813\"], [1, \"3205007257406\"], [1, \"3538702080699\"], [1, \"3538702080699\"]], \"hoverlabel\": {\"namelength\": 0}, \"hovertemplate\": \"CO_CLASSIFICACAO=%{customdata[0]}<br>Nota obtida na avalia\\u00e7\\u00e3o=%{customdata[1]}\", \"legendgroup\": \"\", \"marker\": {\"color\": \"rgb(158,202,225)\", \"line\": {\"color\": \"rgb(8,48,107)\", \"width\": 1.5}}, \"name\": \"\", \"offsetgroup\": \"\", \"opacity\": 0.6, \"orientation\": \"v\", \"showlegend\": false, \"textposition\": \"auto\", \"type\": \"bar\", \"x\": [1, 1, 1, 1, 4, 1, 1, 4, 1, 1, 1, 1, 1, 2, 3, 2, 1, 1, 1, 1, 1, 1, 1, 1, 1, 1, 1, 1, 1, 1, 1, 1, 1, 1, 1, 1, 1, 1, 1, 1, 2, 1, 1, 1, 2, 1, 3, 1, 1, 1, 1, 2, 1, 2, 1, 1, 1, 3, 1, 2, 1, 1, 2, 3, 3, 1, 1, 4, 3, 1, 1, 1, 2, 4, 1, 1, 1, 3, 3, 2, 3, 4, 3, 1, 1, 1, 4, 4, 1, 1, 3, 1, 1, 1, 1, 2, 1, 2, 1, 1, 1, 1, 1, 1, 2, 1, 1, 1, 1, 1, 1, 1, 1, 1, 2, 1, 1, 1, 1, 1, 1, 1, 1, 1, 1, 1, 1, 1, 1, 4, 1, 1, 1, 3, 1, 1, 2, 1, 1, 4, 1, 1, 1, 1, 1, 1, 1, 3, 4, 1, 1, 2, 2, 1, 1, 2, 1, 1, 1, 1, 1, 1, 2, 1, 1, 1, 2, 1, 2, 1, 1, 1, 2, 4, 1, 1, 2, 1, 2, 2, 1, 2, 1, 3, 4, 2, 3, 1, 3, 1, 2, 2, 1, 2, 4, 1, 1, 2, 1, 3, 1, 3, 1, 2, 2, 1, 1, 2, 1, 2, 1, 1, 1, 1, 1, 1, 1, 4, 1, 1, 3, 1, 1, 1, 1, 1, 1, 1, 1, 3, 4, 4, 1, 3, 4, 1, 1, 1, 1, 3, 1, 1, 4, 2, 1, 3, 1, 1, 3, 4, 1, 2, 3, 1, 3, 1, 1, 1, 1, 1, 1, 1, 1, 1, 1, 1, 3, 3, 1, 1, 1, 2, 1, 1, 1, 1, 1, 1, 1, 1, 4, 1, 1, 1, 1, 4, 4, 3, 1, 1, 1, 1, 1, 2, 1, 2, 1, 1, 1, 1, 2, 1, 2, 1, 1, 1, 3, 3, 1, 2, 2, 1, 1, 1, 1, 1, 1, 1, 1, 1, 1, 2, 1, 3, 1, 1, 1, 2, 1, 1, 1, 1, 1, 1, 1, 1, 1, 1, 1, 1, 1, 2, 1, 1, 1, 1, 1, 1, 1, 1, 1, 1, 1, 1, 1, 1, 1, 1, 1, 1, 1, 1, 3, 1, 1, 1, 1, 1, 1, 1, 4, 3, 1, 1, 2, 1, 1, 1, 2, 1, 1, 1, 2, 1, 2, 1, 1, 1, 3, 1, 1, 1, 3, 1, 2, 1, 2, 1, 2, 1, 1, 1, 1, 1, 1, 1, 1, 1, 1, 1, 1, 1, 1, 1, 1, 3, 1, 1, 1, 1, 1, 1, 1, 2, 1, 1, 1, 1, 1, 1, 1, 1, 1, 1, 1, 1, 1, 1, 1, 3, 1, 1, 1, 1, 1, 1, 1, 1, 1, 1, 1, 2, 2, 1, 2, 1, 2, 1, 1, 3, 2, 1, 1, 1, 4, 4, 1, 1, 4, 2, 1, 1, 1, 3, 4, 1, 1, 1, 1, 1, 4, 1, 1, 4, 4, 2, 4, 4, 1, 1, 1, 1, 1, 1, 1, 2, 1, 1, 1, 1, 1, 1, 1, 1, 1, 3, 1, 1, 1, 1, 3, 1, 1, 1, 1, 1, 1, 1, 1, 1, 1, 1, 1, 1, 1, 3, 2, 1, 1, 1, 1, 1, 2, 1, 2, 1, 3, 1, 1, 1, 1, 1, 1, 1, 3, 1, 1, 3, 3, 1, 1, 1, 1, 1, 1, 1, 1, 1, 3, 1, 1, 1, 1, 1, 1, 1, 1, 1, 1, 1, 1, 1, 1, 1, 2, 1, 2, 2, 3, 1, 1, 1, 1, 1, 1, 1, 1, 1, 1, 2, 3, 1, 1, 1, 1, 1, 1, 1, 4, 1, 1, 1, 1, 2, 1, 1, 2, 1, 1, 1, 1, 1, 1, 3, 1, 3, 1, 1, 1, 1, 3, 1, 1, 1, 1, 1, 1, 1, 1, 1, 1, 1, 2, 1, 2, 1, 1, 1, 1, 3, 1, 1, 1, 1, 3, 1, 2, 1, 1, 1, 1, 1, 4, 1, 1, 1, 1, 3, 1, 1, 1, 1, 1, 1, 1, 1, 1, 1, 1, 1, 2, 1, 1, 1, 1, 1, 1, 1, 3, 3, 1, 1, 1, 1, 1, 3, 1, 4, 3, 1, 1, 1, 1, 1, 1, 2, 1, 4, 1, 1, 1, 3, 3, 1, 1, 1, 2, 1, 1, 1, 1, 3, 1, 1, 1, 1, 3, 1, 1, 1, 1, 1, 2, 1, 1, 1, 3, 1, 1, 1, 2, 2, 1, 1, 1, 3, 1, 1, 1, 1, 1, 2, 1, 1, 3, 1, 1, 4, 1, 1, 3, 2, 1, 1, 1, 1, 1, 1, 1, 1, 1, 2, 1, 3, 1, 1, 1, 2, 1, 1, 1, 2, 1, 1, 1, 1, 1, 1, 1, 1, 1, 1, 1, 1, 1, 1, 1, 1, 2, 1, 1, 1, 1, 1, 1, 1, 1, 1, 2, 1, 1, 1, 1, 1, 1, 1, 4, 4, 3, 1, 1, 1, 1, 4, 4, 4, 4, 1, 3, 3, 1, 1, 1, 1, 1, 1, 1, 1, 1, 2, 2, 3, 1, 1, 1, 2, 1, 1, 1, 1, 2, 1, 3, 1, 1, 3, 1, 3, 1, 3, 1, 3, 1, 1, 1, 1, 3, 1, 1, 1, 2, 1, 1, 1, 1, 1, 1, 1, 1, 2, 1, 1, 1, 1, 1, 1, 3, 1, 1, 2, 1, 3, 1, 1, 1, 1, 2, 1, 1, 3, 1, 1, 1, 1, 1, 1, 1, 2, 1, 2, 1, 2, 1, 1, 1, 1, 3, 2, 1, 1, 1, 1, 1, 1, 1, 1, 1, 1, 1, 2, 3, 2, 3, 1, 1, 1, 1, 1, 1, 1, 1, 1, 1, 1, 1, 1, 1, 1, 1, 1, 4, 1, 3, 2, 3, 3, 1, 1, 1, 1, 2, 2, 1, 1, 3, 1, 1, 2, 1, 1, 1, 1, 1, 1, 1, 1, 1, 1, 1, 3, 1, 1, 1, 1, 1, 4, 1, 1, 1, 1, 1, 1, 1, 3, 2, 2, 2, 1, 1, 3, 3, 1, 1, 2, 1, 3, 3, 1, 2, 1, 1, 1, 1, 2, 3, 1, 2, 2, 1, 2, 1, 1, 1, 1, 3, 1, 1, 3, 1, 3, 1, 1, 3, 2, 1, 1, 1, 1, 4, 1, 1, 1, 1, 1, 1, 1, 2, 1, 3, 1, 1, 1, 3, 2, 3, 1, 3, 1, 1, 3, 1, 2, 1, 1, 1, 3, 1, 1, 1, 1, 1, 1, 1, 2, 2, 2, 1, 1, 3, 3, 3, 1, 3, 1, 3, 3, 3, 3, 1, 1, 1, 3, 3, 3, 1, 1, 3, 3, 1, 1, 2, 3, 1, 2, 1, 3, 2, 1, 3, 1, 3, 3, 1, 1, 1, 2, 1, 1, 1, 1, 1, 1, 1, 1, 1, 1, 1, 3, 1, 1, 1, 1, 1, 1, 1, 1, 1, 2, 2, 1, 1, 1, 1, 1, 1, 1, 3, 1, 1, 1, 3, 1, 3, 1, 1, 1, 1, 1, 1, 1, 1, 1, 1, 3, 1, 1, 1, 2, 3, 1, 3, 1, 1, 2, 1, 1, 1, 2, 1, 1, 1, 2, 1, 1, 1, 1, 1, 2, 2, 2, 1, 1, 1, 1, 2, 1, 1, 1, 1, 1, 1, 1, 2, 1, 2, 1, 1, 1, 2, 1, 2, 1, 1, 1, 1, 1, 1, 1, 1, 1, 3, 1, 1, 1, 1, 1, 2, 1, 1, 2, 1, 1, 1, 1, 1, 1, 1], \"xaxis\": \"x\", \"y\": [\"1501403656969\", \"2105503761576\", \"2105503761576\", \"3119107326521\", \"2910803749401\", \"3550306037682\", \"3106200027901\", \"2900103780384\", \"2903903780430\", \"3302203687872\", \"5217403275353\", \"3304555285895\", \"5300103000974\", \"2707103830918\", \"3205003450198\", \"3303303297454\", \"4123503888762\", \"5300103915379\", \"3304906901409\", \"4322546901255\", \"3146306911838\", \"4322546901751\", \"3551606905552\", \"4322546925049\", \"3551606994725\", \"3551606998224\", \"3159906505058\", \"3200302403099\", \"3111006339077\", \"2601406373437\", \"2611606397018\", \"5002406469892\", \"3161906463746\", \"3202456517862\", \"3511006519091\", \"4119506518923\", \"4209106556612\", \"2919956568165\", \"3303706586767\", \"3519706289231\", \"3304556296130\", \"3168606316107\", \"3168606321992\", \"4322546394787\", \"3550306423086\", \"4104206426204\", \"1504452322757\", \"3171206477984\", \"3509406479014\", \"2927406595197\", \"4312456580475\", \"4312456580475\", \"3115806611052\", \"3115806611052\", \"4108306619126\", \"2101802460971\", \"1506002331365\", \"3526902024632\", \"2914703245500\", \"2914703245500\", \"2113003542203\", \"1502002316234\", \"1508402318954\", \"1508402621592\", \"3550307457723\", \"5003702371332\", \"5003702371332\", \"3550404050436\", \"3550303146057\", \"3550307330804\", \"3500403405125\", \"3550307457723\", \"3106203375390\", \"2915303434524\", \"3509503846296\", \"3509503846296\", \"3550309882170\", \"3304553356469\", \"3304553356469\", \"3549903507157\", \"3304553356469\", \"4314903548961\", \"3106200027847\", \"2113003541304\", \"1304203581748\", \"3123706391257\", \"3503202046911\", \"2925203696995\", \"2909802600943\", \"3170402760924\", \"3513802084163\", \"1506002331403\", \"3522502078104\", \"1506002331330\", \"1100042516403\", \"3550302077426\", \"4303102231034\", \"4200802378795\", \"2111302458322\", \"2211002726998\", \"4208602665964\", \"5208702519186\", \"5208702519186\", \"3149902221985\", \"4314902237601\", \"4112202733420\", \"3540803690687\", \"3524103668266\", \"3524103668347\", \"3524103678563\", \"3524103678687\", \"2924303008185\", \"1501405459540\", \"1501402695200\", \"4305102223546\", \"2929902674432\", \"1100082803747\", \"4308302252120\", \"2111302308517\", \"1506002331357\", \"3523102078562\", \"3534400008052\", \"3530102083019\", \"2311402328372\", \"4214602377101\", \"2702302010356\", \"4323002231778\", \"4306902233460\", \"3140502144182\", \"4322602236087\", \"3136202709848\", \"3303302288966\", \"2927402497751\", \"3550302077507\", \"3115806504558\", \"3115806504558\", \"3549902748029\", \"3529403424847\", \"2512302682656\", \"3304552269988\", \"3302202278987\", \"3509502078465\", \"3550303322637\", \"3530502705222\", \"5102792471191\", \"4317952244381\", \"2602900024244\", \"2104622460564\", \"1200452002558\", \"4215402302667\", \"1500402331861\", \"4305102223562\", \"3552202078813\", \"2806202421798\", \"2806202421828\", \"2806202421860\", \"2504002363070\", \"2504002363070\", \"5218802340682\", \"2513702757915\", \"3170102206595\", \"3144306447260\", \"1101454003160\", \"4204102553163\", \"4204102553163\", \"2927400004081\", \"3200202447886\", \"3524102751704\", \"3304553187799\", \"4117602738287\", \"4107502735962\", \"2513702357429\", \"1506002331756\", \"5300103051412\", \"3171206314015\", \"3119302197693\", \"3119302197693\", \"3125102127881\", \"4204202537397\", \"5211902340046\", \"3541402755130\", \"3106202200422\", \"3507802029553\", \"3132102119455\", \"2920603226352\", \"3550303160548\", \"3145902139014\", \"2211002727005\", \"2211002727005\", \"4307502246813\", \"4307502246813\", \"3505706095666\", \"2506002322714\", \"3529403424847\", \"2924302508176\", \"3548702080591\", \"3518402081644\", \"3518402081644\", \"2927403827992\", \"2110202463997\", \"3554103126838\", \"3304553048721\", \"3516402746220\", \"3554103126838\", \"3554103126838\", \"3516303028399\", \"3516402092107\", \"3554103126838\", \"4115202743469\", \"3143302149990\", \"2604602715295\", \"3509502078465\", \"3536702791749\", \"3518102745410\", \"2310102664283\", \"3143502178648\", \"3300302799308\", \"3300302799308\", \"5107603028925\", \"5107602701626\", \"3554103126838\", \"3110806398960\", \"2403702410192\", \"3204402652773\", \"2611600020516\", \"1501575517109\", \"5209102340038\", \"4314902262487\", \"4108602735970\", \"3548706273270\", \"4313402229714\", \"MA00000000000000000000000011290\", \"3139602099209\", \"3530602080680\", \"1506002331438\", \"1506002331381\", \"2910502627140\", \"4121102731452\", \"5208702517957\", \"3139402173166\", \"2800202422646\", \"1303402016893\", \"4101902577100\", \"1502102313367\", \"3169402139200\", \"2807302422964\", \"3552202708779\", \"3530602718359\", \"3530602718359\", \"2906503628140\", \"3170102195593\", \"3143902195453\", \"3106202200457\", \"3304556407412\", \"3170202152118\", \"3170202152118\", \"3170206235212\", \"2919553319717\", \"3513802035529\", \"1505535408032\", \"3106207039212\", \"3200302402866\", \"2113002530473\", \"3304556407412\", \"1506002331411\", \"5211507005660\", \"3302102295016\", \"1504452622475\", \"3106203702693\", \"3106203069575\", \"3106203069575\", \"2807302422972\", \"2304402529467\", \"5300106786316\", \"3303306827128\", \"3551606786170\", \"3551606818129\", \"4315006808654\", \"3524406843727\", \"3509507295324\", \"3550303764206\", \"2105477387539\", \"2304402644967\", \"2313002328119\", \"2104802462753\", \"5300103431398\", \"3512803436195\", \"1501572678624\", \"3106306196969\", \"1504422316498\", \"1504422619717\", \"3157002204649\", \"2104302463806\", \"2104302463806\", \"2903908015783\", \"2903908015783\", \"3118802205904\", \"4304635695996\", \"2703306442730\", \"2113003541290\", \"1508402318970\", \"3552403393739\", \"2101802646587\", \"1506002331373\", \"1506002331624\", \"4322502241048\", \"2304403242587\", \"3547803528596\", \"3550603539113\", \"1502152677563\", \"1508402318962\", \"4102503587010\", \"4217905266599\", \"3514005341310\", \"3510605437288\", \"1505535988101\", \"2910725523877\", \"2927400004057\", \"5201402589672\", \"4310205611075\", \"3546005677475\", \"3552203020762\", \"3548802037726\", \"3304552273276\", \"3550309121293\", \"4115202587165\", \"3511902080982\", \"2304402785900\", \"3550309369120\", \"3551607216904\", \"3551607228864\", \"3304559616039\", \"2903907232519\", \"3550309369120\", \"3546007239556\", \"3304557252676\", \"2706707248954\", \"4115202587165\", \"3509509757821\", \"3551607108427\", \"3551607317670\", \"3550307223889\", \"3304553095142\", \"3200407299168\", \"3148607313012\", \"4211707329814\", \"3511407321511\", \"3151107309511\", \"3302205926890\", \"1501405996457\", \"2704406224067\", \"3540806049419\", \"3107105687500\", \"3552406130178\", \"3171206121357\", \"2312305939607\", \"3101605980763\", \"3171206035663\", \"3171206035752\", \"1505636031447\", \"3551006050018\", \"3101606068863\", \"5300106065880\", \"3305206120423\", \"3552206160263\", \"3148606160409\", \"2109106170412\", \"2504006212085\", \"2705906153720\", \"3300106274056\", \"ES0000320200000031721921000177\", \"4309002260069\", \"3506502082160\", \"3505502092611\", \"3157802164299\", \"4208202522691\", \"1506002331446\", \"4204302303892\", \"3170702761041\", \"2513702357534\", \"2927400004286\", \"3509502082128\", \"3509502022621\", \"3550302077620\", \"3525902033445\", \"2409202375036\", \"2409202375036\", \"2409702473968\", \"3550303234096\", \"3550303779270\", \"1501405332419\", \"1501405332419\", \"3550302032481\", \"1505535601266\", \"4106903000885\", \"4106903134601\", \"1503802312115\", \"1505802676923\", \"1506202676435\", \"3552202079321\", \"3552202083167\", \"5300105703999\", \"3552205125235\", \"3508705757177\", \"3500405792614\", \"4202905872189\", \"3146305866146\", \"1502902311992\", \"3118605352517\", \"3524405345073\", \"4214805383234\", \"1502155864453\", \"1301905434637\", \"3161105501180\", \"3130905628164\", \"3552202708566\", \"2701005702895\", \"3552202084465\", \"2301305776120\", \"2307305841216\", \"3536405854547\", \"3551606250572\", \"4103056272096\", \"4103056272096\", \"4305586275443\", \"3106306304907\", \"3168606321925\", \"2914806211402\", \"4318306274404\", \"4119506303161\", \"2909806312101\", \"4322546350992\", \"4219706367461\", \"3161906390285\", \"2312906456480\", \"4209106496393\", \"3110806512860\", \"4209106522149\", \"3506806549810\", \"2927402802082\", \"3117506639089\", \"4318306644325\", \"1506006652808\", \"3135106672353\", \"3144306664504\", \"3519056567924\", \"3171206507212\", \"3514906604463\", \"3150576598617\", \"3168606616445\", \"3304559264825\", \"3548702083248\", \"3523102078562\", \"2516806714048\", \"4217206683134\", \"3127706725473\", \"3550305718368\", \"3151106731422\", \"2928702520303\", \"3550305718368\", \"3509509650466\", \"3540803611957\", \"3507503678008\", \"2208403721973\", \"2910803749681\", \"2900103780376\", \"3553703770559\", \"2103603777510\", \"2906503790703\", \"1508402672111\", \"2928506433529\", \"5003702371375\", \"1100043651665\", \"1100043651665\", \"3550402078651\", \"3522403680215\", \"3553703699323\", \"3553703699420\", \"3553703699528\", \"3553703702049\", \"2922903720055\", \"3524103708845\", \"3524103708888\", \"2923033768368\", \"2924303769844\", \"3305102283980\", \"2908603770141\", \"2918503780147\", \"4215205886155\", \"2920456422780\", \"5300105128641\", \"2806305091217\", \"3528405115914\", \"3550405182336\", \"2906002799839\", \"3534405101654\", \"4206105140099\", \"2310706413641\", \"4117052741970\", \"3550405219892\", \"4102405207266\", \"1100505184843\", \"3515505212030\", \"1721002492768\", \"5103402495015\", \"5103402495015\", \"4202802385341\", \"4215402651874\", \"4308602257645\", \"3143102195925\", \"3143904042085\", \"4118802733625\", \"5103452795590\", \"2806202421801\", \"2806202421836\", \"2806202421852\", \"2806202421879\", \"5208702338165\", \"5300103343480\", \"4119902686953\", \"5107602396866\", \"2509802592401\", \"3106203046028\", \"4207302385880\", \"3106306333923\", \"3202103145190\", \"2408103649563\", \"3524103668312\", \"3524103678504\", \"3524103678520\", \"3524103678601\", \"3524103683710\", \"5208702338416\", \"2906872387727\", \"3106202695375\", \"5208702338106\", \"2903904022718\", \"3509502072831\", \"3509502072831\", \"4201502550938\", \"3147302127695\", \"2111302308665\", \"2508802362058\", \"4106602783428\", \"4106900015318\", \"3506806352863\", \"2800202422670\", \"2800202422697\", \"2800203049833\", \"4115602587912\", \"3139402785676\", \"2913702653230\", \"2913702653230\", \"4323802224356\", \"3516702086263\", \"3516702078023\", \"2508552591693\", \"3168602184834\", \"3168602184834\", \"5211902535556\", \"1721002755157\", \"3202552447479\", \"2922002498413\", \"2910503273148\", \"3170402184788\", \"2919206396763\", \"2509702336812\", \"1503702614189\", \"1100132808617\", \"5102502395290\", \"5107902534231\", \"5107902534231\", \"3550306479200\", \"2909802390043\", \"3170203752178\", \"3171302099454\", \"3550303027600\", \"1600302020890\", \"3525902078767\", \"4314903567664\", \"3106205946824\", \"4209852691876\", \"2903102602628\", \"5107602396807\", \"3540202083493\", \"2503202342235\", \"3106206492495\", \"3106207491662\", \"3303405915937\", \"3550307526512\", \"3550307552904\", \"3171206035671\", \"3171206035728\", \"3171206035744\", \"3550307552904\", \"3171206065589\", \"3171206087663\", \"4216206186742\", \"1503075925606\", \"2704406224059\", \"1501405996384\", \"1505536023827\", \"1505536023827\", \"3517606042473\", \"3552206125646\", \"3547606201776\", \"1508403886344\", \"2913904026497\", \"2903902603233\", \"2307303963926\", \"5300105008980\", \"2104305027837\", \"2903905024773\", \"2915305063302\", \"3546005101387\", \"2928203855821\", \"5107603893596\", \"1508403944093\", \"4103003951731\", \"5300103955621\", \"5300103955621\", \"2703903954005\", \"3130903974073\", \"4122103980766\", \"2919205080916\", \"5300105078962\", \"3519602082640\", \"4115602587890\", \"4207602691507\", \"1200332002272\", \"3123102169878\", \"3304552273403\", \"3518802081628\", \"1507972331772\", \"1500102318660\", \"1506002331764\", \"1506002331349\", \"2104809217932\", \"1501402332639\", \"1501402332809\", \"3549900009628\", \"3139402785692\", \"3157202144638\", \"3505902082853\", \"1507972331799\", \"3106200026859\", \"2927405407591\", \"3304557859341\", \"5107602396793\", \"4115205704332\", \"3304559139923\", \"4210502538180\", \"3303802696592\", \"2910502627132\", \"2910502627159\", \"2910502620502\", \"2910502627124\", \"3136703019063\", \"2504002315793\", \"2504002315793\", \"3170102164825\", \"3170102165058\", \"4318302247763\", \"2910502627108\", \"2910502627116\", \"2910502620472\", \"2910502620480\", \"2914404026772\", \"5107742311496\", \"2611600000582\", \"3143902162377\", \"3523402023709\", \"4122502734885\", \"1708203341887\", \"3509502084252\", \"1702102600536\", \"2708602010151\", \"3552502048299\", \"3552502048299\", \"4205502302330\", \"2516302322536\", \"1502102418665\", \"3517806357555\", \"4112952733501\", \"4119902686791\", \"4103702729539\", \"2906503504808\", \"4211102663422\", \"1702102755165\", \"4202902537141\", \"1709502786109\", \"2605452429594\", \"3552402076365\", \"1505532615754\", \"5218802340704\", \"5218802340704\", \"3129402136139\", \"1506002331322\", \"2910502627167\", \"3122302159252\", \"2411704014219\", \"4305103356868\", \"5300102811219\", \"2611600001120\", \"3171802144557\", \"4215802521776\", \"1501407871902\", \"3106206492487\", \"3550302088517\", \"3531002093472\", \"5104802397269\", \"5104802397269\", \"3106207265840\", \"3115806379826\", \"3107802760738\", \"2507502399555\", \"4322602236370\", \"2508802321343\", \"4106900015334\", \"2513202341859\", \"2513202341859\", \"2800202422778\", \"2307652372150\", \"1501402332914\", \"3541004049349\", \"4219302302500\", \"4219302302500\", \"4104802738554\", \"5215002569973\", \"5215002569973\", \"4315202252171\", \"3526402079976\", \"2504002362821\", \"3129502181029\", \"3162942147106\", \"2929602523051\", \"2111302456915\", \"2111302457962\", \"2507502399113\", \"2113003573796\", \"4205302652099\", \"3203202465833\", \"3132802169541\", \"3552402027887\", \"4216602302969\", \"2805402420120\", \"2805402420147\", \"2916853661245\", \"2611105653118\", \"3506002790602\", \"2928205416744\", \"5214002535165\", \"3110602128012\", \"3165002123711\", \"3513702081717\", \"4106900015644\", \"4106900015644\", \"4120806331777\", \"3205032547201\", \"4209002560771\", \"2928702799286\", \"2704302007037\", \"3300502282801\", \"3300502282801\", \"3550302752077\", \"3550306729150\", \"3550306866913\", \"3550309369139\", \"3550309369139\", \"3304552270471\", \"3204052678233\", \"3509507312547\", \"3522303987957\", \"3109102128020\", \"3150803985598\", \"3549102812665\", \"2910503998894\", \"1501405036569\", \"4102505081378\", \"1501405083060\", \"3205175125502\", \"2910502620464\", \"2925305138841\", \"1100505184886\", \"2104305027810\", \"3106305061679\", \"5300105084911\", \"1506605058198\", \"1506605058198\", \"2903905110009\", \"3528405111463\", \"4310105176409\", \"4217905218810\", \"4314055258251\", \"4318505257247\", \"3520007049196\", \"3301707067259\", \"2928207078781\", \"2928207078781\", \"2604107074824\", \"2604107074824\", \"4209307116519\", \"3507507128916\", \"3551607161670\", \"3553703699366\", \"3553703699471\", \"2926003720039\", \"2922903720063\", \"3105603698548\", \"3524103708780\", \"3524103708853\", \"3553703737985\", \"2805503675319\", \"2924303769836\", \"2901603780392\", \"2918503780155\", \"3526903046451\", \"2103403846407\", \"1508403835987\", \"1508402621606\", \"2903903893170\", \"3106306301355\", \"5300103938069\", \"2705703905578\", \"3510605525195\", \"3202406365965\", \"2111307495579\", \"2111307509839\", \"5300102815966\", \"5300103055450\", \"4309702265893\", \"5300103030121\", \"3306306635148\", \"2515706967450\", \"3106206636632\", \"3304557954549\", \"3509509860177\", \"3301702277360\", \"3106207684878\", \"3205202494442\", \"3550302080168\", \"3106205973821\", \"3143302149990\", \"3106200027901\", \"3550306317480\", \"3550307033486\", \"3550307033486\", \"3550307042345\", \"3550307042345\", \"3550307095031\", \"3550307095031\", \"3550307557353\", \"3550307557353\", \"3550307830297\", \"4106505729106\", \"3118606151167\", \"5100252471345\", \"3524806365213\", \"4120805849713\", \"1302602017245\", \"1302602017245\", \"3550302688603\", \"3506005336465\", \"3106209985379\", \"1501405326605\", \"1501405332427\", \"1501405332427\", \"4215205373654\", \"2925302800047\", \"3550306891411\", \"4201505546796\", \"3144305905176\", \"2111302464276\", \"1505535586720\", \"2600055563720\", \"3303205604338\", \"1302602017245\", \"5107705610087\", \"1302602017245\", \"2312905691389\", \"4100205687691\", \"3306305739993\", \"3500405734282\", \"4106605856981\", \"1502155921503\", \"4310206659551\", \"4217206683134\", \"2312906701582\", \"1100806843115\", \"3548703024660\", \"3552206806899\", \"3551606808697\", \"5300106866131\", \"2307307436300\", \"2307307468172\", \"2307307497075\", \"3157807541988\", \"3303307920911\", \"3304553034984\", \"3303303594432\", \"2307307670710\", \"3550305420938\", \"2807207408668\", \"2307307462956\", \"2111307542186\", \"2307307689934\", \"3106209642706\", \"3106202695596\", \"2307307575459\", \"2307307645902\", \"3548706333265\", \"1500807447949\", \"2111307453582\", \"2111307455976\", \"2111307458851\", \"2307307470827\", \"2307307471203\", \"2111307476795\", \"2111307477732\", \"2611603828778\", \"3526902825309\", \"3550302082535\", \"3550302091410\", \"2111307533349\", \"2111307533381\", \"2111307533578\", \"2111307533675\", \"2111307534337\", \"2111307536399\", \"2111307538995\", \"2111307541899\", \"2111307542607\", \"2111307545568\", \"2111307551436\", \"2307307629141\", \"3550306317502\", \"1302602017776\", \"2307306800815\", \"2307307808542\", \"1501402332981\", \"5103202392410\", \"2927400005118\", \"3552802079828\", \"2927400005118\", \"2927400005118\", \"3550307079060\", \"3550307079060\", \"3303902268671\", \"4305102223570\", \"3106200035009\", \"3548702081539\", \"3549802097613\", \"3170206235247\", \"3550302048108\", \"4314903007847\", \"2111302455765\", \"2111307624085\", \"3550302078589\", \"3508207351569\", \"4300802238667\", \"2111307553943\", \"2307307604602\", \"4110702517566\", \"2307307671210\", \"2307307734239\", \"2307307800274\", \"4113702578247\", \"5217109322434\", \"5300107719531\", \"1500605597501\", \"2111307435061\", \"2111307441207\", \"2111307445423\", \"5300105128757\", \"3170107575025\", \"3170107575025\", \"2307307623100\", \"2307307624646\", \"3538806596150\", \"3301707517475\", \"5105255688868\", \"4314102246988\", \"3513802059886\", \"4106903063216\", \"4314906709818\", \"4314906709826\", \"3525907477260\", \"2111307599900\", \"2111307613008\", \"5300103211541\", \"3106200027995\", \"3301003132455\", \"3301003132455\", \"3550303157547\", \"3547802080273\", \"3547802080273\", \"3550305255414\", \"3550305255414\", \"3550302077620\", \"4314903006522\", \"2307307519303\", \"3304559104267\", \"4202402558254\", \"3550307686749\", \"3106200027936\", \"3302907426925\", \"3509502078465\", \"3550307134517\", \"5300103224228\", \"4314906314023\", \"3547802084090\", \"2307307557086\", \"2307307844352\", \"5215237839901\", \"3143902195453\", \"2307307724802\", \"4319002240750\", \"3106202695634\", \"3547802789590\", \"5300107978642\", \"4113702577666\", \"3550306317529\", \"4314902262568\", \"1302602019086\", \"3510602792168\", \"3550302058391\", \"3304557834721\", \"4125707953275\", \"4125707953275\", \"3106203526690\", \"3549906988938\", \"4104422742020\", \"3519079178104\", \"3550302089343\", \"3550302091399\", \"3550306311253\", \"5300102649497\", \"5300102649497\", \"3548707752326\", \"2307307758316\", \"2307307828780\", \"3303102276267\", \"5300103055450\", \"3550309392602\", \"4302102241021\", \"3550302080818\", \"3550302080818\", \"3106200027383\", \"4314902237261\", \"3550303187764\", \"3550303187764\", \"3550309369112\", \"3550309369112\", \"5300106012515\", \"3106707727186\", \"3550302077590\", \"4113702577674\", \"3170206235239\", \"2927405407591\", \"3509502078376\", \"4202003718395\", \"3301702277360\", \"3513209513671\", \"3550303204561\", \"3541006323898\", \"3550307526482\", \"3205009966803\", \"3550302082314\", \"3106205092302\", \"1506805585422\", \"3304552271443\", \"1100202552914\", \"3106203143163\", \"4304632707969\", \"3304552271443\", \"3304552271443\", \"3304552271443\", \"3304552271443\", \"3304552271443\", \"3304552271443\", \"3304553061310\", \"3503203625087\", \"3550302089777\", \"3513002792141\", \"2307307840160\", \"3106207762771\", \"3304552269821\", \"3550302080168\", \"3538807072104\", \"3538702087057\", \"4106900015563\", \"3106200026824\", \"3165539448551\", \"3304553148564\", \"3132402127687\", \"3549802091305\", \"3550307526490\", \"3170206235166\", \"4106903000869\", \"3304553134172\", \"3131302205440\", \"3552202082101\", \"3550306614426\", \"2307307793499\", \"4209102521253\", \"5300107157207\", \"3106207146167\", \"3106207349742\", \"3550306614426\", \"3550307014821\", \"3106207166966\", \"3501603038130\", \"3509509677232\", \"3106207054998\", \"3106203485404\", \"4313406090788\", \"3304557859341\", \"1300502012022\", \"3301003132455\", \"3548703367312\", \"3547803165078\", \"5219306665322\", \"2307307728093\", \"4211202419378\", \"3522402027186\", \"4105907906536\", \"1200422000024\", \"3303302288966\", \"3522202792176\", \"2919207006497\", \"3546605967945\", \"5211503292320\", \"4307802252260\", \"4322202241706\", \"2307307847114\", \"4319006523617\", \"2919206440274\", \"4314902237601\", \"4314902237601\", \"3106209417664\", \"3168702140217\", \"3550302079127\", \"3106200027685\", \"5217709196307\", \"3530602084236\", \"2111302308355\", \"3106203314014\", \"3106203127230\", \"3106203526690\", \"3106205672015\", \"5209107541309\", \"3106205953448\", \"3106206492509\", \"3106209326332\", \"3106209326332\", \"1721002786117\", \"4106905310350\", \"3127702118858\", \"3106203557146\", \"5213806632467\", \"3106202216256\", \"3302405412447\", \"4314902237601\", \"4314902237601\", \"3106205670098\", \"3548706938876\", \"3550303143953\", \"3552209491112\", \"3550302079186\", \"3106205466989\", \"5103409016856\", \"3513803195066\", \"3303902268671\", \"3550302076950\", \"4314907092571\", \"3106203097927\", \"3304002267187\", \"3106206049443\", \"3550307552017\", \"3525907160526\", \"3501706164366\", \"3519079010866\", \"3106203282406\", \"3509502078678\", \"3549902085577\", \"3106202695316\", \"3548705135117\", \"3106207303572\", \"3106207303572\", \"3538807997272\", \"5211906481094\", \"3550302073471\", \"3550303684865\", \"3205307621442\", \"5211506451616\", \"5211506451616\", \"3543902029359\", \"3536307415982\", \"3106200027278\", \"3303303049051\", \"3510602792168\", \"3538805860571\", \"3513803195066\", \"3548806283020\", \"4106907605749\", \"4314902237598\", \"3550305426243\", \"3509509617930\", \"3550302688565\", \"2504002676060\", \"4108302591049\", \"3106206681069\", \"3106207830521\", \"4303002266474\", \"3548702030039\", \"3105602098946\", \"3303302288966\", \"1200209160868\", \"3304552708361\", \"2313407386257\", \"2307307838743\", \"3170206235220\", \"3550302088495\", \"3304555828813\", \"3205007257406\", \"3538702080699\", \"3538702080699\"], \"yaxis\": \"y\"}],\n",
       "                        {\"barmode\": \"relative\", \"height\": 800, \"legend\": {\"tracegroupgap\": 0}, \"margin\": {\"t\": 60}, \"template\": {\"data\": {\"bar\": [{\"error_x\": {\"color\": \"#2a3f5f\"}, \"error_y\": {\"color\": \"#2a3f5f\"}, \"marker\": {\"line\": {\"color\": \"#E5ECF6\", \"width\": 0.5}}, \"type\": \"bar\"}], \"barpolar\": [{\"marker\": {\"line\": {\"color\": \"#E5ECF6\", \"width\": 0.5}}, \"type\": \"barpolar\"}], \"carpet\": [{\"aaxis\": {\"endlinecolor\": \"#2a3f5f\", \"gridcolor\": \"white\", \"linecolor\": \"white\", \"minorgridcolor\": \"white\", \"startlinecolor\": \"#2a3f5f\"}, \"baxis\": {\"endlinecolor\": \"#2a3f5f\", \"gridcolor\": \"white\", \"linecolor\": \"white\", \"minorgridcolor\": \"white\", \"startlinecolor\": \"#2a3f5f\"}, \"type\": \"carpet\"}], \"choropleth\": [{\"colorbar\": {\"outlinewidth\": 0, \"ticks\": \"\"}, \"type\": \"choropleth\"}], \"contour\": [{\"colorbar\": {\"outlinewidth\": 0, \"ticks\": \"\"}, \"colorscale\": [[0.0, \"#0d0887\"], [0.1111111111111111, \"#46039f\"], [0.2222222222222222, \"#7201a8\"], [0.3333333333333333, \"#9c179e\"], [0.4444444444444444, \"#bd3786\"], [0.5555555555555556, \"#d8576b\"], [0.6666666666666666, \"#ed7953\"], [0.7777777777777778, \"#fb9f3a\"], [0.8888888888888888, \"#fdca26\"], [1.0, \"#f0f921\"]], \"type\": \"contour\"}], \"contourcarpet\": [{\"colorbar\": {\"outlinewidth\": 0, \"ticks\": \"\"}, \"type\": \"contourcarpet\"}], \"heatmap\": [{\"colorbar\": {\"outlinewidth\": 0, \"ticks\": \"\"}, \"colorscale\": [[0.0, \"#0d0887\"], [0.1111111111111111, \"#46039f\"], [0.2222222222222222, \"#7201a8\"], [0.3333333333333333, \"#9c179e\"], [0.4444444444444444, \"#bd3786\"], [0.5555555555555556, \"#d8576b\"], [0.6666666666666666, \"#ed7953\"], [0.7777777777777778, \"#fb9f3a\"], [0.8888888888888888, \"#fdca26\"], [1.0, \"#f0f921\"]], \"type\": \"heatmap\"}], \"heatmapgl\": [{\"colorbar\": {\"outlinewidth\": 0, \"ticks\": \"\"}, \"colorscale\": [[0.0, \"#0d0887\"], [0.1111111111111111, \"#46039f\"], [0.2222222222222222, \"#7201a8\"], [0.3333333333333333, \"#9c179e\"], [0.4444444444444444, \"#bd3786\"], [0.5555555555555556, \"#d8576b\"], [0.6666666666666666, \"#ed7953\"], [0.7777777777777778, \"#fb9f3a\"], [0.8888888888888888, \"#fdca26\"], [1.0, \"#f0f921\"]], \"type\": \"heatmapgl\"}], \"histogram\": [{\"marker\": {\"colorbar\": {\"outlinewidth\": 0, \"ticks\": \"\"}}, \"type\": \"histogram\"}], \"histogram2d\": [{\"colorbar\": {\"outlinewidth\": 0, \"ticks\": \"\"}, \"colorscale\": [[0.0, \"#0d0887\"], [0.1111111111111111, \"#46039f\"], [0.2222222222222222, \"#7201a8\"], [0.3333333333333333, \"#9c179e\"], [0.4444444444444444, \"#bd3786\"], [0.5555555555555556, \"#d8576b\"], [0.6666666666666666, \"#ed7953\"], [0.7777777777777778, \"#fb9f3a\"], [0.8888888888888888, \"#fdca26\"], [1.0, \"#f0f921\"]], \"type\": \"histogram2d\"}], \"histogram2dcontour\": [{\"colorbar\": {\"outlinewidth\": 0, \"ticks\": \"\"}, \"colorscale\": [[0.0, \"#0d0887\"], [0.1111111111111111, \"#46039f\"], [0.2222222222222222, \"#7201a8\"], [0.3333333333333333, \"#9c179e\"], [0.4444444444444444, \"#bd3786\"], [0.5555555555555556, \"#d8576b\"], [0.6666666666666666, \"#ed7953\"], [0.7777777777777778, \"#fb9f3a\"], [0.8888888888888888, \"#fdca26\"], [1.0, \"#f0f921\"]], \"type\": \"histogram2dcontour\"}], \"mesh3d\": [{\"colorbar\": {\"outlinewidth\": 0, \"ticks\": \"\"}, \"type\": \"mesh3d\"}], \"parcoords\": [{\"line\": {\"colorbar\": {\"outlinewidth\": 0, \"ticks\": \"\"}}, \"type\": \"parcoords\"}], \"pie\": [{\"automargin\": true, \"type\": \"pie\"}], \"scatter\": [{\"marker\": {\"colorbar\": {\"outlinewidth\": 0, \"ticks\": \"\"}}, \"type\": \"scatter\"}], \"scatter3d\": [{\"line\": {\"colorbar\": {\"outlinewidth\": 0, \"ticks\": \"\"}}, \"marker\": {\"colorbar\": {\"outlinewidth\": 0, \"ticks\": \"\"}}, \"type\": \"scatter3d\"}], \"scattercarpet\": [{\"marker\": {\"colorbar\": {\"outlinewidth\": 0, \"ticks\": \"\"}}, \"type\": \"scattercarpet\"}], \"scattergeo\": [{\"marker\": {\"colorbar\": {\"outlinewidth\": 0, \"ticks\": \"\"}}, \"type\": \"scattergeo\"}], \"scattergl\": [{\"marker\": {\"colorbar\": {\"outlinewidth\": 0, \"ticks\": \"\"}}, \"type\": \"scattergl\"}], \"scattermapbox\": [{\"marker\": {\"colorbar\": {\"outlinewidth\": 0, \"ticks\": \"\"}}, \"type\": \"scattermapbox\"}], \"scatterpolar\": [{\"marker\": {\"colorbar\": {\"outlinewidth\": 0, \"ticks\": \"\"}}, \"type\": \"scatterpolar\"}], \"scatterpolargl\": [{\"marker\": {\"colorbar\": {\"outlinewidth\": 0, \"ticks\": \"\"}}, \"type\": \"scatterpolargl\"}], \"scatterternary\": [{\"marker\": {\"colorbar\": {\"outlinewidth\": 0, \"ticks\": \"\"}}, \"type\": \"scatterternary\"}], \"surface\": [{\"colorbar\": {\"outlinewidth\": 0, \"ticks\": \"\"}, \"colorscale\": [[0.0, \"#0d0887\"], [0.1111111111111111, \"#46039f\"], [0.2222222222222222, \"#7201a8\"], [0.3333333333333333, \"#9c179e\"], [0.4444444444444444, \"#bd3786\"], [0.5555555555555556, \"#d8576b\"], [0.6666666666666666, \"#ed7953\"], [0.7777777777777778, \"#fb9f3a\"], [0.8888888888888888, \"#fdca26\"], [1.0, \"#f0f921\"]], \"type\": \"surface\"}], \"table\": [{\"cells\": {\"fill\": {\"color\": \"#EBF0F8\"}, \"line\": {\"color\": \"white\"}}, \"header\": {\"fill\": {\"color\": \"#C8D4E3\"}, \"line\": {\"color\": \"white\"}}, \"type\": \"table\"}]}, \"layout\": {\"annotationdefaults\": {\"arrowcolor\": \"#2a3f5f\", \"arrowhead\": 0, \"arrowwidth\": 1}, \"coloraxis\": {\"colorbar\": {\"outlinewidth\": 0, \"ticks\": \"\"}}, \"colorscale\": {\"diverging\": [[0, \"#8e0152\"], [0.1, \"#c51b7d\"], [0.2, \"#de77ae\"], [0.3, \"#f1b6da\"], [0.4, \"#fde0ef\"], [0.5, \"#f7f7f7\"], [0.6, \"#e6f5d0\"], [0.7, \"#b8e186\"], [0.8, \"#7fbc41\"], [0.9, \"#4d9221\"], [1, \"#276419\"]], \"sequential\": [[0.0, \"#0d0887\"], [0.1111111111111111, \"#46039f\"], [0.2222222222222222, \"#7201a8\"], [0.3333333333333333, \"#9c179e\"], [0.4444444444444444, \"#bd3786\"], [0.5555555555555556, \"#d8576b\"], [0.6666666666666666, \"#ed7953\"], [0.7777777777777778, \"#fb9f3a\"], [0.8888888888888888, \"#fdca26\"], [1.0, \"#f0f921\"]], \"sequentialminus\": [[0.0, \"#0d0887\"], [0.1111111111111111, \"#46039f\"], [0.2222222222222222, \"#7201a8\"], [0.3333333333333333, \"#9c179e\"], [0.4444444444444444, \"#bd3786\"], [0.5555555555555556, \"#d8576b\"], [0.6666666666666666, \"#ed7953\"], [0.7777777777777778, \"#fb9f3a\"], [0.8888888888888888, \"#fdca26\"], [1.0, \"#f0f921\"]]}, \"colorway\": [\"#636efa\", \"#EF553B\", \"#00cc96\", \"#ab63fa\", \"#FFA15A\", \"#19d3f3\", \"#FF6692\", \"#B6E880\", \"#FF97FF\", \"#FECB52\"], \"font\": {\"color\": \"#2a3f5f\"}, \"geo\": {\"bgcolor\": \"white\", \"lakecolor\": \"white\", \"landcolor\": \"#E5ECF6\", \"showlakes\": true, \"showland\": true, \"subunitcolor\": \"white\"}, \"hoverlabel\": {\"align\": \"left\"}, \"hovermode\": \"closest\", \"mapbox\": {\"style\": \"light\"}, \"paper_bgcolor\": \"white\", \"plot_bgcolor\": \"#E5ECF6\", \"polar\": {\"angularaxis\": {\"gridcolor\": \"white\", \"linecolor\": \"white\", \"ticks\": \"\"}, \"bgcolor\": \"#E5ECF6\", \"radialaxis\": {\"gridcolor\": \"white\", \"linecolor\": \"white\", \"ticks\": \"\"}}, \"scene\": {\"xaxis\": {\"backgroundcolor\": \"#E5ECF6\", \"gridcolor\": \"white\", \"gridwidth\": 2, \"linecolor\": \"white\", \"showbackground\": true, \"ticks\": \"\", \"zerolinecolor\": \"white\"}, \"yaxis\": {\"backgroundcolor\": \"#E5ECF6\", \"gridcolor\": \"white\", \"gridwidth\": 2, \"linecolor\": \"white\", \"showbackground\": true, \"ticks\": \"\", \"zerolinecolor\": \"white\"}, \"zaxis\": {\"backgroundcolor\": \"#E5ECF6\", \"gridcolor\": \"white\", \"gridwidth\": 2, \"linecolor\": \"white\", \"showbackground\": true, \"ticks\": \"\", \"zerolinecolor\": \"white\"}}, \"shapedefaults\": {\"line\": {\"color\": \"#2a3f5f\"}}, \"ternary\": {\"aaxis\": {\"gridcolor\": \"white\", \"linecolor\": \"white\", \"ticks\": \"\"}, \"baxis\": {\"gridcolor\": \"white\", \"linecolor\": \"white\", \"ticks\": \"\"}, \"bgcolor\": \"#E5ECF6\", \"caxis\": {\"gridcolor\": \"white\", \"linecolor\": \"white\", \"ticks\": \"\"}}, \"title\": {\"x\": 0.05}, \"xaxis\": {\"automargin\": true, \"gridcolor\": \"white\", \"linecolor\": \"white\", \"ticks\": \"\", \"title\": {\"standoff\": 15}, \"zerolinecolor\": \"white\", \"zerolinewidth\": 2}, \"yaxis\": {\"automargin\": true, \"gridcolor\": \"white\", \"linecolor\": \"white\", \"ticks\": \"\", \"title\": {\"standoff\": 15}, \"zerolinecolor\": \"white\", \"zerolinewidth\": 2}}}, \"xaxis\": {\"anchor\": \"y\", \"domain\": [0.0, 1.0], \"title\": {\"text\": \"CO_CLASSIFICACAO\"}}, \"yaxis\": {\"anchor\": \"x\", \"domain\": [0.0, 1.0], \"title\": {\"text\": \"Nota obtida na avalia\\u00e7\\u00e3o\"}}},\n",
       "                        {\"responsive\": true}\n",
       "                    ).then(function(){\n",
       "                            \n",
       "var gd = document.getElementById('04cf7fba-bc4b-4ed5-9119-8153c8e9466b');\n",
       "var x = new MutationObserver(function (mutations, observer) {{\n",
       "        var display = window.getComputedStyle(gd).display;\n",
       "        if (!display || display === 'none') {{\n",
       "            console.log([gd, 'removed!']);\n",
       "            Plotly.purge(gd);\n",
       "            observer.disconnect();\n",
       "        }}\n",
       "}});\n",
       "\n",
       "// Listen for the removal of the full notebook cells\n",
       "var notebookContainer = gd.closest('#notebook-container');\n",
       "if (notebookContainer) {{\n",
       "    x.observe(notebookContainer, {childList: true});\n",
       "}}\n",
       "\n",
       "// Listen for the clearing of the current output cell\n",
       "var outputEl = gd.closest('.output');\n",
       "if (outputEl) {{\n",
       "    x.observe(outputEl, {childList: true});\n",
       "}}\n",
       "\n",
       "                        })\n",
       "                };\n",
       "                });\n",
       "            </script>\n",
       "        </div>"
      ]
     },
     "metadata": {},
     "output_type": "display_data"
    }
   ],
   "source": [
    "fig = px.bar(rlAv, x='CO_CLASSIFICACAO', y='CO_UNIDADE',\n",
    "             hover_data=['CO_CLASSIFICACAO', 'CO_UNIDADE'],\n",
    "             labels={'CO_UNIDADE':'Nota obtida na avaliação'}, height=800)\n",
    "fig.update_traces(marker_color='rgb(158,202,225)', marker_line_color='rgb(8,48,107)',\n",
    "                  marker_line_width=1.5, opacity=0.6)\n",
    "fig.show()"
   ]
  },
  {
   "cell_type": "markdown",
   "metadata": {},
   "source": [
    "## Estabelecimentos"
   ]
  },
  {
   "cell_type": "code",
   "execution_count": 27,
   "metadata": {},
   "outputs": [],
   "source": [
    "path = 'C:\\\\Users\\\\alissonsilva\\\\Downloads\\\\BASE_DE_DADOS_CNES_202001\\\\'\n",
    "tbEs = pandas.read_csv(path + \"tbEstabelecimento202001.csv\", sep=';', low_memory=False)\n",
    "rlTi = pandas.read_csv(path + \"rlTipoEstabAtividade202001.csv\", sep=';', low_memory=False)\n",
    "tbTi = pandas.read_csv(path + \"tbTipoEstabelecimento202001.csv\", sep=';', low_memory=False)"
   ]
  },
  {
   "cell_type": "code",
   "execution_count": 45,
   "metadata": {},
   "outputs": [
    {
     "data": {
      "text/html": [
       "<div>\n",
       "<style scoped>\n",
       "    .dataframe tbody tr th:only-of-type {\n",
       "        vertical-align: middle;\n",
       "    }\n",
       "\n",
       "    .dataframe tbody tr th {\n",
       "        vertical-align: top;\n",
       "    }\n",
       "\n",
       "    .dataframe thead th {\n",
       "        text-align: right;\n",
       "    }\n",
       "</style>\n",
       "<table border=\"1\" class=\"dataframe\">\n",
       "  <thead>\n",
       "    <tr style=\"text-align: right;\">\n",
       "      <th></th>\n",
       "      <th>CO_UNIDADE</th>\n",
       "      <th>CO_CNES</th>\n",
       "      <th>NU_CNPJ_MANTENEDORA</th>\n",
       "      <th>TP_PFPJ</th>\n",
       "      <th>NIVEL_DEP</th>\n",
       "      <th>NO_RAZAO_SOCIAL</th>\n",
       "      <th>NO_FANTASIA</th>\n",
       "      <th>NO_LOGRADOURO</th>\n",
       "      <th>NU_ENDERECO</th>\n",
       "      <th>NO_COMPLEMENTO</th>\n",
       "      <th>...</th>\n",
       "      <th>TP_ESTAB_SEMPRE_ABERTO</th>\n",
       "      <th>ST_GERACREDITO_GERENTE_SGIF</th>\n",
       "      <th>ST_CONEXAO_INTERNET</th>\n",
       "      <th>CO_TIPO_UNIDADE</th>\n",
       "      <th>NO_FANTASIA_ABREV</th>\n",
       "      <th>TP_GESTAO</th>\n",
       "      <th>TO_CHAR(DT_ATUALIZACAO_ORIGEM,'DD/MM/YYYY')</th>\n",
       "      <th>CO_TIPO_ESTABELECIMENTO</th>\n",
       "      <th>CO_ATIVIDADE_PRINCIPAL</th>\n",
       "      <th>ST_CONTRATO_FORMALIZADO</th>\n",
       "    </tr>\n",
       "  </thead>\n",
       "  <tbody>\n",
       "    <tr>\n",
       "      <th>0</th>\n",
       "      <td>2211009285350</td>\n",
       "      <td>9285350</td>\n",
       "      <td>NaN</td>\n",
       "      <td>3</td>\n",
       "      <td>1</td>\n",
       "      <td>BARBOSA OLIVEIRA SANTOS SERVICOS MEDICOS LTDA ME</td>\n",
       "      <td>BARBOSA OLIVEIRA SANTOS SERVICOS MEDICOS</td>\n",
       "      <td>RUA FELIX PACHECO ED SHECAP</td>\n",
       "      <td>2159</td>\n",
       "      <td>SL 402</td>\n",
       "      <td>...</td>\n",
       "      <td>N</td>\n",
       "      <td>NaN</td>\n",
       "      <td>S</td>\n",
       "      <td>NaN</td>\n",
       "      <td>NaN</td>\n",
       "      <td>M</td>\n",
       "      <td>06/08/2017</td>\n",
       "      <td>16.0</td>\n",
       "      <td>1.0</td>\n",
       "      <td>NaN</td>\n",
       "    </tr>\n",
       "    <tr>\n",
       "      <th>1</th>\n",
       "      <td>2409409285822</td>\n",
       "      <td>9285822</td>\n",
       "      <td>NaN</td>\n",
       "      <td>3</td>\n",
       "      <td>1</td>\n",
       "      <td>J EDVALDO DE ARAUJO JUNIOR ME</td>\n",
       "      <td>CEMUD</td>\n",
       "      <td>FRANCISCO DANTAS</td>\n",
       "      <td>1098</td>\n",
       "      <td>SALA 02</td>\n",
       "      <td>...</td>\n",
       "      <td>N</td>\n",
       "      <td>NaN</td>\n",
       "      <td>S</td>\n",
       "      <td>NaN</td>\n",
       "      <td>NaN</td>\n",
       "      <td>M</td>\n",
       "      <td>06/08/2017</td>\n",
       "      <td>18.0</td>\n",
       "      <td>2.0</td>\n",
       "      <td>NaN</td>\n",
       "    </tr>\n",
       "    <tr>\n",
       "      <th>2</th>\n",
       "      <td>2928709276270</td>\n",
       "      <td>9276270</td>\n",
       "      <td>NaN</td>\n",
       "      <td>3</td>\n",
       "      <td>1</td>\n",
       "      <td>VIDA SERVICOS DE SAUDE LTDA ME</td>\n",
       "      <td>CLINICA ODONTOLOGICA VIDA</td>\n",
       "      <td>BARROS E ALMEIDA</td>\n",
       "      <td>733</td>\n",
       "      <td>NaN</td>\n",
       "      <td>...</td>\n",
       "      <td>N</td>\n",
       "      <td>NaN</td>\n",
       "      <td>S</td>\n",
       "      <td>NaN</td>\n",
       "      <td>NaN</td>\n",
       "      <td>M</td>\n",
       "      <td>06/08/2017</td>\n",
       "      <td>16.0</td>\n",
       "      <td>1.0</td>\n",
       "      <td>NaN</td>\n",
       "    </tr>\n",
       "    <tr>\n",
       "      <th>3</th>\n",
       "      <td>2931359288287</td>\n",
       "      <td>9288287</td>\n",
       "      <td>NaN</td>\n",
       "      <td>1</td>\n",
       "      <td>1</td>\n",
       "      <td>JOMAR DE SOUZA BAHIA</td>\n",
       "      <td>JOMAR DE SOUZA BAHIA</td>\n",
       "      <td>RUA MARECHAL CASTELO BRANCO</td>\n",
       "      <td>44</td>\n",
       "      <td>NaN</td>\n",
       "      <td>...</td>\n",
       "      <td>N</td>\n",
       "      <td>NaN</td>\n",
       "      <td>S</td>\n",
       "      <td>NaN</td>\n",
       "      <td>NaN</td>\n",
       "      <td>M</td>\n",
       "      <td>06/08/2017</td>\n",
       "      <td>16.0</td>\n",
       "      <td>1.0</td>\n",
       "      <td>NaN</td>\n",
       "    </tr>\n",
       "    <tr>\n",
       "      <th>4</th>\n",
       "      <td>2933309276254</td>\n",
       "      <td>9276254</td>\n",
       "      <td>NaN</td>\n",
       "      <td>3</td>\n",
       "      <td>1</td>\n",
       "      <td>SERVICO ODONTOLOGICO CORREA EIRELI ME</td>\n",
       "      <td>COIF ODONTO</td>\n",
       "      <td>ZEFERINO CORREIA</td>\n",
       "      <td>85</td>\n",
       "      <td>NaN</td>\n",
       "      <td>...</td>\n",
       "      <td>N</td>\n",
       "      <td>NaN</td>\n",
       "      <td>S</td>\n",
       "      <td>NaN</td>\n",
       "      <td>NaN</td>\n",
       "      <td>M</td>\n",
       "      <td>06/08/2017</td>\n",
       "      <td>16.0</td>\n",
       "      <td>1.0</td>\n",
       "      <td>N</td>\n",
       "    </tr>\n",
       "    <tr>\n",
       "      <th>...</th>\n",
       "      <td>...</td>\n",
       "      <td>...</td>\n",
       "      <td>...</td>\n",
       "      <td>...</td>\n",
       "      <td>...</td>\n",
       "      <td>...</td>\n",
       "      <td>...</td>\n",
       "      <td>...</td>\n",
       "      <td>...</td>\n",
       "      <td>...</td>\n",
       "      <td>...</td>\n",
       "      <td>...</td>\n",
       "      <td>...</td>\n",
       "      <td>...</td>\n",
       "      <td>...</td>\n",
       "      <td>...</td>\n",
       "      <td>...</td>\n",
       "      <td>...</td>\n",
       "      <td>...</td>\n",
       "      <td>...</td>\n",
       "      <td>...</td>\n",
       "    </tr>\n",
       "    <tr>\n",
       "      <th>397142</th>\n",
       "      <td>3115307101740</td>\n",
       "      <td>7101740</td>\n",
       "      <td>NaN</td>\n",
       "      <td>1</td>\n",
       "      <td>1</td>\n",
       "      <td>MARISIA DE ALMEIDA RITTI</td>\n",
       "      <td>MARISIA DE ALMEIDA RITTI</td>\n",
       "      <td>RUA NOGUEIRA NEVES</td>\n",
       "      <td>187</td>\n",
       "      <td>205</td>\n",
       "      <td>...</td>\n",
       "      <td>N</td>\n",
       "      <td>NaN</td>\n",
       "      <td>S</td>\n",
       "      <td>NaN</td>\n",
       "      <td>NaN</td>\n",
       "      <td>M</td>\n",
       "      <td>13/09/2012</td>\n",
       "      <td>16.0</td>\n",
       "      <td>1.0</td>\n",
       "      <td>NaN</td>\n",
       "    </tr>\n",
       "    <tr>\n",
       "      <th>397143</th>\n",
       "      <td>3115307101759</td>\n",
       "      <td>7101759</td>\n",
       "      <td>NaN</td>\n",
       "      <td>1</td>\n",
       "      <td>1</td>\n",
       "      <td>HELOISA MARIA CORDEIRO TOAIARI</td>\n",
       "      <td>HELOISA MARIA CORDEIRO TOAIARI</td>\n",
       "      <td>RUA DR ANTONIO CARLOS SOBRAL</td>\n",
       "      <td>445</td>\n",
       "      <td>205</td>\n",
       "      <td>...</td>\n",
       "      <td>N</td>\n",
       "      <td>NaN</td>\n",
       "      <td>S</td>\n",
       "      <td>NaN</td>\n",
       "      <td>NaN</td>\n",
       "      <td>M</td>\n",
       "      <td>13/09/2012</td>\n",
       "      <td>16.0</td>\n",
       "      <td>1.0</td>\n",
       "      <td>NaN</td>\n",
       "    </tr>\n",
       "    <tr>\n",
       "      <th>397144</th>\n",
       "      <td>3118607098235</td>\n",
       "      <td>7098235</td>\n",
       "      <td>NaN</td>\n",
       "      <td>3</td>\n",
       "      <td>1</td>\n",
       "      <td>SERVICO SOCIAL DA INDUSTRIA</td>\n",
       "      <td>SESI</td>\n",
       "      <td>RUA DR JOSE AMERICO CANCADO BAHIA</td>\n",
       "      <td>111</td>\n",
       "      <td>NaN</td>\n",
       "      <td>...</td>\n",
       "      <td>N</td>\n",
       "      <td>NaN</td>\n",
       "      <td>S</td>\n",
       "      <td>NaN</td>\n",
       "      <td>NaN</td>\n",
       "      <td>M</td>\n",
       "      <td>13/09/2012</td>\n",
       "      <td>8.0</td>\n",
       "      <td>7.0</td>\n",
       "      <td>NaN</td>\n",
       "    </tr>\n",
       "    <tr>\n",
       "      <th>397145</th>\n",
       "      <td>3154607068387</td>\n",
       "      <td>7068387</td>\n",
       "      <td>4.996269e+12</td>\n",
       "      <td>3</td>\n",
       "      <td>3</td>\n",
       "      <td>LABCLIM DIAGNOSTICOS LABORATORIAIS LTDA</td>\n",
       "      <td>LABCLIM LABORATORIO</td>\n",
       "      <td>RUA WALDEMAR JOSE ALVES</td>\n",
       "      <td>65</td>\n",
       "      <td>NaN</td>\n",
       "      <td>...</td>\n",
       "      <td>NaN</td>\n",
       "      <td>NaN</td>\n",
       "      <td>NaN</td>\n",
       "      <td>NaN</td>\n",
       "      <td>NaN</td>\n",
       "      <td>M</td>\n",
       "      <td>13/09/2012</td>\n",
       "      <td>NaN</td>\n",
       "      <td>NaN</td>\n",
       "      <td>NaN</td>\n",
       "    </tr>\n",
       "    <tr>\n",
       "      <th>397146</th>\n",
       "      <td>3168607094523</td>\n",
       "      <td>7094523</td>\n",
       "      <td>NaN</td>\n",
       "      <td>3</td>\n",
       "      <td>1</td>\n",
       "      <td>DIAGNOSTICO MEDICINA AVANCADA LTDA ME</td>\n",
       "      <td>SONIMAGEM</td>\n",
       "      <td>RUA EPAMINONDAS OTONI</td>\n",
       "      <td>689</td>\n",
       "      <td>CONJ 302 SALA 05</td>\n",
       "      <td>...</td>\n",
       "      <td>N</td>\n",
       "      <td>NaN</td>\n",
       "      <td>S</td>\n",
       "      <td>NaN</td>\n",
       "      <td>NaN</td>\n",
       "      <td>M</td>\n",
       "      <td>13/09/2012</td>\n",
       "      <td>16.0</td>\n",
       "      <td>1.0</td>\n",
       "      <td>S</td>\n",
       "    </tr>\n",
       "  </tbody>\n",
       "</table>\n",
       "<p>397147 rows × 54 columns</p>\n",
       "</div>"
      ],
      "text/plain": [
       "           CO_UNIDADE  CO_CNES  NU_CNPJ_MANTENEDORA  TP_PFPJ  NIVEL_DEP  \\\n",
       "0       2211009285350  9285350                  NaN        3          1   \n",
       "1       2409409285822  9285822                  NaN        3          1   \n",
       "2       2928709276270  9276270                  NaN        3          1   \n",
       "3       2931359288287  9288287                  NaN        1          1   \n",
       "4       2933309276254  9276254                  NaN        3          1   \n",
       "...               ...      ...                  ...      ...        ...   \n",
       "397142  3115307101740  7101740                  NaN        1          1   \n",
       "397143  3115307101759  7101759                  NaN        1          1   \n",
       "397144  3118607098235  7098235                  NaN        3          1   \n",
       "397145  3154607068387  7068387         4.996269e+12        3          3   \n",
       "397146  3168607094523  7094523                  NaN        3          1   \n",
       "\n",
       "                                         NO_RAZAO_SOCIAL  \\\n",
       "0       BARBOSA OLIVEIRA SANTOS SERVICOS MEDICOS LTDA ME   \n",
       "1                          J EDVALDO DE ARAUJO JUNIOR ME   \n",
       "2                         VIDA SERVICOS DE SAUDE LTDA ME   \n",
       "3                                   JOMAR DE SOUZA BAHIA   \n",
       "4                  SERVICO ODONTOLOGICO CORREA EIRELI ME   \n",
       "...                                                  ...   \n",
       "397142                          MARISIA DE ALMEIDA RITTI   \n",
       "397143                    HELOISA MARIA CORDEIRO TOAIARI   \n",
       "397144                       SERVICO SOCIAL DA INDUSTRIA   \n",
       "397145           LABCLIM DIAGNOSTICOS LABORATORIAIS LTDA   \n",
       "397146             DIAGNOSTICO MEDICINA AVANCADA LTDA ME   \n",
       "\n",
       "                                     NO_FANTASIA  \\\n",
       "0       BARBOSA OLIVEIRA SANTOS SERVICOS MEDICOS   \n",
       "1                                          CEMUD   \n",
       "2                      CLINICA ODONTOLOGICA VIDA   \n",
       "3                           JOMAR DE SOUZA BAHIA   \n",
       "4                                    COIF ODONTO   \n",
       "...                                          ...   \n",
       "397142                  MARISIA DE ALMEIDA RITTI   \n",
       "397143            HELOISA MARIA CORDEIRO TOAIARI   \n",
       "397144                                      SESI   \n",
       "397145                       LABCLIM LABORATORIO   \n",
       "397146                                 SONIMAGEM   \n",
       "\n",
       "                            NO_LOGRADOURO NU_ENDERECO    NO_COMPLEMENTO  ...  \\\n",
       "0             RUA FELIX PACHECO ED SHECAP        2159            SL 402  ...   \n",
       "1                        FRANCISCO DANTAS        1098           SALA 02  ...   \n",
       "2                        BARROS E ALMEIDA         733               NaN  ...   \n",
       "3             RUA MARECHAL CASTELO BRANCO          44               NaN  ...   \n",
       "4                        ZEFERINO CORREIA          85               NaN  ...   \n",
       "...                                   ...         ...               ...  ...   \n",
       "397142                 RUA NOGUEIRA NEVES         187               205  ...   \n",
       "397143       RUA DR ANTONIO CARLOS SOBRAL         445               205  ...   \n",
       "397144  RUA DR JOSE AMERICO CANCADO BAHIA         111               NaN  ...   \n",
       "397145            RUA WALDEMAR JOSE ALVES          65               NaN  ...   \n",
       "397146              RUA EPAMINONDAS OTONI         689  CONJ 302 SALA 05  ...   \n",
       "\n",
       "       TP_ESTAB_SEMPRE_ABERTO  ST_GERACREDITO_GERENTE_SGIF  \\\n",
       "0                           N                          NaN   \n",
       "1                           N                          NaN   \n",
       "2                           N                          NaN   \n",
       "3                           N                          NaN   \n",
       "4                           N                          NaN   \n",
       "...                       ...                          ...   \n",
       "397142                      N                          NaN   \n",
       "397143                      N                          NaN   \n",
       "397144                      N                          NaN   \n",
       "397145                    NaN                          NaN   \n",
       "397146                      N                          NaN   \n",
       "\n",
       "       ST_CONEXAO_INTERNET CO_TIPO_UNIDADE NO_FANTASIA_ABREV TP_GESTAO  \\\n",
       "0                        S             NaN               NaN         M   \n",
       "1                        S             NaN               NaN         M   \n",
       "2                        S             NaN               NaN         M   \n",
       "3                        S             NaN               NaN         M   \n",
       "4                        S             NaN               NaN         M   \n",
       "...                    ...             ...               ...       ...   \n",
       "397142                   S             NaN               NaN         M   \n",
       "397143                   S             NaN               NaN         M   \n",
       "397144                   S             NaN               NaN         M   \n",
       "397145                 NaN             NaN               NaN         M   \n",
       "397146                   S             NaN               NaN         M   \n",
       "\n",
       "       TO_CHAR(DT_ATUALIZACAO_ORIGEM,'DD/MM/YYYY') CO_TIPO_ESTABELECIMENTO  \\\n",
       "0                                       06/08/2017                    16.0   \n",
       "1                                       06/08/2017                    18.0   \n",
       "2                                       06/08/2017                    16.0   \n",
       "3                                       06/08/2017                    16.0   \n",
       "4                                       06/08/2017                    16.0   \n",
       "...                                            ...                     ...   \n",
       "397142                                  13/09/2012                    16.0   \n",
       "397143                                  13/09/2012                    16.0   \n",
       "397144                                  13/09/2012                     8.0   \n",
       "397145                                  13/09/2012                     NaN   \n",
       "397146                                  13/09/2012                    16.0   \n",
       "\n",
       "       CO_ATIVIDADE_PRINCIPAL  ST_CONTRATO_FORMALIZADO  \n",
       "0                         1.0                      NaN  \n",
       "1                         2.0                      NaN  \n",
       "2                         1.0                      NaN  \n",
       "3                         1.0                      NaN  \n",
       "4                         1.0                        N  \n",
       "...                       ...                      ...  \n",
       "397142                    1.0                      NaN  \n",
       "397143                    1.0                      NaN  \n",
       "397144                    7.0                      NaN  \n",
       "397145                    NaN                      NaN  \n",
       "397146                    1.0                        S  \n",
       "\n",
       "[397147 rows x 54 columns]"
      ]
     },
     "execution_count": 45,
     "metadata": {},
     "output_type": "execute_result"
    }
   ],
   "source": [
    "tbEsBkp"
   ]
  },
  {
   "cell_type": "code",
   "execution_count": 46,
   "metadata": {},
   "outputs": [
    {
     "data": {
      "text/html": [
       "<div>\n",
       "<style scoped>\n",
       "    .dataframe tbody tr th:only-of-type {\n",
       "        vertical-align: middle;\n",
       "    }\n",
       "\n",
       "    .dataframe tbody tr th {\n",
       "        vertical-align: top;\n",
       "    }\n",
       "\n",
       "    .dataframe thead th {\n",
       "        text-align: right;\n",
       "    }\n",
       "</style>\n",
       "<table border=\"1\" class=\"dataframe\">\n",
       "  <thead>\n",
       "    <tr style=\"text-align: right;\">\n",
       "      <th></th>\n",
       "      <th>CO_UNIDADE</th>\n",
       "      <th>CO_CNES</th>\n",
       "      <th>NU_CNPJ_MANTENEDORA</th>\n",
       "      <th>TP_PFPJ</th>\n",
       "      <th>NIVEL_DEP</th>\n",
       "      <th>NO_RAZAO_SOCIAL</th>\n",
       "      <th>NO_FANTASIA</th>\n",
       "      <th>NO_LOGRADOURO</th>\n",
       "      <th>NU_ENDERECO</th>\n",
       "      <th>NO_COMPLEMENTO</th>\n",
       "      <th>...</th>\n",
       "      <th>TP_ESTAB_SEMPRE_ABERTO</th>\n",
       "      <th>ST_GERACREDITO_GERENTE_SGIF</th>\n",
       "      <th>ST_CONEXAO_INTERNET</th>\n",
       "      <th>CO_TIPO_UNIDADE</th>\n",
       "      <th>NO_FANTASIA_ABREV</th>\n",
       "      <th>TP_GESTAO</th>\n",
       "      <th>TO_CHAR(DT_ATUALIZACAO_ORIGEM,'DD/MM/YYYY')</th>\n",
       "      <th>CO_TIPO_ESTABELECIMENTO</th>\n",
       "      <th>CO_ATIVIDADE_PRINCIPAL</th>\n",
       "      <th>ST_CONTRATO_FORMALIZADO</th>\n",
       "    </tr>\n",
       "  </thead>\n",
       "  <tbody>\n",
       "    <tr>\n",
       "      <th>1</th>\n",
       "      <td>2409409285822</td>\n",
       "      <td>9285822</td>\n",
       "      <td>NaN</td>\n",
       "      <td>3</td>\n",
       "      <td>1</td>\n",
       "      <td>J EDVALDO DE ARAUJO JUNIOR ME</td>\n",
       "      <td>CEMUD</td>\n",
       "      <td>FRANCISCO DANTAS</td>\n",
       "      <td>1098</td>\n",
       "      <td>SALA 02</td>\n",
       "      <td>...</td>\n",
       "      <td>N</td>\n",
       "      <td>NaN</td>\n",
       "      <td>S</td>\n",
       "      <td>NaN</td>\n",
       "      <td>NaN</td>\n",
       "      <td>M</td>\n",
       "      <td>06/08/2017</td>\n",
       "      <td>18.0</td>\n",
       "      <td>2.0</td>\n",
       "      <td>NaN</td>\n",
       "    </tr>\n",
       "    <tr>\n",
       "      <th>2</th>\n",
       "      <td>2928709276270</td>\n",
       "      <td>9276270</td>\n",
       "      <td>NaN</td>\n",
       "      <td>3</td>\n",
       "      <td>1</td>\n",
       "      <td>VIDA SERVICOS DE SAUDE LTDA ME</td>\n",
       "      <td>CLINICA ODONTOLOGICA VIDA</td>\n",
       "      <td>BARROS E ALMEIDA</td>\n",
       "      <td>733</td>\n",
       "      <td>NaN</td>\n",
       "      <td>...</td>\n",
       "      <td>N</td>\n",
       "      <td>NaN</td>\n",
       "      <td>S</td>\n",
       "      <td>NaN</td>\n",
       "      <td>NaN</td>\n",
       "      <td>M</td>\n",
       "      <td>06/08/2017</td>\n",
       "      <td>16.0</td>\n",
       "      <td>1.0</td>\n",
       "      <td>NaN</td>\n",
       "    </tr>\n",
       "    <tr>\n",
       "      <th>3</th>\n",
       "      <td>2931359288287</td>\n",
       "      <td>9288287</td>\n",
       "      <td>NaN</td>\n",
       "      <td>1</td>\n",
       "      <td>1</td>\n",
       "      <td>JOMAR DE SOUZA BAHIA</td>\n",
       "      <td>JOMAR DE SOUZA BAHIA</td>\n",
       "      <td>RUA MARECHAL CASTELO BRANCO</td>\n",
       "      <td>44</td>\n",
       "      <td>NaN</td>\n",
       "      <td>...</td>\n",
       "      <td>N</td>\n",
       "      <td>NaN</td>\n",
       "      <td>S</td>\n",
       "      <td>NaN</td>\n",
       "      <td>NaN</td>\n",
       "      <td>M</td>\n",
       "      <td>06/08/2017</td>\n",
       "      <td>16.0</td>\n",
       "      <td>1.0</td>\n",
       "      <td>NaN</td>\n",
       "    </tr>\n",
       "    <tr>\n",
       "      <th>4</th>\n",
       "      <td>2933309276254</td>\n",
       "      <td>9276254</td>\n",
       "      <td>NaN</td>\n",
       "      <td>3</td>\n",
       "      <td>1</td>\n",
       "      <td>SERVICO ODONTOLOGICO CORREA EIRELI ME</td>\n",
       "      <td>COIF ODONTO</td>\n",
       "      <td>ZEFERINO CORREIA</td>\n",
       "      <td>85</td>\n",
       "      <td>NaN</td>\n",
       "      <td>...</td>\n",
       "      <td>N</td>\n",
       "      <td>NaN</td>\n",
       "      <td>S</td>\n",
       "      <td>NaN</td>\n",
       "      <td>NaN</td>\n",
       "      <td>M</td>\n",
       "      <td>06/08/2017</td>\n",
       "      <td>16.0</td>\n",
       "      <td>1.0</td>\n",
       "      <td>N</td>\n",
       "    </tr>\n",
       "    <tr>\n",
       "      <th>5</th>\n",
       "      <td>2204809270566</td>\n",
       "      <td>9270566</td>\n",
       "      <td>NaN</td>\n",
       "      <td>3</td>\n",
       "      <td>1</td>\n",
       "      <td>EDUARDO LEAL IRMAOS LTDA ME</td>\n",
       "      <td>CLINICA FISIOTERAPIA</td>\n",
       "      <td>JOSE B DOS SANTOS</td>\n",
       "      <td>66</td>\n",
       "      <td>NaN</td>\n",
       "      <td>...</td>\n",
       "      <td>N</td>\n",
       "      <td>NaN</td>\n",
       "      <td>S</td>\n",
       "      <td>NaN</td>\n",
       "      <td>NaN</td>\n",
       "      <td>E</td>\n",
       "      <td>20/07/2017</td>\n",
       "      <td>15.0</td>\n",
       "      <td>4.0</td>\n",
       "      <td>S</td>\n",
       "    </tr>\n",
       "    <tr>\n",
       "      <th>...</th>\n",
       "      <td>...</td>\n",
       "      <td>...</td>\n",
       "      <td>...</td>\n",
       "      <td>...</td>\n",
       "      <td>...</td>\n",
       "      <td>...</td>\n",
       "      <td>...</td>\n",
       "      <td>...</td>\n",
       "      <td>...</td>\n",
       "      <td>...</td>\n",
       "      <td>...</td>\n",
       "      <td>...</td>\n",
       "      <td>...</td>\n",
       "      <td>...</td>\n",
       "      <td>...</td>\n",
       "      <td>...</td>\n",
       "      <td>...</td>\n",
       "      <td>...</td>\n",
       "      <td>...</td>\n",
       "      <td>...</td>\n",
       "      <td>...</td>\n",
       "    </tr>\n",
       "    <tr>\n",
       "      <th>397137</th>\n",
       "      <td>3162307132484</td>\n",
       "      <td>7132484</td>\n",
       "      <td>1.793521e+13</td>\n",
       "      <td>3</td>\n",
       "      <td>3</td>\n",
       "      <td>PREFEITURA MUNICIPAL DE SAO JOAO DA MATA</td>\n",
       "      <td>VIGILANCIA EM SAUDE</td>\n",
       "      <td>MARIA ONILIA VIEIRA</td>\n",
       "      <td>777</td>\n",
       "      <td>NaN</td>\n",
       "      <td>...</td>\n",
       "      <td>N</td>\n",
       "      <td>NaN</td>\n",
       "      <td>S</td>\n",
       "      <td>NaN</td>\n",
       "      <td>NaN</td>\n",
       "      <td>M</td>\n",
       "      <td>06/11/2012</td>\n",
       "      <td>21.0</td>\n",
       "      <td>18.0</td>\n",
       "      <td>NaN</td>\n",
       "    </tr>\n",
       "    <tr>\n",
       "      <th>397142</th>\n",
       "      <td>3115307101740</td>\n",
       "      <td>7101740</td>\n",
       "      <td>NaN</td>\n",
       "      <td>1</td>\n",
       "      <td>1</td>\n",
       "      <td>MARISIA DE ALMEIDA RITTI</td>\n",
       "      <td>MARISIA DE ALMEIDA RITTI</td>\n",
       "      <td>RUA NOGUEIRA NEVES</td>\n",
       "      <td>187</td>\n",
       "      <td>205</td>\n",
       "      <td>...</td>\n",
       "      <td>N</td>\n",
       "      <td>NaN</td>\n",
       "      <td>S</td>\n",
       "      <td>NaN</td>\n",
       "      <td>NaN</td>\n",
       "      <td>M</td>\n",
       "      <td>13/09/2012</td>\n",
       "      <td>16.0</td>\n",
       "      <td>1.0</td>\n",
       "      <td>NaN</td>\n",
       "    </tr>\n",
       "    <tr>\n",
       "      <th>397143</th>\n",
       "      <td>3115307101759</td>\n",
       "      <td>7101759</td>\n",
       "      <td>NaN</td>\n",
       "      <td>1</td>\n",
       "      <td>1</td>\n",
       "      <td>HELOISA MARIA CORDEIRO TOAIARI</td>\n",
       "      <td>HELOISA MARIA CORDEIRO TOAIARI</td>\n",
       "      <td>RUA DR ANTONIO CARLOS SOBRAL</td>\n",
       "      <td>445</td>\n",
       "      <td>205</td>\n",
       "      <td>...</td>\n",
       "      <td>N</td>\n",
       "      <td>NaN</td>\n",
       "      <td>S</td>\n",
       "      <td>NaN</td>\n",
       "      <td>NaN</td>\n",
       "      <td>M</td>\n",
       "      <td>13/09/2012</td>\n",
       "      <td>16.0</td>\n",
       "      <td>1.0</td>\n",
       "      <td>NaN</td>\n",
       "    </tr>\n",
       "    <tr>\n",
       "      <th>397144</th>\n",
       "      <td>3118607098235</td>\n",
       "      <td>7098235</td>\n",
       "      <td>NaN</td>\n",
       "      <td>3</td>\n",
       "      <td>1</td>\n",
       "      <td>SERVICO SOCIAL DA INDUSTRIA</td>\n",
       "      <td>SESI</td>\n",
       "      <td>RUA DR JOSE AMERICO CANCADO BAHIA</td>\n",
       "      <td>111</td>\n",
       "      <td>NaN</td>\n",
       "      <td>...</td>\n",
       "      <td>N</td>\n",
       "      <td>NaN</td>\n",
       "      <td>S</td>\n",
       "      <td>NaN</td>\n",
       "      <td>NaN</td>\n",
       "      <td>M</td>\n",
       "      <td>13/09/2012</td>\n",
       "      <td>8.0</td>\n",
       "      <td>7.0</td>\n",
       "      <td>NaN</td>\n",
       "    </tr>\n",
       "    <tr>\n",
       "      <th>397146</th>\n",
       "      <td>3168607094523</td>\n",
       "      <td>7094523</td>\n",
       "      <td>NaN</td>\n",
       "      <td>3</td>\n",
       "      <td>1</td>\n",
       "      <td>DIAGNOSTICO MEDICINA AVANCADA LTDA ME</td>\n",
       "      <td>SONIMAGEM</td>\n",
       "      <td>RUA EPAMINONDAS OTONI</td>\n",
       "      <td>689</td>\n",
       "      <td>CONJ 302 SALA 05</td>\n",
       "      <td>...</td>\n",
       "      <td>N</td>\n",
       "      <td>NaN</td>\n",
       "      <td>S</td>\n",
       "      <td>NaN</td>\n",
       "      <td>NaN</td>\n",
       "      <td>M</td>\n",
       "      <td>13/09/2012</td>\n",
       "      <td>16.0</td>\n",
       "      <td>1.0</td>\n",
       "      <td>S</td>\n",
       "    </tr>\n",
       "  </tbody>\n",
       "</table>\n",
       "<p>310053 rows × 54 columns</p>\n",
       "</div>"
      ],
      "text/plain": [
       "           CO_UNIDADE  CO_CNES  NU_CNPJ_MANTENEDORA  TP_PFPJ  NIVEL_DEP  \\\n",
       "1       2409409285822  9285822                  NaN        3          1   \n",
       "2       2928709276270  9276270                  NaN        3          1   \n",
       "3       2931359288287  9288287                  NaN        1          1   \n",
       "4       2933309276254  9276254                  NaN        3          1   \n",
       "5       2204809270566  9270566                  NaN        3          1   \n",
       "...               ...      ...                  ...      ...        ...   \n",
       "397137  3162307132484  7132484         1.793521e+13        3          3   \n",
       "397142  3115307101740  7101740                  NaN        1          1   \n",
       "397143  3115307101759  7101759                  NaN        1          1   \n",
       "397144  3118607098235  7098235                  NaN        3          1   \n",
       "397146  3168607094523  7094523                  NaN        3          1   \n",
       "\n",
       "                                 NO_RAZAO_SOCIAL  \\\n",
       "1                  J EDVALDO DE ARAUJO JUNIOR ME   \n",
       "2                 VIDA SERVICOS DE SAUDE LTDA ME   \n",
       "3                           JOMAR DE SOUZA BAHIA   \n",
       "4          SERVICO ODONTOLOGICO CORREA EIRELI ME   \n",
       "5                    EDUARDO LEAL IRMAOS LTDA ME   \n",
       "...                                          ...   \n",
       "397137  PREFEITURA MUNICIPAL DE SAO JOAO DA MATA   \n",
       "397142                  MARISIA DE ALMEIDA RITTI   \n",
       "397143            HELOISA MARIA CORDEIRO TOAIARI   \n",
       "397144               SERVICO SOCIAL DA INDUSTRIA   \n",
       "397146     DIAGNOSTICO MEDICINA AVANCADA LTDA ME   \n",
       "\n",
       "                           NO_FANTASIA                      NO_LOGRADOURO  \\\n",
       "1                                CEMUD                   FRANCISCO DANTAS   \n",
       "2            CLINICA ODONTOLOGICA VIDA                   BARROS E ALMEIDA   \n",
       "3                 JOMAR DE SOUZA BAHIA        RUA MARECHAL CASTELO BRANCO   \n",
       "4                          COIF ODONTO                   ZEFERINO CORREIA   \n",
       "5                 CLINICA FISIOTERAPIA                  JOSE B DOS SANTOS   \n",
       "...                                ...                                ...   \n",
       "397137             VIGILANCIA EM SAUDE                MARIA ONILIA VIEIRA   \n",
       "397142        MARISIA DE ALMEIDA RITTI                 RUA NOGUEIRA NEVES   \n",
       "397143  HELOISA MARIA CORDEIRO TOAIARI       RUA DR ANTONIO CARLOS SOBRAL   \n",
       "397144                            SESI  RUA DR JOSE AMERICO CANCADO BAHIA   \n",
       "397146                       SONIMAGEM              RUA EPAMINONDAS OTONI   \n",
       "\n",
       "       NU_ENDERECO    NO_COMPLEMENTO  ... TP_ESTAB_SEMPRE_ABERTO  \\\n",
       "1             1098           SALA 02  ...                      N   \n",
       "2              733               NaN  ...                      N   \n",
       "3               44               NaN  ...                      N   \n",
       "4               85               NaN  ...                      N   \n",
       "5               66               NaN  ...                      N   \n",
       "...            ...               ...  ...                    ...   \n",
       "397137         777               NaN  ...                      N   \n",
       "397142         187               205  ...                      N   \n",
       "397143         445               205  ...                      N   \n",
       "397144         111               NaN  ...                      N   \n",
       "397146         689  CONJ 302 SALA 05  ...                      N   \n",
       "\n",
       "        ST_GERACREDITO_GERENTE_SGIF ST_CONEXAO_INTERNET CO_TIPO_UNIDADE  \\\n",
       "1                               NaN                   S             NaN   \n",
       "2                               NaN                   S             NaN   \n",
       "3                               NaN                   S             NaN   \n",
       "4                               NaN                   S             NaN   \n",
       "5                               NaN                   S             NaN   \n",
       "...                             ...                 ...             ...   \n",
       "397137                          NaN                   S             NaN   \n",
       "397142                          NaN                   S             NaN   \n",
       "397143                          NaN                   S             NaN   \n",
       "397144                          NaN                   S             NaN   \n",
       "397146                          NaN                   S             NaN   \n",
       "\n",
       "       NO_FANTASIA_ABREV TP_GESTAO  \\\n",
       "1                    NaN         M   \n",
       "2                    NaN         M   \n",
       "3                    NaN         M   \n",
       "4                    NaN         M   \n",
       "5                    NaN         E   \n",
       "...                  ...       ...   \n",
       "397137               NaN         M   \n",
       "397142               NaN         M   \n",
       "397143               NaN         M   \n",
       "397144               NaN         M   \n",
       "397146               NaN         M   \n",
       "\n",
       "       TO_CHAR(DT_ATUALIZACAO_ORIGEM,'DD/MM/YYYY') CO_TIPO_ESTABELECIMENTO  \\\n",
       "1                                       06/08/2017                    18.0   \n",
       "2                                       06/08/2017                    16.0   \n",
       "3                                       06/08/2017                    16.0   \n",
       "4                                       06/08/2017                    16.0   \n",
       "5                                       20/07/2017                    15.0   \n",
       "...                                            ...                     ...   \n",
       "397137                                  06/11/2012                    21.0   \n",
       "397142                                  13/09/2012                    16.0   \n",
       "397143                                  13/09/2012                    16.0   \n",
       "397144                                  13/09/2012                     8.0   \n",
       "397146                                  13/09/2012                    16.0   \n",
       "\n",
       "       CO_ATIVIDADE_PRINCIPAL  ST_CONTRATO_FORMALIZADO  \n",
       "1                         2.0                      NaN  \n",
       "2                         1.0                      NaN  \n",
       "3                         1.0                      NaN  \n",
       "4                         1.0                        N  \n",
       "5                         4.0                        S  \n",
       "...                       ...                      ...  \n",
       "397137                   18.0                      NaN  \n",
       "397142                    1.0                      NaN  \n",
       "397143                    1.0                      NaN  \n",
       "397144                    7.0                      NaN  \n",
       "397146                    1.0                        S  \n",
       "\n",
       "[310053 rows x 54 columns]"
      ]
     },
     "execution_count": 46,
     "metadata": {},
     "output_type": "execute_result"
    }
   ],
   "source": [
    "tbEs = tbEs.dropna(subset=['NU_LATITUDE', 'NU_LONGITUDE']) \n",
    "tbEs"
   ]
  },
  {
   "cell_type": "code",
   "execution_count": 121,
   "metadata": {},
   "outputs": [
    {
     "data": {
      "text/html": [
       "<div>\n",
       "<style scoped>\n",
       "    .dataframe tbody tr th:only-of-type {\n",
       "        vertical-align: middle;\n",
       "    }\n",
       "\n",
       "    .dataframe tbody tr th {\n",
       "        vertical-align: top;\n",
       "    }\n",
       "\n",
       "    .dataframe thead th {\n",
       "        text-align: right;\n",
       "    }\n",
       "</style>\n",
       "<table border=\"1\" class=\"dataframe\">\n",
       "  <thead>\n",
       "    <tr style=\"text-align: right;\">\n",
       "      <th></th>\n",
       "      <th>City</th>\n",
       "      <th>State</th>\n",
       "      <th>Population</th>\n",
       "      <th>lat</th>\n",
       "      <th>lon</th>\n",
       "    </tr>\n",
       "  </thead>\n",
       "  <tbody>\n",
       "    <tr>\n",
       "      <th>0</th>\n",
       "      <td>Marysville</td>\n",
       "      <td>Washington</td>\n",
       "      <td>63269</td>\n",
       "      <td>48.051764</td>\n",
       "      <td>-122.177082</td>\n",
       "    </tr>\n",
       "    <tr>\n",
       "      <th>1</th>\n",
       "      <td>Perris</td>\n",
       "      <td>California</td>\n",
       "      <td>72326</td>\n",
       "      <td>33.782519</td>\n",
       "      <td>-117.228648</td>\n",
       "    </tr>\n",
       "    <tr>\n",
       "      <th>2</th>\n",
       "      <td>Cleveland</td>\n",
       "      <td>Ohio</td>\n",
       "      <td>390113</td>\n",
       "      <td>41.499320</td>\n",
       "      <td>-81.694361</td>\n",
       "    </tr>\n",
       "    <tr>\n",
       "      <th>3</th>\n",
       "      <td>Worcester</td>\n",
       "      <td>Massachusetts</td>\n",
       "      <td>182544</td>\n",
       "      <td>42.262593</td>\n",
       "      <td>-71.802293</td>\n",
       "    </tr>\n",
       "    <tr>\n",
       "      <th>4</th>\n",
       "      <td>Columbia</td>\n",
       "      <td>South Carolina</td>\n",
       "      <td>133358</td>\n",
       "      <td>34.000710</td>\n",
       "      <td>-81.034814</td>\n",
       "    </tr>\n",
       "    <tr>\n",
       "      <th>...</th>\n",
       "      <td>...</td>\n",
       "      <td>...</td>\n",
       "      <td>...</td>\n",
       "      <td>...</td>\n",
       "      <td>...</td>\n",
       "    </tr>\n",
       "    <tr>\n",
       "      <th>995</th>\n",
       "      <td>West New York</td>\n",
       "      <td>New Jersey</td>\n",
       "      <td>52122</td>\n",
       "      <td>40.787879</td>\n",
       "      <td>-74.014306</td>\n",
       "    </tr>\n",
       "    <tr>\n",
       "      <th>996</th>\n",
       "      <td>Everett</td>\n",
       "      <td>Massachusetts</td>\n",
       "      <td>42935</td>\n",
       "      <td>42.408430</td>\n",
       "      <td>-71.053663</td>\n",
       "    </tr>\n",
       "    <tr>\n",
       "      <th>997</th>\n",
       "      <td>Linden</td>\n",
       "      <td>New Jersey</td>\n",
       "      <td>41301</td>\n",
       "      <td>40.622048</td>\n",
       "      <td>-74.244590</td>\n",
       "    </tr>\n",
       "    <tr>\n",
       "      <th>998</th>\n",
       "      <td>Asheville</td>\n",
       "      <td>North Carolina</td>\n",
       "      <td>87236</td>\n",
       "      <td>35.595058</td>\n",
       "      <td>-82.551487</td>\n",
       "    </tr>\n",
       "    <tr>\n",
       "      <th>999</th>\n",
       "      <td>Compton</td>\n",
       "      <td>California</td>\n",
       "      <td>97877</td>\n",
       "      <td>33.895849</td>\n",
       "      <td>-118.220071</td>\n",
       "    </tr>\n",
       "  </tbody>\n",
       "</table>\n",
       "<p>1000 rows × 5 columns</p>\n",
       "</div>"
      ],
      "text/plain": [
       "              City           State  Population        lat         lon\n",
       "0       Marysville      Washington       63269  48.051764 -122.177082\n",
       "1           Perris      California       72326  33.782519 -117.228648\n",
       "2        Cleveland            Ohio      390113  41.499320  -81.694361\n",
       "3        Worcester   Massachusetts      182544  42.262593  -71.802293\n",
       "4         Columbia  South Carolina      133358  34.000710  -81.034814\n",
       "..             ...             ...         ...        ...         ...\n",
       "995  West New York      New Jersey       52122  40.787879  -74.014306\n",
       "996        Everett   Massachusetts       42935  42.408430  -71.053663\n",
       "997         Linden      New Jersey       41301  40.622048  -74.244590\n",
       "998      Asheville  North Carolina       87236  35.595058  -82.551487\n",
       "999        Compton      California       97877  33.895849 -118.220071\n",
       "\n",
       "[1000 rows x 5 columns]"
      ]
     },
     "execution_count": 121,
     "metadata": {},
     "output_type": "execute_result"
    }
   ],
   "source": [
    "us_cities"
   ]
  },
  {
   "cell_type": "code",
   "execution_count": 120,
   "metadata": {},
   "outputs": [
    {
     "data": {
      "application/vnd.plotly.v1+json": {
       "config": {
        "plotlyServerURL": "https://plot.ly"
       },
       "data": [
        {
         "customdata": [
          [
           "Washington",
           63269
          ],
          [
           "California",
           72326
          ],
          [
           "Ohio",
           390113
          ],
          [
           "Massachusetts",
           182544
          ],
          [
           "South Carolina",
           133358
          ],
          [
           "Connecticut",
           109676
          ],
          [
           "Minnesota",
           65453
          ],
          [
           "Michigan",
           73006
          ],
          [
           "Louisiana",
           124276
          ],
          [
           "Idaho",
           214237
          ],
          [
           "Indiana",
           51265
          ],
          [
           "California",
           82882
          ],
          [
           "Georgia",
           59089
          ],
          [
           "Colorado",
           48608
          ],
          [
           "Florida",
           102436
          ],
          [
           "Massachusetts",
           42544
          ],
          [
           "Illinois",
           199963
          ],
          [
           "Virginia",
           47673
          ],
          [
           "Florida",
           50213
          ],
          [
           "California",
           91739
          ],
          [
           "Texas",
           239538
          ],
          [
           "Kansas",
           181260
          ],
          [
           "Mississippi",
           172638
          ],
          [
           "North Carolina",
           73209
          ],
          [
           "Florida",
           62316
          ],
          [
           "Missouri",
           467007
          ],
          [
           "California",
           42448
          ],
          [
           "Minnesota",
           61434
          ],
          [
           "Texas",
           58043
          ],
          [
           "New Mexico",
           48611
          ],
          [
           "Alabama",
           201332
          ],
          [
           "Utah",
           48913
          ],
          [
           "Massachusetts",
           39083
          ],
          [
           "Pennsylvania",
           118577
          ],
          [
           "South Carolina",
           74885
          ],
          [
           "Georgia",
           202824
          ],
          [
           "New York",
           258959
          ],
          [
           "Wisconsin",
           39834
          ],
          [
           "Texas",
           67317
          ],
          [
           "Ohio",
           38355
          ],
          [
           "California",
           479686
          ],
          [
           "Arkansas",
           87650
          ],
          [
           "Rhode Island",
           47149
          ],
          [
           "Iowa",
           41776
          ],
          [
           "New York",
           68224
          ],
          [
           "Colorado",
           147214
          ],
          [
           "Nevada",
           270811
          ],
          [
           "California",
           48508
          ],
          [
           "Connecticut",
           126456
          ],
          [
           "Indiana",
           82575
          ],
          [
           "Tennessee",
           52962
          ],
          [
           "Washington",
           210721
          ],
          [
           "Washington",
           76762
          ],
          [
           "Pennsylvania",
           1553165
          ],
          [
           "Washington",
           82631
          ],
          [
           "California",
           127763
          ],
          [
           "Wisconsin",
           51522
          ],
          [
           "Iowa",
           61969
          ],
          [
           "Florida",
           42757
          ],
          [
           "Texas",
           1257676
          ],
          [
           "California",
           107100
          ],
          [
           "Michigan",
           131224
          ],
          [
           "Florida",
           78041
          ],
          [
           "Indiana",
           83891
          ],
          [
           "Wyoming",
           62448
          ],
          [
           "California",
           107479
          ],
          [
           "Kansas",
           50344
          ],
          [
           "Indiana",
           56540
          ],
          [
           "Mississippi",
           50997
          ],
          [
           "California",
           80988
          ],
          [
           "Maryland",
           65690
          ],
          [
           "California",
           56707
          ],
          [
           "Maryland",
           66893
          ],
          [
           "North Carolina",
           89130
          ],
          [
           "Illinois",
           43849
          ],
          [
           "Wisconsin",
           60697
          ],
          [
           "Colorado",
           127359
          ],
          [
           "Iowa",
           61255
          ],
          [
           "Massachusetts",
           88697
          ],
          [
           "California",
           61170
          ],
          [
           "California",
           256780
          ],
          [
           "Florida",
           126604
          ],
          [
           "North Carolina",
           83506
          ],
          [
           "Georgia",
           53438
          ],
          [
           "Florida",
           45587
          ],
          [
           "North Dakota",
           54932
          ],
          [
           "Ohio",
           39325
          ],
          [
           "Illinois",
           144864
          ],
          [
           "Florida",
           146526
          ],
          [
           "Arkansas",
           60112
          ],
          [
           "Louisiana",
           378715
          ],
          [
           "Washington",
           59097
          ],
          [
           "Illinois",
           57073
          ],
          [
           "Idaho",
           48957
          ],
          [
           "Oregon",
           609456
          ],
          [
           "California",
           125880
          ],
          [
           "Washington",
           49858
          ],
          [
           "Missouri",
           67569
          ],
          [
           "Wisconsin",
           71016
          ],
          [
           "Arizona",
           68667
          ],
          [
           "Washington",
           38609
          ],
          [
           "New York",
           65902
          ],
          [
           "Colorado",
           649495
          ],
          [
           "Illinois",
           117006
          ],
          [
           "California",
           40584
          ],
          [
           "California",
           201175
          ],
          [
           "Ohio",
           55870
          ],
          [
           "Michigan",
           37313
          ],
          [
           "Arizona",
           52844
          ],
          [
           "Arkansas",
           66075
          ],
          [
           "Nevada",
           233294
          ],
          [
           "Colorado",
           44275
          ],
          [
           "Arizona",
           40590
          ],
          [
           "California",
           52105
          ],
          [
           "Texas",
           37442
          ],
          [
           "Maine",
           66318
          ],
          [
           "Minnesota",
           78373
          ],
          [
           "Connecticut",
           55046
          ],
          [
           "California",
           43363
          ],
          [
           "Texas",
           39458
          ],
          [
           "Michigan",
           99763
          ],
          [
           "California",
           66695
          ],
          [
           "Arizona",
           56683
          ],
          [
           "California",
           40963
          ],
          [
           "California",
           83539
          ],
          [
           "Arizona",
           226918
          ],
          [
           "Ohio",
           822553
          ],
          [
           "Pennsylvania",
           59325
          ],
          [
           "Nebraska",
           268738
          ],
          [
           "New Jersey",
           84349
          ],
          [
           "Massachusetts",
           645966
          ],
          [
           "California",
           51074
          ],
          [
           "Minnesota",
           110742
          ],
          [
           "Missouri",
           52363
          ],
          [
           "Maryland",
           38722
          ],
          [
           "North Carolina",
           59635
          ],
          [
           "Indiana",
           47135
          ],
          [
           "California",
           39389
          ],
          [
           "Illinois",
           37240
          ],
          [
           "Montana",
           69122
          ],
          [
           "California",
           99769
          ],
          [
           "Texas",
           100065
          ],
          [
           "Arizona",
           229972
          ],
          [
           "Wisconsin",
           39309
          ],
          [
           "North Carolina",
           431746
          ],
          [
           "California",
           139969
          ],
          [
           "California",
           66900
          ],
          [
           "Washington",
           39056
          ],
          [
           "California",
           55174
          ],
          [
           "Arizona",
           38290
          ],
          [
           "Florida",
           186411
          ],
          [
           "Texas",
           63032
          ],
          [
           "Virginia",
           43609
          ],
          [
           "Texas",
           1409019
          ],
          [
           "Connecticut",
           125017
          ],
          [
           "Iowa",
           68366
          ],
          [
           "New York",
           46444
          ],
          [
           "Idaho",
           83596
          ],
          [
           "Wisconsin",
           42970
          ],
          [
           "Texas",
           75418
          ],
          [
           "North Carolina",
           151088
          ],
          [
           "Massachusetts",
           55419
          ],
          [
           "Oklahoma",
           398121
          ],
          [
           "Texas",
           81050
          ],
          [
           "Ohio",
           49267
          ],
          [
           "Massachusetts",
           60509
          ],
          [
           "Texas",
           92020
          ],
          [
           "Arizona",
           526116
          ],
          [
           "Tennessee",
           68886
          ],
          [
           "Minnesota",
           39167
          ],
          [
           "Florida",
           842583
          ],
          [
           "New Jersey",
           39551
          ],
          [
           "Pennsylvania",
           100671
          ],
          [
           "California",
           81102
          ],
          [
           "Texas",
           120099
          ],
          [
           "California",
           67032
          ],
          [
           "South Carolina",
           61397
          ],
          [
           "North Carolina",
           50458
          ],
          [
           "Michigan",
           60070
          ],
          [
           "Pennsylvania",
           49188
          ],
          [
           "California",
           108817
          ],
          [
           "California",
           224922
          ],
          [
           "Colorado",
           108249
          ],
          [
           "Massachusetts",
           37670
          ],
          [
           "Illinois",
           42895
          ],
          [
           "Minnesota",
           400070
          ],
          [
           "Tennessee",
           58226
          ],
          [
           "Texas",
           104898
          ],
          [
           "Texas",
           70185
          ],
          [
           "Missouri",
           318416
          ],
          [
           "Texas",
           73790
          ],
          [
           "New Mexico",
           556495
          ],
          [
           "Georgia",
           119980
          ],
          [
           "Utah",
           59366
          ],
          [
           "Nevada",
           226877
          ],
          [
           "California",
           151348
          ],
          [
           "California",
           55191
          ],
          [
           "Ohio",
           37490
          ],
          [
           "Kansas",
           90811
          ],
          [
           "Texas",
           123933
          ],
          [
           "Oklahoma",
           610613
          ],
          [
           "Arizona",
           41627
          ],
          [
           "Arizona",
           457587
          ],
          [
           "Connecticut",
           87776
          ],
          [
           "Michigan",
           50233
          ],
          [
           "Wisconsin",
           37999
          ],
          [
           "Texas",
           40922
          ],
          [
           "Indiana",
           47989
          ],
          [
           "California",
           78327
          ],
          [
           "Minnesota",
           66297
          ],
          [
           "New Jersey",
           70868
          ],
          [
           "California",
           148738
          ],
          [
           "California",
           42443
          ],
          [
           "California",
           116768
          ],
          [
           "California",
           65040
          ],
          [
           "Oklahoma",
           97151
          ],
          [
           "Wisconsin",
           67545
          ],
          [
           "Arizona",
           45508
          ],
          [
           "Texas",
           51483
          ],
          [
           "Indiana",
           256496
          ],
          [
           "Washington",
           54790
          ],
          [
           "Massachusetts",
           57170
          ],
          [
           "California",
           61653
          ],
          [
           "New York",
           98424
          ],
          [
           "California",
           104739
          ],
          [
           "Michigan",
           61817
          ],
          [
           "Virginia",
           78014
          ],
          [
           "Maryland",
           56759
          ],
          [
           "Connecticut",
           83684
          ],
          [
           "Virginia",
           44349
          ],
          [
           "Florida",
           49631
          ],
          [
           "Idaho",
           46402
          ],
          [
           "California",
           115708
          ],
          [
           "Illinois",
           40388
          ],
          [
           "California",
           43341
          ],
          [
           "Arizona",
           72864
          ],
          [
           "New Jersey",
           145948
          ],
          [
           "Oregon",
           160614
          ],
          [
           "Florida",
           65173
          ],
          [
           "Michigan",
           50303
          ],
          [
           "Texas",
           181860
          ],
          [
           "Texas",
           68609
          ],
          [
           "Texas",
           50195
          ],
          [
           "Minnesota",
           49376
          ],
          [
           "Michigan",
           688701
          ],
          [
           "Ohio",
           42635
          ],
          [
           "Texas",
           60872
          ],
          [
           "New York",
           210358
          ],
          [
           "Alabama",
           212113
          ],
          [
           "Texas",
           885400
          ],
          [
           "California",
           90412
          ],
          [
           "Illinois",
           37385
          ],
          [
           "New Mexico",
           91956
          ],
          [
           "Illinois",
           54664
          ],
          [
           "Illinois",
           39650
          ],
          [
           "Minnesota",
           62103
          ],
          [
           "California",
           101128
          ],
          [
           "Florida",
           255483
          ],
          [
           "Wyoming",
           59628
          ],
          [
           "Texas",
           48592
          ],
          [
           "North Carolina",
           112067
          ],
          [
           "Florida",
           49998
          ],
          [
           "Florida",
           43250
          ],
          [
           "Kansas",
           148483
          ],
          [
           "Massachusetts",
           40383
          ],
          [
           "Illinois",
           38015
          ],
          [
           "Massachusetts",
           87971
          ],
          [
           "Florida",
           61007
          ],
          [
           "Connecticut",
           40347
          ],
          [
           "New Jersey",
           278427
          ],
          [
           "Louisiana",
           48426
          ],
          [
           "Minnesota",
           60407
          ],
          [
           "Texas",
           65665
          ],
          [
           "California",
           43509
          ],
          [
           "Texas",
           123099
          ],
          [
           "Texas",
           48733
          ],
          [
           "Indiana",
           53665
          ],
          [
           "California",
           155662
          ],
          [
           "Florida",
           111378
          ],
          [
           "West Virginia",
           49177
          ],
          [
           "Texas",
           248142
          ],
          [
           "Florida",
           77508
          ],
          [
           "Texas",
           43580
          ],
          [
           "Florida",
           104898
          ],
          [
           "North Carolina",
           49628
          ],
          [
           "Utah",
           43023
          ],
          [
           "California",
           46714
          ],
          [
           "Ohio",
           80429
          ],
          [
           "South Dakota",
           70812
          ],
          [
           "California",
           42889
          ],
          [
           "Colorado",
           49799
          ],
          [
           "Massachusetts",
           153703
          ],
          [
           "Colorado",
           152061
          ],
          [
           "California",
           87965
          ],
          [
           "California",
           96929
          ],
          [
           "New York",
           199766
          ],
          [
           "Ohio",
           297517
          ],
          [
           "Maryland",
           40612
          ],
          [
           "Florida",
           56002
          ],
          [
           "New Jersey",
           68247
          ],
          [
           "Ohio",
           282313
          ],
          [
           "Arizona",
           45129
          ],
          [
           "Virginia",
           182020
          ],
          [
           "Indiana",
           78967
          ],
          [
           "Illinois",
           41778
          ],
          [
           "Texas",
           83860
          ],
          [
           "Alabama",
           186254
          ],
          [
           "California",
           63338
          ],
          [
           "Washington",
           40727
          ],
          [
           "Texas",
           39605
          ],
          [
           "North Carolina",
           56954
          ],
          [
           "Michigan",
           59887
          ],
          [
           "California",
           59834
          ],
          [
           "California",
           151574
          ],
          [
           "New York",
           49468
          ],
          [
           "Nevada",
           93282
          ],
          [
           "California",
           54686
          ],
          [
           "California",
           49087
          ],
          [
           "Ohio",
           65184
          ],
          [
           "Alabama",
           45799
          ],
          [
           "California",
           69999
          ],
          [
           "Missouri",
           38816
          ],
          [
           "Idaho",
           86518
          ],
          [
           "District of Columbia",
           646449
          ],
          [
           "Illinois",
           53648
          ],
          [
           "Texas",
           38071
          ],
          [
           "California",
           101910
          ],
          [
           "North Dakota",
           113658
          ],
          [
           "Illinois",
           116513
          ],
          [
           "Nebraska",
           434353
          ],
          [
           "California",
           49228
          ],
          [
           "Kansas",
           56143
          ],
          [
           "California",
           46281
          ],
          [
           "California",
           1355896
          ],
          [
           "California",
           171990
          ],
          [
           "Massachusetts",
           108861
          ],
          [
           "Oklahoma",
           103500
          ],
          [
           "Washington",
           124435
          ],
          [
           "Tennessee",
           634464
          ],
          [
           "New Jersey",
           44113
          ],
          [
           "Colorado",
           59471
          ],
          [
           "North Carolina",
           245475
          ],
          [
           "Kansas",
           386552
          ],
          [
           "California",
           52977
          ],
          [
           "Minnesota",
           58562
          ],
          [
           "Illinois",
           45556
          ],
          [
           "Texas",
           37093
          ],
          [
           "Wisconsin",
           37159
          ],
          [
           "California",
           147559
          ],
          [
           "California",
           62864
          ],
          [
           "Wisconsin",
           99889
          ],
          [
           "Pennsylvania",
           41757
          ],
          [
           "Ohio",
           46454
          ],
          [
           "Illinois",
           40915
          ],
          [
           "Florida",
           104410
          ],
          [
           "Texas",
           97492
          ],
          [
           "Illinois",
           78902
          ],
          [
           "California",
           84691
          ],
          [
           "South Carolina",
           37647
          ],
          [
           "New Hampshire",
           87137
          ],
          [
           "Georgia",
           89981
          ],
          [
           "New York",
           55361
          ],
          [
           "New Jersey",
           76903
          ],
          [
           "California",
           50508
          ],
          [
           "Illinois",
           40351
          ],
          [
           "Virginia",
           230571
          ],
          [
           "Ohio",
           43607
          ],
          [
           "California",
           66086
          ],
          [
           "Michigan",
           37213
          ],
          [
           "New Jersey",
           127558
          ],
          [
           "Alaska",
           300950
          ],
          [
           "North Dakota",
           46321
          ],
          [
           "Florida",
           96830
          ],
          [
           "Texas",
           136639
          ],
          [
           "Texas",
           148559
          ],
          [
           "Texas",
           137147
          ],
          [
           "Ohio",
           41512
          ],
          [
           "California",
           406253
          ],
          [
           "California",
           77846
          ],
          [
           "California",
           57525
          ],
          [
           "Texas",
           196429
          ],
          [
           "Utah",
           116288
          ],
          [
           "Georgia",
           447841
          ],
          [
           "California",
           61085
          ],
          [
           "Ohio",
           44730
          ],
          [
           "California",
           63105
          ],
          [
           "Illinois",
           74710
          ],
          [
           "Rhode Island",
           41026
          ],
          [
           "Alabama",
           194899
          ],
          [
           "California",
           118837
          ],
          [
           "California",
           57639
          ],
          [
           "Tennessee",
           47333
          ],
          [
           "Missouri",
           43330
          ],
          [
           "Texas",
           81443
          ],
          [
           "Arizona",
           249146
          ],
          [
           "Colorado",
           111707
          ],
          [
           "California",
           84577
          ],
          [
           "Indiana",
           56895
          ],
          [
           "Florida",
           43286
          ],
          [
           "Indiana",
           843393
          ],
          [
           "Florida",
           71097
          ],
          [
           "Arizona",
           37130
          ],
          [
           "Illinois",
           54771
          ],
          [
           "Rhode Island",
           80566
          ],
          [
           "Indiana",
           70373
          ],
          [
           "Kansas",
           131885
          ],
          [
           "Georgia",
           82788
          ],
          [
           "North Carolina",
           279639
          ],
          [
           "Michigan",
           75548
          ],
          [
           "Oregon",
           50444
          ],
          [
           "North Carolina",
           69079
          ],
          [
           "California",
           85285
          ],
          [
           "Alabama",
           95334
          ],
          [
           "Iowa",
           51567
          ],
          [
           "California",
           86199
          ],
          [
           "Alabama",
           84126
          ],
          [
           "Florida",
           64072
          ],
          [
           "Florida",
           60202
          ],
          [
           "Arizona",
           39383
          ],
          [
           "Florida",
           68388
          ],
          [
           "Michigan",
           82821
          ],
          [
           "New York",
           79446
          ],
          [
           "California",
           298118
          ],
          [
           "Michigan",
           58946
          ],
          [
           "Florida",
           44206
          ],
          [
           "California",
           64652
          ],
          [
           "Washington",
           91113
          ],
          [
           "California",
           112174
          ],
          [
           "Texas",
           183372
          ],
          [
           "Virginia",
           96205
          ],
          [
           "Washington",
           44919
          ],
          [
           "North Carolina",
           42214
          ],
          [
           "Iowa",
           82459
          ],
          [
           "California",
           61588
          ],
          [
           "Utah",
           36956
          ],
          [
           "California",
           58879
          ],
          [
           "Minnesota",
           62603
          ],
          [
           "Arizona",
           162592
          ],
          [
           "Arizona",
           168228
          ],
          [
           "Delaware",
           71525
          ],
          [
           "Utah",
           60519
          ],
          [
           "Michigan",
           82578
          ],
          [
           "Texas",
           143484
          ],
          [
           "North Carolina",
           51510
          ],
          [
           "Texas",
           234566
          ],
          [
           "California",
           107571
          ],
          [
           "North Dakota",
           67034
          ],
          [
           "Nevada",
           54080
          ],
          [
           "Oklahoma",
           38863
          ],
          [
           "Georgia",
           197350
          ],
          [
           "North Carolina",
           204408
          ],
          [
           "Georgia",
           76185
          ],
          [
           "New Jersey",
           44412
          ],
          [
           "California",
           44096
          ],
          [
           "California",
           56449
          ],
          [
           "Alabama",
           55816
          ],
          [
           "Tennessee",
           173366
          ],
          [
           "Indiana",
           45929
          ],
          [
           "Illinois",
           41679
          ],
          [
           "California",
           76635
          ],
          [
           "Florida",
           91026
          ],
          [
           "Tennessee",
           67685
          ],
          [
           "Texas",
           54135
          ],
          [
           "California",
           46377
          ],
          [
           "Texas",
           40714
          ],
          [
           "California",
           87273
          ],
          [
           "Utah",
           40921
          ],
          [
           "Washington",
           93257
          ],
          [
           "Ohio",
           143355
          ],
          [
           "Mississippi",
           71012
          ],
          [
           "California",
           469428
          ],
          [
           "California",
           88077
          ],
          [
           "Mississippi",
           47556
          ],
          [
           "Oregon",
           159190
          ],
          [
           "California",
           53243
          ],
          [
           "California",
           63495
          ],
          [
           "California",
           74110
          ],
          [
           "Washington",
           105370
          ],
          [
           "Kansas",
           41889
          ],
          [
           "California",
           109320
          ],
          [
           "Arizona",
           78822
          ],
          [
           "Ohio",
           48139
          ],
          [
           "Michigan",
           51848
          ],
          [
           "Minnesota",
           86319
          ],
          [
           "Illinois",
           38877
          ],
          [
           "Oregon",
           93542
          ],
          [
           "Louisiana",
           66975
          ],
          [
           "New Mexico",
           39508
          ],
          [
           "New York",
           49974
          ],
          [
           "California",
           69783
          ],
          [
           "Illinois",
           58918
          ],
          [
           "California",
           52206
          ],
          [
           "Massachusetts",
           56069
          ],
          [
           "California",
           38027
          ],
          [
           "Tennessee",
           65123
          ],
          [
           "Georgia",
           142772
          ],
          [
           "Ohio",
           40768
          ],
          [
           "Washington",
           167405
          ],
          [
           "Florida",
           90116
          ],
          [
           "Indiana",
           70316
          ],
          [
           "Utah",
           54382
          ],
          [
           "California",
           837442
          ],
          [
           "California",
           203003
          ],
          [
           "Texas",
           136791
          ],
          [
           "California",
           76572
          ],
          [
           "California",
           49417
          ],
          [
           "Ohio",
           38142
          ],
          [
           "New Jersey",
           55831
          ],
          [
           "Virginia",
           246139
          ],
          [
           "Oregon",
           97368
          ],
          [
           "California",
           45851
          ],
          [
           "Florida",
           52703
          ],
          [
           "Ohio",
           62258
          ],
          [
           "South Carolina",
           37792
          ],
          [
           "California",
           213708
          ],
          [
           "Georgia",
           40059
          ],
          [
           "California",
           121096
          ],
          [
           "Indiana",
           78450
          ],
          [
           "Arizona",
           50111
          ],
          [
           "California",
           40836
          ],
          [
           "Iowa",
           58253
          ],
          [
           "New York",
           144669
          ],
          [
           "Tennessee",
           142357
          ],
          [
           "Florida",
           100710
          ],
          [
           "New York",
           37659
          ],
          [
           "Delaware",
           37366
          ],
          [
           "Minnesota",
           39398
          ],
          [
           "California",
           39428
          ],
          [
           "Illinois",
           69350
          ],
          [
           "Washington",
           652405
          ],
          [
           "Kentucky",
           40956
          ],
          [
           "California",
           161007
          ],
          [
           "Louisiana",
           200327
          ],
          [
           "Utah",
           84249
          ],
          [
           "Virginia",
           51395
          ],
          [
           "California",
           111542
          ],
          [
           "California",
           139731
          ],
          [
           "Massachusetts",
           77657
          ],
          [
           "Oregon",
           37610
          ],
          [
           "California",
           59440
          ],
          [
           "Ohio",
           59357
          ],
          [
           "California",
           79068
          ],
          [
           "Colorado",
           345803
          ],
          [
           "Minnesota",
           86128
          ],
          [
           "Virginia",
           98465
          ],
          [
           "Oregon",
           81236
          ],
          [
           "California",
           70924
          ],
          [
           "Massachusetts",
           62227
          ],
          [
           "Florida",
           68190
          ],
          [
           "Florida",
           352957
          ],
          [
           "California",
           75413
          ],
          [
           "Virginia",
           42907
          ],
          [
           "Wisconsin",
           36888
          ],
          [
           "Florida",
           90268
          ],
          [
           "Colorado",
           439886
          ],
          [
           "California",
           204933
          ],
          [
           "Michigan",
           192294
          ],
          [
           "Illinois",
           52066
          ],
          [
           "Florida",
           53326
          ],
          [
           "California",
           98030
          ],
          [
           "California",
           77593
          ],
          [
           "Colorado",
           103166
          ],
          [
           "New Mexico",
           69976
          ],
          [
           "California",
           43092
          ],
          [
           "Massachusetts",
           39414
          ],
          [
           "California",
           316619
          ],
          [
           "California",
           157161
          ],
          [
           "California",
           54194
          ],
          [
           "Utah",
           70790
          ],
          [
           "Illinois",
           73936
          ],
          [
           "California",
           96346
          ],
          [
           "Illinois",
           45417
          ],
          [
           "California",
           45237
          ],
          [
           "California",
           73098
          ],
          [
           "Arizona",
           39791
          ],
          [
           "New Mexico",
           101324
          ],
          [
           "Montana",
           39860
          ],
          [
           "Illinois",
           74907
          ],
          [
           "Michigan",
           134873
          ],
          [
           "Missouri",
           54842
          ],
          [
           "Iowa",
           61792
          ],
          [
           "Arizona",
           123546
          ],
          [
           "Texas",
           104475
          ],
          [
           "Michigan",
           42181
          ],
          [
           "Texas",
           54076
          ],
          [
           "Pennsylvania",
           41108
          ],
          [
           "Wisconsin",
           73596
          ],
          [
           "Kansas",
           64323
          ],
          [
           "Ohio",
           46979
          ],
          [
           "California",
           85156
          ],
          [
           "North Carolina",
           792862
          ],
          [
           "Kentucky",
           58416
          ],
          [
           "Florida",
           58298
          ],
          [
           "California",
           41398
          ],
          [
           "Illinois",
           2718782
          ],
          [
           "Montana",
           109059
          ],
          [
           "Wisconsin",
           47134
          ],
          [
           "Illinois",
           43907
          ],
          [
           "Connecticut",
           130660
          ],
          [
           "Pennsylvania",
           43935
          ],
          [
           "Tennessee",
           183270
          ],
          [
           "Ohio",
           53956
          ],
          [
           "Massachusetts",
           44641
          ],
          [
           "Utah",
           48612
          ],
          [
           "California",
           76419
          ],
          [
           "California",
           71948
          ],
          [
           "Minnesota",
           39765
          ],
          [
           "Oregon",
           77677
          ],
          [
           "Tennessee",
           117044
          ],
          [
           "California",
           65416
          ],
          [
           "Connecticut",
           40999
          ],
          [
           "Iowa",
           40566
          ],
          [
           "Tennessee",
           39375
          ],
          [
           "Pennsylvania",
           75806
          ],
          [
           "Alabama",
           58582
          ],
          [
           "Virginia",
           41705
          ],
          [
           "California",
           94275
          ],
          [
           "California",
           92472
          ],
          [
           "Virginia",
           85728
          ],
          [
           "Michigan",
           72952
          ],
          [
           "California",
           39331
          ],
          [
           "West Virginia",
           50821
          ],
          [
           "California",
           52403
          ],
          [
           "Florida",
           40918
          ],
          [
           "South Carolina",
           127999
          ],
          [
           "North Carolina",
           44359
          ],
          [
           "California",
           159503
          ],
          [
           "California",
           59738
          ],
          [
           "Missouri",
           93184
          ],
          [
           "Florida",
           78740
          ],
          [
           "Utah",
           90231
          ],
          [
           "Arkansas",
           40167
          ],
          [
           "California",
           179590
          ],
          [
           "Florida",
           42150
          ],
          [
           "Texas",
           63279
          ],
          [
           "Tennessee",
           653450
          ],
          [
           "Texas",
           228653
          ],
          [
           "Virginia",
           148892
          ],
          [
           "California",
           92147
          ],
          [
           "Massachusetts",
           40249
          ],
          [
           "Georgia",
           47591
          ],
          [
           "Illinois",
           65176
          ],
          [
           "New Jersey",
           41664
          ],
          [
           "Pennsylvania",
           75018
          ],
          [
           "Missouri",
           77147
          ],
          [
           "California",
           67815
          ],
          [
           "Texas",
           2195914
          ],
          [
           "California",
           106780
          ],
          [
           "Michigan",
           117025
          ],
          [
           "Texas",
           117796
          ],
          [
           "Michigan",
           48554
          ],
          [
           "California",
           56105
          ],
          [
           "Florida",
           63155
          ],
          [
           "Nebraska",
           53663
          ],
          [
           "Florida",
           162329
          ],
          [
           "Arkansas",
           75229
          ],
          [
           "California",
           203007
          ],
          [
           "Texas",
           110720
          ],
          [
           "Oklahoma",
           47186
          ],
          [
           "Massachusetts",
           94089
          ],
          [
           "New Jersey",
           65028
          ],
          [
           "California",
           54980
          ],
          [
           "Illinois",
           43116
          ],
          [
           "Mississippi",
           40921
          ],
          [
           "Tennessee",
           42774
          ],
          [
           "New Jersey",
           257342
          ],
          [
           "Minnesota",
           294873
          ],
          [
           "Florida",
           86290
          ],
          [
           "New York",
           43167
          ],
          [
           "Iowa",
           71591
          ],
          [
           "California",
           345012
          ],
          [
           "Minnesota",
           50201
          ],
          [
           "Montana",
           59351
          ],
          [
           "Utah",
           133579
          ],
          [
           "Virginia",
           136699
          ],
          [
           "Texas",
           54898
          ],
          [
           "Utah",
           91648
          ],
          [
           "California",
           37101
          ],
          [
           "Texas",
           42907
          ],
          [
           "South Carolina",
           39823
          ],
          [
           "Arkansas",
           197357
          ],
          [
           "California",
           334227
          ],
          [
           "New York",
           57866
          ],
          [
           "Idaho",
           58292
          ],
          [
           "Washington",
           133992
          ],
          [
           "California",
           127035
          ],
          [
           "New Jersey",
           51982
          ],
          [
           "Massachusetts",
           52044
          ],
          [
           "Nebraska",
           50550
          ],
          [
           "Missouri",
           115276
          ],
          [
           "Wisconsin",
           78199
          ],
          [
           "Indiana",
           85927
          ],
          [
           "Michigan",
           47523
          ],
          [
           "Ohio",
           48630
          ],
          [
           "California",
           56590
          ],
          [
           "Massachusetts",
           53756
          ],
          [
           "Texas",
           53224
          ],
          [
           "Illinois",
           75994
          ],
          [
           "California",
           81750
          ],
          [
           "North Carolina",
           107741
          ],
          [
           "Ohio",
           47777
          ],
          [
           "Oklahoma",
           56756
          ],
          [
           "California",
           89387
          ],
          [
           "Florida",
           57203
          ],
          [
           "California",
           81121
          ],
          [
           "Ohio",
           37530
          ],
          [
           "Illinois",
           150251
          ],
          [
           "California",
           102211
          ],
          [
           "Florida",
           249688
          ],
          [
           "Illinois",
           49670
          ],
          [
           "Connecticut",
           51644
          ],
          [
           "Oregon",
           51583
          ],
          [
           "Nevada",
           603488
          ],
          [
           "Texas",
           152735
          ],
          [
           "Florida",
           171016
          ],
          [
           "Iowa",
           128429
          ],
          [
           "Florida",
           38661
          ],
          [
           "Massachusetts",
           93494
          ],
          [
           "Florida",
           130288
          ],
          [
           "Texas",
           674433
          ],
          [
           "Kansas",
           127679
          ],
          [
           "California",
           54561
          ],
          [
           "Oregon",
           37064
          ],
          [
           "Minnesota",
           51368
          ],
          [
           "Ohio",
           198100
          ],
          [
           "Texas",
           80836
          ],
          [
           "California",
           171386
          ],
          [
           "South Carolina",
           104054
          ],
          [
           "Kentucky",
           609893
          ],
          [
           "California",
           52477
          ],
          [
           "Florida",
           56792
          ],
          [
           "Florida",
           51763
          ],
          [
           "California",
           110972
          ],
          [
           "Texas",
           46081
          ],
          [
           "California",
           91119
          ],
          [
           "Michigan",
           74100
          ],
          [
           "Ohio",
           63710
          ],
          [
           "Utah",
           37733
          ],
          [
           "Florida",
           172389
          ],
          [
           "Georgia",
           72531
          ],
          [
           "Florida",
           109703
          ],
          [
           "Florida",
           43328
          ],
          [
           "Alabama",
           40059
          ],
          [
           "Indiana",
           61025
          ],
          [
           "Texas",
           70190
          ],
          [
           "Ohio",
           45712
          ],
          [
           "South Dakota",
           164676
          ],
          [
           "Indiana",
           45775
          ],
          [
           "Florida",
           55456
          ],
          [
           "Massachusetts",
           41002
          ],
          [
           "Rhode Island",
           81971
          ],
          [
           "California",
           363630
          ],
          [
           "Florida",
           417650
          ],
          [
           "Louisiana",
           74024
          ],
          [
           "Washington",
           52413
          ],
          [
           "North Carolina",
           40361
          ],
          [
           "California",
           66174
          ],
          [
           "Minnesota",
           73987
          ],
          [
           "Indiana",
           100886
          ],
          [
           "Oklahoma",
           87004
          ],
          [
           "Iowa",
           207510
          ],
          [
           "Florida",
           47547
          ],
          [
           "Utah",
           45285
          ],
          [
           "California",
           86635
          ],
          [
           "Michigan",
           95208
          ],
          [
           "Wisconsin",
           599164
          ],
          [
           "Washington",
           74860
          ],
          [
           "South Carolina",
           41190
          ],
          [
           "Massachusetts",
           40664
          ],
          [
           "Washington",
           97003
          ],
          [
           "Colorado",
           106114
          ],
          [
           "Virginia",
           214114
          ],
          [
           "Indiana",
           55670
          ],
          [
           "California",
           40481
          ],
          [
           "Texas",
           53752
          ],
          [
           "New Jersey",
           52575
          ],
          [
           "Kentucky",
           308428
          ],
          [
           "California",
           106589
          ],
          [
           "Arizona",
           91923
          ],
          [
           "California",
           54291
          ],
          [
           "Illinois",
           40379
          ],
          [
           "Illinois",
           147806
          ],
          [
           "South Carolina",
           69103
          ],
          [
           "California",
           67911
          ],
          [
           "Michigan",
           56620
          ],
          [
           "Hawaii",
           347884
          ],
          [
           "Texas",
           65098
          ],
          [
           "Massachusetts",
           43886
          ],
          [
           "Texas",
           44575
          ],
          [
           "Texas",
           126700
          ],
          [
           "Illinois",
           41734
          ],
          [
           "Illinois",
           52398
          ],
          [
           "Massachusetts",
           48514
          ],
          [
           "Florida",
           59212
          ],
          [
           "Maryland",
           64072
          ],
          [
           "California",
           104709
          ],
          [
           "California",
           138981
          ],
          [
           "Wisconsin",
           66778
          ],
          [
           "Texas",
           39795
          ],
          [
           "Michigan",
           81295
          ],
          [
           "California",
           63771
          ],
          [
           "California",
           49707
          ],
          [
           "California",
           40435
          ],
          [
           "Colorado",
           59778
          ],
          [
           "Oklahoma",
           50725
          ],
          [
           "California",
           998537
          ],
          [
           "Texas",
           109821
          ],
          [
           "Minnesota",
           65415
          ],
          [
           "Oklahoma",
           118197
          ],
          [
           "Florida",
           64079
          ],
          [
           "Texas",
           37587
          ],
          [
           "California",
           236716
          ],
          [
           "Idaho",
           54350
          ],
          [
           "California",
           38606
          ],
          [
           "Wisconsin",
           48725
          ],
          [
           "Louisiana",
           66333
          ],
          [
           "Texas",
           61238
          ],
          [
           "Georgia",
           99770
          ],
          [
           "Illinois",
           83424
          ],
          [
           "New Jersey",
           85390
          ],
          [
           "Oklahoma",
           58414
          ],
          [
           "Missouri",
           53294
          ],
          [
           "California",
           159523
          ],
          [
           "Texas",
           78709
          ],
          [
           "Texas",
           38448
          ],
          [
           "Florida",
           165831
          ],
          [
           "California",
           60189
          ],
          [
           "Massachusetts",
           44057
          ],
          [
           "California",
           51701
          ],
          [
           "New Hampshire",
           110378
          ],
          [
           "Virginia",
           448479
          ],
          [
           "Kansas",
           47846
          ],
          [
           "Massachusetts",
           78804
          ],
          [
           "Florida",
           78409
          ],
          [
           "California",
           509924
          ],
          [
           "Alabama",
           37498
          ],
          [
           "Illinois",
           56758
          ],
          [
           "Florida",
           50699
          ],
          [
           "Rhode Island",
           71172
          ],
          [
           "California",
           40275
          ],
          [
           "North Carolina",
           236441
          ],
          [
           "Georgia",
           62298
          ],
          [
           "Missouri",
           82809
          ],
          [
           "California",
           80872
          ],
          [
           "California",
           72528
          ],
          [
           "Florida",
           38632
          ],
          [
           "Minnesota",
           40641
          ],
          [
           "California",
           50175
          ],
          [
           "California",
           83447
          ],
          [
           "Colorado",
           71334
          ],
          [
           "Illinois",
           38241
          ],
          [
           "Rhode Island",
           177994
          ],
          [
           "Florida",
           233394
          ],
          [
           "California",
           74513
          ],
          [
           "California",
           167500
          ],
          [
           "Washington",
           84430
          ],
          [
           "Utah",
           76817
          ],
          [
           "South Carolina",
           39412
          ],
          [
           "California",
           196021
          ],
          [
           "Connecticut",
           60456
          ],
          [
           "California",
           59957
          ],
          [
           "Massachusetts",
           41301
          ],
          [
           "Illinois",
           110145
          ],
          [
           "Texas",
           274409
          ],
          [
           "Colorado",
           89919
          ],
          [
           "Texas",
           40342
          ],
          [
           "Ohio",
           51143
          ],
          [
           "Arkansas",
           71551
          ],
          [
           "Texas",
           100050
          ],
          [
           "Michigan",
           95884
          ],
          [
           "New York",
           61808
          ],
          [
           "Louisiana",
           49761
          ],
          [
           "Maryland",
           622104
          ],
          [
           "Missouri",
           164122
          ],
          [
           "Arkansas",
           46094
          ],
          [
           "New Jersey",
           50588
          ],
          [
           "Massachusetts",
           91589
          ],
          [
           "Minnesota",
           65656
          ],
          [
           "Florida",
           127488
          ],
          [
           "California",
           49891
          ],
          [
           "Washington",
           50169
          ],
          [
           "Florida",
           37199
          ],
          [
           "Arkansas",
           78960
          ],
          [
           "California",
           58994
          ],
          [
           "Arkansas",
           63816
          ],
          [
           "Washington",
           203446
          ],
          [
           "Connecticut",
           47333
          ],
          [
           "Vermont",
           42284
          ],
          [
           "Idaho",
           45981
          ],
          [
           "Texas",
           39296
          ],
          [
           "New York",
           8405837
          ],
          [
           "California",
           126181
          ],
          [
           "California",
           107740
          ],
          [
           "Colorado",
           53063
          ],
          [
           "Georgia",
           56481
          ],
          [
           "Texas",
           792727
          ],
          [
           "California",
           92599
          ],
          [
           "Indiana",
           120310
          ],
          [
           "California",
           102216
          ],
          [
           "Tennessee",
           40021
          ],
          [
           "California",
           58642
          ],
          [
           "Colorado",
           110945
          ],
          [
           "Pennsylvania",
           87893
          ],
          [
           "California",
           70365
          ],
          [
           "Colorado",
           96539
          ],
          [
           "Texas",
           100223
          ],
          [
           "Florida",
           37711
          ],
          [
           "Texas",
           129030
          ],
          [
           "California",
           37165
          ],
          [
           "California",
           128731
          ],
          [
           "California",
           47842
          ],
          [
           "Connecticut",
           147216
          ],
          [
           "Minnesota",
           47411
          ],
          [
           "Missouri",
           47749
          ],
          [
           "Florida",
           38696
          ],
          [
           "Washington",
           67599
          ],
          [
           "California",
           147478
          ],
          [
           "Wisconsin",
           243344
          ],
          [
           "Wisconsin",
           63820
          ],
          [
           "Illinois",
           88826
          ],
          [
           "Kentucky",
           61488
          ],
          [
           "Texas",
           379577
          ],
          [
           "Texas",
           101074
          ],
          [
           "New Mexico",
           45426
          ],
          [
           "California",
           38194
          ],
          [
           "California",
           66642
          ],
          [
           "Oregon",
           60177
          ],
          [
           "Massachusetts",
           95078
          ],
          [
           "Washington",
           57530
          ],
          [
           "California",
           55000
          ],
          [
           "California",
           66205
          ],
          [
           "California",
           49133
          ],
          [
           "Tennessee",
           43060
          ],
          [
           "Pennsylvania",
           45796
          ],
          [
           "Alabama",
           68001
          ],
          [
           "New Jersey",
           64544
          ],
          [
           "Illinois",
           57282
          ],
          [
           "Mississippi",
           44820
          ],
          [
           "Illinois",
           41752
          ],
          [
           "California",
           175140
          ],
          [
           "California",
           71371
          ],
          [
           "Colorado",
           37499
          ],
          [
           "Ohio",
           72535
          ],
          [
           "Georgia",
           50603
          ],
          [
           "Louisiana",
           229426
          ],
          [
           "Connecticut",
           60568
          ],
          [
           "Missouri",
           117240
          ],
          [
           "Michigan",
           113972
          ],
          [
           "Illinois",
           58590
          ],
          [
           "New Jersey",
           61050
          ],
          [
           "Wisconsin",
           104779
          ],
          [
           "Illinois",
           75570
          ],
          [
           "Florida",
           39172
          ],
          [
           "California",
           3884307
          ],
          [
           "Washington",
           92734
          ],
          [
           "Utah",
           110077
          ],
          [
           "California",
           52536
          ],
          [
           "Pennsylvania",
           305841
          ],
          [
           "California",
           113242
          ],
          [
           "Illinois",
           84103
          ],
          [
           "California",
           95677
          ],
          [
           "Florida",
           36877
          ],
          [
           "Missouri",
           50789
          ],
          [
           "Texas",
           90983
          ],
          [
           "Utah",
           191180
          ],
          [
           "Florida",
           43074
          ],
          [
           "Arizona",
           1513367
          ],
          [
           "Oregon",
           55298
          ],
          [
           "Texas",
           46663
          ],
          [
           "Massachusetts",
           55717
          ],
          [
           "Florida",
           57468
          ],
          [
           "Georgia",
           94034
          ],
          [
           "Illinois",
           37839
          ],
          [
           "New Hampshire",
           42419
          ],
          [
           "Washington",
           48338
          ],
          [
           "California",
           197575
          ],
          [
           "Texas",
           316381
          ],
          [
           "Massachusetts",
           62088
          ],
          [
           "Illinois",
           38510
          ],
          [
           "Massachusetts",
           107289
          ],
          [
           "Arizona",
           234632
          ],
          [
           "California",
           38623
          ],
          [
           "South Carolina",
           46074
          ],
          [
           "Iowa",
           102157
          ],
          [
           "Florida",
           89407
          ],
          [
           "Connecticut",
           72939
          ],
          [
           "Michigan",
           47555
          ],
          [
           "Ohio",
           45394
          ],
          [
           "Oregon",
           109397
          ],
          [
           "Florida",
           69813
          ],
          [
           "Tennessee",
           54068
          ],
          [
           "California",
           120245
          ],
          [
           "California",
           172794
          ],
          [
           "California",
           79312
          ],
          [
           "Michigan",
           57960
          ],
          [
           "New Jersey",
           52122
          ],
          [
           "Massachusetts",
           42935
          ],
          [
           "New Jersey",
           41301
          ],
          [
           "North Carolina",
           87236
          ],
          [
           "California",
           97877
          ]
         ],
         "hoverlabel": {
          "namelength": 0
         },
         "hovertemplate": "<b>%{hovertext}</b><br><br>State=%{customdata[0]}<br>Population=%{customdata[1]}<br>lat=%{lat}<br>lon=%{lon}",
         "hovertext": [
          "Marysville",
          "Perris",
          "Cleveland",
          "Worcester",
          "Columbia",
          "Waterbury",
          "Eagan",
          "Southfield",
          "Lafayette",
          "Boise City",
          "Elkhart",
          "Buena Park",
          "Marietta",
          "Parker",
          "West Palm Beach",
          "Salem",
          "Aurora",
          "Leesburg",
          "Doral",
          "Westminster",
          "Lubbock",
          "Overland Park",
          "Jackson",
          "Gastonia",
          "Daytona Beach",
          "Kansas City",
          "Rancho Palos Verdes",
          "Burnsville",
          "Rowlett",
          "Roswell",
          "Montgomery",
          "Logan",
          "Woburn",
          "Allentown",
          "Mount Pleasant",
          "Columbus",
          "Buffalo",
          "New Berlin",
          "North Richland Hills",
          "Lima",
          "Sacramento",
          "Fort Smith",
          "East Providence",
          "Urbandale",
          "Mount Vernon",
          "Lakewood",
          "Henderson",
          "Covina",
          "Stamford",
          "Bloomington",
          "Kingsport",
          "Spokane",
          "Kennewick",
          "Philadelphia",
          "Bellingham",
          "Visalia",
          "La Crosse",
          "Council Bluffs",
          "North Lauderdale",
          "Dallas",
          "Antioch",
          "Sterling Heights",
          "Deerfield Beach",
          "Fishers",
          "Cheyenne",
          "Murrieta",
          "Lenexa",
          "Noblesville",
          "Southaven",
          "Chino",
          "Gaithersburg",
          "Fountain Valley",
          "Frederick",
          "Greenville",
          "DeKalb",
          "West Allis",
          "Thornton",
          "West Des Moines",
          "Fall River",
          "Tulare",
          "Chula Vista",
          "Coral Springs",
          "Concord",
          "Smyrna",
          "Apopka",
          "Grand Forks",
          "Lancaster",
          "Naperville",
          "Hollywood",
          "Rogers",
          "New Orleans",
          "Lakewood",
          "Oak Lawn",
          "Caldwell",
          "Portland",
          "Concord",
          "Burien",
          "St. Charles",
          "Waukesha",
          "Flagstaff",
          "Puyallup",
          "Schenectady",
          "Denver",
          "Springfield",
          "Campbell",
          "Moreno Valley",
          "Kettering",
          "Lincoln Park",
          "Lake Havasu City",
          "North Little Rock",
          "Reno",
          "Littleton",
          "Prescott",
          "Dublin",
          "Texarkana",
          "Portland",
          "Brooklyn Park",
          "West Haven",
          "El Centro",
          "The Colony",
          "Flint",
          "Pittsburg",
          "Buckeye",
          "Brea",
          "Indio",
          "Scottsdale",
          "Columbus",
          "Lancaster",
          "Lincoln",
          "Trenton",
          "Boston",
          "Glendora",
          "Rochester",
          "Florissant",
          "Annapolis",
          "Chapel Hill",
          "Lawrence",
          "Calexico",
          "Calumet City",
          "Missoula",
          "Clovis",
          "Pearland",
          "Gilbert",
          "Wausau",
          "Raleigh",
          "Orange",
          "Walnut Creek",
          "Bremerton",
          "Porterville",
          "Marana",
          "Tallahassee",
          "Conroe",
          "Blacksburg",
          "San Antonio",
          "Hartford",
          "Waterloo",
          "Binghamton",
          "Meridian",
          "Fond du Lac",
          "Baytown",
          "Cary",
          "Weymouth Town",
          "Tulsa",
          "Mission",
          "Cuyahoga Falls",
          "Malden",
          "Allen",
          "Tucson",
          "Franklin",
          "Shakopee",
          "Jacksonville",
          "Atlantic City",
          "Erie",
          "Merced",
          "Abilene",
          "Yorba Linda",
          "Greenville",
          "Huntersville",
          "St. Clair Shores",
          "Harrisburg",
          "San Buenaventura (Ventura)",
          "Fremont",
          "Pueblo",
          "Chelsea",
          "Belleville",
          "Minneapolis",
          "Bartlett",
          "Wichita Falls",
          "Missouri City",
          "St. Louis",
          "Pharr",
          "Albuquerque",
          "Athens-Clarke County",
          "South Jordan",
          "North Las Vegas",
          "Pomona",
          "Eastvale",
          "Grove City",
          "Lawrence",
          "Midland",
          "Oklahoma City",
          "Oro Valley",
          "Mesa",
          "Norwalk",
          "Kentwood",
          "Brookfield",
          "Rockwall",
          "Mishawaka",
          "Tustin",
          "St. Cloud",
          "Passaic",
          "Escondido",
          "San Bruno",
          "Berkeley",
          "San Clemente",
          "Lawton",
          "Eau Claire",
          "Maricopa",
          "DeSoto",
          "Fort Wayne",
          "Shoreline",
          "Medford",
          "La Habra",
          "Albany",
          "Daly City",
          "Taylor",
          "Lynchburg",
          "Bowie",
          "Danbury",
          "Charlottesville",
          "Coral Gables",
          "Coeur d'Alene",
          "El Monte",
          "Crystal Lake",
          "Danville",
          "Goodyear",
          "Paterson",
          "Salem",
          "Kissimmee",
          "Saginaw",
          "Brownsville",
          "Flower Mound",
          "Grapevine",
          "Edina",
          "Detroit",
          "Fairfield",
          "Mansfield",
          "Rochester",
          "Birmingham",
          "Austin",
          "Santa Barbara",
          "Addison",
          "Rio Rancho",
          "Normal",
          "Romeoville",
          "Coon Rapids",
          "San Mateo",
          "Orlando",
          "Casper",
          "Bedford",
          "Wilmington",
          "Pinellas Park",
          "North Miami Beach",
          "Kansas City",
          "Fitchburg",
          "Wheeling",
          "Newton",
          "North Miami",
          "Norwich",
          "Newark",
          "Alexandria",
          "Blaine",
          "Harlingen",
          "Lompoc",
          "Denton",
          "Galveston",
          "Greenwood",
          "Salinas",
          "Miami Gardens",
          "Huntington",
          "Laredo",
          "Melbourne",
          "Haltom City",
          "Palm Bay",
          "Wilson",
          "Bountiful",
          "Ceres",
          "Parma",
          "Rapid City",
          "Bell Gardens",
          "Commerce City",
          "Springfield",
          "Fort Collins",
          "San Leandro",
          "Vista",
          "Yonkers",
          "Cincinnati",
          "Hagerstown",
          "Sanford",
          "Union City",
          "Toledo",
          "Sierra Vista",
          "Newport News",
          "Hammond",
          "Buffalo Grove",
          "Sugar Land",
          "Huntsville",
          "Lodi",
          "Edmonds",
          "Duncanville",
          "Rocky Mount",
          "Pontiac",
          "National City",
          "Hayward",
          "Niagara Falls",
          "Sparks",
          "Hanford",
          "Cypress",
          "Youngstown",
          "Madison",
          "Redlands",
          "Cape Girardeau",
          "Nampa",
          "Washington",
          "Wheaton",
          "Lancaster",
          "Rialto",
          "Fargo",
          "Peoria",
          "Omaha",
          "Rancho Santa Margarita",
          "Manhattan",
          "Palm Springs",
          "San Diego",
          "Santa Rosa",
          "Lowell",
          "Broken Arrow",
          "Kent",
          "Nashville",
          "Hackensack",
          "Broomfield",
          "Durham",
          "Wichita",
          "Cathedral City",
          "Lakeville",
          "Elmhurst",
          "Weslaco",
          "Greenfield",
          "Sunnyvale",
          "Santa Cruz",
          "Kenosha",
          "State College",
          "Mansfield",
          "Quincy",
          "Pompano Beach",
          "San Angelo",
          "Bloomington",
          "Tracy",
          "Spartanburg",
          "Nashua",
          "Macon",
          "Hempstead",
          "Camden",
          "Palm Desert",
          "Streamwood",
          "Chesapeake",
          "Dublin",
          "Camarillo",
          "Muskegon",
          "Elizabeth",
          "Anchorage",
          "Minot",
          "Davie",
          "McAllen",
          "McKinney",
          "Killeen",
          "Findlay",
          "Oakland",
          "Mountain View",
          "Lake Elsinore",
          "Amarillo",
          "Provo",
          "Atlanta",
          "Monterey Park",
          "Strongsville",
          "Madera",
          "Decatur",
          "Woonsocket",
          "Mobile",
          "Vallejo",
          "Arcadia",
          "Collierville",
          "Jefferson City",
          "Longview",
          "Chandler",
          "Arvada",
          "Alhambra",
          "Kokomo",
          "Oakland Park",
          "Indianapolis",
          "Boynton Beach",
          "Apache Junction",
          "Mount Prospect",
          "Cranston",
          "Lafayette",
          "Olathe",
          "Johns Creek",
          "Greensboro",
          "Kalamazoo",
          "Tigard",
          "Jacksonville",
          "Citrus Heights",
          "Tuscaloosa",
          "Ankeny",
          "Hawthorne",
          "Hoover",
          "Delray Beach",
          "Wellington",
          "Bullhead City",
          "Weston",
          "Troy",
          "New Rochelle",
          "Stockton",
          "Royal Oak",
          "Titusville",
          "Laguna Niguel",
          "Spokane Valley",
          "Costa Mesa",
          "Grand Prairie",
          "Portsmouth",
          "Lacey",
          "Apex",
          "Sioux City",
          "Encinitas",
          "Spanish Fork",
          "Huntington Park",
          "Eden Prairie",
          "Peoria",
          "Tempe",
          "Wilmington",
          "Taylorsville",
          "Westland",
          "Mesquite",
          "Burlington",
          "Garland",
          "Richmond",
          "Bismarck",
          "Carson City",
          "Muskogee",
          "Augusta-Richmond County",
          "Fayetteville",
          "Albany",
          "Sayreville",
          "Newark",
          "Diamond Bar",
          "Decatur",
          "Chattanooga",
          "Jeffersonville",
          "Bartlett",
          "Baldwin Park",
          "Miami Beach",
          "Jackson",
          "Port Arthur",
          "San Luis Obispo",
          "Burleson",
          "Newport Beach",
          "Riverton",
          "Yakima",
          "Dayton",
          "Gulfport",
          "Long Beach",
          "Chico",
          "Hattiesburg",
          "Eugene",
          "Colton",
          "Montebello",
          "Pleasanton",
          "Everett",
          "Hutchinson",
          "Fairfield",
          "Avondale",
          "Euclid",
          "Battle Creek",
          "Bloomington",
          "Rock Island",
          "Beaverton",
          "Kenner",
          "Clovis",
          "Troy",
          "Milpitas",
          "Des Plaines",
          "Placentia",
          "Taunton",
          "Montclair",
          "Johnson City",
          "Savannah",
          "Warren",
          "Vancouver",
          "Sunrise",
          "Muncie",
          "Lehi",
          "San Francisco",
          "Fontana",
          "Frisco",
          "Chino Hills",
          "Poway",
          "Huber Heights",
          "New Brunswick",
          "Norfolk",
          "Hillsboro",
          "San Jacinto",
          "Pensacola",
          "Hamilton",
          "Florence",
          "San Bernardino",
          "Peachtree Corners",
          "Victorville",
          "Gary",
          "Casa Grande",
          "Morgan Hill",
          "Dubuque",
          "Syracuse",
          "Clarksville",
          "Lakeland",
          "Valley Stream",
          "Dover",
          "Moorhead",
          "Culver City",
          "Palatine",
          "Seattle",
          "Covington",
          "Elk Grove",
          "Shreveport",
          "Ogden",
          "Harrisonburg",
          "Inglewood",
          "Pasadena",
          "Lawrence",
          "Lake Oswego",
          "Petaluma",
          "Springfield",
          "Napa",
          "Aurora",
          "Duluth",
          "Roanoke",
          "Bend",
          "Apple Valley",
          "Waltham",
          "Fort Myers",
          "Tampa",
          "Upland",
          "Danville",
          "Beloit",
          "Plantation",
          "Colorado Springs",
          "Modesto",
          "Grand Rapids",
          "Oak Park",
          "Sarasota",
          "Jurupa Valley",
          "Bellflower",
          "Boulder",
          "Santa Fe",
          "Coachella",
          "Marlborough",
          "Riverside",
          "Palmdale",
          "Novato",
          "Layton",
          "Bolingbrook",
          "Mission Viejo",
          "Glenview",
          "Lincoln",
          "Folsom",
          "Prescott Valley",
          "Las Cruces",
          "Bozeman",
          "Schaumburg",
          "Warren",
          "St. Peters",
          "Ames",
          "Surprise",
          "Richardson",
          "Midland",
          "San Marcos",
          "Wilkes-Barre",
          "Appleton",
          "Shawnee",
          "Mentor",
          "Livermore",
          "Charlotte",
          "Owensboro",
          "Jupiter",
          "Rohnert Park",
          "Chicago",
          "Billings",
          "Wauwatosa",
          "Lombard",
          "New Haven",
          "York",
          "Knoxville",
          "Elyria",
          "Barnstable Town",
          "Murray",
          "Alameda",
          "Manteca",
          "Maplewood",
          "Medford",
          "Murfreesboro",
          "Yuba City",
          "Shelton",
          "Cedar Falls",
          "Germantown",
          "Scranton",
          "Auburn",
          "Manassas",
          "Vacaville",
          "Santa Monica",
          "Suffolk",
          "Rochester Hills",
          "La Quinta",
          "Charleston",
          "Delano",
          "St. Cloud",
          "Charleston",
          "Kannapolis",
          "Corona",
          "Rocklin",
          "Lee's Summit",
          "Palm Coast",
          "Sandy",
          "Bentonville",
          "Santa Clarita",
          "Altamonte Springs",
          "New Braunfels",
          "Memphis",
          "Irving",
          "Alexandria",
          "Hesperia",
          "Holyoke",
          "Dunwoody",
          "Skokie",
          "Kearny",
          "Bethlehem",
          "St. Joseph",
          "Redondo Beach",
          "Houston",
          "Temecula",
          "Ann Arbor",
          "Beaumont",
          "East Lansing",
          "Santee",
          "Tamarac",
          "Bellevue",
          "Pembroke Pines",
          "Springdale",
          "Oxnard",
          "Odessa",
          "Stillwater",
          "Brockton",
          "Bayonne",
          "Paramount",
          "Moline",
          "Meridian",
          "Cleveland",
          "Jersey City",
          "St. Paul",
          "Deltona",
          "Freeport",
          "Iowa City",
          "Anaheim",
          "Apple Valley",
          "Great Falls",
          "West Valley City",
          "Hampton",
          "Georgetown",
          "Orem",
          "Monrovia",
          "Keller",
          "Goose Creek",
          "Little Rock",
          "Santa Ana",
          "White Plains",
          "Idaho Falls",
          "Bellevue",
          "Roseville",
          "Perth Amboy",
          "Peabody",
          "Grand Island",
          "Columbia",
          "Racine",
          "Carmel",
          "Portage",
          "Middletown",
          "Woodland",
          "Revere",
          "Euless",
          "Arlington Heights",
          "Hemet",
          "High Point",
          "Newark",
          "Midwest City",
          "San Marcos",
          "Port Orange",
          "Lakewood",
          "Westerville",
          "Rockford",
          "El Cajon",
          "St. Petersburg",
          "Downers Grove",
          "Milford",
          "Albany",
          "Las Vegas",
          "Pasadena",
          "Port St. Lucie",
          "Cedar Rapids",
          "Ormond Beach",
          "Quincy",
          "Miramar",
          "El Paso",
          "Topeka",
          "Rosemead",
          "Keizer",
          "Minnetonka",
          "Akron",
          "Edinburg",
          "Rancho Cucamonga",
          "North Charleston",
          "Louisville",
          "Watsonville",
          "Coconut Creek",
          "Bradenton",
          "Carlsbad",
          "Texas City",
          "Redding",
          "Wyoming",
          "Lorain",
          "Roy",
          "Fort Lauderdale",
          "Warner Robins",
          "Clearwater",
          "Cutler Bay",
          "Florence",
          "Terre Haute",
          "Temple",
          "Beavercreek",
          "Sioux Falls",
          "Columbus",
          "Margate",
          "Leominster",
          "Warwick",
          "Bakersfield",
          "Miami",
          "Lake Charles",
          "Richland",
          "Hickory",
          "South San Francisco",
          "Plymouth",
          "South Bend",
          "Edmond",
          "Des Moines",
          "Bonita Springs",
          "Draper",
          "Whittier",
          "Livonia",
          "Milwaukee",
          "Auburn",
          "Sumter",
          "Beverly",
          "Renton",
          "Centennial",
          "Richmond",
          "Anderson",
          "Beaumont",
          "Pflugerville",
          "Hoboken",
          "Lexington-Fayette",
          "Norwalk",
          "Yuma",
          "Highland",
          "Carol Stream",
          "Joliet",
          "Rock Hill",
          "Rancho Cordova",
          "Dearborn Heights",
          "Honolulu",
          "Victoria",
          "Attleboro",
          "Wylie",
          "Carrollton",
          "Plainfield",
          "Hoffman Estates",
          "Methuen",
          "North Port",
          "Rockville",
          "Burbank",
          "Fullerton",
          "Oshkosh",
          "Huntsville",
          "Farmington Hills",
          "Pico Rivera",
          "Cerritos",
          "La Puente",
          "Grand Junction",
          "Enid",
          "San Jose",
          "Round Rock",
          "Maple Grove",
          "Norman",
          "Homestead",
          "Friendswood",
          "Irvine",
          "Pocatello",
          "Pacifica",
          "Sheboygan",
          "Bossier City",
          "Cedar Park",
          "Sandy Springs",
          "Champaign",
          "Clifton",
          "Moore",
          "Blue Springs",
          "Lancaster",
          "Bryan",
          "Hurst",
          "Cape Coral",
          "Cupertino",
          "Pittsfield",
          "Gilroy",
          "Manchester",
          "Virginia Beach",
          "Salina",
          "Somerville",
          "Largo",
          "Fresno",
          "Phenix City",
          "Berwyn",
          "Palm Beach Gardens",
          "Pawtucket",
          "San Gabriel",
          "Winston-Salem",
          "Alpharetta",
          "O'Fallon",
          "Redwood City",
          "Union City",
          "Hallandale Beach",
          "Mankato",
          "Aliso Viejo",
          "Menifee",
          "Loveland",
          "Carpentersville",
          "Providence",
          "Hialeah",
          "San Ramon",
          "Ontario",
          "Kirkland",
          "St. George",
          "Hilton Head Island",
          "Glendale",
          "Meriden",
          "Gardena",
          "Westfield",
          "Elgin",
          "Plano",
          "Longmont",
          "Coppell",
          "Lakewood",
          "Jonesboro",
          "College Station",
          "Dearborn",
          "Utica",
          "Monroe",
          "Baltimore",
          "Springfield",
          "Pine Bluff",
          "Plainfield",
          "Lynn",
          "Woodbury",
          "Gainesville",
          "West Sacramento",
          "Sammamish",
          "Aventura",
          "Fayetteville",
          "San Rafael",
          "Conway",
          "Tacoma",
          "Middletown",
          "Burlington",
          "Twin Falls",
          "Sherman",
          "New York",
          "Simi Valley",
          "West Covina",
          "Castle Rock",
          "Valdosta",
          "Fort Worth",
          "Carson",
          "Evansville",
          "Santa Maria",
          "Brentwood",
          "La Mesa",
          "Westminster",
          "Reading",
          "Turlock",
          "Greeley",
          "Tyler",
          "Winter Garden",
          "Waco",
          "Martinez",
          "Thousand Oaks",
          "Azusa",
          "Bridgeport",
          "St. Louis Park",
          "Chesterfield",
          "Greenacres",
          "Pasco",
          "Torrance",
          "Madison",
          "Janesville",
          "Waukegan",
          "Bowling Green",
          "Arlington",
          "Lewisville",
          "Farmington",
          "Oakley",
          "Palo Alto",
          "Springfield",
          "New Bedford",
          "Redmond",
          "Brentwood",
          "Davis",
          "La Mirada",
          "Smyrna",
          "Altoona",
          "Dothan",
          "East Orange",
          "Tinley Park",
          "Biloxi",
          "Urbana",
          "Garden Grove",
          "Lynwood",
          "Northglenn",
          "Canton",
          "Brookhaven",
          "Baton Rouge",
          "Bristol",
          "Independence",
          "Lansing",
          "Orland Park",
          "Vineland",
          "Green Bay",
          "Evanston",
          "Ocoee",
          "Los Angeles",
          "Federal Way",
          "West Jordan",
          "Yucaipa",
          "Pittsburgh",
          "Downey",
          "Cicero",
          "South Gate",
          "Panama City",
          "Joplin",
          "League City",
          "Salt Lake City",
          "Fort Pierce",
          "Phoenix",
          "Corvallis",
          "Cedar Hill",
          "Chicopee",
          "Ocala",
          "Roswell",
          "Park Ridge",
          "Concord",
          "Olympia",
          "Huntington Beach",
          "Corpus Christi",
          "Haverhill",
          "Hanover Park",
          "Cambridge",
          "Glendale",
          "Stanton",
          "Summerville",
          "Davenport",
          "Boca Raton",
          "New Britain",
          "Roseville",
          "Cleveland Heights",
          "Gresham",
          "Lauderhill",
          "Hendersonville",
          "Santa Clara",
          "Oceanside",
          "Lake Forest",
          "Novi",
          "West New York",
          "Everett",
          "Linden",
          "Asheville",
          "Compton"
         ],
         "lat": [
          48.0517637,
          33.7825194,
          41.49932,
          42.26259320000001,
          34.0007104,
          41.55815250000001,
          44.80413220000001,
          42.4733688,
          30.2240897,
          43.6187102,
          41.6819935,
          33.8675143,
          33.952602,
          39.5186002,
          26.7153424,
          42.51954,
          41.7605849,
          39.1156615,
          25.8195424,
          33.7513419,
          33.5778631,
          38.9822282,
          32.298757300000005,
          35.262082,
          29.2108147,
          39.0997265,
          33.7444613,
          44.7677424,
          32.9029017,
          33.3942655,
          32.366805199999995,
          41.7369803,
          42.4792618,
          40.6084305,
          32.8323225,
          32.4609764,
          42.8864468,
          42.9764027,
          32.8342952,
          40.742551,
          38.5815719,
          35.38592420000001,
          41.81371160000001,
          41.6266555,
          40.9125992,
          39.7047095,
          36.0395247,
          34.0900091,
          41.0534302,
          39.165325,
          36.548434,
          47.6587802,
          46.2112458,
          39.9525839,
          48.74908,
          36.3302284,
          43.8013556,
          41.2619444,
          26.217305,
          32.7766642,
          38.0049214,
          42.5803122,
          26.3184123,
          39.95675479999999,
          41.1399814,
          33.553914299999995,
          38.9536174,
          40.0455917,
          34.9889818,
          34.0122346,
          39.14344060000001,
          33.7091847,
          39.4142688,
          35.612661,
          41.9294736,
          43.0166806,
          39.8680412,
          41.5772115,
          41.7014912,
          36.20772879999999,
          32.6400541,
          26.271192,
          35.4087517,
          33.883992600000006,
          28.6934076,
          47.9252568,
          39.71367539999999,
          41.7508391,
          26.0112014,
          36.3320196,
          29.9510658,
          47.1717649,
          41.71997800000001,
          43.6629384,
          45.52306220000001,
          37.9779776,
          47.4703767,
          38.7881062,
          43.0116784,
          35.1982836,
          47.1853785,
          42.8142432,
          39.7392358,
          39.7817213,
          37.2871651,
          33.9424658,
          39.6895036,
          42.2505943,
          34.483901,
          34.769535999999995,
          39.5296329,
          39.613321,
          34.540024200000005,
          37.7021521,
          33.425125,
          43.661471,
          45.0941315,
          41.2705484,
          32.792,
          33.0806083,
          43.0125274,
          38.02797620000001,
          33.3703197,
          33.9166805,
          33.7205771,
          33.494170399999994,
          39.9611755,
          40.0378755,
          40.8257625,
          40.2170534,
          42.3600825,
          34.136118700000004,
          44.0121221,
          38.789217,
          38.9784453,
          35.91319960000001,
          39.8386516,
          32.6789476,
          41.6155909,
          46.8787176,
          36.8252277,
          29.5635666,
          33.3528264,
          44.9591352,
          35.7795897,
          33.7877944,
          37.9100783,
          47.56732020000001,
          36.06523,
          32.436381,
          30.4382559,
          30.3118769,
          37.2295733,
          29.4241219,
          41.7637111,
          42.492786,
          42.0986867,
          43.61210870000001,
          43.7730448,
          29.735504700000003,
          35.79154000000001,
          42.2180724,
          36.1539816,
          26.2159066,
          41.1339449,
          42.4250964,
          33.1031744,
          32.2217429,
          35.9250637,
          44.79739620000001,
          30.3321838,
          39.3642834,
          42.1292241,
          37.3021632,
          32.4487364,
          33.888625899999994,
          34.8526176,
          35.410694,
          42.4974085,
          40.27319110000001,
          34.274646000000004,
          37.54826970000001,
          38.2544472,
          42.3917638,
          38.5200504,
          44.977753,
          35.2045328,
          33.91370850000001,
          29.6185669,
          38.6270025,
          26.1947962,
          35.0853336,
          33.9519347,
          40.5621704,
          36.1988592,
          34.055103,
          33.952463,
          39.8814519,
          38.9716689,
          31.9973456,
          35.4675602,
          32.3909071,
          33.4151843,
          41.117744,
          42.8694731,
          43.0605671,
          32.9312336,
          41.6619927,
          33.7458511,
          45.5579451,
          40.8567662,
          33.1192068,
          37.6304904,
          37.87159260000001,
          33.4269728,
          34.6035669,
          44.811349,
          33.05810630000001,
          32.589699800000005,
          41.079273,
          47.7556531,
          42.4184296,
          33.9319578,
          42.65257929999999,
          37.6879241,
          42.240872,
          37.4137536,
          39.0067768,
          41.394817,
          38.0293059,
          25.72149,
          47.6776832,
          34.0686206,
          42.2411344,
          37.8215929,
          33.4353394,
          40.9167654,
          44.9428975,
          28.291955699999995,
          43.4194699,
          25.9017472,
          33.0145673,
          32.9342919,
          44.88968660000001,
          42.33142700000001,
          39.3454673,
          32.5631924,
          43.16103,
          33.5206608,
          30.267153000000004,
          34.4208305,
          41.931696,
          35.2327544,
          40.5142026,
          41.6475306,
          45.1732394,
          37.56299170000001,
          28.5383355,
          42.866632,
          32.844017,
          34.2257255,
          27.8428025,
          25.9331488,
          39.11405300000001,
          42.5834228,
          42.1391927,
          42.3370413,
          25.8900949,
          41.5242649,
          40.735657,
          31.3112936,
          45.1607987,
          26.1906306,
          34.6391501,
          33.2148412,
          29.3013479,
          39.6136578,
          36.6777372,
          25.9420377,
          38.41924960000001,
          27.530567100000006,
          28.0836269,
          32.799573800000005,
          28.03446210000001,
          35.7212689,
          40.8893895,
          37.5949316,
          41.40477420000001,
          44.0805434,
          33.9652918,
          39.8083196,
          42.1014831,
          40.5852602,
          37.7249296,
          33.2000368,
          40.9312099,
          39.1031182,
          39.6417629,
          28.802861199999995,
          40.6975898,
          41.6639383,
          31.5455001,
          37.0870821,
          41.5833688,
          42.1662831,
          29.6196787,
          34.730368799999994,
          38.1341477,
          47.8106521,
          32.6518004,
          35.93821029999999,
          42.6389216,
          32.6781085,
          37.6688205,
          43.0962143,
          39.5349112,
          36.3274502,
          33.8169599,
          41.0997803,
          34.6992579,
          34.055569299999995,
          37.3058839,
          43.5407172,
          38.9071923,
          41.8661403,
          32.5920798,
          34.1064001,
          46.8771863,
          40.6936488,
          41.25236339999999,
          33.640855,
          39.1836082,
          33.8302961,
          32.715738,
          38.440429,
          42.633424700000006,
          36.060949,
          47.38093350000001,
          36.1626638,
          40.8859325,
          39.9205411,
          35.99403289999999,
          37.688889,
          33.780538799999995,
          44.6496868,
          41.8994744,
          26.1595194,
          42.9614039,
          37.36883,
          36.9741171,
          42.5847425,
          40.7933949,
          40.75839000000001,
          39.9356016,
          26.2378597,
          31.4637723,
          40.4842027,
          37.7396513,
          34.949567200000004,
          42.7653662,
          32.8406946,
          40.7062128,
          39.9259463,
          33.7222445,
          42.02558270000001,
          36.7682088,
          40.0992294,
          34.216393700000005,
          43.2341813,
          40.6639916,
          61.2180556,
          48.23296679999999,
          26.0764783,
          26.203407100000003,
          33.19724650000001,
          31.1171194,
          41.04422,
          37.8043637,
          37.3860517,
          33.668077200000006,
          35.2219971,
          40.2338438,
          33.7489954,
          34.0625106,
          41.3144966,
          36.96133560000001,
          39.84031470000001,
          42.0028761,
          30.6953657,
          38.1040864,
          34.139729200000005,
          35.042036,
          38.57670170000001,
          32.5007037,
          33.3061605,
          39.8027644,
          34.095287,
          40.486427,
          26.1723065,
          39.768403,
          26.531786600000004,
          33.4150485,
          42.06641670000001,
          41.7798226,
          40.4167022,
          38.8813958,
          34.0289259,
          36.0726354,
          42.2917069,
          45.4312294,
          34.7540524,
          38.7071247,
          33.2098407,
          41.7317884,
          33.9164032,
          33.405386699999994,
          26.4614625,
          26.6617635,
          35.1359386,
          26.1003654,
          42.6064095,
          40.9114882,
          37.9577016,
          42.4894801,
          28.6122187,
          33.5225261,
          47.6732281,
          33.6411316,
          32.7459645,
          36.8354258,
          47.0342629,
          35.732652,
          42.4999942,
          33.0369867,
          40.114955,
          33.981681200000004,
          44.8546856,
          33.5805955,
          33.4255104,
          39.7390721,
          40.6677248,
          42.324204,
          32.7667955,
          36.0956918,
          32.912624,
          37.9357576,
          46.8083268,
          39.1637984,
          35.74787689999999,
          33.4734978,
          35.0526641,
          31.5785074,
          40.4594021,
          37.5296593,
          34.02862260000001,
          34.6059253,
          35.0456297,
          38.27757020000001,
          41.9950276,
          34.0852868,
          25.790654,
          35.6145169,
          29.8849504,
          35.2827524,
          32.5420821,
          33.6189101,
          40.521893,
          46.6020711,
          39.7589478,
          30.367419800000004,
          33.770050399999995,
          39.7284944,
          31.3271189,
          44.0520691,
          34.0739016,
          34.0165053,
          37.6624312,
          47.9789848,
          38.0608445,
          38.2493581,
          33.4355977,
          41.5931049,
          42.32115220000001,
          44.840798,
          41.5094771,
          45.487062,
          29.9940924,
          34.4047987,
          42.7284117,
          37.4323341,
          42.03336229999999,
          33.87223710000001,
          41.900101,
          34.0775104,
          36.3134397,
          32.0835407,
          41.2375569,
          45.6387281,
          26.1669711,
          40.1933767,
          40.3916172,
          37.7749295,
          34.0922335,
          33.1506744,
          33.989818799999995,
          32.9628232,
          39.843947,
          40.4862157,
          36.8507689,
          45.5228939,
          33.783908399999994,
          30.421309,
          39.3995008,
          34.1954331,
          34.1083449,
          33.9698929,
          34.5362184,
          41.5933696,
          32.8795022,
          37.13050120000001,
          42.5005583,
          43.0481221,
          36.5297706,
          28.0394654,
          40.6642699,
          39.158168,
          46.8737648,
          34.0211224,
          42.1103041,
          47.6062095,
          39.08367120000001,
          38.4087993,
          32.5251516,
          41.223,
          38.4495688,
          33.9616801,
          34.1477849,
          42.7070354,
          45.4206749,
          38.232417,
          39.9242266,
          38.2975381,
          39.7294319,
          46.7866719,
          37.2709704,
          44.0581728,
          34.5008311,
          42.37648520000001,
          26.640628000000003,
          27.950575,
          34.09751,
          36.5859718,
          42.5083482,
          26.1275862,
          38.8338816,
          37.6390972,
          42.9633599,
          41.885031700000006,
          27.3364347,
          33.9971974,
          33.8816818,
          40.0149856,
          35.686975200000006,
          33.6803003,
          42.3459271,
          33.9533487,
          34.5794343,
          38.1074198,
          41.0602216,
          41.6986416,
          33.6000232,
          42.0697509,
          38.891565,
          38.6779591,
          34.6100243,
          32.3199396,
          45.6769979,
          42.0333607,
          42.5144566,
          38.7874699,
          42.034722,
          33.62923370000001,
          32.948333500000004,
          43.6155825,
          29.8832749,
          41.2459149,
          44.2619309,
          39.0228485,
          41.6661573,
          37.6818745,
          35.2270869,
          37.7719074,
          26.934224600000004,
          38.3396367,
          41.8781136,
          45.783285600000006,
          43.049457200000006,
          41.8800296,
          41.308274,
          39.9625984,
          35.96063839999999,
          41.36837979999999,
          41.7003208,
          40.6668916,
          37.7652065,
          37.7974273,
          44.95302150000001,
          42.3265152,
          35.8456213,
          39.1404477,
          41.3164856,
          42.5348993,
          35.08675770000001,
          41.408969,
          32.6098566,
          38.7509488,
          38.3565773,
          34.01945429999999,
          36.7282054,
          42.6583661,
          33.663357299999994,
          38.3498195,
          35.7688425,
          28.2489016,
          32.776474900000004,
          35.4873613,
          33.8752935,
          38.7907339,
          38.9108408,
          29.5844524,
          40.56497810000001,
          36.3728538,
          34.3916641,
          28.6611089,
          29.7030024,
          35.1495343,
          32.814017699999994,
          38.8048355,
          34.4263886,
          42.2042586,
          33.9462125,
          42.0324025,
          40.7684342,
          40.6259316,
          39.7674578,
          33.8491816,
          29.7604267,
          33.4936391,
          42.2808256,
          30.080174,
          42.7369792,
          32.8383828,
          26.2128609,
          41.1543623,
          26.007765,
          36.18674420000001,
          34.1975048,
          31.8456816,
          36.1156071,
          42.08343350000001,
          40.6687141,
          33.8894598,
          41.5067003,
          32.3643098,
          35.1595182,
          40.7281575,
          44.9537029,
          28.9005446,
          40.65760220000001,
          41.6611277,
          33.8352932,
          44.7319094,
          47.4941836,
          40.691613200000006,
          37.0298687,
          30.633261800000003,
          40.2968979,
          34.14426160000001,
          32.9341893,
          32.9810059,
          34.7464809,
          33.7455731,
          41.0339862,
          43.4916514,
          47.610377,
          38.7521235,
          40.5067723,
          42.5278731,
          40.92639570000001,
          38.95170529999999,
          42.7261309,
          39.978371,
          42.20115379999999,
          39.5150576,
          38.6785157,
          42.40843020000001,
          32.8370727,
          42.0883603,
          33.7475203,
          35.95569229999999,
          40.0581205,
          35.4495065,
          33.1433723,
          29.1383165,
          33.853626899999995,
          40.1261743,
          42.2711311,
          32.7947731,
          27.773056,
          41.8089191,
          41.2306979,
          44.6365107,
          36.1699412,
          29.6910625,
          27.2730492,
          41.9778795,
          29.2858129,
          42.25287720000001,
          25.9860762,
          31.7775757,
          39.0558235,
          34.0805651,
          44.9901194,
          44.9211836,
          41.08144470000001,
          26.3017374,
          34.1063989,
          32.8546197,
          38.2526647,
          36.910231,
          26.2517482,
          27.4989278,
          33.158093300000004,
          29.383845,
          40.5865396,
          42.9133602,
          41.452819,
          41.1616108,
          26.1224386,
          32.6130007,
          27.9658533,
          25.5808323,
          34.79981,
          39.4667034,
          31.0982344,
          39.7092262,
          43.5445959,
          39.2014404,
          26.244526300000004,
          42.5250906,
          41.7001009,
          35.3732921,
          25.7616798,
          30.226594899999995,
          46.2856907,
          35.7344538,
          37.654656,
          45.01051939999999,
          41.6763545,
          35.6528323,
          41.6005448,
          26.339806,
          40.5246711,
          33.97917929999999,
          42.36837,
          43.0389025,
          47.3073228,
          33.9204354,
          42.5584283,
          47.4828776,
          39.5807452,
          37.5407246,
          40.1053196,
          33.92946060000001,
          30.4393696,
          40.7439905,
          38.040583700000006,
          33.9022367,
          32.6926512,
          34.1283442,
          41.9125286,
          41.525031,
          34.9248667,
          38.5890723,
          42.3369816,
          21.3069444,
          28.8052674,
          41.9445441,
          33.0151201,
          32.975641499999995,
          41.632223,
          42.0629915,
          42.7262016,
          27.044224,
          39.0839973,
          34.18083920000001,
          33.8703596,
          44.0247062,
          30.723526300000003,
          42.4989936,
          33.9830688,
          33.8583483,
          34.0200114,
          39.0638705,
          36.3955891,
          37.3382082,
          30.508255100000003,
          45.07246420000001,
          35.2225668,
          25.4687224,
          29.529399800000004,
          33.6839473,
          42.8713032,
          37.6138253,
          43.7508284,
          32.5159852,
          30.505198,
          33.9304352,
          40.1164204,
          40.8584328,
          35.339507899999994,
          39.0169509,
          34.6867846,
          30.6743643,
          32.82346210000001,
          26.5628537,
          37.3229978,
          42.4500845,
          37.0057816,
          42.99563970000001,
          36.8529263,
          38.8402805,
          42.3875968,
          27.9094665,
          36.7468422,
          32.4709761,
          41.8505874,
          26.8233946,
          41.878711,
          34.0961111,
          36.0998596,
          34.07537620000001,
          38.8106075,
          37.4852152,
          37.59339179999999,
          25.9812024,
          44.1635775,
          33.5676842,
          33.6971468,
          40.39776120000001,
          42.1211364,
          41.8239891,
          25.8575963,
          37.7799273,
          34.0633443,
          47.6814875,
          37.0965278,
          32.216316,
          34.1425078,
          41.5381535,
          33.8883487,
          42.1250929,
          42.0354084,
          33.0198431,
          40.1672068,
          32.9545687,
          41.48199320000001,
          35.8422967,
          30.627977,
          42.3222599,
          43.100903,
          32.5093109,
          39.2903848,
          37.20895720000001,
          34.2284312,
          40.6337136,
          42.466763,
          44.92385520000001,
          29.6516344,
          38.5804609,
          47.6162683,
          25.9564812,
          36.0625795,
          37.9735346,
          35.0886963,
          47.2528768,
          41.5623209,
          44.4758825,
          42.5629668,
          33.635661799999994,
          40.7127837,
          34.2694474,
          34.0686208,
          39.37221210000001,
          30.8327022,
          32.7554883,
          33.8316745,
          37.9715592,
          34.95303370000001,
          36.0331164,
          32.7678287,
          39.8366528,
          40.3356483,
          37.4946568,
          40.42331420000001,
          32.351260100000005,
          28.5652787,
          31.549333,
          38.0193657,
          34.1705609,
          34.1336186,
          41.18654779999999,
          44.9597376,
          38.6631083,
          26.6276276,
          46.2395793,
          33.83584920000001,
          43.07305170000001,
          42.6827885,
          42.3636331,
          36.9685219,
          32.735687,
          33.046233,
          36.7280583,
          37.9974219,
          37.4418834,
          44.0462362,
          41.6362152,
          47.6739881,
          37.931868,
          38.5449065,
          33.9172357,
          35.9828412,
          40.5186809,
          31.2232313,
          40.767323,
          41.5731442,
          30.396031800000006,
          40.1105875,
          33.7739053,
          33.930293,
          39.8961821,
          40.7989473,
          33.8651033,
          30.4582829,
          41.6717648,
          39.0911161,
          42.732535,
          41.6303103,
          39.4863773,
          44.519159,
          42.0450722,
          28.5691677,
          34.0522342,
          47.3223221,
          40.6096698,
          34.033625,
          40.4406248,
          33.9401088,
          41.8455877,
          33.954737,
          30.1588129,
          37.0842271,
          29.5074538,
          40.7607793,
          27.446705600000005,
          33.4483771,
          44.5645659,
          32.5884689,
          42.14870429999999,
          29.1871986,
          34.0232431,
          42.0111412,
          43.2081366,
          47.0378741,
          33.660297,
          27.8005828,
          42.7762015,
          41.9994722,
          42.3736158,
          33.538652299999995,
          33.802515500000005,
          33.0185039,
          41.5236437,
          26.3683064,
          41.6612104,
          42.4972583,
          41.5200518,
          45.5001357,
          26.1403635,
          36.3047735,
          37.3541079,
          33.1958696,
          33.6469661,
          42.48059,
          40.7878788,
          42.40843,
          40.6220478,
          35.5950581,
          33.8958492
         ],
         "legendgroup": "",
         "lon": [
          -122.1770818,
          -117.2286478,
          -81.6943605,
          -71.8022934,
          -81.0348144,
          -73.0514965,
          -93.1668858,
          -83.2218731,
          -92.0198427,
          -116.2146068,
          -85.9766671,
          -117.9981181,
          -84.5499327,
          -104.7613633,
          -80.0533746,
          -70.8967155,
          -88.3200715,
          -77.5636015,
          -80.3553302,
          -117.9939921,
          -101.8551665,
          -94.6707917,
          -90.1848103,
          -81.1873005,
          -81.02283309999999,
          -94.5785667,
          -118.3870173,
          -93.2777226,
          -96.56388,
          -104.5230242,
          -86.2999689,
          -111.8338359,
          -71.1522765,
          -75.4901833,
          -79.82842579999998,
          -84.9877094,
          -78.8783689,
          -88.10842240000002,
          -97.2289029,
          -84.1052256,
          -121.4943996,
          -94.3985475,
          -71.37005450000002,
          -93.7121656,
          -73.8370786,
          -105.08137340000002,
          -114.9817213,
          -117.8903397,
          -73.53873409999999,
          -86.5263857,
          -82.5618186,
          -117.4260466,
          -119.1372338,
          -75.1652215,
          -122.4781473,
          -119.2920585,
          -91.2395807,
          -95.8608333,
          -80.2258811,
          -96.7969879,
          -121.805789,
          -83.0302033,
          -80.0997657,
          -86.01335,
          -104.8202462,
          -117.2139232,
          -94.7335709,
          -86.0085955,
          -90.0125913,
          -117.688944,
          -77.2013705,
          -117.9536697,
          -77.41054090000002,
          -77.3663538,
          -88.7503647,
          -88.0070315,
          -104.9719243,
          -93.711332,
          -71.1550451,
          -119.3473379,
          -117.0841955,
          -80.27060440000002,
          -80.579511,
          -84.51437609999998,
          -81.53221490000001,
          -97.0328547,
          -82.59932940000002,
          -88.15353520000002,
          -80.1494901,
          -94.1185366,
          -90.0715323,
          -122.518458,
          -87.7479528,
          -116.6873596,
          -122.6764816,
          -122.0310733,
          -122.3467918,
          -90.4974359,
          -88.2314813,
          -111.651302,
          -122.29289740000002,
          -73.93956870000002,
          -104.990251,
          -89.6501481,
          -121.9499568,
          -117.2296717,
          -84.16882740000001,
          -83.17853609999997,
          -114.3224548,
          -92.2670941,
          -119.8138027,
          -105.0166498,
          -112.4685025,
          -121.9357918,
          -94.0476882,
          -70.2553259,
          -93.3563405,
          -72.94697109999998,
          -115.5630514,
          -96.8928309,
          -83.6874562,
          -121.88468059999998,
          -112.58377659999998,
          -117.9000604,
          -116.2155619,
          -111.9260519,
          -82.9987942,
          -76.3055144,
          -96.6851982,
          -74.74293840000001,
          -71.0588801,
          -117.865339,
          -92.4801989,
          -90.322614,
          -76.4921829,
          -79.05584449999998,
          -86.0252612,
          -115.4988834,
          -87.5294871,
          -113.996586,
          -119.7029194,
          -95.2860474,
          -111.789027,
          -89.6301221,
          -78.6381787,
          -117.8531119,
          -122.0651819,
          -122.6329356,
          -119.0167679,
          -111.2224422,
          -84.2807329,
          -95.4560512,
          -80.4139393,
          -98.4936282,
          -72.6850932,
          -92.3425775,
          -75.9179738,
          -116.3915131,
          -88.44705079999999,
          -94.9774274,
          -78.78111690000001,
          -70.94103559999998,
          -95.992775,
          -98.3252932,
          -81.48455849999998,
          -71.066163,
          -96.6705503,
          -110.926479,
          -86.86888990000001,
          -93.5272861,
          -81.655651,
          -74.4229266,
          -80.085059,
          -120.48296770000002,
          -99.7331439,
          -117.8131125,
          -82.3940104,
          -80.8428504,
          -82.8963604,
          -76.88670079999999,
          -119.22903159999998,
          -121.9885719,
          -104.6091409,
          -71.03282840000001,
          -89.98399350000003,
          -93.2650108,
          -89.8739753,
          -98.4933873,
          -95.5377215,
          -90.1994042,
          -98.1836216,
          -106.6055534,
          -83.357567,
          -111.929658,
          -115.1175013,
          -117.7499909,
          -117.5848025,
          -83.09296440000001,
          -95.2352501,
          -102.0779146,
          -97.5164276,
          -110.96648799999998,
          -111.8314724,
          -73.4081575,
          -85.6447492,
          -88.1064787,
          -96.4597089,
          -86.15861559999998,
          -117.826166,
          -94.1632404,
          -74.12847640000003,
          -117.086421,
          -122.4110835,
          -122.272747,
          -117.6119925,
          -98.3959291,
          -91.4984941,
          -112.0476423,
          -96.8570738,
          -85.13935129999999,
          -122.3415178,
          -71.10616390000001,
          -117.94617340000002,
          -73.7562317,
          -122.47020790000002,
          -83.2696509,
          -79.1422464,
          -76.77913649999998,
          -73.45401109999997,
          -78.4766781,
          -80.2683838,
          -116.7804664,
          -118.0275667,
          -88.3161965,
          -121.9999606,
          -112.3576567,
          -74.171811,
          -123.0350963,
          -81.40757099999998,
          -83.9508068,
          -97.4974838,
          -97.0969552,
          -97.0780654,
          -93.3499489,
          -83.0457538,
          -84.56031870000002,
          -97.1416768,
          -77.61092190000002,
          -86.80249,
          -97.7430608,
          -119.6981901,
          -87.9889556,
          -106.6630437,
          -88.99063120000002,
          -88.0895061,
          -93.3030063,
          -122.3255254,
          -81.3792365,
          -106.313081,
          -97.1430671,
          -77.9447102,
          -82.6995443,
          -80.1625463,
          -94.6274636,
          -71.8022955,
          -87.92895909999999,
          -71.2092214,
          -80.18671379999998,
          -72.07591049999998,
          -74.1723667,
          -92.4451371,
          -93.2349489,
          -97.6961026,
          -120.4579409,
          -97.1330683,
          -94.7976958,
          -86.10665259999998,
          -121.6555013,
          -80.2456045,
          -82.445154,
          -99.4803241,
          -80.6081089,
          -97.2691817,
          -80.5886646,
          -77.91553950000002,
          -111.880771,
          -120.9577098,
          -81.72290859999998,
          -103.2310149,
          -118.1514588,
          -104.9338675,
          -72.589811,
          -105.084423,
          -122.1560768,
          -117.2425355,
          -73.8987469,
          -84.5120196,
          -77.7199932,
          -81.269453,
          -74.2631635,
          -83.555212,
          -110.27728559999998,
          -76.4730122,
          -87.5000412,
          -87.9631308,
          -95.6349463,
          -86.5861037,
          -121.2722194,
          -122.3773552,
          -96.9083366,
          -77.7905339,
          -83.2910468,
          -117.0991967,
          -122.0807964,
          -79.03773879999999,
          -119.7526886,
          -119.6456844,
          -118.0372852,
          -80.6495194,
          -86.7483318,
          -117.1825381,
          -89.51814759999998,
          -116.5634624,
          -77.03687070000002,
          -88.1070127,
          -96.7561082,
          -117.3703235,
          -96.7898034,
          -89.58898640000002,
          -95.9979883,
          -117.603104,
          -96.5716694,
          -116.54529209999998,
          -117.1610838,
          -122.7140548,
          -71.3161718,
          -95.7974526,
          -122.2348431,
          -86.78160159999999,
          -74.0434736,
          -105.0866504,
          -78.898619,
          -97.336111,
          -116.4668036,
          -93.24272,
          -87.9403418,
          -97.9908366,
          -88.0125865,
          -122.0363496,
          -122.0307963,
          -87.8211854,
          -77.8600012,
          -82.51544709999997,
          -91.4098726,
          -80.1247667,
          -100.4370375,
          -88.9936873,
          -121.4252227,
          -81.93204820000003,
          -71.467566,
          -83.6324022,
          -73.6187397,
          -75.1196199,
          -116.3744556,
          -88.1784085,
          -76.2874927,
          -83.11407709999997,
          -119.0376023,
          -86.2483921,
          -74.2107006,
          -149.90027780000003,
          -101.2922906,
          -80.2521157,
          -98.2300124,
          -96.6397822,
          -97.7277959,
          -83.6499321,
          -122.27111370000002,
          -122.0838511,
          -117.3272615,
          -101.8312969,
          -111.6585337,
          -84.3879824,
          -118.1228476,
          -81.83569,
          -120.0607176,
          -88.9548001,
          -71.5147839,
          -88.0398912,
          -122.25663670000002,
          -118.0353449,
          -89.66452659999999,
          -92.1735164,
          -94.7404891,
          -111.8412502,
          -105.0874842,
          -118.1270146,
          -86.13360329999998,
          -80.13198929999999,
          -86.158068,
          -80.0905465,
          -111.5495777,
          -87.9372908,
          -71.4372796,
          -86.8752869,
          -94.8191285,
          -84.19857900000002,
          -79.79197540000001,
          -85.5872286,
          -122.7714861,
          -77.43024140000001,
          -121.2810611,
          -87.5691735,
          -93.6001278,
          -118.3525748,
          -86.8113781,
          -80.07282009999999,
          -80.2683571,
          -114.5285981,
          -80.3997748,
          -83.1497751,
          -73.78235490000002,
          -121.29077959999998,
          -83.1446485,
          -80.8075537,
          -117.7075526,
          -117.2393748,
          -117.9186689,
          -96.9977846,
          -76.29827420000002,
          -122.8231915,
          -78.85028559999998,
          -96.4003069,
          -117.2919818,
          -111.654923,
          -118.2250725,
          -93.470786,
          -112.2373779,
          -111.9400054,
          -75.5397878,
          -111.9388258,
          -83.400211,
          -96.5991593,
          -79.43779909999998,
          -96.6388833,
          -122.3477486,
          -100.7837392,
          -119.7674034,
          -95.3696909,
          -82.0105148,
          -78.87835849999998,
          -84.155741,
          -74.360846,
          -122.0402399,
          -117.8103367,
          -86.9833417,
          -85.3096801,
          -85.7371847,
          -88.1856301,
          -117.96089779999998,
          -80.1300455,
          -88.8139469,
          -93.939947,
          -120.6596156,
          -97.3208492,
          -117.9289469,
          -111.9391023,
          -120.5058987,
          -84.1916069,
          -89.0928155,
          -118.1937395,
          -121.8374777,
          -89.2903392,
          -123.08675359999998,
          -117.3136547,
          -118.1137535,
          -121.8746789,
          -122.2020794,
          -97.9297743,
          -122.0399663,
          -112.3496021,
          -81.5267873,
          -85.17971419999998,
          -93.2982799,
          -90.5787476,
          -122.8037102,
          -90.2417434,
          -103.2052272,
          -73.69178509999998,
          -121.8995741,
          -87.88339909999998,
          -117.8703363,
          -71.08976740000001,
          -117.6897776,
          -82.35347270000003,
          -81.0998342,
          -80.81841659999998,
          -122.6614861,
          -80.25659499999998,
          -85.3863599,
          -111.8507662,
          -122.4194155,
          -117.435048,
          -96.8236116,
          -117.7325848,
          -117.0358646,
          -84.1246608,
          -74.4518188,
          -76.28587259999998,
          -122.989827,
          -116.95863500000002,
          -87.2169149,
          -84.5613355,
          -79.7625625,
          -117.2897652,
          -84.2214551,
          -117.2927641,
          -87.3464271,
          -111.7573521,
          -121.6543901,
          -90.6645718,
          -76.1474244,
          -87.3594528,
          -81.9498042,
          -73.7084645,
          -75.5243682,
          -96.7678039,
          -118.3964665,
          -88.03424,
          -122.33207079999998,
          -84.5085536,
          -121.3716178,
          -93.7501789,
          -111.9738304,
          -78.8689155,
          -118.3531311,
          -118.1445155,
          -71.1631137,
          -122.6706498,
          -122.6366524,
          -83.8088171,
          -122.286865,
          -104.8319195,
          -92.1004852,
          -79.9414266,
          -121.3153096,
          -117.1858759,
          -71.2356113,
          -81.87230840000002,
          -82.4571776,
          -117.6483876,
          -79.3950228,
          -89.0317765,
          -80.23310359999998,
          -104.8213634,
          -120.9968782,
          -85.6680863,
          -87.7845025,
          -82.5306527,
          -117.4854802,
          -118.1170117,
          -105.2705456,
          -105.937799,
          -116.173894,
          -71.55228740000003,
          -117.3961564,
          -118.11646129999998,
          -122.5697032,
          -111.9710529,
          -88.0683955,
          -117.6719953,
          -87.7878408,
          -121.29300790000002,
          -121.17605829999998,
          -112.315721,
          -106.7636538,
          -111.0429339,
          -88.0834059,
          -83.01465259999998,
          -90.6298922,
          -93.62,
          -112.3679279,
          -96.7298519,
          -84.24721159999999,
          -97.9413941,
          -75.88130749999998,
          -88.4153847,
          -94.7151865,
          -81.339552,
          -121.7680088,
          -80.8431267,
          -87.1111676,
          -80.09420870000002,
          -122.70109840000002,
          -87.62979820000002,
          -108.5006904,
          -88.0075875,
          -88.0078435,
          -72.9278835,
          -76.727745,
          -83.9207392,
          -82.10764859999998,
          -70.3002024,
          -111.8879909,
          -122.2416355,
          -121.21605259999998,
          -92.9952153,
          -122.8755949,
          -86.39027,
          -121.6169108,
          -73.0931641,
          -92.4453161,
          -89.8100858,
          -75.66241219999998,
          -85.48078249999998,
          -77.4752667,
          -121.9877444,
          -118.4911912,
          -76.5835621,
          -83.14993220000002,
          -116.3100095,
          -81.6326234,
          -119.2470536,
          -81.2811801,
          -79.9310512,
          -80.62173409999998,
          -117.5664384,
          -121.2357828,
          -94.3821724,
          -81.2078699,
          -111.8389726,
          -94.2088172,
          -118.542586,
          -81.36562420000001,
          -98.1244531,
          -90.0489801,
          -96.9488945,
          -77.0469214,
          -117.3008784,
          -72.61620090000002,
          -84.3346473,
          -87.7416246,
          -74.1454214,
          -75.3704579,
          -94.846681,
          -118.3884078,
          -95.3698028,
          -117.1483648,
          -83.7430378,
          -94.1265562,
          -84.48386540000001,
          -116.97391670000002,
          -80.2497707,
          -95.9145568,
          -80.2962555,
          -94.1288141,
          -119.17705159999998,
          -102.3676431,
          -97.0583681,
          -71.0183787,
          -74.11430909999999,
          -118.15979109999998,
          -90.5151342,
          -88.70365600000002,
          -84.8766115,
          -74.0776417,
          -93.0899578,
          -81.2636738,
          -73.58318349999998,
          -91.5301683,
          -117.9145036,
          -93.21772,
          -111.2833449,
          -112.0010501,
          -76.3452218,
          -97.6779842,
          -111.69464750000002,
          -118.0019482,
          -97.229298,
          -80.03258670000002,
          -92.2895948,
          -117.8678338,
          -73.76290970000002,
          -112.0339645,
          -122.2006786,
          -121.28800590000002,
          -74.2654234,
          -70.92866090000003,
          -98.3420118,
          -92.3340724,
          -87.78285229999999,
          -86.1180435,
          -85.5800022,
          -84.39827629999998,
          -121.7732971,
          -71.0119948,
          -97.0819541,
          -87.9806265,
          -116.9719684,
          -80.0053176,
          -82.4012642,
          -97.3967019,
          -117.1661449,
          -80.9956105,
          -118.1339563,
          -82.9290696,
          -89.09399520000002,
          -116.9625269,
          -82.64,
          -88.01117459999998,
          -73.064036,
          -123.1059282,
          -115.13982959999998,
          -95.2091006,
          -80.3582261,
          -91.6656232,
          -81.05588940000001,
          -71.0022705,
          -80.3035602,
          -106.4424559,
          -95.6890185,
          -118.072846,
          -123.0262077,
          -93.4687489,
          -81.51900529999998,
          -98.1633432,
          -117.5931084,
          -79.9748103,
          -85.7584557,
          -121.7568946,
          -80.17893509999998,
          -82.5748194,
          -117.3505939,
          -94.9027002,
          -122.3916754,
          -85.7053085,
          -82.18237459999997,
          -112.0263313,
          -80.13731740000001,
          -83.624201,
          -82.8001026,
          -80.3468593,
          -87.677251,
          -87.4139092,
          -97.342782,
          -84.0632685,
          -96.7311034,
          -85.9213796,
          -80.206436,
          -71.759794,
          -71.4161671,
          -119.0187125,
          -80.1917902,
          -93.2173758,
          -119.2844621,
          -81.3444573,
          -122.4077498,
          -93.4555093,
          -86.25198979999998,
          -97.4780954,
          -93.6091064,
          -81.77869720000002,
          -111.8638226,
          -118.032844,
          -83.3527097,
          -87.9064736,
          -122.22845320000002,
          -80.3414693,
          -70.880049,
          -122.21706609999998,
          -104.8771726,
          -77.4360481,
          -85.6802541,
          -116.977248,
          -97.6200043,
          -74.0323626,
          -84.50371640000002,
          -118.081733,
          -114.6276916,
          -117.2086513,
          -88.1347927,
          -88.0817251,
          -81.02507840000001,
          -121.302728,
          -83.2732627,
          -157.8583333,
          -97.0035982,
          -71.2856082,
          -96.5388789,
          -96.8899636,
          -88.2120315,
          -88.1227199,
          -71.19089240000002,
          -82.23592540000001,
          -77.1527578,
          -118.30896609999998,
          -117.9242966,
          -88.5426136,
          -95.5507771,
          -83.3677168,
          -118.096735,
          -118.0647871,
          -117.9495083,
          -108.5506486,
          -97.8783911,
          -121.88632859999998,
          -97.678896,
          -93.4557877,
          -97.4394777,
          -80.4775569,
          -95.2010447,
          -117.7946942,
          -112.4455344,
          -122.48691940000002,
          -87.71453000000002,
          -93.7321228,
          -97.8202888,
          -84.3733147,
          -88.2433829,
          -74.16375529999998,
          -97.4867028,
          -94.2816148,
          -118.1541632,
          -96.3699632,
          -97.1705678,
          -81.94953309999998,
          -122.0321823,
          -73.2453824,
          -121.5682751,
          -71.4547891,
          -75.977985,
          -97.6114237,
          -71.0994968,
          -82.7873244,
          -119.7725868,
          -85.0007653,
          -87.79366850000002,
          -80.1386547,
          -71.38255579999998,
          -118.1058333,
          -80.24421600000002,
          -84.2940899,
          -90.6998477,
          -122.2363548,
          -122.0438298,
          -80.148379,
          -93.9993996,
          -117.7256083,
          -117.185294,
          -105.0749801,
          -88.2578582,
          -71.4128343,
          -80.2781057,
          -121.9780153,
          -117.6508876,
          -122.2087353,
          -113.5684164,
          -80.752608,
          -118.255075,
          -72.8070435,
          -118.3089624,
          -72.749538,
          -88.2825668,
          -96.6988856,
          -105.1019275,
          -97.0150078,
          -81.7981908,
          -90.704279,
          -96.3344068,
          -83.1763145,
          -75.232664,
          -92.1193012,
          -76.6121893,
          -93.2922989,
          -92.0031955,
          -74.40737359999999,
          -70.9494938,
          -92.9593797,
          -82.3248262,
          -121.530234,
          -122.0355736,
          -80.1392121,
          -94.1574263,
          -122.5310874,
          -92.4421011,
          -122.4442906,
          -72.6506488,
          -73.21207199999998,
          -114.4608711,
          -96.6088805,
          -74.00594129999998,
          -118.781482,
          -117.93895259999998,
          -104.8560902,
          -83.2784851,
          -97.3307658,
          -118.281693,
          -87.5710898,
          -120.4357191,
          -86.7827772,
          -117.02308390000002,
          -105.03720459999998,
          -75.9268747,
          -120.8465941,
          -104.7091322,
          -95.3010624,
          -81.5861847,
          -97.1466695,
          -122.1341321,
          -118.8375937,
          -117.9075627,
          -73.1951767,
          -93.3702186,
          -90.5770675,
          -80.1353896,
          -119.10056570000002,
          -118.3406288,
          -89.4012302,
          -89.01872220000001,
          -87.84479379999998,
          -86.48080429999997,
          -97.1080656,
          -96.994174,
          -108.2186856,
          -121.7124536,
          -122.1430195,
          -123.0220289,
          -70.934205,
          -122.121512,
          -121.6957863,
          -121.7405167,
          -118.0120086,
          -86.51860450000002,
          -78.3947359,
          -85.39048879999999,
          -74.20486770000002,
          -87.7932939,
          -88.88530779999998,
          -88.2072697,
          -117.9414477,
          -118.21146029999998,
          -104.9811468,
          -81.378447,
          -84.3365917,
          -91.1403196,
          -72.9492703,
          -94.4155068,
          -84.55553470000002,
          -87.8539425,
          -75.0259637,
          -88.019826,
          -87.6876969,
          -81.5439619,
          -118.24368490000002,
          -122.3126222,
          -111.9391031,
          -117.0430865,
          -79.9958864,
          -118.1331593,
          -87.7539448,
          -118.2120161,
          -85.6602058,
          -94.513281,
          -95.0949303,
          -111.89104740000002,
          -80.3256056,
          -112.0740373,
          -123.2620435,
          -96.9561152,
          -72.6078672,
          -82.14009229999998,
          -84.36155550000002,
          -87.8406192,
          -71.5375718,
          -122.9006951,
          -117.9992265,
          -97.396381,
          -71.0772796,
          -88.1450735,
          -71.10973349999998,
          -112.1859866,
          -117.9931165,
          -80.17564809999998,
          -90.5776367,
          -80.1289321,
          -72.77954190000001,
          -82.93714090000002,
          -81.556235,
          -122.4302013,
          -80.2133808,
          -86.6199957,
          -121.9552356,
          -117.3794834,
          -117.689218,
          -83.47549129999999,
          -74.0143064,
          -71.0536625,
          -74.2445902,
          -82.5514869,
          -118.2200712
         ],
         "marker": {
          "color": "fuchsia"
         },
         "mode": "markers",
         "name": "",
         "showlegend": false,
         "subplot": "mapbox",
         "type": "scattermapbox"
        }
       ],
       "layout": {
        "height": 300,
        "legend": {
         "tracegroupgap": 0
        },
        "mapbox": {
         "center": {
          "lat": 37.338240701500006,
          "lon": -96.48302336069996
         },
         "domain": {
          "x": [
           0,
           1
          ],
          "y": [
           0,
           1
          ]
         },
         "style": "open-street-map",
         "zoom": 3
        },
        "margin": {
         "b": 0,
         "l": 0,
         "r": 0,
         "t": 0
        },
        "template": {
         "data": {
          "bar": [
           {
            "error_x": {
             "color": "#2a3f5f"
            },
            "error_y": {
             "color": "#2a3f5f"
            },
            "marker": {
             "line": {
              "color": "#E5ECF6",
              "width": 0.5
             }
            },
            "type": "bar"
           }
          ],
          "barpolar": [
           {
            "marker": {
             "line": {
              "color": "#E5ECF6",
              "width": 0.5
             }
            },
            "type": "barpolar"
           }
          ],
          "carpet": [
           {
            "aaxis": {
             "endlinecolor": "#2a3f5f",
             "gridcolor": "white",
             "linecolor": "white",
             "minorgridcolor": "white",
             "startlinecolor": "#2a3f5f"
            },
            "baxis": {
             "endlinecolor": "#2a3f5f",
             "gridcolor": "white",
             "linecolor": "white",
             "minorgridcolor": "white",
             "startlinecolor": "#2a3f5f"
            },
            "type": "carpet"
           }
          ],
          "choropleth": [
           {
            "colorbar": {
             "outlinewidth": 0,
             "ticks": ""
            },
            "type": "choropleth"
           }
          ],
          "contour": [
           {
            "colorbar": {
             "outlinewidth": 0,
             "ticks": ""
            },
            "colorscale": [
             [
              0,
              "#0d0887"
             ],
             [
              0.1111111111111111,
              "#46039f"
             ],
             [
              0.2222222222222222,
              "#7201a8"
             ],
             [
              0.3333333333333333,
              "#9c179e"
             ],
             [
              0.4444444444444444,
              "#bd3786"
             ],
             [
              0.5555555555555556,
              "#d8576b"
             ],
             [
              0.6666666666666666,
              "#ed7953"
             ],
             [
              0.7777777777777778,
              "#fb9f3a"
             ],
             [
              0.8888888888888888,
              "#fdca26"
             ],
             [
              1,
              "#f0f921"
             ]
            ],
            "type": "contour"
           }
          ],
          "contourcarpet": [
           {
            "colorbar": {
             "outlinewidth": 0,
             "ticks": ""
            },
            "type": "contourcarpet"
           }
          ],
          "heatmap": [
           {
            "colorbar": {
             "outlinewidth": 0,
             "ticks": ""
            },
            "colorscale": [
             [
              0,
              "#0d0887"
             ],
             [
              0.1111111111111111,
              "#46039f"
             ],
             [
              0.2222222222222222,
              "#7201a8"
             ],
             [
              0.3333333333333333,
              "#9c179e"
             ],
             [
              0.4444444444444444,
              "#bd3786"
             ],
             [
              0.5555555555555556,
              "#d8576b"
             ],
             [
              0.6666666666666666,
              "#ed7953"
             ],
             [
              0.7777777777777778,
              "#fb9f3a"
             ],
             [
              0.8888888888888888,
              "#fdca26"
             ],
             [
              1,
              "#f0f921"
             ]
            ],
            "type": "heatmap"
           }
          ],
          "heatmapgl": [
           {
            "colorbar": {
             "outlinewidth": 0,
             "ticks": ""
            },
            "colorscale": [
             [
              0,
              "#0d0887"
             ],
             [
              0.1111111111111111,
              "#46039f"
             ],
             [
              0.2222222222222222,
              "#7201a8"
             ],
             [
              0.3333333333333333,
              "#9c179e"
             ],
             [
              0.4444444444444444,
              "#bd3786"
             ],
             [
              0.5555555555555556,
              "#d8576b"
             ],
             [
              0.6666666666666666,
              "#ed7953"
             ],
             [
              0.7777777777777778,
              "#fb9f3a"
             ],
             [
              0.8888888888888888,
              "#fdca26"
             ],
             [
              1,
              "#f0f921"
             ]
            ],
            "type": "heatmapgl"
           }
          ],
          "histogram": [
           {
            "marker": {
             "colorbar": {
              "outlinewidth": 0,
              "ticks": ""
             }
            },
            "type": "histogram"
           }
          ],
          "histogram2d": [
           {
            "colorbar": {
             "outlinewidth": 0,
             "ticks": ""
            },
            "colorscale": [
             [
              0,
              "#0d0887"
             ],
             [
              0.1111111111111111,
              "#46039f"
             ],
             [
              0.2222222222222222,
              "#7201a8"
             ],
             [
              0.3333333333333333,
              "#9c179e"
             ],
             [
              0.4444444444444444,
              "#bd3786"
             ],
             [
              0.5555555555555556,
              "#d8576b"
             ],
             [
              0.6666666666666666,
              "#ed7953"
             ],
             [
              0.7777777777777778,
              "#fb9f3a"
             ],
             [
              0.8888888888888888,
              "#fdca26"
             ],
             [
              1,
              "#f0f921"
             ]
            ],
            "type": "histogram2d"
           }
          ],
          "histogram2dcontour": [
           {
            "colorbar": {
             "outlinewidth": 0,
             "ticks": ""
            },
            "colorscale": [
             [
              0,
              "#0d0887"
             ],
             [
              0.1111111111111111,
              "#46039f"
             ],
             [
              0.2222222222222222,
              "#7201a8"
             ],
             [
              0.3333333333333333,
              "#9c179e"
             ],
             [
              0.4444444444444444,
              "#bd3786"
             ],
             [
              0.5555555555555556,
              "#d8576b"
             ],
             [
              0.6666666666666666,
              "#ed7953"
             ],
             [
              0.7777777777777778,
              "#fb9f3a"
             ],
             [
              0.8888888888888888,
              "#fdca26"
             ],
             [
              1,
              "#f0f921"
             ]
            ],
            "type": "histogram2dcontour"
           }
          ],
          "mesh3d": [
           {
            "colorbar": {
             "outlinewidth": 0,
             "ticks": ""
            },
            "type": "mesh3d"
           }
          ],
          "parcoords": [
           {
            "line": {
             "colorbar": {
              "outlinewidth": 0,
              "ticks": ""
             }
            },
            "type": "parcoords"
           }
          ],
          "pie": [
           {
            "automargin": true,
            "type": "pie"
           }
          ],
          "scatter": [
           {
            "marker": {
             "colorbar": {
              "outlinewidth": 0,
              "ticks": ""
             }
            },
            "type": "scatter"
           }
          ],
          "scatter3d": [
           {
            "line": {
             "colorbar": {
              "outlinewidth": 0,
              "ticks": ""
             }
            },
            "marker": {
             "colorbar": {
              "outlinewidth": 0,
              "ticks": ""
             }
            },
            "type": "scatter3d"
           }
          ],
          "scattercarpet": [
           {
            "marker": {
             "colorbar": {
              "outlinewidth": 0,
              "ticks": ""
             }
            },
            "type": "scattercarpet"
           }
          ],
          "scattergeo": [
           {
            "marker": {
             "colorbar": {
              "outlinewidth": 0,
              "ticks": ""
             }
            },
            "type": "scattergeo"
           }
          ],
          "scattergl": [
           {
            "marker": {
             "colorbar": {
              "outlinewidth": 0,
              "ticks": ""
             }
            },
            "type": "scattergl"
           }
          ],
          "scattermapbox": [
           {
            "marker": {
             "colorbar": {
              "outlinewidth": 0,
              "ticks": ""
             }
            },
            "type": "scattermapbox"
           }
          ],
          "scatterpolar": [
           {
            "marker": {
             "colorbar": {
              "outlinewidth": 0,
              "ticks": ""
             }
            },
            "type": "scatterpolar"
           }
          ],
          "scatterpolargl": [
           {
            "marker": {
             "colorbar": {
              "outlinewidth": 0,
              "ticks": ""
             }
            },
            "type": "scatterpolargl"
           }
          ],
          "scatterternary": [
           {
            "marker": {
             "colorbar": {
              "outlinewidth": 0,
              "ticks": ""
             }
            },
            "type": "scatterternary"
           }
          ],
          "surface": [
           {
            "colorbar": {
             "outlinewidth": 0,
             "ticks": ""
            },
            "colorscale": [
             [
              0,
              "#0d0887"
             ],
             [
              0.1111111111111111,
              "#46039f"
             ],
             [
              0.2222222222222222,
              "#7201a8"
             ],
             [
              0.3333333333333333,
              "#9c179e"
             ],
             [
              0.4444444444444444,
              "#bd3786"
             ],
             [
              0.5555555555555556,
              "#d8576b"
             ],
             [
              0.6666666666666666,
              "#ed7953"
             ],
             [
              0.7777777777777778,
              "#fb9f3a"
             ],
             [
              0.8888888888888888,
              "#fdca26"
             ],
             [
              1,
              "#f0f921"
             ]
            ],
            "type": "surface"
           }
          ],
          "table": [
           {
            "cells": {
             "fill": {
              "color": "#EBF0F8"
             },
             "line": {
              "color": "white"
             }
            },
            "header": {
             "fill": {
              "color": "#C8D4E3"
             },
             "line": {
              "color": "white"
             }
            },
            "type": "table"
           }
          ]
         },
         "layout": {
          "annotationdefaults": {
           "arrowcolor": "#2a3f5f",
           "arrowhead": 0,
           "arrowwidth": 1
          },
          "coloraxis": {
           "colorbar": {
            "outlinewidth": 0,
            "ticks": ""
           }
          },
          "colorscale": {
           "diverging": [
            [
             0,
             "#8e0152"
            ],
            [
             0.1,
             "#c51b7d"
            ],
            [
             0.2,
             "#de77ae"
            ],
            [
             0.3,
             "#f1b6da"
            ],
            [
             0.4,
             "#fde0ef"
            ],
            [
             0.5,
             "#f7f7f7"
            ],
            [
             0.6,
             "#e6f5d0"
            ],
            [
             0.7,
             "#b8e186"
            ],
            [
             0.8,
             "#7fbc41"
            ],
            [
             0.9,
             "#4d9221"
            ],
            [
             1,
             "#276419"
            ]
           ],
           "sequential": [
            [
             0,
             "#0d0887"
            ],
            [
             0.1111111111111111,
             "#46039f"
            ],
            [
             0.2222222222222222,
             "#7201a8"
            ],
            [
             0.3333333333333333,
             "#9c179e"
            ],
            [
             0.4444444444444444,
             "#bd3786"
            ],
            [
             0.5555555555555556,
             "#d8576b"
            ],
            [
             0.6666666666666666,
             "#ed7953"
            ],
            [
             0.7777777777777778,
             "#fb9f3a"
            ],
            [
             0.8888888888888888,
             "#fdca26"
            ],
            [
             1,
             "#f0f921"
            ]
           ],
           "sequentialminus": [
            [
             0,
             "#0d0887"
            ],
            [
             0.1111111111111111,
             "#46039f"
            ],
            [
             0.2222222222222222,
             "#7201a8"
            ],
            [
             0.3333333333333333,
             "#9c179e"
            ],
            [
             0.4444444444444444,
             "#bd3786"
            ],
            [
             0.5555555555555556,
             "#d8576b"
            ],
            [
             0.6666666666666666,
             "#ed7953"
            ],
            [
             0.7777777777777778,
             "#fb9f3a"
            ],
            [
             0.8888888888888888,
             "#fdca26"
            ],
            [
             1,
             "#f0f921"
            ]
           ]
          },
          "colorway": [
           "#636efa",
           "#EF553B",
           "#00cc96",
           "#ab63fa",
           "#FFA15A",
           "#19d3f3",
           "#FF6692",
           "#B6E880",
           "#FF97FF",
           "#FECB52"
          ],
          "font": {
           "color": "#2a3f5f"
          },
          "geo": {
           "bgcolor": "white",
           "lakecolor": "white",
           "landcolor": "#E5ECF6",
           "showlakes": true,
           "showland": true,
           "subunitcolor": "white"
          },
          "hoverlabel": {
           "align": "left"
          },
          "hovermode": "closest",
          "mapbox": {
           "style": "light"
          },
          "paper_bgcolor": "white",
          "plot_bgcolor": "#E5ECF6",
          "polar": {
           "angularaxis": {
            "gridcolor": "white",
            "linecolor": "white",
            "ticks": ""
           },
           "bgcolor": "#E5ECF6",
           "radialaxis": {
            "gridcolor": "white",
            "linecolor": "white",
            "ticks": ""
           }
          },
          "scene": {
           "xaxis": {
            "backgroundcolor": "#E5ECF6",
            "gridcolor": "white",
            "gridwidth": 2,
            "linecolor": "white",
            "showbackground": true,
            "ticks": "",
            "zerolinecolor": "white"
           },
           "yaxis": {
            "backgroundcolor": "#E5ECF6",
            "gridcolor": "white",
            "gridwidth": 2,
            "linecolor": "white",
            "showbackground": true,
            "ticks": "",
            "zerolinecolor": "white"
           },
           "zaxis": {
            "backgroundcolor": "#E5ECF6",
            "gridcolor": "white",
            "gridwidth": 2,
            "linecolor": "white",
            "showbackground": true,
            "ticks": "",
            "zerolinecolor": "white"
           }
          },
          "shapedefaults": {
           "line": {
            "color": "#2a3f5f"
           }
          },
          "ternary": {
           "aaxis": {
            "gridcolor": "white",
            "linecolor": "white",
            "ticks": ""
           },
           "baxis": {
            "gridcolor": "white",
            "linecolor": "white",
            "ticks": ""
           },
           "bgcolor": "#E5ECF6",
           "caxis": {
            "gridcolor": "white",
            "linecolor": "white",
            "ticks": ""
           }
          },
          "title": {
           "x": 0.05
          },
          "xaxis": {
           "automargin": true,
           "gridcolor": "white",
           "linecolor": "white",
           "ticks": "",
           "title": {
            "standoff": 15
           },
           "zerolinecolor": "white",
           "zerolinewidth": 2
          },
          "yaxis": {
           "automargin": true,
           "gridcolor": "white",
           "linecolor": "white",
           "ticks": "",
           "title": {
            "standoff": 15
           },
           "zerolinecolor": "white",
           "zerolinewidth": 2
          }
         }
        }
       }
      },
      "text/html": [
       "<div>\n",
       "        \n",
       "        \n",
       "            <div id=\"62c875e0-1021-408d-a6d7-5758ce3956dd\" class=\"plotly-graph-div\" style=\"height:300px; width:100%;\"></div>\n",
       "            <script type=\"text/javascript\">\n",
       "                require([\"plotly\"], function(Plotly) {\n",
       "                    window.PLOTLYENV=window.PLOTLYENV || {};\n",
       "                    \n",
       "                if (document.getElementById(\"62c875e0-1021-408d-a6d7-5758ce3956dd\")) {\n",
       "                    Plotly.newPlot(\n",
       "                        '62c875e0-1021-408d-a6d7-5758ce3956dd',\n",
       "                        [{\"customdata\": [[\"Washington\", 63269], [\"California\", 72326], [\"Ohio\", 390113], [\"Massachusetts\", 182544], [\"South Carolina\", 133358], [\"Connecticut\", 109676], [\"Minnesota\", 65453], [\"Michigan\", 73006], [\"Louisiana\", 124276], [\"Idaho\", 214237], [\"Indiana\", 51265], [\"California\", 82882], [\"Georgia\", 59089], [\"Colorado\", 48608], [\"Florida\", 102436], [\"Massachusetts\", 42544], [\"Illinois\", 199963], [\"Virginia\", 47673], [\"Florida\", 50213], [\"California\", 91739], [\"Texas\", 239538], [\"Kansas\", 181260], [\"Mississippi\", 172638], [\"North Carolina\", 73209], [\"Florida\", 62316], [\"Missouri\", 467007], [\"California\", 42448], [\"Minnesota\", 61434], [\"Texas\", 58043], [\"New Mexico\", 48611], [\"Alabama\", 201332], [\"Utah\", 48913], [\"Massachusetts\", 39083], [\"Pennsylvania\", 118577], [\"South Carolina\", 74885], [\"Georgia\", 202824], [\"New York\", 258959], [\"Wisconsin\", 39834], [\"Texas\", 67317], [\"Ohio\", 38355], [\"California\", 479686], [\"Arkansas\", 87650], [\"Rhode Island\", 47149], [\"Iowa\", 41776], [\"New York\", 68224], [\"Colorado\", 147214], [\"Nevada\", 270811], [\"California\", 48508], [\"Connecticut\", 126456], [\"Indiana\", 82575], [\"Tennessee\", 52962], [\"Washington\", 210721], [\"Washington\", 76762], [\"Pennsylvania\", 1553165], [\"Washington\", 82631], [\"California\", 127763], [\"Wisconsin\", 51522], [\"Iowa\", 61969], [\"Florida\", 42757], [\"Texas\", 1257676], [\"California\", 107100], [\"Michigan\", 131224], [\"Florida\", 78041], [\"Indiana\", 83891], [\"Wyoming\", 62448], [\"California\", 107479], [\"Kansas\", 50344], [\"Indiana\", 56540], [\"Mississippi\", 50997], [\"California\", 80988], [\"Maryland\", 65690], [\"California\", 56707], [\"Maryland\", 66893], [\"North Carolina\", 89130], [\"Illinois\", 43849], [\"Wisconsin\", 60697], [\"Colorado\", 127359], [\"Iowa\", 61255], [\"Massachusetts\", 88697], [\"California\", 61170], [\"California\", 256780], [\"Florida\", 126604], [\"North Carolina\", 83506], [\"Georgia\", 53438], [\"Florida\", 45587], [\"North Dakota\", 54932], [\"Ohio\", 39325], [\"Illinois\", 144864], [\"Florida\", 146526], [\"Arkansas\", 60112], [\"Louisiana\", 378715], [\"Washington\", 59097], [\"Illinois\", 57073], [\"Idaho\", 48957], [\"Oregon\", 609456], [\"California\", 125880], [\"Washington\", 49858], [\"Missouri\", 67569], [\"Wisconsin\", 71016], [\"Arizona\", 68667], [\"Washington\", 38609], [\"New York\", 65902], [\"Colorado\", 649495], [\"Illinois\", 117006], [\"California\", 40584], [\"California\", 201175], [\"Ohio\", 55870], [\"Michigan\", 37313], [\"Arizona\", 52844], [\"Arkansas\", 66075], [\"Nevada\", 233294], [\"Colorado\", 44275], [\"Arizona\", 40590], [\"California\", 52105], [\"Texas\", 37442], [\"Maine\", 66318], [\"Minnesota\", 78373], [\"Connecticut\", 55046], [\"California\", 43363], [\"Texas\", 39458], [\"Michigan\", 99763], [\"California\", 66695], [\"Arizona\", 56683], [\"California\", 40963], [\"California\", 83539], [\"Arizona\", 226918], [\"Ohio\", 822553], [\"Pennsylvania\", 59325], [\"Nebraska\", 268738], [\"New Jersey\", 84349], [\"Massachusetts\", 645966], [\"California\", 51074], [\"Minnesota\", 110742], [\"Missouri\", 52363], [\"Maryland\", 38722], [\"North Carolina\", 59635], [\"Indiana\", 47135], [\"California\", 39389], [\"Illinois\", 37240], [\"Montana\", 69122], [\"California\", 99769], [\"Texas\", 100065], [\"Arizona\", 229972], [\"Wisconsin\", 39309], [\"North Carolina\", 431746], [\"California\", 139969], [\"California\", 66900], [\"Washington\", 39056], [\"California\", 55174], [\"Arizona\", 38290], [\"Florida\", 186411], [\"Texas\", 63032], [\"Virginia\", 43609], [\"Texas\", 1409019], [\"Connecticut\", 125017], [\"Iowa\", 68366], [\"New York\", 46444], [\"Idaho\", 83596], [\"Wisconsin\", 42970], [\"Texas\", 75418], [\"North Carolina\", 151088], [\"Massachusetts\", 55419], [\"Oklahoma\", 398121], [\"Texas\", 81050], [\"Ohio\", 49267], [\"Massachusetts\", 60509], [\"Texas\", 92020], [\"Arizona\", 526116], [\"Tennessee\", 68886], [\"Minnesota\", 39167], [\"Florida\", 842583], [\"New Jersey\", 39551], [\"Pennsylvania\", 100671], [\"California\", 81102], [\"Texas\", 120099], [\"California\", 67032], [\"South Carolina\", 61397], [\"North Carolina\", 50458], [\"Michigan\", 60070], [\"Pennsylvania\", 49188], [\"California\", 108817], [\"California\", 224922], [\"Colorado\", 108249], [\"Massachusetts\", 37670], [\"Illinois\", 42895], [\"Minnesota\", 400070], [\"Tennessee\", 58226], [\"Texas\", 104898], [\"Texas\", 70185], [\"Missouri\", 318416], [\"Texas\", 73790], [\"New Mexico\", 556495], [\"Georgia\", 119980], [\"Utah\", 59366], [\"Nevada\", 226877], [\"California\", 151348], [\"California\", 55191], [\"Ohio\", 37490], [\"Kansas\", 90811], [\"Texas\", 123933], [\"Oklahoma\", 610613], [\"Arizona\", 41627], [\"Arizona\", 457587], [\"Connecticut\", 87776], [\"Michigan\", 50233], [\"Wisconsin\", 37999], [\"Texas\", 40922], [\"Indiana\", 47989], [\"California\", 78327], [\"Minnesota\", 66297], [\"New Jersey\", 70868], [\"California\", 148738], [\"California\", 42443], [\"California\", 116768], [\"California\", 65040], [\"Oklahoma\", 97151], [\"Wisconsin\", 67545], [\"Arizona\", 45508], [\"Texas\", 51483], [\"Indiana\", 256496], [\"Washington\", 54790], [\"Massachusetts\", 57170], [\"California\", 61653], [\"New York\", 98424], [\"California\", 104739], [\"Michigan\", 61817], [\"Virginia\", 78014], [\"Maryland\", 56759], [\"Connecticut\", 83684], [\"Virginia\", 44349], [\"Florida\", 49631], [\"Idaho\", 46402], [\"California\", 115708], [\"Illinois\", 40388], [\"California\", 43341], [\"Arizona\", 72864], [\"New Jersey\", 145948], [\"Oregon\", 160614], [\"Florida\", 65173], [\"Michigan\", 50303], [\"Texas\", 181860], [\"Texas\", 68609], [\"Texas\", 50195], [\"Minnesota\", 49376], [\"Michigan\", 688701], [\"Ohio\", 42635], [\"Texas\", 60872], [\"New York\", 210358], [\"Alabama\", 212113], [\"Texas\", 885400], [\"California\", 90412], [\"Illinois\", 37385], [\"New Mexico\", 91956], [\"Illinois\", 54664], [\"Illinois\", 39650], [\"Minnesota\", 62103], [\"California\", 101128], [\"Florida\", 255483], [\"Wyoming\", 59628], [\"Texas\", 48592], [\"North Carolina\", 112067], [\"Florida\", 49998], [\"Florida\", 43250], [\"Kansas\", 148483], [\"Massachusetts\", 40383], [\"Illinois\", 38015], [\"Massachusetts\", 87971], [\"Florida\", 61007], [\"Connecticut\", 40347], [\"New Jersey\", 278427], [\"Louisiana\", 48426], [\"Minnesota\", 60407], [\"Texas\", 65665], [\"California\", 43509], [\"Texas\", 123099], [\"Texas\", 48733], [\"Indiana\", 53665], [\"California\", 155662], [\"Florida\", 111378], [\"West Virginia\", 49177], [\"Texas\", 248142], [\"Florida\", 77508], [\"Texas\", 43580], [\"Florida\", 104898], [\"North Carolina\", 49628], [\"Utah\", 43023], [\"California\", 46714], [\"Ohio\", 80429], [\"South Dakota\", 70812], [\"California\", 42889], [\"Colorado\", 49799], [\"Massachusetts\", 153703], [\"Colorado\", 152061], [\"California\", 87965], [\"California\", 96929], [\"New York\", 199766], [\"Ohio\", 297517], [\"Maryland\", 40612], [\"Florida\", 56002], [\"New Jersey\", 68247], [\"Ohio\", 282313], [\"Arizona\", 45129], [\"Virginia\", 182020], [\"Indiana\", 78967], [\"Illinois\", 41778], [\"Texas\", 83860], [\"Alabama\", 186254], [\"California\", 63338], [\"Washington\", 40727], [\"Texas\", 39605], [\"North Carolina\", 56954], [\"Michigan\", 59887], [\"California\", 59834], [\"California\", 151574], [\"New York\", 49468], [\"Nevada\", 93282], [\"California\", 54686], [\"California\", 49087], [\"Ohio\", 65184], [\"Alabama\", 45799], [\"California\", 69999], [\"Missouri\", 38816], [\"Idaho\", 86518], [\"District of Columbia\", 646449], [\"Illinois\", 53648], [\"Texas\", 38071], [\"California\", 101910], [\"North Dakota\", 113658], [\"Illinois\", 116513], [\"Nebraska\", 434353], [\"California\", 49228], [\"Kansas\", 56143], [\"California\", 46281], [\"California\", 1355896], [\"California\", 171990], [\"Massachusetts\", 108861], [\"Oklahoma\", 103500], [\"Washington\", 124435], [\"Tennessee\", 634464], [\"New Jersey\", 44113], [\"Colorado\", 59471], [\"North Carolina\", 245475], [\"Kansas\", 386552], [\"California\", 52977], [\"Minnesota\", 58562], [\"Illinois\", 45556], [\"Texas\", 37093], [\"Wisconsin\", 37159], [\"California\", 147559], [\"California\", 62864], [\"Wisconsin\", 99889], [\"Pennsylvania\", 41757], [\"Ohio\", 46454], [\"Illinois\", 40915], [\"Florida\", 104410], [\"Texas\", 97492], [\"Illinois\", 78902], [\"California\", 84691], [\"South Carolina\", 37647], [\"New Hampshire\", 87137], [\"Georgia\", 89981], [\"New York\", 55361], [\"New Jersey\", 76903], [\"California\", 50508], [\"Illinois\", 40351], [\"Virginia\", 230571], [\"Ohio\", 43607], [\"California\", 66086], [\"Michigan\", 37213], [\"New Jersey\", 127558], [\"Alaska\", 300950], [\"North Dakota\", 46321], [\"Florida\", 96830], [\"Texas\", 136639], [\"Texas\", 148559], [\"Texas\", 137147], [\"Ohio\", 41512], [\"California\", 406253], [\"California\", 77846], [\"California\", 57525], [\"Texas\", 196429], [\"Utah\", 116288], [\"Georgia\", 447841], [\"California\", 61085], [\"Ohio\", 44730], [\"California\", 63105], [\"Illinois\", 74710], [\"Rhode Island\", 41026], [\"Alabama\", 194899], [\"California\", 118837], [\"California\", 57639], [\"Tennessee\", 47333], [\"Missouri\", 43330], [\"Texas\", 81443], [\"Arizona\", 249146], [\"Colorado\", 111707], [\"California\", 84577], [\"Indiana\", 56895], [\"Florida\", 43286], [\"Indiana\", 843393], [\"Florida\", 71097], [\"Arizona\", 37130], [\"Illinois\", 54771], [\"Rhode Island\", 80566], [\"Indiana\", 70373], [\"Kansas\", 131885], [\"Georgia\", 82788], [\"North Carolina\", 279639], [\"Michigan\", 75548], [\"Oregon\", 50444], [\"North Carolina\", 69079], [\"California\", 85285], [\"Alabama\", 95334], [\"Iowa\", 51567], [\"California\", 86199], [\"Alabama\", 84126], [\"Florida\", 64072], [\"Florida\", 60202], [\"Arizona\", 39383], [\"Florida\", 68388], [\"Michigan\", 82821], [\"New York\", 79446], [\"California\", 298118], [\"Michigan\", 58946], [\"Florida\", 44206], [\"California\", 64652], [\"Washington\", 91113], [\"California\", 112174], [\"Texas\", 183372], [\"Virginia\", 96205], [\"Washington\", 44919], [\"North Carolina\", 42214], [\"Iowa\", 82459], [\"California\", 61588], [\"Utah\", 36956], [\"California\", 58879], [\"Minnesota\", 62603], [\"Arizona\", 162592], [\"Arizona\", 168228], [\"Delaware\", 71525], [\"Utah\", 60519], [\"Michigan\", 82578], [\"Texas\", 143484], [\"North Carolina\", 51510], [\"Texas\", 234566], [\"California\", 107571], [\"North Dakota\", 67034], [\"Nevada\", 54080], [\"Oklahoma\", 38863], [\"Georgia\", 197350], [\"North Carolina\", 204408], [\"Georgia\", 76185], [\"New Jersey\", 44412], [\"California\", 44096], [\"California\", 56449], [\"Alabama\", 55816], [\"Tennessee\", 173366], [\"Indiana\", 45929], [\"Illinois\", 41679], [\"California\", 76635], [\"Florida\", 91026], [\"Tennessee\", 67685], [\"Texas\", 54135], [\"California\", 46377], [\"Texas\", 40714], [\"California\", 87273], [\"Utah\", 40921], [\"Washington\", 93257], [\"Ohio\", 143355], [\"Mississippi\", 71012], [\"California\", 469428], [\"California\", 88077], [\"Mississippi\", 47556], [\"Oregon\", 159190], [\"California\", 53243], [\"California\", 63495], [\"California\", 74110], [\"Washington\", 105370], [\"Kansas\", 41889], [\"California\", 109320], [\"Arizona\", 78822], [\"Ohio\", 48139], [\"Michigan\", 51848], [\"Minnesota\", 86319], [\"Illinois\", 38877], [\"Oregon\", 93542], [\"Louisiana\", 66975], [\"New Mexico\", 39508], [\"New York\", 49974], [\"California\", 69783], [\"Illinois\", 58918], [\"California\", 52206], [\"Massachusetts\", 56069], [\"California\", 38027], [\"Tennessee\", 65123], [\"Georgia\", 142772], [\"Ohio\", 40768], [\"Washington\", 167405], [\"Florida\", 90116], [\"Indiana\", 70316], [\"Utah\", 54382], [\"California\", 837442], [\"California\", 203003], [\"Texas\", 136791], [\"California\", 76572], [\"California\", 49417], [\"Ohio\", 38142], [\"New Jersey\", 55831], [\"Virginia\", 246139], [\"Oregon\", 97368], [\"California\", 45851], [\"Florida\", 52703], [\"Ohio\", 62258], [\"South Carolina\", 37792], [\"California\", 213708], [\"Georgia\", 40059], [\"California\", 121096], [\"Indiana\", 78450], [\"Arizona\", 50111], [\"California\", 40836], [\"Iowa\", 58253], [\"New York\", 144669], [\"Tennessee\", 142357], [\"Florida\", 100710], [\"New York\", 37659], [\"Delaware\", 37366], [\"Minnesota\", 39398], [\"California\", 39428], [\"Illinois\", 69350], [\"Washington\", 652405], [\"Kentucky\", 40956], [\"California\", 161007], [\"Louisiana\", 200327], [\"Utah\", 84249], [\"Virginia\", 51395], [\"California\", 111542], [\"California\", 139731], [\"Massachusetts\", 77657], [\"Oregon\", 37610], [\"California\", 59440], [\"Ohio\", 59357], [\"California\", 79068], [\"Colorado\", 345803], [\"Minnesota\", 86128], [\"Virginia\", 98465], [\"Oregon\", 81236], [\"California\", 70924], [\"Massachusetts\", 62227], [\"Florida\", 68190], [\"Florida\", 352957], [\"California\", 75413], [\"Virginia\", 42907], [\"Wisconsin\", 36888], [\"Florida\", 90268], [\"Colorado\", 439886], [\"California\", 204933], [\"Michigan\", 192294], [\"Illinois\", 52066], [\"Florida\", 53326], [\"California\", 98030], [\"California\", 77593], [\"Colorado\", 103166], [\"New Mexico\", 69976], [\"California\", 43092], [\"Massachusetts\", 39414], [\"California\", 316619], [\"California\", 157161], [\"California\", 54194], [\"Utah\", 70790], [\"Illinois\", 73936], [\"California\", 96346], [\"Illinois\", 45417], [\"California\", 45237], [\"California\", 73098], [\"Arizona\", 39791], [\"New Mexico\", 101324], [\"Montana\", 39860], [\"Illinois\", 74907], [\"Michigan\", 134873], [\"Missouri\", 54842], [\"Iowa\", 61792], [\"Arizona\", 123546], [\"Texas\", 104475], [\"Michigan\", 42181], [\"Texas\", 54076], [\"Pennsylvania\", 41108], [\"Wisconsin\", 73596], [\"Kansas\", 64323], [\"Ohio\", 46979], [\"California\", 85156], [\"North Carolina\", 792862], [\"Kentucky\", 58416], [\"Florida\", 58298], [\"California\", 41398], [\"Illinois\", 2718782], [\"Montana\", 109059], [\"Wisconsin\", 47134], [\"Illinois\", 43907], [\"Connecticut\", 130660], [\"Pennsylvania\", 43935], [\"Tennessee\", 183270], [\"Ohio\", 53956], [\"Massachusetts\", 44641], [\"Utah\", 48612], [\"California\", 76419], [\"California\", 71948], [\"Minnesota\", 39765], [\"Oregon\", 77677], [\"Tennessee\", 117044], [\"California\", 65416], [\"Connecticut\", 40999], [\"Iowa\", 40566], [\"Tennessee\", 39375], [\"Pennsylvania\", 75806], [\"Alabama\", 58582], [\"Virginia\", 41705], [\"California\", 94275], [\"California\", 92472], [\"Virginia\", 85728], [\"Michigan\", 72952], [\"California\", 39331], [\"West Virginia\", 50821], [\"California\", 52403], [\"Florida\", 40918], [\"South Carolina\", 127999], [\"North Carolina\", 44359], [\"California\", 159503], [\"California\", 59738], [\"Missouri\", 93184], [\"Florida\", 78740], [\"Utah\", 90231], [\"Arkansas\", 40167], [\"California\", 179590], [\"Florida\", 42150], [\"Texas\", 63279], [\"Tennessee\", 653450], [\"Texas\", 228653], [\"Virginia\", 148892], [\"California\", 92147], [\"Massachusetts\", 40249], [\"Georgia\", 47591], [\"Illinois\", 65176], [\"New Jersey\", 41664], [\"Pennsylvania\", 75018], [\"Missouri\", 77147], [\"California\", 67815], [\"Texas\", 2195914], [\"California\", 106780], [\"Michigan\", 117025], [\"Texas\", 117796], [\"Michigan\", 48554], [\"California\", 56105], [\"Florida\", 63155], [\"Nebraska\", 53663], [\"Florida\", 162329], [\"Arkansas\", 75229], [\"California\", 203007], [\"Texas\", 110720], [\"Oklahoma\", 47186], [\"Massachusetts\", 94089], [\"New Jersey\", 65028], [\"California\", 54980], [\"Illinois\", 43116], [\"Mississippi\", 40921], [\"Tennessee\", 42774], [\"New Jersey\", 257342], [\"Minnesota\", 294873], [\"Florida\", 86290], [\"New York\", 43167], [\"Iowa\", 71591], [\"California\", 345012], [\"Minnesota\", 50201], [\"Montana\", 59351], [\"Utah\", 133579], [\"Virginia\", 136699], [\"Texas\", 54898], [\"Utah\", 91648], [\"California\", 37101], [\"Texas\", 42907], [\"South Carolina\", 39823], [\"Arkansas\", 197357], [\"California\", 334227], [\"New York\", 57866], [\"Idaho\", 58292], [\"Washington\", 133992], [\"California\", 127035], [\"New Jersey\", 51982], [\"Massachusetts\", 52044], [\"Nebraska\", 50550], [\"Missouri\", 115276], [\"Wisconsin\", 78199], [\"Indiana\", 85927], [\"Michigan\", 47523], [\"Ohio\", 48630], [\"California\", 56590], [\"Massachusetts\", 53756], [\"Texas\", 53224], [\"Illinois\", 75994], [\"California\", 81750], [\"North Carolina\", 107741], [\"Ohio\", 47777], [\"Oklahoma\", 56756], [\"California\", 89387], [\"Florida\", 57203], [\"California\", 81121], [\"Ohio\", 37530], [\"Illinois\", 150251], [\"California\", 102211], [\"Florida\", 249688], [\"Illinois\", 49670], [\"Connecticut\", 51644], [\"Oregon\", 51583], [\"Nevada\", 603488], [\"Texas\", 152735], [\"Florida\", 171016], [\"Iowa\", 128429], [\"Florida\", 38661], [\"Massachusetts\", 93494], [\"Florida\", 130288], [\"Texas\", 674433], [\"Kansas\", 127679], [\"California\", 54561], [\"Oregon\", 37064], [\"Minnesota\", 51368], [\"Ohio\", 198100], [\"Texas\", 80836], [\"California\", 171386], [\"South Carolina\", 104054], [\"Kentucky\", 609893], [\"California\", 52477], [\"Florida\", 56792], [\"Florida\", 51763], [\"California\", 110972], [\"Texas\", 46081], [\"California\", 91119], [\"Michigan\", 74100], [\"Ohio\", 63710], [\"Utah\", 37733], [\"Florida\", 172389], [\"Georgia\", 72531], [\"Florida\", 109703], [\"Florida\", 43328], [\"Alabama\", 40059], [\"Indiana\", 61025], [\"Texas\", 70190], [\"Ohio\", 45712], [\"South Dakota\", 164676], [\"Indiana\", 45775], [\"Florida\", 55456], [\"Massachusetts\", 41002], [\"Rhode Island\", 81971], [\"California\", 363630], [\"Florida\", 417650], [\"Louisiana\", 74024], [\"Washington\", 52413], [\"North Carolina\", 40361], [\"California\", 66174], [\"Minnesota\", 73987], [\"Indiana\", 100886], [\"Oklahoma\", 87004], [\"Iowa\", 207510], [\"Florida\", 47547], [\"Utah\", 45285], [\"California\", 86635], [\"Michigan\", 95208], [\"Wisconsin\", 599164], [\"Washington\", 74860], [\"South Carolina\", 41190], [\"Massachusetts\", 40664], [\"Washington\", 97003], [\"Colorado\", 106114], [\"Virginia\", 214114], [\"Indiana\", 55670], [\"California\", 40481], [\"Texas\", 53752], [\"New Jersey\", 52575], [\"Kentucky\", 308428], [\"California\", 106589], [\"Arizona\", 91923], [\"California\", 54291], [\"Illinois\", 40379], [\"Illinois\", 147806], [\"South Carolina\", 69103], [\"California\", 67911], [\"Michigan\", 56620], [\"Hawaii\", 347884], [\"Texas\", 65098], [\"Massachusetts\", 43886], [\"Texas\", 44575], [\"Texas\", 126700], [\"Illinois\", 41734], [\"Illinois\", 52398], [\"Massachusetts\", 48514], [\"Florida\", 59212], [\"Maryland\", 64072], [\"California\", 104709], [\"California\", 138981], [\"Wisconsin\", 66778], [\"Texas\", 39795], [\"Michigan\", 81295], [\"California\", 63771], [\"California\", 49707], [\"California\", 40435], [\"Colorado\", 59778], [\"Oklahoma\", 50725], [\"California\", 998537], [\"Texas\", 109821], [\"Minnesota\", 65415], [\"Oklahoma\", 118197], [\"Florida\", 64079], [\"Texas\", 37587], [\"California\", 236716], [\"Idaho\", 54350], [\"California\", 38606], [\"Wisconsin\", 48725], [\"Louisiana\", 66333], [\"Texas\", 61238], [\"Georgia\", 99770], [\"Illinois\", 83424], [\"New Jersey\", 85390], [\"Oklahoma\", 58414], [\"Missouri\", 53294], [\"California\", 159523], [\"Texas\", 78709], [\"Texas\", 38448], [\"Florida\", 165831], [\"California\", 60189], [\"Massachusetts\", 44057], [\"California\", 51701], [\"New Hampshire\", 110378], [\"Virginia\", 448479], [\"Kansas\", 47846], [\"Massachusetts\", 78804], [\"Florida\", 78409], [\"California\", 509924], [\"Alabama\", 37498], [\"Illinois\", 56758], [\"Florida\", 50699], [\"Rhode Island\", 71172], [\"California\", 40275], [\"North Carolina\", 236441], [\"Georgia\", 62298], [\"Missouri\", 82809], [\"California\", 80872], [\"California\", 72528], [\"Florida\", 38632], [\"Minnesota\", 40641], [\"California\", 50175], [\"California\", 83447], [\"Colorado\", 71334], [\"Illinois\", 38241], [\"Rhode Island\", 177994], [\"Florida\", 233394], [\"California\", 74513], [\"California\", 167500], [\"Washington\", 84430], [\"Utah\", 76817], [\"South Carolina\", 39412], [\"California\", 196021], [\"Connecticut\", 60456], [\"California\", 59957], [\"Massachusetts\", 41301], [\"Illinois\", 110145], [\"Texas\", 274409], [\"Colorado\", 89919], [\"Texas\", 40342], [\"Ohio\", 51143], [\"Arkansas\", 71551], [\"Texas\", 100050], [\"Michigan\", 95884], [\"New York\", 61808], [\"Louisiana\", 49761], [\"Maryland\", 622104], [\"Missouri\", 164122], [\"Arkansas\", 46094], [\"New Jersey\", 50588], [\"Massachusetts\", 91589], [\"Minnesota\", 65656], [\"Florida\", 127488], [\"California\", 49891], [\"Washington\", 50169], [\"Florida\", 37199], [\"Arkansas\", 78960], [\"California\", 58994], [\"Arkansas\", 63816], [\"Washington\", 203446], [\"Connecticut\", 47333], [\"Vermont\", 42284], [\"Idaho\", 45981], [\"Texas\", 39296], [\"New York\", 8405837], [\"California\", 126181], [\"California\", 107740], [\"Colorado\", 53063], [\"Georgia\", 56481], [\"Texas\", 792727], [\"California\", 92599], [\"Indiana\", 120310], [\"California\", 102216], [\"Tennessee\", 40021], [\"California\", 58642], [\"Colorado\", 110945], [\"Pennsylvania\", 87893], [\"California\", 70365], [\"Colorado\", 96539], [\"Texas\", 100223], [\"Florida\", 37711], [\"Texas\", 129030], [\"California\", 37165], [\"California\", 128731], [\"California\", 47842], [\"Connecticut\", 147216], [\"Minnesota\", 47411], [\"Missouri\", 47749], [\"Florida\", 38696], [\"Washington\", 67599], [\"California\", 147478], [\"Wisconsin\", 243344], [\"Wisconsin\", 63820], [\"Illinois\", 88826], [\"Kentucky\", 61488], [\"Texas\", 379577], [\"Texas\", 101074], [\"New Mexico\", 45426], [\"California\", 38194], [\"California\", 66642], [\"Oregon\", 60177], [\"Massachusetts\", 95078], [\"Washington\", 57530], [\"California\", 55000], [\"California\", 66205], [\"California\", 49133], [\"Tennessee\", 43060], [\"Pennsylvania\", 45796], [\"Alabama\", 68001], [\"New Jersey\", 64544], [\"Illinois\", 57282], [\"Mississippi\", 44820], [\"Illinois\", 41752], [\"California\", 175140], [\"California\", 71371], [\"Colorado\", 37499], [\"Ohio\", 72535], [\"Georgia\", 50603], [\"Louisiana\", 229426], [\"Connecticut\", 60568], [\"Missouri\", 117240], [\"Michigan\", 113972], [\"Illinois\", 58590], [\"New Jersey\", 61050], [\"Wisconsin\", 104779], [\"Illinois\", 75570], [\"Florida\", 39172], [\"California\", 3884307], [\"Washington\", 92734], [\"Utah\", 110077], [\"California\", 52536], [\"Pennsylvania\", 305841], [\"California\", 113242], [\"Illinois\", 84103], [\"California\", 95677], [\"Florida\", 36877], [\"Missouri\", 50789], [\"Texas\", 90983], [\"Utah\", 191180], [\"Florida\", 43074], [\"Arizona\", 1513367], [\"Oregon\", 55298], [\"Texas\", 46663], [\"Massachusetts\", 55717], [\"Florida\", 57468], [\"Georgia\", 94034], [\"Illinois\", 37839], [\"New Hampshire\", 42419], [\"Washington\", 48338], [\"California\", 197575], [\"Texas\", 316381], [\"Massachusetts\", 62088], [\"Illinois\", 38510], [\"Massachusetts\", 107289], [\"Arizona\", 234632], [\"California\", 38623], [\"South Carolina\", 46074], [\"Iowa\", 102157], [\"Florida\", 89407], [\"Connecticut\", 72939], [\"Michigan\", 47555], [\"Ohio\", 45394], [\"Oregon\", 109397], [\"Florida\", 69813], [\"Tennessee\", 54068], [\"California\", 120245], [\"California\", 172794], [\"California\", 79312], [\"Michigan\", 57960], [\"New Jersey\", 52122], [\"Massachusetts\", 42935], [\"New Jersey\", 41301], [\"North Carolina\", 87236], [\"California\", 97877]], \"hoverlabel\": {\"namelength\": 0}, \"hovertemplate\": \"<b>%{hovertext}</b><br><br>State=%{customdata[0]}<br>Population=%{customdata[1]}<br>lat=%{lat}<br>lon=%{lon}\", \"hovertext\": [\"Marysville\", \"Perris\", \"Cleveland\", \"Worcester\", \"Columbia\", \"Waterbury\", \"Eagan\", \"Southfield\", \"Lafayette\", \"Boise City\", \"Elkhart\", \"Buena Park\", \"Marietta\", \"Parker\", \"West Palm Beach\", \"Salem\", \"Aurora\", \"Leesburg\", \"Doral\", \"Westminster\", \"Lubbock\", \"Overland Park\", \"Jackson\", \"Gastonia\", \"Daytona Beach\", \"Kansas City\", \"Rancho Palos Verdes\", \"Burnsville\", \"Rowlett\", \"Roswell\", \"Montgomery\", \"Logan\", \"Woburn\", \"Allentown\", \"Mount Pleasant\", \"Columbus\", \"Buffalo\", \"New Berlin\", \"North Richland Hills\", \"Lima\", \"Sacramento\", \"Fort Smith\", \"East Providence\", \"Urbandale\", \"Mount Vernon\", \"Lakewood\", \"Henderson\", \"Covina\", \"Stamford\", \"Bloomington\", \"Kingsport\", \"Spokane\", \"Kennewick\", \"Philadelphia\", \"Bellingham\", \"Visalia\", \"La Crosse\", \"Council Bluffs\", \"North Lauderdale\", \"Dallas\", \"Antioch\", \"Sterling Heights\", \"Deerfield Beach\", \"Fishers\", \"Cheyenne\", \"Murrieta\", \"Lenexa\", \"Noblesville\", \"Southaven\", \"Chino\", \"Gaithersburg\", \"Fountain Valley\", \"Frederick\", \"Greenville\", \"DeKalb\", \"West Allis\", \"Thornton\", \"West Des Moines\", \"Fall River\", \"Tulare\", \"Chula Vista\", \"Coral Springs\", \"Concord\", \"Smyrna\", \"Apopka\", \"Grand Forks\", \"Lancaster\", \"Naperville\", \"Hollywood\", \"Rogers\", \"New Orleans\", \"Lakewood\", \"Oak Lawn\", \"Caldwell\", \"Portland\", \"Concord\", \"Burien\", \"St. Charles\", \"Waukesha\", \"Flagstaff\", \"Puyallup\", \"Schenectady\", \"Denver\", \"Springfield\", \"Campbell\", \"Moreno Valley\", \"Kettering\", \"Lincoln Park\", \"Lake Havasu City\", \"North Little Rock\", \"Reno\", \"Littleton\", \"Prescott\", \"Dublin\", \"Texarkana\", \"Portland\", \"Brooklyn Park\", \"West Haven\", \"El Centro\", \"The Colony\", \"Flint\", \"Pittsburg\", \"Buckeye\", \"Brea\", \"Indio\", \"Scottsdale\", \"Columbus\", \"Lancaster\", \"Lincoln\", \"Trenton\", \"Boston\", \"Glendora\", \"Rochester\", \"Florissant\", \"Annapolis\", \"Chapel Hill\", \"Lawrence\", \"Calexico\", \"Calumet City\", \"Missoula\", \"Clovis\", \"Pearland\", \"Gilbert\", \"Wausau\", \"Raleigh\", \"Orange\", \"Walnut Creek\", \"Bremerton\", \"Porterville\", \"Marana\", \"Tallahassee\", \"Conroe\", \"Blacksburg\", \"San Antonio\", \"Hartford\", \"Waterloo\", \"Binghamton\", \"Meridian\", \"Fond du Lac\", \"Baytown\", \"Cary\", \"Weymouth Town\", \"Tulsa\", \"Mission\", \"Cuyahoga Falls\", \"Malden\", \"Allen\", \"Tucson\", \"Franklin\", \"Shakopee\", \"Jacksonville\", \"Atlantic City\", \"Erie\", \"Merced\", \"Abilene\", \"Yorba Linda\", \"Greenville\", \"Huntersville\", \"St. Clair Shores\", \"Harrisburg\", \"San Buenaventura (Ventura)\", \"Fremont\", \"Pueblo\", \"Chelsea\", \"Belleville\", \"Minneapolis\", \"Bartlett\", \"Wichita Falls\", \"Missouri City\", \"St. Louis\", \"Pharr\", \"Albuquerque\", \"Athens-Clarke County\", \"South Jordan\", \"North Las Vegas\", \"Pomona\", \"Eastvale\", \"Grove City\", \"Lawrence\", \"Midland\", \"Oklahoma City\", \"Oro Valley\", \"Mesa\", \"Norwalk\", \"Kentwood\", \"Brookfield\", \"Rockwall\", \"Mishawaka\", \"Tustin\", \"St. Cloud\", \"Passaic\", \"Escondido\", \"San Bruno\", \"Berkeley\", \"San Clemente\", \"Lawton\", \"Eau Claire\", \"Maricopa\", \"DeSoto\", \"Fort Wayne\", \"Shoreline\", \"Medford\", \"La Habra\", \"Albany\", \"Daly City\", \"Taylor\", \"Lynchburg\", \"Bowie\", \"Danbury\", \"Charlottesville\", \"Coral Gables\", \"Coeur d'Alene\", \"El Monte\", \"Crystal Lake\", \"Danville\", \"Goodyear\", \"Paterson\", \"Salem\", \"Kissimmee\", \"Saginaw\", \"Brownsville\", \"Flower Mound\", \"Grapevine\", \"Edina\", \"Detroit\", \"Fairfield\", \"Mansfield\", \"Rochester\", \"Birmingham\", \"Austin\", \"Santa Barbara\", \"Addison\", \"Rio Rancho\", \"Normal\", \"Romeoville\", \"Coon Rapids\", \"San Mateo\", \"Orlando\", \"Casper\", \"Bedford\", \"Wilmington\", \"Pinellas Park\", \"North Miami Beach\", \"Kansas City\", \"Fitchburg\", \"Wheeling\", \"Newton\", \"North Miami\", \"Norwich\", \"Newark\", \"Alexandria\", \"Blaine\", \"Harlingen\", \"Lompoc\", \"Denton\", \"Galveston\", \"Greenwood\", \"Salinas\", \"Miami Gardens\", \"Huntington\", \"Laredo\", \"Melbourne\", \"Haltom City\", \"Palm Bay\", \"Wilson\", \"Bountiful\", \"Ceres\", \"Parma\", \"Rapid City\", \"Bell Gardens\", \"Commerce City\", \"Springfield\", \"Fort Collins\", \"San Leandro\", \"Vista\", \"Yonkers\", \"Cincinnati\", \"Hagerstown\", \"Sanford\", \"Union City\", \"Toledo\", \"Sierra Vista\", \"Newport News\", \"Hammond\", \"Buffalo Grove\", \"Sugar Land\", \"Huntsville\", \"Lodi\", \"Edmonds\", \"Duncanville\", \"Rocky Mount\", \"Pontiac\", \"National City\", \"Hayward\", \"Niagara Falls\", \"Sparks\", \"Hanford\", \"Cypress\", \"Youngstown\", \"Madison\", \"Redlands\", \"Cape Girardeau\", \"Nampa\", \"Washington\", \"Wheaton\", \"Lancaster\", \"Rialto\", \"Fargo\", \"Peoria\", \"Omaha\", \"Rancho Santa Margarita\", \"Manhattan\", \"Palm Springs\", \"San Diego\", \"Santa Rosa\", \"Lowell\", \"Broken Arrow\", \"Kent\", \"Nashville\", \"Hackensack\", \"Broomfield\", \"Durham\", \"Wichita\", \"Cathedral City\", \"Lakeville\", \"Elmhurst\", \"Weslaco\", \"Greenfield\", \"Sunnyvale\", \"Santa Cruz\", \"Kenosha\", \"State College\", \"Mansfield\", \"Quincy\", \"Pompano Beach\", \"San Angelo\", \"Bloomington\", \"Tracy\", \"Spartanburg\", \"Nashua\", \"Macon\", \"Hempstead\", \"Camden\", \"Palm Desert\", \"Streamwood\", \"Chesapeake\", \"Dublin\", \"Camarillo\", \"Muskegon\", \"Elizabeth\", \"Anchorage\", \"Minot\", \"Davie\", \"McAllen\", \"McKinney\", \"Killeen\", \"Findlay\", \"Oakland\", \"Mountain View\", \"Lake Elsinore\", \"Amarillo\", \"Provo\", \"Atlanta\", \"Monterey Park\", \"Strongsville\", \"Madera\", \"Decatur\", \"Woonsocket\", \"Mobile\", \"Vallejo\", \"Arcadia\", \"Collierville\", \"Jefferson City\", \"Longview\", \"Chandler\", \"Arvada\", \"Alhambra\", \"Kokomo\", \"Oakland Park\", \"Indianapolis\", \"Boynton Beach\", \"Apache Junction\", \"Mount Prospect\", \"Cranston\", \"Lafayette\", \"Olathe\", \"Johns Creek\", \"Greensboro\", \"Kalamazoo\", \"Tigard\", \"Jacksonville\", \"Citrus Heights\", \"Tuscaloosa\", \"Ankeny\", \"Hawthorne\", \"Hoover\", \"Delray Beach\", \"Wellington\", \"Bullhead City\", \"Weston\", \"Troy\", \"New Rochelle\", \"Stockton\", \"Royal Oak\", \"Titusville\", \"Laguna Niguel\", \"Spokane Valley\", \"Costa Mesa\", \"Grand Prairie\", \"Portsmouth\", \"Lacey\", \"Apex\", \"Sioux City\", \"Encinitas\", \"Spanish Fork\", \"Huntington Park\", \"Eden Prairie\", \"Peoria\", \"Tempe\", \"Wilmington\", \"Taylorsville\", \"Westland\", \"Mesquite\", \"Burlington\", \"Garland\", \"Richmond\", \"Bismarck\", \"Carson City\", \"Muskogee\", \"Augusta-Richmond County\", \"Fayetteville\", \"Albany\", \"Sayreville\", \"Newark\", \"Diamond Bar\", \"Decatur\", \"Chattanooga\", \"Jeffersonville\", \"Bartlett\", \"Baldwin Park\", \"Miami Beach\", \"Jackson\", \"Port Arthur\", \"San Luis Obispo\", \"Burleson\", \"Newport Beach\", \"Riverton\", \"Yakima\", \"Dayton\", \"Gulfport\", \"Long Beach\", \"Chico\", \"Hattiesburg\", \"Eugene\", \"Colton\", \"Montebello\", \"Pleasanton\", \"Everett\", \"Hutchinson\", \"Fairfield\", \"Avondale\", \"Euclid\", \"Battle Creek\", \"Bloomington\", \"Rock Island\", \"Beaverton\", \"Kenner\", \"Clovis\", \"Troy\", \"Milpitas\", \"Des Plaines\", \"Placentia\", \"Taunton\", \"Montclair\", \"Johnson City\", \"Savannah\", \"Warren\", \"Vancouver\", \"Sunrise\", \"Muncie\", \"Lehi\", \"San Francisco\", \"Fontana\", \"Frisco\", \"Chino Hills\", \"Poway\", \"Huber Heights\", \"New Brunswick\", \"Norfolk\", \"Hillsboro\", \"San Jacinto\", \"Pensacola\", \"Hamilton\", \"Florence\", \"San Bernardino\", \"Peachtree Corners\", \"Victorville\", \"Gary\", \"Casa Grande\", \"Morgan Hill\", \"Dubuque\", \"Syracuse\", \"Clarksville\", \"Lakeland\", \"Valley Stream\", \"Dover\", \"Moorhead\", \"Culver City\", \"Palatine\", \"Seattle\", \"Covington\", \"Elk Grove\", \"Shreveport\", \"Ogden\", \"Harrisonburg\", \"Inglewood\", \"Pasadena\", \"Lawrence\", \"Lake Oswego\", \"Petaluma\", \"Springfield\", \"Napa\", \"Aurora\", \"Duluth\", \"Roanoke\", \"Bend\", \"Apple Valley\", \"Waltham\", \"Fort Myers\", \"Tampa\", \"Upland\", \"Danville\", \"Beloit\", \"Plantation\", \"Colorado Springs\", \"Modesto\", \"Grand Rapids\", \"Oak Park\", \"Sarasota\", \"Jurupa Valley\", \"Bellflower\", \"Boulder\", \"Santa Fe\", \"Coachella\", \"Marlborough\", \"Riverside\", \"Palmdale\", \"Novato\", \"Layton\", \"Bolingbrook\", \"Mission Viejo\", \"Glenview\", \"Lincoln\", \"Folsom\", \"Prescott Valley\", \"Las Cruces\", \"Bozeman\", \"Schaumburg\", \"Warren\", \"St. Peters\", \"Ames\", \"Surprise\", \"Richardson\", \"Midland\", \"San Marcos\", \"Wilkes-Barre\", \"Appleton\", \"Shawnee\", \"Mentor\", \"Livermore\", \"Charlotte\", \"Owensboro\", \"Jupiter\", \"Rohnert Park\", \"Chicago\", \"Billings\", \"Wauwatosa\", \"Lombard\", \"New Haven\", \"York\", \"Knoxville\", \"Elyria\", \"Barnstable Town\", \"Murray\", \"Alameda\", \"Manteca\", \"Maplewood\", \"Medford\", \"Murfreesboro\", \"Yuba City\", \"Shelton\", \"Cedar Falls\", \"Germantown\", \"Scranton\", \"Auburn\", \"Manassas\", \"Vacaville\", \"Santa Monica\", \"Suffolk\", \"Rochester Hills\", \"La Quinta\", \"Charleston\", \"Delano\", \"St. Cloud\", \"Charleston\", \"Kannapolis\", \"Corona\", \"Rocklin\", \"Lee's Summit\", \"Palm Coast\", \"Sandy\", \"Bentonville\", \"Santa Clarita\", \"Altamonte Springs\", \"New Braunfels\", \"Memphis\", \"Irving\", \"Alexandria\", \"Hesperia\", \"Holyoke\", \"Dunwoody\", \"Skokie\", \"Kearny\", \"Bethlehem\", \"St. Joseph\", \"Redondo Beach\", \"Houston\", \"Temecula\", \"Ann Arbor\", \"Beaumont\", \"East Lansing\", \"Santee\", \"Tamarac\", \"Bellevue\", \"Pembroke Pines\", \"Springdale\", \"Oxnard\", \"Odessa\", \"Stillwater\", \"Brockton\", \"Bayonne\", \"Paramount\", \"Moline\", \"Meridian\", \"Cleveland\", \"Jersey City\", \"St. Paul\", \"Deltona\", \"Freeport\", \"Iowa City\", \"Anaheim\", \"Apple Valley\", \"Great Falls\", \"West Valley City\", \"Hampton\", \"Georgetown\", \"Orem\", \"Monrovia\", \"Keller\", \"Goose Creek\", \"Little Rock\", \"Santa Ana\", \"White Plains\", \"Idaho Falls\", \"Bellevue\", \"Roseville\", \"Perth Amboy\", \"Peabody\", \"Grand Island\", \"Columbia\", \"Racine\", \"Carmel\", \"Portage\", \"Middletown\", \"Woodland\", \"Revere\", \"Euless\", \"Arlington Heights\", \"Hemet\", \"High Point\", \"Newark\", \"Midwest City\", \"San Marcos\", \"Port Orange\", \"Lakewood\", \"Westerville\", \"Rockford\", \"El Cajon\", \"St. Petersburg\", \"Downers Grove\", \"Milford\", \"Albany\", \"Las Vegas\", \"Pasadena\", \"Port St. Lucie\", \"Cedar Rapids\", \"Ormond Beach\", \"Quincy\", \"Miramar\", \"El Paso\", \"Topeka\", \"Rosemead\", \"Keizer\", \"Minnetonka\", \"Akron\", \"Edinburg\", \"Rancho Cucamonga\", \"North Charleston\", \"Louisville\", \"Watsonville\", \"Coconut Creek\", \"Bradenton\", \"Carlsbad\", \"Texas City\", \"Redding\", \"Wyoming\", \"Lorain\", \"Roy\", \"Fort Lauderdale\", \"Warner Robins\", \"Clearwater\", \"Cutler Bay\", \"Florence\", \"Terre Haute\", \"Temple\", \"Beavercreek\", \"Sioux Falls\", \"Columbus\", \"Margate\", \"Leominster\", \"Warwick\", \"Bakersfield\", \"Miami\", \"Lake Charles\", \"Richland\", \"Hickory\", \"South San Francisco\", \"Plymouth\", \"South Bend\", \"Edmond\", \"Des Moines\", \"Bonita Springs\", \"Draper\", \"Whittier\", \"Livonia\", \"Milwaukee\", \"Auburn\", \"Sumter\", \"Beverly\", \"Renton\", \"Centennial\", \"Richmond\", \"Anderson\", \"Beaumont\", \"Pflugerville\", \"Hoboken\", \"Lexington-Fayette\", \"Norwalk\", \"Yuma\", \"Highland\", \"Carol Stream\", \"Joliet\", \"Rock Hill\", \"Rancho Cordova\", \"Dearborn Heights\", \"Honolulu\", \"Victoria\", \"Attleboro\", \"Wylie\", \"Carrollton\", \"Plainfield\", \"Hoffman Estates\", \"Methuen\", \"North Port\", \"Rockville\", \"Burbank\", \"Fullerton\", \"Oshkosh\", \"Huntsville\", \"Farmington Hills\", \"Pico Rivera\", \"Cerritos\", \"La Puente\", \"Grand Junction\", \"Enid\", \"San Jose\", \"Round Rock\", \"Maple Grove\", \"Norman\", \"Homestead\", \"Friendswood\", \"Irvine\", \"Pocatello\", \"Pacifica\", \"Sheboygan\", \"Bossier City\", \"Cedar Park\", \"Sandy Springs\", \"Champaign\", \"Clifton\", \"Moore\", \"Blue Springs\", \"Lancaster\", \"Bryan\", \"Hurst\", \"Cape Coral\", \"Cupertino\", \"Pittsfield\", \"Gilroy\", \"Manchester\", \"Virginia Beach\", \"Salina\", \"Somerville\", \"Largo\", \"Fresno\", \"Phenix City\", \"Berwyn\", \"Palm Beach Gardens\", \"Pawtucket\", \"San Gabriel\", \"Winston-Salem\", \"Alpharetta\", \"O'Fallon\", \"Redwood City\", \"Union City\", \"Hallandale Beach\", \"Mankato\", \"Aliso Viejo\", \"Menifee\", \"Loveland\", \"Carpentersville\", \"Providence\", \"Hialeah\", \"San Ramon\", \"Ontario\", \"Kirkland\", \"St. George\", \"Hilton Head Island\", \"Glendale\", \"Meriden\", \"Gardena\", \"Westfield\", \"Elgin\", \"Plano\", \"Longmont\", \"Coppell\", \"Lakewood\", \"Jonesboro\", \"College Station\", \"Dearborn\", \"Utica\", \"Monroe\", \"Baltimore\", \"Springfield\", \"Pine Bluff\", \"Plainfield\", \"Lynn\", \"Woodbury\", \"Gainesville\", \"West Sacramento\", \"Sammamish\", \"Aventura\", \"Fayetteville\", \"San Rafael\", \"Conway\", \"Tacoma\", \"Middletown\", \"Burlington\", \"Twin Falls\", \"Sherman\", \"New York\", \"Simi Valley\", \"West Covina\", \"Castle Rock\", \"Valdosta\", \"Fort Worth\", \"Carson\", \"Evansville\", \"Santa Maria\", \"Brentwood\", \"La Mesa\", \"Westminster\", \"Reading\", \"Turlock\", \"Greeley\", \"Tyler\", \"Winter Garden\", \"Waco\", \"Martinez\", \"Thousand Oaks\", \"Azusa\", \"Bridgeport\", \"St. Louis Park\", \"Chesterfield\", \"Greenacres\", \"Pasco\", \"Torrance\", \"Madison\", \"Janesville\", \"Waukegan\", \"Bowling Green\", \"Arlington\", \"Lewisville\", \"Farmington\", \"Oakley\", \"Palo Alto\", \"Springfield\", \"New Bedford\", \"Redmond\", \"Brentwood\", \"Davis\", \"La Mirada\", \"Smyrna\", \"Altoona\", \"Dothan\", \"East Orange\", \"Tinley Park\", \"Biloxi\", \"Urbana\", \"Garden Grove\", \"Lynwood\", \"Northglenn\", \"Canton\", \"Brookhaven\", \"Baton Rouge\", \"Bristol\", \"Independence\", \"Lansing\", \"Orland Park\", \"Vineland\", \"Green Bay\", \"Evanston\", \"Ocoee\", \"Los Angeles\", \"Federal Way\", \"West Jordan\", \"Yucaipa\", \"Pittsburgh\", \"Downey\", \"Cicero\", \"South Gate\", \"Panama City\", \"Joplin\", \"League City\", \"Salt Lake City\", \"Fort Pierce\", \"Phoenix\", \"Corvallis\", \"Cedar Hill\", \"Chicopee\", \"Ocala\", \"Roswell\", \"Park Ridge\", \"Concord\", \"Olympia\", \"Huntington Beach\", \"Corpus Christi\", \"Haverhill\", \"Hanover Park\", \"Cambridge\", \"Glendale\", \"Stanton\", \"Summerville\", \"Davenport\", \"Boca Raton\", \"New Britain\", \"Roseville\", \"Cleveland Heights\", \"Gresham\", \"Lauderhill\", \"Hendersonville\", \"Santa Clara\", \"Oceanside\", \"Lake Forest\", \"Novi\", \"West New York\", \"Everett\", \"Linden\", \"Asheville\", \"Compton\"], \"lat\": [48.0517637, 33.7825194, 41.49932, 42.26259320000001, 34.0007104, 41.55815250000001, 44.80413220000001, 42.4733688, 30.2240897, 43.6187102, 41.6819935, 33.8675143, 33.952602, 39.5186002, 26.7153424, 42.51954, 41.7605849, 39.1156615, 25.8195424, 33.7513419, 33.5778631, 38.9822282, 32.298757300000005, 35.262082, 29.2108147, 39.0997265, 33.7444613, 44.7677424, 32.9029017, 33.3942655, 32.366805199999995, 41.7369803, 42.4792618, 40.6084305, 32.8323225, 32.4609764, 42.8864468, 42.9764027, 32.8342952, 40.742551, 38.5815719, 35.38592420000001, 41.81371160000001, 41.6266555, 40.9125992, 39.7047095, 36.0395247, 34.0900091, 41.0534302, 39.165325, 36.548434, 47.6587802, 46.2112458, 39.9525839, 48.74908, 36.3302284, 43.8013556, 41.2619444, 26.217305, 32.7766642, 38.0049214, 42.5803122, 26.3184123, 39.95675479999999, 41.1399814, 33.553914299999995, 38.9536174, 40.0455917, 34.9889818, 34.0122346, 39.14344060000001, 33.7091847, 39.4142688, 35.612661, 41.9294736, 43.0166806, 39.8680412, 41.5772115, 41.7014912, 36.20772879999999, 32.6400541, 26.271192, 35.4087517, 33.883992600000006, 28.6934076, 47.9252568, 39.71367539999999, 41.7508391, 26.0112014, 36.3320196, 29.9510658, 47.1717649, 41.71997800000001, 43.6629384, 45.52306220000001, 37.9779776, 47.4703767, 38.7881062, 43.0116784, 35.1982836, 47.1853785, 42.8142432, 39.7392358, 39.7817213, 37.2871651, 33.9424658, 39.6895036, 42.2505943, 34.483901, 34.769535999999995, 39.5296329, 39.613321, 34.540024200000005, 37.7021521, 33.425125, 43.661471, 45.0941315, 41.2705484, 32.792, 33.0806083, 43.0125274, 38.02797620000001, 33.3703197, 33.9166805, 33.7205771, 33.494170399999994, 39.9611755, 40.0378755, 40.8257625, 40.2170534, 42.3600825, 34.136118700000004, 44.0121221, 38.789217, 38.9784453, 35.91319960000001, 39.8386516, 32.6789476, 41.6155909, 46.8787176, 36.8252277, 29.5635666, 33.3528264, 44.9591352, 35.7795897, 33.7877944, 37.9100783, 47.56732020000001, 36.06523, 32.436381, 30.4382559, 30.3118769, 37.2295733, 29.4241219, 41.7637111, 42.492786, 42.0986867, 43.61210870000001, 43.7730448, 29.735504700000003, 35.79154000000001, 42.2180724, 36.1539816, 26.2159066, 41.1339449, 42.4250964, 33.1031744, 32.2217429, 35.9250637, 44.79739620000001, 30.3321838, 39.3642834, 42.1292241, 37.3021632, 32.4487364, 33.888625899999994, 34.8526176, 35.410694, 42.4974085, 40.27319110000001, 34.274646000000004, 37.54826970000001, 38.2544472, 42.3917638, 38.5200504, 44.977753, 35.2045328, 33.91370850000001, 29.6185669, 38.6270025, 26.1947962, 35.0853336, 33.9519347, 40.5621704, 36.1988592, 34.055103, 33.952463, 39.8814519, 38.9716689, 31.9973456, 35.4675602, 32.3909071, 33.4151843, 41.117744, 42.8694731, 43.0605671, 32.9312336, 41.6619927, 33.7458511, 45.5579451, 40.8567662, 33.1192068, 37.6304904, 37.87159260000001, 33.4269728, 34.6035669, 44.811349, 33.05810630000001, 32.589699800000005, 41.079273, 47.7556531, 42.4184296, 33.9319578, 42.65257929999999, 37.6879241, 42.240872, 37.4137536, 39.0067768, 41.394817, 38.0293059, 25.72149, 47.6776832, 34.0686206, 42.2411344, 37.8215929, 33.4353394, 40.9167654, 44.9428975, 28.291955699999995, 43.4194699, 25.9017472, 33.0145673, 32.9342919, 44.88968660000001, 42.33142700000001, 39.3454673, 32.5631924, 43.16103, 33.5206608, 30.267153000000004, 34.4208305, 41.931696, 35.2327544, 40.5142026, 41.6475306, 45.1732394, 37.56299170000001, 28.5383355, 42.866632, 32.844017, 34.2257255, 27.8428025, 25.9331488, 39.11405300000001, 42.5834228, 42.1391927, 42.3370413, 25.8900949, 41.5242649, 40.735657, 31.3112936, 45.1607987, 26.1906306, 34.6391501, 33.2148412, 29.3013479, 39.6136578, 36.6777372, 25.9420377, 38.41924960000001, 27.530567100000006, 28.0836269, 32.799573800000005, 28.03446210000001, 35.7212689, 40.8893895, 37.5949316, 41.40477420000001, 44.0805434, 33.9652918, 39.8083196, 42.1014831, 40.5852602, 37.7249296, 33.2000368, 40.9312099, 39.1031182, 39.6417629, 28.802861199999995, 40.6975898, 41.6639383, 31.5455001, 37.0870821, 41.5833688, 42.1662831, 29.6196787, 34.730368799999994, 38.1341477, 47.8106521, 32.6518004, 35.93821029999999, 42.6389216, 32.6781085, 37.6688205, 43.0962143, 39.5349112, 36.3274502, 33.8169599, 41.0997803, 34.6992579, 34.055569299999995, 37.3058839, 43.5407172, 38.9071923, 41.8661403, 32.5920798, 34.1064001, 46.8771863, 40.6936488, 41.25236339999999, 33.640855, 39.1836082, 33.8302961, 32.715738, 38.440429, 42.633424700000006, 36.060949, 47.38093350000001, 36.1626638, 40.8859325, 39.9205411, 35.99403289999999, 37.688889, 33.780538799999995, 44.6496868, 41.8994744, 26.1595194, 42.9614039, 37.36883, 36.9741171, 42.5847425, 40.7933949, 40.75839000000001, 39.9356016, 26.2378597, 31.4637723, 40.4842027, 37.7396513, 34.949567200000004, 42.7653662, 32.8406946, 40.7062128, 39.9259463, 33.7222445, 42.02558270000001, 36.7682088, 40.0992294, 34.216393700000005, 43.2341813, 40.6639916, 61.2180556, 48.23296679999999, 26.0764783, 26.203407100000003, 33.19724650000001, 31.1171194, 41.04422, 37.8043637, 37.3860517, 33.668077200000006, 35.2219971, 40.2338438, 33.7489954, 34.0625106, 41.3144966, 36.96133560000001, 39.84031470000001, 42.0028761, 30.6953657, 38.1040864, 34.139729200000005, 35.042036, 38.57670170000001, 32.5007037, 33.3061605, 39.8027644, 34.095287, 40.486427, 26.1723065, 39.768403, 26.531786600000004, 33.4150485, 42.06641670000001, 41.7798226, 40.4167022, 38.8813958, 34.0289259, 36.0726354, 42.2917069, 45.4312294, 34.7540524, 38.7071247, 33.2098407, 41.7317884, 33.9164032, 33.405386699999994, 26.4614625, 26.6617635, 35.1359386, 26.1003654, 42.6064095, 40.9114882, 37.9577016, 42.4894801, 28.6122187, 33.5225261, 47.6732281, 33.6411316, 32.7459645, 36.8354258, 47.0342629, 35.732652, 42.4999942, 33.0369867, 40.114955, 33.981681200000004, 44.8546856, 33.5805955, 33.4255104, 39.7390721, 40.6677248, 42.324204, 32.7667955, 36.0956918, 32.912624, 37.9357576, 46.8083268, 39.1637984, 35.74787689999999, 33.4734978, 35.0526641, 31.5785074, 40.4594021, 37.5296593, 34.02862260000001, 34.6059253, 35.0456297, 38.27757020000001, 41.9950276, 34.0852868, 25.790654, 35.6145169, 29.8849504, 35.2827524, 32.5420821, 33.6189101, 40.521893, 46.6020711, 39.7589478, 30.367419800000004, 33.770050399999995, 39.7284944, 31.3271189, 44.0520691, 34.0739016, 34.0165053, 37.6624312, 47.9789848, 38.0608445, 38.2493581, 33.4355977, 41.5931049, 42.32115220000001, 44.840798, 41.5094771, 45.487062, 29.9940924, 34.4047987, 42.7284117, 37.4323341, 42.03336229999999, 33.87223710000001, 41.900101, 34.0775104, 36.3134397, 32.0835407, 41.2375569, 45.6387281, 26.1669711, 40.1933767, 40.3916172, 37.7749295, 34.0922335, 33.1506744, 33.989818799999995, 32.9628232, 39.843947, 40.4862157, 36.8507689, 45.5228939, 33.783908399999994, 30.421309, 39.3995008, 34.1954331, 34.1083449, 33.9698929, 34.5362184, 41.5933696, 32.8795022, 37.13050120000001, 42.5005583, 43.0481221, 36.5297706, 28.0394654, 40.6642699, 39.158168, 46.8737648, 34.0211224, 42.1103041, 47.6062095, 39.08367120000001, 38.4087993, 32.5251516, 41.223, 38.4495688, 33.9616801, 34.1477849, 42.7070354, 45.4206749, 38.232417, 39.9242266, 38.2975381, 39.7294319, 46.7866719, 37.2709704, 44.0581728, 34.5008311, 42.37648520000001, 26.640628000000003, 27.950575, 34.09751, 36.5859718, 42.5083482, 26.1275862, 38.8338816, 37.6390972, 42.9633599, 41.885031700000006, 27.3364347, 33.9971974, 33.8816818, 40.0149856, 35.686975200000006, 33.6803003, 42.3459271, 33.9533487, 34.5794343, 38.1074198, 41.0602216, 41.6986416, 33.6000232, 42.0697509, 38.891565, 38.6779591, 34.6100243, 32.3199396, 45.6769979, 42.0333607, 42.5144566, 38.7874699, 42.034722, 33.62923370000001, 32.948333500000004, 43.6155825, 29.8832749, 41.2459149, 44.2619309, 39.0228485, 41.6661573, 37.6818745, 35.2270869, 37.7719074, 26.934224600000004, 38.3396367, 41.8781136, 45.783285600000006, 43.049457200000006, 41.8800296, 41.308274, 39.9625984, 35.96063839999999, 41.36837979999999, 41.7003208, 40.6668916, 37.7652065, 37.7974273, 44.95302150000001, 42.3265152, 35.8456213, 39.1404477, 41.3164856, 42.5348993, 35.08675770000001, 41.408969, 32.6098566, 38.7509488, 38.3565773, 34.01945429999999, 36.7282054, 42.6583661, 33.663357299999994, 38.3498195, 35.7688425, 28.2489016, 32.776474900000004, 35.4873613, 33.8752935, 38.7907339, 38.9108408, 29.5844524, 40.56497810000001, 36.3728538, 34.3916641, 28.6611089, 29.7030024, 35.1495343, 32.814017699999994, 38.8048355, 34.4263886, 42.2042586, 33.9462125, 42.0324025, 40.7684342, 40.6259316, 39.7674578, 33.8491816, 29.7604267, 33.4936391, 42.2808256, 30.080174, 42.7369792, 32.8383828, 26.2128609, 41.1543623, 26.007765, 36.18674420000001, 34.1975048, 31.8456816, 36.1156071, 42.08343350000001, 40.6687141, 33.8894598, 41.5067003, 32.3643098, 35.1595182, 40.7281575, 44.9537029, 28.9005446, 40.65760220000001, 41.6611277, 33.8352932, 44.7319094, 47.4941836, 40.691613200000006, 37.0298687, 30.633261800000003, 40.2968979, 34.14426160000001, 32.9341893, 32.9810059, 34.7464809, 33.7455731, 41.0339862, 43.4916514, 47.610377, 38.7521235, 40.5067723, 42.5278731, 40.92639570000001, 38.95170529999999, 42.7261309, 39.978371, 42.20115379999999, 39.5150576, 38.6785157, 42.40843020000001, 32.8370727, 42.0883603, 33.7475203, 35.95569229999999, 40.0581205, 35.4495065, 33.1433723, 29.1383165, 33.853626899999995, 40.1261743, 42.2711311, 32.7947731, 27.773056, 41.8089191, 41.2306979, 44.6365107, 36.1699412, 29.6910625, 27.2730492, 41.9778795, 29.2858129, 42.25287720000001, 25.9860762, 31.7775757, 39.0558235, 34.0805651, 44.9901194, 44.9211836, 41.08144470000001, 26.3017374, 34.1063989, 32.8546197, 38.2526647, 36.910231, 26.2517482, 27.4989278, 33.158093300000004, 29.383845, 40.5865396, 42.9133602, 41.452819, 41.1616108, 26.1224386, 32.6130007, 27.9658533, 25.5808323, 34.79981, 39.4667034, 31.0982344, 39.7092262, 43.5445959, 39.2014404, 26.244526300000004, 42.5250906, 41.7001009, 35.3732921, 25.7616798, 30.226594899999995, 46.2856907, 35.7344538, 37.654656, 45.01051939999999, 41.6763545, 35.6528323, 41.6005448, 26.339806, 40.5246711, 33.97917929999999, 42.36837, 43.0389025, 47.3073228, 33.9204354, 42.5584283, 47.4828776, 39.5807452, 37.5407246, 40.1053196, 33.92946060000001, 30.4393696, 40.7439905, 38.040583700000006, 33.9022367, 32.6926512, 34.1283442, 41.9125286, 41.525031, 34.9248667, 38.5890723, 42.3369816, 21.3069444, 28.8052674, 41.9445441, 33.0151201, 32.975641499999995, 41.632223, 42.0629915, 42.7262016, 27.044224, 39.0839973, 34.18083920000001, 33.8703596, 44.0247062, 30.723526300000003, 42.4989936, 33.9830688, 33.8583483, 34.0200114, 39.0638705, 36.3955891, 37.3382082, 30.508255100000003, 45.07246420000001, 35.2225668, 25.4687224, 29.529399800000004, 33.6839473, 42.8713032, 37.6138253, 43.7508284, 32.5159852, 30.505198, 33.9304352, 40.1164204, 40.8584328, 35.339507899999994, 39.0169509, 34.6867846, 30.6743643, 32.82346210000001, 26.5628537, 37.3229978, 42.4500845, 37.0057816, 42.99563970000001, 36.8529263, 38.8402805, 42.3875968, 27.9094665, 36.7468422, 32.4709761, 41.8505874, 26.8233946, 41.878711, 34.0961111, 36.0998596, 34.07537620000001, 38.8106075, 37.4852152, 37.59339179999999, 25.9812024, 44.1635775, 33.5676842, 33.6971468, 40.39776120000001, 42.1211364, 41.8239891, 25.8575963, 37.7799273, 34.0633443, 47.6814875, 37.0965278, 32.216316, 34.1425078, 41.5381535, 33.8883487, 42.1250929, 42.0354084, 33.0198431, 40.1672068, 32.9545687, 41.48199320000001, 35.8422967, 30.627977, 42.3222599, 43.100903, 32.5093109, 39.2903848, 37.20895720000001, 34.2284312, 40.6337136, 42.466763, 44.92385520000001, 29.6516344, 38.5804609, 47.6162683, 25.9564812, 36.0625795, 37.9735346, 35.0886963, 47.2528768, 41.5623209, 44.4758825, 42.5629668, 33.635661799999994, 40.7127837, 34.2694474, 34.0686208, 39.37221210000001, 30.8327022, 32.7554883, 33.8316745, 37.9715592, 34.95303370000001, 36.0331164, 32.7678287, 39.8366528, 40.3356483, 37.4946568, 40.42331420000001, 32.351260100000005, 28.5652787, 31.549333, 38.0193657, 34.1705609, 34.1336186, 41.18654779999999, 44.9597376, 38.6631083, 26.6276276, 46.2395793, 33.83584920000001, 43.07305170000001, 42.6827885, 42.3636331, 36.9685219, 32.735687, 33.046233, 36.7280583, 37.9974219, 37.4418834, 44.0462362, 41.6362152, 47.6739881, 37.931868, 38.5449065, 33.9172357, 35.9828412, 40.5186809, 31.2232313, 40.767323, 41.5731442, 30.396031800000006, 40.1105875, 33.7739053, 33.930293, 39.8961821, 40.7989473, 33.8651033, 30.4582829, 41.6717648, 39.0911161, 42.732535, 41.6303103, 39.4863773, 44.519159, 42.0450722, 28.5691677, 34.0522342, 47.3223221, 40.6096698, 34.033625, 40.4406248, 33.9401088, 41.8455877, 33.954737, 30.1588129, 37.0842271, 29.5074538, 40.7607793, 27.446705600000005, 33.4483771, 44.5645659, 32.5884689, 42.14870429999999, 29.1871986, 34.0232431, 42.0111412, 43.2081366, 47.0378741, 33.660297, 27.8005828, 42.7762015, 41.9994722, 42.3736158, 33.538652299999995, 33.802515500000005, 33.0185039, 41.5236437, 26.3683064, 41.6612104, 42.4972583, 41.5200518, 45.5001357, 26.1403635, 36.3047735, 37.3541079, 33.1958696, 33.6469661, 42.48059, 40.7878788, 42.40843, 40.6220478, 35.5950581, 33.8958492], \"legendgroup\": \"\", \"lon\": [-122.1770818, -117.2286478, -81.6943605, -71.8022934, -81.0348144, -73.0514965, -93.1668858, -83.2218731, -92.0198427, -116.2146068, -85.9766671, -117.9981181, -84.5499327, -104.7613633, -80.0533746, -70.8967155, -88.3200715, -77.5636015, -80.3553302, -117.9939921, -101.8551665, -94.6707917, -90.1848103, -81.1873005, -81.02283309999999, -94.5785667, -118.3870173, -93.2777226, -96.56388, -104.5230242, -86.2999689, -111.8338359, -71.1522765, -75.4901833, -79.82842579999998, -84.9877094, -78.8783689, -88.10842240000002, -97.2289029, -84.1052256, -121.4943996, -94.3985475, -71.37005450000002, -93.7121656, -73.8370786, -105.08137340000002, -114.9817213, -117.8903397, -73.53873409999999, -86.5263857, -82.5618186, -117.4260466, -119.1372338, -75.1652215, -122.4781473, -119.2920585, -91.2395807, -95.8608333, -80.2258811, -96.7969879, -121.805789, -83.0302033, -80.0997657, -86.01335, -104.8202462, -117.2139232, -94.7335709, -86.0085955, -90.0125913, -117.688944, -77.2013705, -117.9536697, -77.41054090000002, -77.3663538, -88.7503647, -88.0070315, -104.9719243, -93.711332, -71.1550451, -119.3473379, -117.0841955, -80.27060440000002, -80.579511, -84.51437609999998, -81.53221490000001, -97.0328547, -82.59932940000002, -88.15353520000002, -80.1494901, -94.1185366, -90.0715323, -122.518458, -87.7479528, -116.6873596, -122.6764816, -122.0310733, -122.3467918, -90.4974359, -88.2314813, -111.651302, -122.29289740000002, -73.93956870000002, -104.990251, -89.6501481, -121.9499568, -117.2296717, -84.16882740000001, -83.17853609999997, -114.3224548, -92.2670941, -119.8138027, -105.0166498, -112.4685025, -121.9357918, -94.0476882, -70.2553259, -93.3563405, -72.94697109999998, -115.5630514, -96.8928309, -83.6874562, -121.88468059999998, -112.58377659999998, -117.9000604, -116.2155619, -111.9260519, -82.9987942, -76.3055144, -96.6851982, -74.74293840000001, -71.0588801, -117.865339, -92.4801989, -90.322614, -76.4921829, -79.05584449999998, -86.0252612, -115.4988834, -87.5294871, -113.996586, -119.7029194, -95.2860474, -111.789027, -89.6301221, -78.6381787, -117.8531119, -122.0651819, -122.6329356, -119.0167679, -111.2224422, -84.2807329, -95.4560512, -80.4139393, -98.4936282, -72.6850932, -92.3425775, -75.9179738, -116.3915131, -88.44705079999999, -94.9774274, -78.78111690000001, -70.94103559999998, -95.992775, -98.3252932, -81.48455849999998, -71.066163, -96.6705503, -110.926479, -86.86888990000001, -93.5272861, -81.655651, -74.4229266, -80.085059, -120.48296770000002, -99.7331439, -117.8131125, -82.3940104, -80.8428504, -82.8963604, -76.88670079999999, -119.22903159999998, -121.9885719, -104.6091409, -71.03282840000001, -89.98399350000003, -93.2650108, -89.8739753, -98.4933873, -95.5377215, -90.1994042, -98.1836216, -106.6055534, -83.357567, -111.929658, -115.1175013, -117.7499909, -117.5848025, -83.09296440000001, -95.2352501, -102.0779146, -97.5164276, -110.96648799999998, -111.8314724, -73.4081575, -85.6447492, -88.1064787, -96.4597089, -86.15861559999998, -117.826166, -94.1632404, -74.12847640000003, -117.086421, -122.4110835, -122.272747, -117.6119925, -98.3959291, -91.4984941, -112.0476423, -96.8570738, -85.13935129999999, -122.3415178, -71.10616390000001, -117.94617340000002, -73.7562317, -122.47020790000002, -83.2696509, -79.1422464, -76.77913649999998, -73.45401109999997, -78.4766781, -80.2683838, -116.7804664, -118.0275667, -88.3161965, -121.9999606, -112.3576567, -74.171811, -123.0350963, -81.40757099999998, -83.9508068, -97.4974838, -97.0969552, -97.0780654, -93.3499489, -83.0457538, -84.56031870000002, -97.1416768, -77.61092190000002, -86.80249, -97.7430608, -119.6981901, -87.9889556, -106.6630437, -88.99063120000002, -88.0895061, -93.3030063, -122.3255254, -81.3792365, -106.313081, -97.1430671, -77.9447102, -82.6995443, -80.1625463, -94.6274636, -71.8022955, -87.92895909999999, -71.2092214, -80.18671379999998, -72.07591049999998, -74.1723667, -92.4451371, -93.2349489, -97.6961026, -120.4579409, -97.1330683, -94.7976958, -86.10665259999998, -121.6555013, -80.2456045, -82.445154, -99.4803241, -80.6081089, -97.2691817, -80.5886646, -77.91553950000002, -111.880771, -120.9577098, -81.72290859999998, -103.2310149, -118.1514588, -104.9338675, -72.589811, -105.084423, -122.1560768, -117.2425355, -73.8987469, -84.5120196, -77.7199932, -81.269453, -74.2631635, -83.555212, -110.27728559999998, -76.4730122, -87.5000412, -87.9631308, -95.6349463, -86.5861037, -121.2722194, -122.3773552, -96.9083366, -77.7905339, -83.2910468, -117.0991967, -122.0807964, -79.03773879999999, -119.7526886, -119.6456844, -118.0372852, -80.6495194, -86.7483318, -117.1825381, -89.51814759999998, -116.5634624, -77.03687070000002, -88.1070127, -96.7561082, -117.3703235, -96.7898034, -89.58898640000002, -95.9979883, -117.603104, -96.5716694, -116.54529209999998, -117.1610838, -122.7140548, -71.3161718, -95.7974526, -122.2348431, -86.78160159999999, -74.0434736, -105.0866504, -78.898619, -97.336111, -116.4668036, -93.24272, -87.9403418, -97.9908366, -88.0125865, -122.0363496, -122.0307963, -87.8211854, -77.8600012, -82.51544709999997, -91.4098726, -80.1247667, -100.4370375, -88.9936873, -121.4252227, -81.93204820000003, -71.467566, -83.6324022, -73.6187397, -75.1196199, -116.3744556, -88.1784085, -76.2874927, -83.11407709999997, -119.0376023, -86.2483921, -74.2107006, -149.90027780000003, -101.2922906, -80.2521157, -98.2300124, -96.6397822, -97.7277959, -83.6499321, -122.27111370000002, -122.0838511, -117.3272615, -101.8312969, -111.6585337, -84.3879824, -118.1228476, -81.83569, -120.0607176, -88.9548001, -71.5147839, -88.0398912, -122.25663670000002, -118.0353449, -89.66452659999999, -92.1735164, -94.7404891, -111.8412502, -105.0874842, -118.1270146, -86.13360329999998, -80.13198929999999, -86.158068, -80.0905465, -111.5495777, -87.9372908, -71.4372796, -86.8752869, -94.8191285, -84.19857900000002, -79.79197540000001, -85.5872286, -122.7714861, -77.43024140000001, -121.2810611, -87.5691735, -93.6001278, -118.3525748, -86.8113781, -80.07282009999999, -80.2683571, -114.5285981, -80.3997748, -83.1497751, -73.78235490000002, -121.29077959999998, -83.1446485, -80.8075537, -117.7075526, -117.2393748, -117.9186689, -96.9977846, -76.29827420000002, -122.8231915, -78.85028559999998, -96.4003069, -117.2919818, -111.654923, -118.2250725, -93.470786, -112.2373779, -111.9400054, -75.5397878, -111.9388258, -83.400211, -96.5991593, -79.43779909999998, -96.6388833, -122.3477486, -100.7837392, -119.7674034, -95.3696909, -82.0105148, -78.87835849999998, -84.155741, -74.360846, -122.0402399, -117.8103367, -86.9833417, -85.3096801, -85.7371847, -88.1856301, -117.96089779999998, -80.1300455, -88.8139469, -93.939947, -120.6596156, -97.3208492, -117.9289469, -111.9391023, -120.5058987, -84.1916069, -89.0928155, -118.1937395, -121.8374777, -89.2903392, -123.08675359999998, -117.3136547, -118.1137535, -121.8746789, -122.2020794, -97.9297743, -122.0399663, -112.3496021, -81.5267873, -85.17971419999998, -93.2982799, -90.5787476, -122.8037102, -90.2417434, -103.2052272, -73.69178509999998, -121.8995741, -87.88339909999998, -117.8703363, -71.08976740000001, -117.6897776, -82.35347270000003, -81.0998342, -80.81841659999998, -122.6614861, -80.25659499999998, -85.3863599, -111.8507662, -122.4194155, -117.435048, -96.8236116, -117.7325848, -117.0358646, -84.1246608, -74.4518188, -76.28587259999998, -122.989827, -116.95863500000002, -87.2169149, -84.5613355, -79.7625625, -117.2897652, -84.2214551, -117.2927641, -87.3464271, -111.7573521, -121.6543901, -90.6645718, -76.1474244, -87.3594528, -81.9498042, -73.7084645, -75.5243682, -96.7678039, -118.3964665, -88.03424, -122.33207079999998, -84.5085536, -121.3716178, -93.7501789, -111.9738304, -78.8689155, -118.3531311, -118.1445155, -71.1631137, -122.6706498, -122.6366524, -83.8088171, -122.286865, -104.8319195, -92.1004852, -79.9414266, -121.3153096, -117.1858759, -71.2356113, -81.87230840000002, -82.4571776, -117.6483876, -79.3950228, -89.0317765, -80.23310359999998, -104.8213634, -120.9968782, -85.6680863, -87.7845025, -82.5306527, -117.4854802, -118.1170117, -105.2705456, -105.937799, -116.173894, -71.55228740000003, -117.3961564, -118.11646129999998, -122.5697032, -111.9710529, -88.0683955, -117.6719953, -87.7878408, -121.29300790000002, -121.17605829999998, -112.315721, -106.7636538, -111.0429339, -88.0834059, -83.01465259999998, -90.6298922, -93.62, -112.3679279, -96.7298519, -84.24721159999999, -97.9413941, -75.88130749999998, -88.4153847, -94.7151865, -81.339552, -121.7680088, -80.8431267, -87.1111676, -80.09420870000002, -122.70109840000002, -87.62979820000002, -108.5006904, -88.0075875, -88.0078435, -72.9278835, -76.727745, -83.9207392, -82.10764859999998, -70.3002024, -111.8879909, -122.2416355, -121.21605259999998, -92.9952153, -122.8755949, -86.39027, -121.6169108, -73.0931641, -92.4453161, -89.8100858, -75.66241219999998, -85.48078249999998, -77.4752667, -121.9877444, -118.4911912, -76.5835621, -83.14993220000002, -116.3100095, -81.6326234, -119.2470536, -81.2811801, -79.9310512, -80.62173409999998, -117.5664384, -121.2357828, -94.3821724, -81.2078699, -111.8389726, -94.2088172, -118.542586, -81.36562420000001, -98.1244531, -90.0489801, -96.9488945, -77.0469214, -117.3008784, -72.61620090000002, -84.3346473, -87.7416246, -74.1454214, -75.3704579, -94.846681, -118.3884078, -95.3698028, -117.1483648, -83.7430378, -94.1265562, -84.48386540000001, -116.97391670000002, -80.2497707, -95.9145568, -80.2962555, -94.1288141, -119.17705159999998, -102.3676431, -97.0583681, -71.0183787, -74.11430909999999, -118.15979109999998, -90.5151342, -88.70365600000002, -84.8766115, -74.0776417, -93.0899578, -81.2636738, -73.58318349999998, -91.5301683, -117.9145036, -93.21772, -111.2833449, -112.0010501, -76.3452218, -97.6779842, -111.69464750000002, -118.0019482, -97.229298, -80.03258670000002, -92.2895948, -117.8678338, -73.76290970000002, -112.0339645, -122.2006786, -121.28800590000002, -74.2654234, -70.92866090000003, -98.3420118, -92.3340724, -87.78285229999999, -86.1180435, -85.5800022, -84.39827629999998, -121.7732971, -71.0119948, -97.0819541, -87.9806265, -116.9719684, -80.0053176, -82.4012642, -97.3967019, -117.1661449, -80.9956105, -118.1339563, -82.9290696, -89.09399520000002, -116.9625269, -82.64, -88.01117459999998, -73.064036, -123.1059282, -115.13982959999998, -95.2091006, -80.3582261, -91.6656232, -81.05588940000001, -71.0022705, -80.3035602, -106.4424559, -95.6890185, -118.072846, -123.0262077, -93.4687489, -81.51900529999998, -98.1633432, -117.5931084, -79.9748103, -85.7584557, -121.7568946, -80.17893509999998, -82.5748194, -117.3505939, -94.9027002, -122.3916754, -85.7053085, -82.18237459999997, -112.0263313, -80.13731740000001, -83.624201, -82.8001026, -80.3468593, -87.677251, -87.4139092, -97.342782, -84.0632685, -96.7311034, -85.9213796, -80.206436, -71.759794, -71.4161671, -119.0187125, -80.1917902, -93.2173758, -119.2844621, -81.3444573, -122.4077498, -93.4555093, -86.25198979999998, -97.4780954, -93.6091064, -81.77869720000002, -111.8638226, -118.032844, -83.3527097, -87.9064736, -122.22845320000002, -80.3414693, -70.880049, -122.21706609999998, -104.8771726, -77.4360481, -85.6802541, -116.977248, -97.6200043, -74.0323626, -84.50371640000002, -118.081733, -114.6276916, -117.2086513, -88.1347927, -88.0817251, -81.02507840000001, -121.302728, -83.2732627, -157.8583333, -97.0035982, -71.2856082, -96.5388789, -96.8899636, -88.2120315, -88.1227199, -71.19089240000002, -82.23592540000001, -77.1527578, -118.30896609999998, -117.9242966, -88.5426136, -95.5507771, -83.3677168, -118.096735, -118.0647871, -117.9495083, -108.5506486, -97.8783911, -121.88632859999998, -97.678896, -93.4557877, -97.4394777, -80.4775569, -95.2010447, -117.7946942, -112.4455344, -122.48691940000002, -87.71453000000002, -93.7321228, -97.8202888, -84.3733147, -88.2433829, -74.16375529999998, -97.4867028, -94.2816148, -118.1541632, -96.3699632, -97.1705678, -81.94953309999998, -122.0321823, -73.2453824, -121.5682751, -71.4547891, -75.977985, -97.6114237, -71.0994968, -82.7873244, -119.7725868, -85.0007653, -87.79366850000002, -80.1386547, -71.38255579999998, -118.1058333, -80.24421600000002, -84.2940899, -90.6998477, -122.2363548, -122.0438298, -80.148379, -93.9993996, -117.7256083, -117.185294, -105.0749801, -88.2578582, -71.4128343, -80.2781057, -121.9780153, -117.6508876, -122.2087353, -113.5684164, -80.752608, -118.255075, -72.8070435, -118.3089624, -72.749538, -88.2825668, -96.6988856, -105.1019275, -97.0150078, -81.7981908, -90.704279, -96.3344068, -83.1763145, -75.232664, -92.1193012, -76.6121893, -93.2922989, -92.0031955, -74.40737359999999, -70.9494938, -92.9593797, -82.3248262, -121.530234, -122.0355736, -80.1392121, -94.1574263, -122.5310874, -92.4421011, -122.4442906, -72.6506488, -73.21207199999998, -114.4608711, -96.6088805, -74.00594129999998, -118.781482, -117.93895259999998, -104.8560902, -83.2784851, -97.3307658, -118.281693, -87.5710898, -120.4357191, -86.7827772, -117.02308390000002, -105.03720459999998, -75.9268747, -120.8465941, -104.7091322, -95.3010624, -81.5861847, -97.1466695, -122.1341321, -118.8375937, -117.9075627, -73.1951767, -93.3702186, -90.5770675, -80.1353896, -119.10056570000002, -118.3406288, -89.4012302, -89.01872220000001, -87.84479379999998, -86.48080429999997, -97.1080656, -96.994174, -108.2186856, -121.7124536, -122.1430195, -123.0220289, -70.934205, -122.121512, -121.6957863, -121.7405167, -118.0120086, -86.51860450000002, -78.3947359, -85.39048879999999, -74.20486770000002, -87.7932939, -88.88530779999998, -88.2072697, -117.9414477, -118.21146029999998, -104.9811468, -81.378447, -84.3365917, -91.1403196, -72.9492703, -94.4155068, -84.55553470000002, -87.8539425, -75.0259637, -88.019826, -87.6876969, -81.5439619, -118.24368490000002, -122.3126222, -111.9391031, -117.0430865, -79.9958864, -118.1331593, -87.7539448, -118.2120161, -85.6602058, -94.513281, -95.0949303, -111.89104740000002, -80.3256056, -112.0740373, -123.2620435, -96.9561152, -72.6078672, -82.14009229999998, -84.36155550000002, -87.8406192, -71.5375718, -122.9006951, -117.9992265, -97.396381, -71.0772796, -88.1450735, -71.10973349999998, -112.1859866, -117.9931165, -80.17564809999998, -90.5776367, -80.1289321, -72.77954190000001, -82.93714090000002, -81.556235, -122.4302013, -80.2133808, -86.6199957, -121.9552356, -117.3794834, -117.689218, -83.47549129999999, -74.0143064, -71.0536625, -74.2445902, -82.5514869, -118.2200712], \"marker\": {\"color\": \"fuchsia\"}, \"mode\": \"markers\", \"name\": \"\", \"showlegend\": false, \"subplot\": \"mapbox\", \"type\": \"scattermapbox\"}],\n",
       "                        {\"height\": 300, \"legend\": {\"tracegroupgap\": 0}, \"mapbox\": {\"center\": {\"lat\": 37.338240701500006, \"lon\": -96.48302336069996}, \"domain\": {\"x\": [0.0, 1.0], \"y\": [0.0, 1.0]}, \"style\": \"open-street-map\", \"zoom\": 3}, \"margin\": {\"b\": 0, \"l\": 0, \"r\": 0, \"t\": 0}, \"template\": {\"data\": {\"bar\": [{\"error_x\": {\"color\": \"#2a3f5f\"}, \"error_y\": {\"color\": \"#2a3f5f\"}, \"marker\": {\"line\": {\"color\": \"#E5ECF6\", \"width\": 0.5}}, \"type\": \"bar\"}], \"barpolar\": [{\"marker\": {\"line\": {\"color\": \"#E5ECF6\", \"width\": 0.5}}, \"type\": \"barpolar\"}], \"carpet\": [{\"aaxis\": {\"endlinecolor\": \"#2a3f5f\", \"gridcolor\": \"white\", \"linecolor\": \"white\", \"minorgridcolor\": \"white\", \"startlinecolor\": \"#2a3f5f\"}, \"baxis\": {\"endlinecolor\": \"#2a3f5f\", \"gridcolor\": \"white\", \"linecolor\": \"white\", \"minorgridcolor\": \"white\", \"startlinecolor\": \"#2a3f5f\"}, \"type\": \"carpet\"}], \"choropleth\": [{\"colorbar\": {\"outlinewidth\": 0, \"ticks\": \"\"}, \"type\": \"choropleth\"}], \"contour\": [{\"colorbar\": {\"outlinewidth\": 0, \"ticks\": \"\"}, \"colorscale\": [[0.0, \"#0d0887\"], [0.1111111111111111, \"#46039f\"], [0.2222222222222222, \"#7201a8\"], [0.3333333333333333, \"#9c179e\"], [0.4444444444444444, \"#bd3786\"], [0.5555555555555556, \"#d8576b\"], [0.6666666666666666, \"#ed7953\"], [0.7777777777777778, \"#fb9f3a\"], [0.8888888888888888, \"#fdca26\"], [1.0, \"#f0f921\"]], \"type\": \"contour\"}], \"contourcarpet\": [{\"colorbar\": {\"outlinewidth\": 0, \"ticks\": \"\"}, \"type\": \"contourcarpet\"}], \"heatmap\": [{\"colorbar\": {\"outlinewidth\": 0, \"ticks\": \"\"}, \"colorscale\": [[0.0, \"#0d0887\"], [0.1111111111111111, \"#46039f\"], [0.2222222222222222, \"#7201a8\"], [0.3333333333333333, \"#9c179e\"], [0.4444444444444444, \"#bd3786\"], [0.5555555555555556, \"#d8576b\"], [0.6666666666666666, \"#ed7953\"], [0.7777777777777778, \"#fb9f3a\"], [0.8888888888888888, \"#fdca26\"], [1.0, \"#f0f921\"]], \"type\": \"heatmap\"}], \"heatmapgl\": [{\"colorbar\": {\"outlinewidth\": 0, \"ticks\": \"\"}, \"colorscale\": [[0.0, \"#0d0887\"], [0.1111111111111111, \"#46039f\"], [0.2222222222222222, \"#7201a8\"], [0.3333333333333333, \"#9c179e\"], [0.4444444444444444, \"#bd3786\"], [0.5555555555555556, \"#d8576b\"], [0.6666666666666666, \"#ed7953\"], [0.7777777777777778, \"#fb9f3a\"], [0.8888888888888888, \"#fdca26\"], [1.0, \"#f0f921\"]], \"type\": \"heatmapgl\"}], \"histogram\": [{\"marker\": {\"colorbar\": {\"outlinewidth\": 0, \"ticks\": \"\"}}, \"type\": \"histogram\"}], \"histogram2d\": [{\"colorbar\": {\"outlinewidth\": 0, \"ticks\": \"\"}, \"colorscale\": [[0.0, \"#0d0887\"], [0.1111111111111111, \"#46039f\"], [0.2222222222222222, \"#7201a8\"], [0.3333333333333333, \"#9c179e\"], [0.4444444444444444, \"#bd3786\"], [0.5555555555555556, \"#d8576b\"], [0.6666666666666666, \"#ed7953\"], [0.7777777777777778, \"#fb9f3a\"], [0.8888888888888888, \"#fdca26\"], [1.0, \"#f0f921\"]], \"type\": \"histogram2d\"}], \"histogram2dcontour\": [{\"colorbar\": {\"outlinewidth\": 0, \"ticks\": \"\"}, \"colorscale\": [[0.0, \"#0d0887\"], [0.1111111111111111, \"#46039f\"], [0.2222222222222222, \"#7201a8\"], [0.3333333333333333, \"#9c179e\"], [0.4444444444444444, \"#bd3786\"], [0.5555555555555556, \"#d8576b\"], [0.6666666666666666, \"#ed7953\"], [0.7777777777777778, \"#fb9f3a\"], [0.8888888888888888, \"#fdca26\"], [1.0, \"#f0f921\"]], \"type\": \"histogram2dcontour\"}], \"mesh3d\": [{\"colorbar\": {\"outlinewidth\": 0, \"ticks\": \"\"}, \"type\": \"mesh3d\"}], \"parcoords\": [{\"line\": {\"colorbar\": {\"outlinewidth\": 0, \"ticks\": \"\"}}, \"type\": \"parcoords\"}], \"pie\": [{\"automargin\": true, \"type\": \"pie\"}], \"scatter\": [{\"marker\": {\"colorbar\": {\"outlinewidth\": 0, \"ticks\": \"\"}}, \"type\": \"scatter\"}], \"scatter3d\": [{\"line\": {\"colorbar\": {\"outlinewidth\": 0, \"ticks\": \"\"}}, \"marker\": {\"colorbar\": {\"outlinewidth\": 0, \"ticks\": \"\"}}, \"type\": \"scatter3d\"}], \"scattercarpet\": [{\"marker\": {\"colorbar\": {\"outlinewidth\": 0, \"ticks\": \"\"}}, \"type\": \"scattercarpet\"}], \"scattergeo\": [{\"marker\": {\"colorbar\": {\"outlinewidth\": 0, \"ticks\": \"\"}}, \"type\": \"scattergeo\"}], \"scattergl\": [{\"marker\": {\"colorbar\": {\"outlinewidth\": 0, \"ticks\": \"\"}}, \"type\": \"scattergl\"}], \"scattermapbox\": [{\"marker\": {\"colorbar\": {\"outlinewidth\": 0, \"ticks\": \"\"}}, \"type\": \"scattermapbox\"}], \"scatterpolar\": [{\"marker\": {\"colorbar\": {\"outlinewidth\": 0, \"ticks\": \"\"}}, \"type\": \"scatterpolar\"}], \"scatterpolargl\": [{\"marker\": {\"colorbar\": {\"outlinewidth\": 0, \"ticks\": \"\"}}, \"type\": \"scatterpolargl\"}], \"scatterternary\": [{\"marker\": {\"colorbar\": {\"outlinewidth\": 0, \"ticks\": \"\"}}, \"type\": \"scatterternary\"}], \"surface\": [{\"colorbar\": {\"outlinewidth\": 0, \"ticks\": \"\"}, \"colorscale\": [[0.0, \"#0d0887\"], [0.1111111111111111, \"#46039f\"], [0.2222222222222222, \"#7201a8\"], [0.3333333333333333, \"#9c179e\"], [0.4444444444444444, \"#bd3786\"], [0.5555555555555556, \"#d8576b\"], [0.6666666666666666, \"#ed7953\"], [0.7777777777777778, \"#fb9f3a\"], [0.8888888888888888, \"#fdca26\"], [1.0, \"#f0f921\"]], \"type\": \"surface\"}], \"table\": [{\"cells\": {\"fill\": {\"color\": \"#EBF0F8\"}, \"line\": {\"color\": \"white\"}}, \"header\": {\"fill\": {\"color\": \"#C8D4E3\"}, \"line\": {\"color\": \"white\"}}, \"type\": \"table\"}]}, \"layout\": {\"annotationdefaults\": {\"arrowcolor\": \"#2a3f5f\", \"arrowhead\": 0, \"arrowwidth\": 1}, \"coloraxis\": {\"colorbar\": {\"outlinewidth\": 0, \"ticks\": \"\"}}, \"colorscale\": {\"diverging\": [[0, \"#8e0152\"], [0.1, \"#c51b7d\"], [0.2, \"#de77ae\"], [0.3, \"#f1b6da\"], [0.4, \"#fde0ef\"], [0.5, \"#f7f7f7\"], [0.6, \"#e6f5d0\"], [0.7, \"#b8e186\"], [0.8, \"#7fbc41\"], [0.9, \"#4d9221\"], [1, \"#276419\"]], \"sequential\": [[0.0, \"#0d0887\"], [0.1111111111111111, \"#46039f\"], [0.2222222222222222, \"#7201a8\"], [0.3333333333333333, \"#9c179e\"], [0.4444444444444444, \"#bd3786\"], [0.5555555555555556, \"#d8576b\"], [0.6666666666666666, \"#ed7953\"], [0.7777777777777778, \"#fb9f3a\"], [0.8888888888888888, \"#fdca26\"], [1.0, \"#f0f921\"]], \"sequentialminus\": [[0.0, \"#0d0887\"], [0.1111111111111111, \"#46039f\"], [0.2222222222222222, \"#7201a8\"], [0.3333333333333333, \"#9c179e\"], [0.4444444444444444, \"#bd3786\"], [0.5555555555555556, \"#d8576b\"], [0.6666666666666666, \"#ed7953\"], [0.7777777777777778, \"#fb9f3a\"], [0.8888888888888888, \"#fdca26\"], [1.0, \"#f0f921\"]]}, \"colorway\": [\"#636efa\", \"#EF553B\", \"#00cc96\", \"#ab63fa\", \"#FFA15A\", \"#19d3f3\", \"#FF6692\", \"#B6E880\", \"#FF97FF\", \"#FECB52\"], \"font\": {\"color\": \"#2a3f5f\"}, \"geo\": {\"bgcolor\": \"white\", \"lakecolor\": \"white\", \"landcolor\": \"#E5ECF6\", \"showlakes\": true, \"showland\": true, \"subunitcolor\": \"white\"}, \"hoverlabel\": {\"align\": \"left\"}, \"hovermode\": \"closest\", \"mapbox\": {\"style\": \"light\"}, \"paper_bgcolor\": \"white\", \"plot_bgcolor\": \"#E5ECF6\", \"polar\": {\"angularaxis\": {\"gridcolor\": \"white\", \"linecolor\": \"white\", \"ticks\": \"\"}, \"bgcolor\": \"#E5ECF6\", \"radialaxis\": {\"gridcolor\": \"white\", \"linecolor\": \"white\", \"ticks\": \"\"}}, \"scene\": {\"xaxis\": {\"backgroundcolor\": \"#E5ECF6\", \"gridcolor\": \"white\", \"gridwidth\": 2, \"linecolor\": \"white\", \"showbackground\": true, \"ticks\": \"\", \"zerolinecolor\": \"white\"}, \"yaxis\": {\"backgroundcolor\": \"#E5ECF6\", \"gridcolor\": \"white\", \"gridwidth\": 2, \"linecolor\": \"white\", \"showbackground\": true, \"ticks\": \"\", \"zerolinecolor\": \"white\"}, \"zaxis\": {\"backgroundcolor\": \"#E5ECF6\", \"gridcolor\": \"white\", \"gridwidth\": 2, \"linecolor\": \"white\", \"showbackground\": true, \"ticks\": \"\", \"zerolinecolor\": \"white\"}}, \"shapedefaults\": {\"line\": {\"color\": \"#2a3f5f\"}}, \"ternary\": {\"aaxis\": {\"gridcolor\": \"white\", \"linecolor\": \"white\", \"ticks\": \"\"}, \"baxis\": {\"gridcolor\": \"white\", \"linecolor\": \"white\", \"ticks\": \"\"}, \"bgcolor\": \"#E5ECF6\", \"caxis\": {\"gridcolor\": \"white\", \"linecolor\": \"white\", \"ticks\": \"\"}}, \"title\": {\"x\": 0.05}, \"xaxis\": {\"automargin\": true, \"gridcolor\": \"white\", \"linecolor\": \"white\", \"ticks\": \"\", \"title\": {\"standoff\": 15}, \"zerolinecolor\": \"white\", \"zerolinewidth\": 2}, \"yaxis\": {\"automargin\": true, \"gridcolor\": \"white\", \"linecolor\": \"white\", \"ticks\": \"\", \"title\": {\"standoff\": 15}, \"zerolinecolor\": \"white\", \"zerolinewidth\": 2}}}},\n",
       "                        {\"responsive\": true}\n",
       "                    ).then(function(){\n",
       "                            \n",
       "var gd = document.getElementById('62c875e0-1021-408d-a6d7-5758ce3956dd');\n",
       "var x = new MutationObserver(function (mutations, observer) {{\n",
       "        var display = window.getComputedStyle(gd).display;\n",
       "        if (!display || display === 'none') {{\n",
       "            console.log([gd, 'removed!']);\n",
       "            Plotly.purge(gd);\n",
       "            observer.disconnect();\n",
       "        }}\n",
       "}});\n",
       "\n",
       "// Listen for the removal of the full notebook cells\n",
       "var notebookContainer = gd.closest('#notebook-container');\n",
       "if (notebookContainer) {{\n",
       "    x.observe(notebookContainer, {childList: true});\n",
       "}}\n",
       "\n",
       "// Listen for the clearing of the current output cell\n",
       "var outputEl = gd.closest('.output');\n",
       "if (outputEl) {{\n",
       "    x.observe(outputEl, {childList: true});\n",
       "}}\n",
       "\n",
       "                        })\n",
       "                };\n",
       "                });\n",
       "            </script>\n",
       "        </div>"
      ]
     },
     "metadata": {},
     "output_type": "display_data"
    }
   ],
   "source": [
    "us_cities = pandas.read_csv(\"https://raw.githubusercontent.com/plotly/datasets/master/us-cities-top-1k.csv\")\n",
    "\n",
    "fig = px.scatter_mapbox(us_cities, lat=\"lat\", lon=\"lon\", hover_name=\"City\", hover_data=[\"State\", \"Population\"],\n",
    "                        color_discrete_sequence=[\"fuchsia\"], zoom=3, height=300)\n",
    "fig.update_layout(mapbox_style=\"open-street-map\")\n",
    "fig.update_layout(margin={\"r\":0,\"t\":0,\"l\":0,\"b\":0})\n",
    "fig.show()"
   ]
  },
  {
   "cell_type": "code",
   "execution_count": 14,
   "metadata": {},
   "outputs": [],
   "source": [
    "del all_in"
   ]
  }
 ],
 "metadata": {
  "kernelspec": {
   "display_name": "Python 3",
   "language": "python",
   "name": "python3"
  },
  "language_info": {
   "codemirror_mode": {
    "name": "ipython",
    "version": 3
   },
   "file_extension": ".py",
   "mimetype": "text/x-python",
   "name": "python",
   "nbconvert_exporter": "python",
   "pygments_lexer": "ipython3",
   "version": "3.7.5"
  }
 },
 "nbformat": 4,
 "nbformat_minor": 2
}
